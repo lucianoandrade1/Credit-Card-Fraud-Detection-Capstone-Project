{
  "cells": [
    {
      "cell_type": "markdown",
      "id": "bf95d754-0b22-4040-8e8a-1de0beeb9d55",
      "metadata": {
        "id": "bf95d754-0b22-4040-8e8a-1de0beeb9d55"
      },
      "source": [
        "# Credit card fraud detection capstone project"
      ]
    },
    {
      "cell_type": "markdown",
      "id": "b7393f70-ccb2-498f-9440-84b497467aca",
      "metadata": {
        "id": "b7393f70-ccb2-498f-9440-84b497467aca"
      },
      "source": [
        "## Table Of Contents: <a class=\"anchor\" id=\"top\"></a>\n",
        "\n",
        "- [Introduction](#introduction)\n",
        "- [Packages and the data](#packages)\n",
        "- [Exploratory data analysis](#eda)\n",
        "    * [Total amount purchase per month](#LineGraphic)\n",
        "    * [Total count of transactions](#CountOfTransactions)\n",
        "    * [Product transaction distribution](#ProductDistribution)\n",
        "    * [Cards brands distribution](#BrandsDistribution)\n",
        "    * [Cards Types distribution](#BrandsTDistribution)\n",
        "    * [Cards brands distribution by transaction type](#DistributionBTType)\n",
        "    * [Cards distribution by transaction type](#DistributionTType)\n",
        "    * [Average amount purchase](#AvgAmountPurchase)\n",
        "    * [Purchase distribution by email address](#DistrByEmailAddress)\n",
        "- [Handling Missing Values](#HMissingValues)\n",
        "- [Features correlation](#FeaturesCorrelation)\n",
        "- [Dummy Variables](#dummyvar)\n",
        "- [Under Sampling Data balancing](#UndataBalancing)\n",
        "- [Fraud Classification with Under Sampling](#Unclassification)\n",
        "    * [Feature Selection](#UnfeatureSelection)\n",
        "    * [Decision Trees models](#UndecisionTrees)\n",
        "    * [Random Forests models](#UnrandomForests)\n",
        "    * [AdaBoost model](#UnAdaBoost)\n",
        "    * [Suport Vector Machines models](#UnSVM)\n",
        "    * [Artificial Neural Networks](#UnANN)\n",
        "- [Upper-sampling data balancing](#UpdataBalancing)\n",
        "- [Fraud Classification with Upper Sampling](#Upclassification)\n",
        "    * [Feature Selection](#UpfeatureSelection)\n",
        "    * [Decision Trees models](#UpdecisionTrees)\n",
        "    * [Random Forests models](#UprandomForests)\n",
        "    * [AdaBoost model](#UpAdaBoost)\n",
        "    * [Suport Vector Machines models](#UpSVM)\n",
        "    * [Artificial Neural Networks](#UpANN)    \n",
        "- [Conclusions](#conclusions)"
      ]
    },
    {
      "cell_type": "markdown",
      "id": "5803dc95-fe35-4348-b41e-69e267bbf5ca",
      "metadata": {
        "id": "5803dc95-fe35-4348-b41e-69e267bbf5ca"
      },
      "source": [
        "### Introduction <a class=\"anchor\" id=\"introduction\"></a>\n",
        "[TOC](#top)"
      ]
    },
    {
      "cell_type": "markdown",
      "id": "50cec3b6-3f53-4ed3-ab66-b490f16375aa",
      "metadata": {
        "id": "50cec3b6-3f53-4ed3-ab66-b490f16375aa"
      },
      "source": [
        "Fraud can be defined as any deceitful activity that leads to obtaining unlawful advantage by one part over another or causes illegal losses. Typically, the fraudster uses false or misleading representations to disguise his/her activities as long as possible to maximize the effects of his/her fraudulent behavior. Adverse effects related to fraud have an impact on all business enterprises. The development of new technologies has also provided further ways criminals may commit fraud. Therefore, fraud detection has become essential in identifying frauds as soon as they have been committed. It is increasing substantially with the expansion of global communication technologies, resulting in considerable business losses.\n",
        "\n",
        "The first layer of protection systems is to prevent fraud. Fraud prevention is preventing fraud from happening in the first place. This can be done by improving technologies and projects. However, the first tier is not always successful and is occasionally penetrated by fraudsters. Fraud detection is the second layer of defense, and it is responsible for detecting and recognizing fraudulent activities as they enter into systems and reporting them to a system manager.\n",
        "\n",
        "It is impossible to be sure about the intent behind a transaction. However, fraud detection is one of the layers of general fraud control. It automates and helps reduce the manual parts of a verification process to identify a fraudulent transaction. This area has become one of the most established industrial and governmental data mining applications. Given the reality, the best cost-effective option is to discover possible evidence of fraud from the available data using automatic algorithms. Fraud detection algorithms can rely on advanced Machine Learning (ML) techniques to help fraud investigators. However, designing fraud detection algorithms is particularly challenging due to non-stationary data distributions, highly imbalanced class distributions, and continuous transaction flows.\n",
        "\n",
        "Therefore, the purpose of this project is:\n",
        "- to apply ML techniques for the fraud detection task;\n",
        "- to extract performance metrics;\n",
        "- to compare the use of ensemble models (Random Forests and Adaboost), decision trees and support vector machines for fraud detection;\n",
        "- to use a comprehensive criterion to choose the best ML model in case of fraud detection;"
      ]
    },
    {
      "cell_type": "markdown",
      "id": "2a1a219b-1579-4b1a-8e79-4319ac8e928d",
      "metadata": {
        "id": "2a1a219b-1579-4b1a-8e79-4319ac8e928d"
      },
      "source": [
        "### Packages and the data <a class=\"anchor\" id=\"packages\"></a>\n",
        "[TOC](#top)"
      ]
    },
    {
      "cell_type": "markdown",
      "id": "e3d3dd94-6005-4796-a8a6-a52f8ac17301",
      "metadata": {
        "id": "e3d3dd94-6005-4796-a8a6-a52f8ac17301"
      },
      "source": [
        "The following cell comprises all Python packages used in the project. They are necessary for visualization, scaling, sampling, feature selection, data splitting, cross-validation, classification, and performance metrics."
      ]
    },
    {
      "cell_type": "code",
      "execution_count": 2,
      "id": "1175240a-a74d-4325-95ea-6b52104dc078",
      "metadata": {
        "id": "1175240a-a74d-4325-95ea-6b52104dc078"
      },
      "outputs": [],
      "source": [
        "#Importing all packages necessary to implement the classification in fraud or non-fraud.\n",
        "import pandas as pd\n",
        "import altair as alt\n",
        "import seaborn as sns\n",
        "import matplotlib.pyplot as plt\n",
        "import numpy as np\n",
        "import imblearn\n",
        "from datetime import datetime\n",
        "from sklearn.preprocessing import StandardScaler\n",
        "from imblearn.under_sampling import RandomUnderSampler\n",
        "from sklearn.feature_selection import RFECV\n",
        "from sklearn.ensemble import RandomForestClassifier\n",
        "from sklearn.tree import DecisionTreeClassifier\n",
        "from sklearn import svm\n",
        "from sklearn.ensemble import AdaBoostClassifier\n",
        "\n",
        "import torch\n",
        "import torch.nn as nn\n",
        "import torch.optim as optim\n",
        "\n",
        "from sklearn.model_selection import train_test_split\n",
        "#from sklearn.model_selection import cross_val_score\n",
        "from sklearn.model_selection import StratifiedKFold\n",
        "\n",
        "#from sklearn.decomposition import PCA\n",
        "from sklearn.model_selection import GridSearchCV\n",
        "#from sklearn import tree\n",
        "from sklearn.metrics import accuracy_score\n",
        "from sklearn.metrics import precision_score\n",
        "from sklearn.metrics import recall_score\n",
        "from sklearn.metrics import f1_score\n",
        "\n",
        "from sklearn.metrics import classification_report\n",
        "from sklearn.metrics import confusion_matrix, ConfusionMatrixDisplay\n",
        "\n",
        "from sklearn.pipeline import Pipeline\n",
        "\n",
        "#pd.set_option('display.max_rows', None)\n",
        "pd.reset_option(\"display.max_rows\")\n",
        "#alt.renderers.enable('jupyterlab')"
      ]
    },
    {
      "cell_type": "markdown",
      "id": "35564515-8553-461f-876f-a695f3806727",
      "metadata": {
        "id": "35564515-8553-461f-876f-a695f3806727"
      },
      "source": [
        "The following cell loads the data used in the project. The Data were found in the IEEE-CIS Fraud Detection Kaggle's competition. The competition is currently closed, so I don't have access to the submissions. The data is formed by 590,540 transactions divided in 569,877 genuine transaction and 20,663 fraudulent transactions. The transactions contains money transfer and also other gifting goods and service, like you booked a ticket for others, etc."
      ]
    },
    {
      "cell_type": "code",
      "execution_count": 3,
      "id": "gmvlc5biEQBn",
      "metadata": {
        "colab": {
          "base_uri": "https://localhost:8080/"
        },
        "id": "gmvlc5biEQBn",
        "outputId": "17e04bb8-4acc-403e-ed2a-efacdba4e9ac"
      },
      "outputs": [
        {
          "output_type": "stream",
          "name": "stdout",
          "text": [
            "Mounted at /content/drive\n"
          ]
        }
      ],
      "source": [
        "from google.colab import drive\n",
        "drive.mount('/content/drive')"
      ]
    },
    {
      "cell_type": "code",
      "execution_count": 4,
      "id": "16037809-bdf6-4da2-afd5-082ea6462967",
      "metadata": {
        "id": "16037809-bdf6-4da2-afd5-082ea6462967"
      },
      "outputs": [],
      "source": [
        "#Importing the dataset used to train and test the machine learning models\n",
        "fraudPD = pd.read_csv('/content/drive/MyDrive/Colab Notebooks/IEEE-CIS Fraud Detection-Transactions.csv')\n",
        "#fraudPD = pd.read_csv('..\\CreditCardFraudDetectionData\\IEEE-CIS Fraud Detection-Transactions.csv')"
      ]
    },
    {
      "cell_type": "markdown",
      "id": "b23de264-797b-4fba-b709-1c25e8d75009",
      "metadata": {
        "id": "b23de264-797b-4fba-b709-1c25e8d75009"
      },
      "source": [
        "It is necessary to get familiar with the data user. Therefore, it is necessary to display the head of the data to have the first impression of the fields and data types."
      ]
    },
    {
      "cell_type": "code",
      "execution_count": 5,
      "id": "2bf146ae-e998-4d46-b3a9-cabca4ce593e",
      "metadata": {
        "colab": {
          "base_uri": "https://localhost:8080/",
          "height": 226
        },
        "id": "2bf146ae-e998-4d46-b3a9-cabca4ce593e",
        "outputId": "cca684fe-225d-4fef-a4b1-86e38c63cbba"
      },
      "outputs": [
        {
          "output_type": "execute_result",
          "data": {
            "text/plain": [
              "   TransactionID  isFraud  TransactionDT  TransactionAmt ProductCD  card1  \\\n",
              "0        2987000        0          86400            68.5         W  13926   \n",
              "1        2987001        0          86401            29.0         W   2755   \n",
              "2        2987002        0          86469            59.0         W   4663   \n",
              "3        2987003        0          86499            50.0         W  18132   \n",
              "4        2987004        0          86506            50.0         H   4497   \n",
              "\n",
              "   card2  card3       card4  card5   card6  addr1  addr2  dist1  dist2  \\\n",
              "0    NaN  150.0    discover  142.0  credit  315.0   87.0   19.0    NaN   \n",
              "1  404.0  150.0  mastercard  102.0  credit  325.0   87.0    NaN    NaN   \n",
              "2  490.0  150.0        visa  166.0   debit  330.0   87.0  287.0    NaN   \n",
              "3  567.0  150.0  mastercard  117.0   debit  476.0   87.0    NaN    NaN   \n",
              "4  514.0  150.0  mastercard  102.0  credit  420.0   87.0    NaN    NaN   \n",
              "\n",
              "  P_emaildomain R_emaildomain   C1   C2   C3   C4   C5   C6   C7   C8   C9  \\\n",
              "0           NaN           NaN  1.0  1.0  0.0  0.0  0.0  1.0  0.0  0.0  1.0   \n",
              "1     gmail.com           NaN  1.0  1.0  0.0  0.0  0.0  1.0  0.0  0.0  0.0   \n",
              "2   outlook.com           NaN  1.0  1.0  0.0  0.0  0.0  1.0  0.0  0.0  1.0   \n",
              "3     yahoo.com           NaN  2.0  5.0  0.0  0.0  0.0  4.0  0.0  0.0  1.0   \n",
              "4     gmail.com           NaN  1.0  1.0  0.0  0.0  0.0  1.0  0.0  1.0  0.0   \n",
              "\n",
              "   C10  C11  C12   C13  C14     D1     D2    D3    D4   D5  D6  D7  D8  D9  \\\n",
              "0  0.0  2.0  0.0   1.0  1.0   14.0    NaN  13.0   NaN  NaN NaN NaN NaN NaN   \n",
              "1  0.0  1.0  0.0   1.0  1.0    0.0    NaN   NaN   0.0  NaN NaN NaN NaN NaN   \n",
              "2  0.0  1.0  0.0   1.0  1.0    0.0    NaN   NaN   0.0  NaN NaN NaN NaN NaN   \n",
              "3  0.0  1.0  0.0  25.0  1.0  112.0  112.0   0.0  94.0  0.0 NaN NaN NaN NaN   \n",
              "4  1.0  1.0  0.0   1.0  1.0    0.0    NaN   NaN   NaN  NaN NaN NaN NaN NaN   \n",
              "\n",
              "    D10    D11  D12  D13  D14    D15   M1   M2   M3   M4   M5   M6   M7   M8  \\\n",
              "0  13.0   13.0  NaN  NaN  NaN    0.0    T    T    T   M2    F    T  NaN  NaN   \n",
              "1   0.0    NaN  NaN  NaN  NaN    0.0  NaN  NaN  NaN   M0    T    T  NaN  NaN   \n",
              "2   0.0  315.0  NaN  NaN  NaN  315.0    T    T    T   M0    F    F    F    F   \n",
              "3  84.0    NaN  NaN  NaN  NaN  111.0  NaN  NaN  NaN   M0    T    F  NaN  NaN   \n",
              "4   NaN    NaN  NaN  NaN  NaN    NaN  NaN  NaN  NaN  NaN  NaN  NaN  NaN  NaN   \n",
              "\n",
              "    M9   V1   V2   V3   V4   V5   V6   V7   V8   V9  V10  V11  V12  V13  V14  \\\n",
              "0  NaN  1.0  1.0  1.0  1.0  1.0  1.0  1.0  1.0  1.0  0.0  0.0  1.0  1.0  1.0   \n",
              "1  NaN  NaN  NaN  NaN  NaN  NaN  NaN  NaN  NaN  NaN  NaN  NaN  0.0  0.0  1.0   \n",
              "2    F  1.0  1.0  1.0  1.0  1.0  1.0  1.0  1.0  1.0  0.0  0.0  1.0  1.0  1.0   \n",
              "3  NaN  NaN  NaN  NaN  NaN  NaN  NaN  NaN  NaN  NaN  NaN  NaN  1.0  1.0  1.0   \n",
              "4  NaN  NaN  NaN  NaN  NaN  NaN  NaN  NaN  NaN  NaN  NaN  NaN  NaN  NaN  NaN   \n",
              "\n",
              "   V15  V16  V17  V18  V19  V20  V21  V22  V23  V24  V25  V26  V27  V28  V29  \\\n",
              "0  0.0  0.0  0.0  0.0  1.0  1.0  0.0  0.0  1.0  1.0  1.0  1.0  0.0  0.0  0.0   \n",
              "1  0.0  0.0  0.0  0.0  1.0  1.0  0.0  0.0  1.0  1.0  1.0  1.0  0.0  0.0  0.0   \n",
              "2  0.0  0.0  0.0  0.0  1.0  1.0  0.0  0.0  1.0  1.0  1.0  1.0  0.0  0.0  0.0   \n",
              "3  0.0  0.0  0.0  0.0  1.0  1.0  0.0  0.0  1.0  1.0  1.0  1.0  0.0  0.0  0.0   \n",
              "4  NaN  NaN  NaN  NaN  NaN  NaN  NaN  NaN  NaN  NaN  NaN  NaN  NaN  NaN  NaN   \n",
              "\n",
              "   V30  V31  V32  V33  V34  V35  V36  V37  V38  V39  V40  V41  V42  V43  V44  \\\n",
              "0  0.0  0.0  0.0  0.0  0.0  NaN  NaN  NaN  NaN  NaN  NaN  NaN  NaN  NaN  NaN   \n",
              "1  0.0  0.0  0.0  0.0  0.0  0.0  0.0  1.0  1.0  0.0  0.0  1.0  0.0  0.0  1.0   \n",
              "2  0.0  0.0  0.0  0.0  0.0  1.0  1.0  1.0  1.0  0.0  0.0  1.0  0.0  0.0  1.0   \n",
              "3  0.0  0.0  0.0  0.0  0.0  1.0  1.0  1.0  1.0  0.0  0.0  1.0  0.0  0.0  1.0   \n",
              "4  NaN  NaN  NaN  NaN  NaN  NaN  NaN  NaN  NaN  NaN  NaN  NaN  NaN  NaN  NaN   \n",
              "\n",
              "   V45  V46  V47  V48  V49  V50  V51  V52  V53  V54  V55  V56  V57  V58  V59  \\\n",
              "0  NaN  NaN  NaN  NaN  NaN  NaN  NaN  NaN  1.0  1.0  1.0  1.0  0.0  0.0  0.0   \n",
              "1  1.0  1.0  1.0  0.0  0.0  0.0  0.0  0.0  0.0  0.0  1.0  1.0  0.0  0.0  0.0   \n",
              "2  1.0  1.0  1.0  0.0  0.0  0.0  0.0  0.0  1.0  1.0  1.0  1.0  0.0  0.0  0.0   \n",
              "3  1.0  1.0  1.0  0.0  0.0  0.0  0.0  0.0  1.0  1.0  1.0  1.0  0.0  0.0  0.0   \n",
              "4  NaN  NaN  NaN  NaN  NaN  NaN  NaN  NaN  NaN  NaN  NaN  NaN  NaN  NaN  NaN   \n",
              "\n",
              "   V60  V61  V62  V63  V64  V65  V66  V67  V68  V69  V70  V71  V72  V73  V74  \\\n",
              "0  0.0  1.0  1.0  0.0  0.0  1.0  1.0  1.0  0.0  0.0  0.0  0.0  0.0  0.0  0.0   \n",
              "1  0.0  1.0  1.0  0.0  0.0  1.0  1.0  1.0  0.0  0.0  0.0  0.0  0.0  0.0  0.0   \n",
              "2  0.0  1.0  1.0  0.0  0.0  1.0  1.0  1.0  0.0  0.0  0.0  0.0  0.0  0.0  0.0   \n",
              "3  0.0  1.0  1.0  0.0  0.0  1.0  1.0  1.0  0.0  0.0  0.0  0.0  0.0  0.0  0.0   \n",
              "4  NaN  NaN  NaN  NaN  NaN  NaN  NaN  NaN  NaN  NaN  NaN  NaN  NaN  NaN  NaN   \n",
              "\n",
              "   V75  V76  V77  V78  V79  V80  V81  V82  V83  V84  V85  V86  V87  V88  V89  \\\n",
              "0  1.0  1.0  1.0  1.0  0.0  0.0  0.0  0.0  0.0  0.0  0.0  1.0  1.0  1.0  0.0   \n",
              "1  0.0  0.0  1.0  1.0  0.0  0.0  0.0  1.0  1.0  0.0  0.0  1.0  1.0  1.0  0.0   \n",
              "2  1.0  1.0  1.0  1.0  0.0  0.0  0.0  1.0  1.0  0.0  0.0  1.0  1.0  1.0  0.0   \n",
              "3  1.0  1.0  1.0  1.0  0.0  0.0  0.0  1.0  1.0  0.0  0.0  1.0  1.0  1.0  0.0   \n",
              "4  NaN  NaN  NaN  NaN  NaN  NaN  NaN  NaN  NaN  NaN  NaN  NaN  NaN  NaN  NaN   \n",
              "\n",
              "   V90  V91  V92  V93  V94  V95   V96   V97  V98   V99  V100  V101  V102  \\\n",
              "0  0.0  0.0  0.0  0.0  0.0  0.0   1.0   0.0  0.0   0.0   0.0   0.0   1.0   \n",
              "1  0.0  0.0  0.0  0.0  0.0  0.0   0.0   0.0  0.0   0.0   0.0   0.0   0.0   \n",
              "2  0.0  0.0  0.0  0.0  0.0  0.0   0.0   0.0  0.0   0.0   0.0   0.0   0.0   \n",
              "3  0.0  0.0  0.0  0.0  0.0  1.0  48.0  28.0  0.0  10.0   4.0   1.0  38.0   \n",
              "4  NaN  NaN  NaN  NaN  NaN  0.0   0.0   0.0  0.0   0.0   0.0   0.0   0.0   \n",
              "\n",
              "   V103  V104  V105  V106  V107  V108  V109  V110  V111  V112  V113  V114  \\\n",
              "0   0.0   0.0   0.0   0.0   1.0   1.0   1.0   1.0   1.0   1.0   1.0   1.0   \n",
              "1   0.0   0.0   0.0   0.0   1.0   1.0   1.0   1.0   1.0   1.0   1.0   1.0   \n",
              "2   0.0   0.0   0.0   0.0   1.0   1.0   1.0   1.0   1.0   1.0   1.0   1.0   \n",
              "3  24.0   0.0   0.0   0.0   1.0   1.0   1.0   1.0   1.0   1.0   1.0   1.0   \n",
              "4   0.0   0.0   0.0   0.0   1.0   1.0   1.0   1.0   1.0   1.0   1.0   1.0   \n",
              "\n",
              "   V115  V116  V117  V118  V119  V120  V121  V122  V123  V124  V125  V126  \\\n",
              "0   1.0   1.0   1.0   1.0   1.0   1.0   1.0   1.0   1.0   1.0   1.0   0.0   \n",
              "1   1.0   1.0   1.0   1.0   1.0   1.0   1.0   1.0   1.0   1.0   1.0   0.0   \n",
              "2   1.0   1.0   1.0   1.0   1.0   1.0   1.0   1.0   1.0   1.0   1.0   0.0   \n",
              "3   1.0   1.0   1.0   1.0   1.0   1.0   1.0   1.0   1.0   1.0   1.0  50.0   \n",
              "4   1.0   1.0   1.0   1.0   1.0   1.0   1.0   1.0   1.0   1.0   1.0   0.0   \n",
              "\n",
              "     V127   V128  V129   V130   V131  V132    V133   V134  V135  V136  V137  \\\n",
              "0   117.0    0.0   0.0    0.0    0.0   0.0   117.0    0.0   0.0   0.0   0.0   \n",
              "1     0.0    0.0   0.0    0.0    0.0   0.0     0.0    0.0   0.0   0.0   0.0   \n",
              "2     0.0    0.0   0.0    0.0    0.0   0.0     0.0    0.0   0.0   0.0   0.0   \n",
              "3  1758.0  925.0   0.0  354.0  135.0  50.0  1404.0  790.0   0.0   0.0   0.0   \n",
              "4     0.0    0.0   0.0    0.0    0.0   0.0     0.0    0.0   0.0   0.0   0.0   \n",
              "\n",
              "   V138  V139  V140  V141  V142  V143  V144   V145  V146  V147  V148  V149  \\\n",
              "0   NaN   NaN   NaN   NaN   NaN   NaN   NaN    NaN   NaN   NaN   NaN   NaN   \n",
              "1   NaN   NaN   NaN   NaN   NaN   NaN   NaN    NaN   NaN   NaN   NaN   NaN   \n",
              "2   NaN   NaN   NaN   NaN   NaN   NaN   NaN    NaN   NaN   NaN   NaN   NaN   \n",
              "3   NaN   NaN   NaN   NaN   NaN   NaN   NaN    NaN   NaN   NaN   NaN   NaN   \n",
              "4   0.0   0.0   0.0   0.0   0.0   6.0  18.0  140.0   0.0   0.0   0.0   0.0   \n",
              "\n",
              "     V150  V151  V152  V153  V154  V155  V156  V157  V158          V159  \\\n",
              "0     NaN   NaN   NaN   NaN   NaN   NaN   NaN   NaN   NaN           NaN   \n",
              "1     NaN   NaN   NaN   NaN   NaN   NaN   NaN   NaN   NaN           NaN   \n",
              "2     NaN   NaN   NaN   NaN   NaN   NaN   NaN   NaN   NaN           NaN   \n",
              "3     NaN   NaN   NaN   NaN   NaN   NaN   NaN   NaN   NaN           NaN   \n",
              "4  1803.0  49.0  64.0   0.0   0.0   0.0   0.0   0.0   0.0  15557.990234   \n",
              "\n",
              "            V160  V161  V162  V163   V164    V165    V166  V167  V168  V169  \\\n",
              "0            NaN   NaN   NaN   NaN    NaN     NaN     NaN   NaN   NaN   NaN   \n",
              "1            NaN   NaN   NaN   NaN    NaN     NaN     NaN   NaN   NaN   NaN   \n",
              "2            NaN   NaN   NaN   NaN    NaN     NaN     NaN   NaN   NaN   NaN   \n",
              "3            NaN   NaN   NaN   NaN    NaN     NaN     NaN   NaN   NaN   NaN   \n",
              "4  169690.796875   0.0   0.0   0.0  515.0  5155.0  2840.0   0.0   0.0   0.0   \n",
              "\n",
              "   V170  V171  V172  V173  V174  V175  V176  V177  V178  V179  V180  V181  \\\n",
              "0   NaN   NaN   NaN   NaN   NaN   NaN   NaN   NaN   NaN   NaN   NaN   NaN   \n",
              "1   NaN   NaN   NaN   NaN   NaN   NaN   NaN   NaN   NaN   NaN   NaN   NaN   \n",
              "2   NaN   NaN   NaN   NaN   NaN   NaN   NaN   NaN   NaN   NaN   NaN   NaN   \n",
              "3   NaN   NaN   NaN   NaN   NaN   NaN   NaN   NaN   NaN   NaN   NaN   NaN   \n",
              "4   1.0   1.0   0.0   0.0   0.0   0.0   1.0   0.0   0.0   0.0   0.0   0.0   \n",
              "\n",
              "   V182  V183  V184  V185  V186  V187  V188  V189  V190  V191  V192  V193  \\\n",
              "0   NaN   NaN   NaN   NaN   NaN   NaN   NaN   NaN   NaN   NaN   NaN   NaN   \n",
              "1   NaN   NaN   NaN   NaN   NaN   NaN   NaN   NaN   NaN   NaN   NaN   NaN   \n",
              "2   NaN   NaN   NaN   NaN   NaN   NaN   NaN   NaN   NaN   NaN   NaN   NaN   \n",
              "3   NaN   NaN   NaN   NaN   NaN   NaN   NaN   NaN   NaN   NaN   NaN   NaN   \n",
              "4   0.0   0.0   0.0   0.0   1.0   1.0   1.0   1.0   1.0   1.0   1.0   1.0   \n",
              "\n",
              "   V194  V195  V196  V197  V198  V199  V200  V201  V202  V203  V204  V205  \\\n",
              "0   NaN   NaN   NaN   NaN   NaN   NaN   NaN   NaN   NaN   NaN   NaN   NaN   \n",
              "1   NaN   NaN   NaN   NaN   NaN   NaN   NaN   NaN   NaN   NaN   NaN   NaN   \n",
              "2   NaN   NaN   NaN   NaN   NaN   NaN   NaN   NaN   NaN   NaN   NaN   NaN   \n",
              "3   NaN   NaN   NaN   NaN   NaN   NaN   NaN   NaN   NaN   NaN   NaN   NaN   \n",
              "4   1.0   1.0   1.0   1.0   1.0   1.0   1.0   1.0   0.0   0.0   0.0   0.0   \n",
              "\n",
              "   V206  V207  V208  V209  V210  V211  V212  V213  V214  V215  V216  V217  \\\n",
              "0   NaN   NaN   NaN   NaN   NaN   NaN   NaN   NaN   NaN   NaN   NaN   NaN   \n",
              "1   NaN   NaN   NaN   NaN   NaN   NaN   NaN   NaN   NaN   NaN   NaN   NaN   \n",
              "2   NaN   NaN   NaN   NaN   NaN   NaN   NaN   NaN   NaN   NaN   NaN   NaN   \n",
              "3   NaN   NaN   NaN   NaN   NaN   NaN   NaN   NaN   NaN   NaN   NaN   NaN   \n",
              "4   0.0   0.0   0.0   0.0   0.0   0.0   0.0   0.0   0.0   0.0   0.0   0.0   \n",
              "\n",
              "   V218  V219  V220  V221  V222  V223  V224  V225  V226  V227  V228  V229  \\\n",
              "0   NaN   NaN   NaN   NaN   NaN   NaN   NaN   NaN   NaN   NaN   NaN   NaN   \n",
              "1   NaN   NaN   NaN   NaN   NaN   NaN   NaN   NaN   NaN   NaN   NaN   NaN   \n",
              "2   NaN   NaN   NaN   NaN   NaN   NaN   NaN   NaN   NaN   NaN   NaN   NaN   \n",
              "3   NaN   NaN   NaN   NaN   NaN   NaN   NaN   NaN   NaN   NaN   NaN   NaN   \n",
              "4   0.0   0.0   0.0   1.0   1.0   0.0   0.0   0.0   0.0   0.0   1.0   1.0   \n",
              "\n",
              "   V230  V231  V232  V233  V234  V235  V236  V237  V238  V239  V240  V241  \\\n",
              "0   NaN   NaN   NaN   NaN   NaN   NaN   NaN   NaN   NaN   NaN   NaN   NaN   \n",
              "1   NaN   NaN   NaN   NaN   NaN   NaN   NaN   NaN   NaN   NaN   NaN   NaN   \n",
              "2   NaN   NaN   NaN   NaN   NaN   NaN   NaN   NaN   NaN   NaN   NaN   NaN   \n",
              "3   NaN   NaN   NaN   NaN   NaN   NaN   NaN   NaN   NaN   NaN   NaN   NaN   \n",
              "4   1.0   0.0   0.0   0.0   0.0   0.0   0.0   0.0   0.0   0.0   1.0   1.0   \n",
              "\n",
              "   V242  V243  V244  V245  V246  V247  V248  V249  V250  V251  V252  V253  \\\n",
              "0   NaN   NaN   NaN   NaN   NaN   NaN   NaN   NaN   NaN   NaN   NaN   NaN   \n",
              "1   NaN   NaN   NaN   NaN   NaN   NaN   NaN   NaN   NaN   NaN   NaN   NaN   \n",
              "2   NaN   NaN   NaN   NaN   NaN   NaN   NaN   NaN   NaN   NaN   NaN   NaN   \n",
              "3   NaN   NaN   NaN   NaN   NaN   NaN   NaN   NaN   NaN   NaN   NaN   NaN   \n",
              "4   1.0   1.0   1.0   1.0   1.0   1.0   1.0   1.0   1.0   1.0   1.0   1.0   \n",
              "\n",
              "   V254  V255  V256  V257  V258  V259  V260  V261  V262  V263  V264  V265  \\\n",
              "0   NaN   NaN   NaN   NaN   NaN   NaN   NaN   NaN   NaN   NaN   NaN   NaN   \n",
              "1   NaN   NaN   NaN   NaN   NaN   NaN   NaN   NaN   NaN   NaN   NaN   NaN   \n",
              "2   NaN   NaN   NaN   NaN   NaN   NaN   NaN   NaN   NaN   NaN   NaN   NaN   \n",
              "3   NaN   NaN   NaN   NaN   NaN   NaN   NaN   NaN   NaN   NaN   NaN   NaN   \n",
              "4   1.0   1.0   1.0   1.0   1.0   1.0   1.0   1.0   1.0   0.0   0.0   0.0   \n",
              "\n",
              "   V266  V267  V268  V269  V270  V271  V272  V273  V274  V275  V276  V277  \\\n",
              "0   NaN   NaN   NaN   NaN   NaN   NaN   NaN   NaN   NaN   NaN   NaN   NaN   \n",
              "1   NaN   NaN   NaN   NaN   NaN   NaN   NaN   NaN   NaN   NaN   NaN   NaN   \n",
              "2   NaN   NaN   NaN   NaN   NaN   NaN   NaN   NaN   NaN   NaN   NaN   NaN   \n",
              "3   NaN   NaN   NaN   NaN   NaN   NaN   NaN   NaN   NaN   NaN   NaN   NaN   \n",
              "4   0.0   0.0   0.0   0.0   0.0   0.0   0.0   0.0   0.0   0.0   0.0   0.0   \n",
              "\n",
              "   V278  V279  V280  V281  V282  V283  V284  V285  V286  V287  V288  V289  \\\n",
              "0   NaN   0.0   0.0   0.0   1.0   1.0   0.0   0.0   0.0   0.0   0.0   0.0   \n",
              "1   NaN   0.0   0.0   0.0   1.0   1.0   0.0   0.0   0.0   0.0   0.0   0.0   \n",
              "2   NaN   0.0   0.0   0.0   1.0   1.0   0.0   0.0   0.0   0.0   0.0   0.0   \n",
              "3   NaN   1.0  28.0   0.0   0.0   0.0   0.0  10.0   0.0   4.0   0.0   0.0   \n",
              "4   0.0   0.0   0.0   0.0   1.0   1.0   0.0   0.0   0.0   0.0   0.0   0.0   \n",
              "\n",
              "   V290  V291  V292  V293  V294  V295  V296  V297  V298  V299  V300  V301  \\\n",
              "0   1.0   1.0   1.0   0.0   1.0   0.0   0.0   0.0   0.0   0.0   0.0   0.0   \n",
              "1   1.0   1.0   1.0   0.0   0.0   0.0   0.0   0.0   0.0   0.0   0.0   0.0   \n",
              "2   1.0   1.0   1.0   0.0   0.0   0.0   0.0   0.0   0.0   0.0   0.0   0.0   \n",
              "3   1.0   1.0   1.0   1.0  38.0  24.0   0.0   0.0   0.0   0.0   0.0   0.0   \n",
              "4   1.0   1.0   1.0   0.0   0.0   0.0   0.0   0.0   0.0   0.0   0.0   0.0   \n",
              "\n",
              "   V302  V303  V304  V305  V306    V307   V308  V309   V310  V311   V312  \\\n",
              "0   0.0   0.0   0.0   1.0   0.0   117.0    0.0   0.0    0.0   0.0    0.0   \n",
              "1   0.0   0.0   0.0   1.0   0.0     0.0    0.0   0.0    0.0   0.0    0.0   \n",
              "2   0.0   0.0   0.0   1.0   0.0     0.0    0.0   0.0    0.0   0.0    0.0   \n",
              "3   0.0   0.0   0.0   1.0  50.0  1758.0  925.0   0.0  354.0   0.0  135.0   \n",
              "4   1.0   1.0   1.0   1.0   0.0     0.0    0.0   0.0    0.0   0.0    0.0   \n",
              "\n",
              "   V313  V314  V315  V316    V317   V318  V319  V320  V321  V322  V323  V324  \\\n",
              "0   0.0   0.0   0.0   0.0   117.0    0.0   0.0   0.0   0.0   NaN   NaN   NaN   \n",
              "1   0.0   0.0   0.0   0.0     0.0    0.0   0.0   0.0   0.0   NaN   NaN   NaN   \n",
              "2   0.0   0.0   0.0   0.0     0.0    0.0   0.0   0.0   0.0   NaN   NaN   NaN   \n",
              "3   0.0   0.0   0.0  50.0  1404.0  790.0   0.0   0.0   0.0   NaN   NaN   NaN   \n",
              "4   0.0   0.0   0.0   0.0     0.0    0.0   0.0   0.0   0.0   0.0   0.0   0.0   \n",
              "\n",
              "   V325  V326  V327  V328  V329  V330  V331  V332  V333  V334  V335  V336  \\\n",
              "0   NaN   NaN   NaN   NaN   NaN   NaN   NaN   NaN   NaN   NaN   NaN   NaN   \n",
              "1   NaN   NaN   NaN   NaN   NaN   NaN   NaN   NaN   NaN   NaN   NaN   NaN   \n",
              "2   NaN   NaN   NaN   NaN   NaN   NaN   NaN   NaN   NaN   NaN   NaN   NaN   \n",
              "3   NaN   NaN   NaN   NaN   NaN   NaN   NaN   NaN   NaN   NaN   NaN   NaN   \n",
              "4   0.0   0.0   0.0   0.0   0.0   0.0   0.0   0.0   0.0   0.0   0.0   0.0   \n",
              "\n",
              "   V337  V338  V339  \n",
              "0   NaN   NaN   NaN  \n",
              "1   NaN   NaN   NaN  \n",
              "2   NaN   NaN   NaN  \n",
              "3   NaN   NaN   NaN  \n",
              "4   0.0   0.0   0.0  "
            ],
            "text/html": [
              "\n",
              "  <div id=\"df-c09bf53d-b078-4ab3-bb31-205c95effa21\" class=\"colab-df-container\">\n",
              "    <div>\n",
              "<style scoped>\n",
              "    .dataframe tbody tr th:only-of-type {\n",
              "        vertical-align: middle;\n",
              "    }\n",
              "\n",
              "    .dataframe tbody tr th {\n",
              "        vertical-align: top;\n",
              "    }\n",
              "\n",
              "    .dataframe thead th {\n",
              "        text-align: right;\n",
              "    }\n",
              "</style>\n",
              "<table border=\"1\" class=\"dataframe\">\n",
              "  <thead>\n",
              "    <tr style=\"text-align: right;\">\n",
              "      <th></th>\n",
              "      <th>TransactionID</th>\n",
              "      <th>isFraud</th>\n",
              "      <th>TransactionDT</th>\n",
              "      <th>TransactionAmt</th>\n",
              "      <th>ProductCD</th>\n",
              "      <th>card1</th>\n",
              "      <th>card2</th>\n",
              "      <th>card3</th>\n",
              "      <th>card4</th>\n",
              "      <th>card5</th>\n",
              "      <th>card6</th>\n",
              "      <th>addr1</th>\n",
              "      <th>addr2</th>\n",
              "      <th>dist1</th>\n",
              "      <th>dist2</th>\n",
              "      <th>P_emaildomain</th>\n",
              "      <th>R_emaildomain</th>\n",
              "      <th>C1</th>\n",
              "      <th>C2</th>\n",
              "      <th>C3</th>\n",
              "      <th>C4</th>\n",
              "      <th>C5</th>\n",
              "      <th>C6</th>\n",
              "      <th>C7</th>\n",
              "      <th>C8</th>\n",
              "      <th>C9</th>\n",
              "      <th>C10</th>\n",
              "      <th>C11</th>\n",
              "      <th>C12</th>\n",
              "      <th>C13</th>\n",
              "      <th>C14</th>\n",
              "      <th>D1</th>\n",
              "      <th>D2</th>\n",
              "      <th>D3</th>\n",
              "      <th>D4</th>\n",
              "      <th>D5</th>\n",
              "      <th>D6</th>\n",
              "      <th>D7</th>\n",
              "      <th>D8</th>\n",
              "      <th>D9</th>\n",
              "      <th>D10</th>\n",
              "      <th>D11</th>\n",
              "      <th>D12</th>\n",
              "      <th>D13</th>\n",
              "      <th>D14</th>\n",
              "      <th>D15</th>\n",
              "      <th>M1</th>\n",
              "      <th>M2</th>\n",
              "      <th>M3</th>\n",
              "      <th>M4</th>\n",
              "      <th>M5</th>\n",
              "      <th>M6</th>\n",
              "      <th>M7</th>\n",
              "      <th>M8</th>\n",
              "      <th>M9</th>\n",
              "      <th>V1</th>\n",
              "      <th>V2</th>\n",
              "      <th>V3</th>\n",
              "      <th>V4</th>\n",
              "      <th>V5</th>\n",
              "      <th>V6</th>\n",
              "      <th>V7</th>\n",
              "      <th>V8</th>\n",
              "      <th>V9</th>\n",
              "      <th>V10</th>\n",
              "      <th>V11</th>\n",
              "      <th>V12</th>\n",
              "      <th>V13</th>\n",
              "      <th>V14</th>\n",
              "      <th>V15</th>\n",
              "      <th>V16</th>\n",
              "      <th>V17</th>\n",
              "      <th>V18</th>\n",
              "      <th>V19</th>\n",
              "      <th>V20</th>\n",
              "      <th>V21</th>\n",
              "      <th>V22</th>\n",
              "      <th>V23</th>\n",
              "      <th>V24</th>\n",
              "      <th>V25</th>\n",
              "      <th>V26</th>\n",
              "      <th>V27</th>\n",
              "      <th>V28</th>\n",
              "      <th>V29</th>\n",
              "      <th>V30</th>\n",
              "      <th>V31</th>\n",
              "      <th>V32</th>\n",
              "      <th>V33</th>\n",
              "      <th>V34</th>\n",
              "      <th>V35</th>\n",
              "      <th>V36</th>\n",
              "      <th>V37</th>\n",
              "      <th>V38</th>\n",
              "      <th>V39</th>\n",
              "      <th>V40</th>\n",
              "      <th>V41</th>\n",
              "      <th>V42</th>\n",
              "      <th>V43</th>\n",
              "      <th>V44</th>\n",
              "      <th>V45</th>\n",
              "      <th>V46</th>\n",
              "      <th>V47</th>\n",
              "      <th>V48</th>\n",
              "      <th>V49</th>\n",
              "      <th>V50</th>\n",
              "      <th>V51</th>\n",
              "      <th>V52</th>\n",
              "      <th>V53</th>\n",
              "      <th>V54</th>\n",
              "      <th>V55</th>\n",
              "      <th>V56</th>\n",
              "      <th>V57</th>\n",
              "      <th>V58</th>\n",
              "      <th>V59</th>\n",
              "      <th>V60</th>\n",
              "      <th>V61</th>\n",
              "      <th>V62</th>\n",
              "      <th>V63</th>\n",
              "      <th>V64</th>\n",
              "      <th>V65</th>\n",
              "      <th>V66</th>\n",
              "      <th>V67</th>\n",
              "      <th>V68</th>\n",
              "      <th>V69</th>\n",
              "      <th>V70</th>\n",
              "      <th>V71</th>\n",
              "      <th>V72</th>\n",
              "      <th>V73</th>\n",
              "      <th>V74</th>\n",
              "      <th>V75</th>\n",
              "      <th>V76</th>\n",
              "      <th>V77</th>\n",
              "      <th>V78</th>\n",
              "      <th>V79</th>\n",
              "      <th>V80</th>\n",
              "      <th>V81</th>\n",
              "      <th>V82</th>\n",
              "      <th>V83</th>\n",
              "      <th>V84</th>\n",
              "      <th>V85</th>\n",
              "      <th>V86</th>\n",
              "      <th>V87</th>\n",
              "      <th>V88</th>\n",
              "      <th>V89</th>\n",
              "      <th>V90</th>\n",
              "      <th>V91</th>\n",
              "      <th>V92</th>\n",
              "      <th>V93</th>\n",
              "      <th>V94</th>\n",
              "      <th>V95</th>\n",
              "      <th>V96</th>\n",
              "      <th>V97</th>\n",
              "      <th>V98</th>\n",
              "      <th>V99</th>\n",
              "      <th>V100</th>\n",
              "      <th>V101</th>\n",
              "      <th>V102</th>\n",
              "      <th>V103</th>\n",
              "      <th>V104</th>\n",
              "      <th>V105</th>\n",
              "      <th>V106</th>\n",
              "      <th>V107</th>\n",
              "      <th>V108</th>\n",
              "      <th>V109</th>\n",
              "      <th>V110</th>\n",
              "      <th>V111</th>\n",
              "      <th>V112</th>\n",
              "      <th>V113</th>\n",
              "      <th>V114</th>\n",
              "      <th>V115</th>\n",
              "      <th>V116</th>\n",
              "      <th>V117</th>\n",
              "      <th>V118</th>\n",
              "      <th>V119</th>\n",
              "      <th>V120</th>\n",
              "      <th>V121</th>\n",
              "      <th>V122</th>\n",
              "      <th>V123</th>\n",
              "      <th>V124</th>\n",
              "      <th>V125</th>\n",
              "      <th>V126</th>\n",
              "      <th>V127</th>\n",
              "      <th>V128</th>\n",
              "      <th>V129</th>\n",
              "      <th>V130</th>\n",
              "      <th>V131</th>\n",
              "      <th>V132</th>\n",
              "      <th>V133</th>\n",
              "      <th>V134</th>\n",
              "      <th>V135</th>\n",
              "      <th>V136</th>\n",
              "      <th>V137</th>\n",
              "      <th>V138</th>\n",
              "      <th>V139</th>\n",
              "      <th>V140</th>\n",
              "      <th>V141</th>\n",
              "      <th>V142</th>\n",
              "      <th>V143</th>\n",
              "      <th>V144</th>\n",
              "      <th>V145</th>\n",
              "      <th>V146</th>\n",
              "      <th>V147</th>\n",
              "      <th>V148</th>\n",
              "      <th>V149</th>\n",
              "      <th>V150</th>\n",
              "      <th>V151</th>\n",
              "      <th>V152</th>\n",
              "      <th>V153</th>\n",
              "      <th>V154</th>\n",
              "      <th>V155</th>\n",
              "      <th>V156</th>\n",
              "      <th>V157</th>\n",
              "      <th>V158</th>\n",
              "      <th>V159</th>\n",
              "      <th>V160</th>\n",
              "      <th>V161</th>\n",
              "      <th>V162</th>\n",
              "      <th>V163</th>\n",
              "      <th>V164</th>\n",
              "      <th>V165</th>\n",
              "      <th>V166</th>\n",
              "      <th>V167</th>\n",
              "      <th>V168</th>\n",
              "      <th>V169</th>\n",
              "      <th>V170</th>\n",
              "      <th>V171</th>\n",
              "      <th>V172</th>\n",
              "      <th>V173</th>\n",
              "      <th>V174</th>\n",
              "      <th>V175</th>\n",
              "      <th>V176</th>\n",
              "      <th>V177</th>\n",
              "      <th>V178</th>\n",
              "      <th>V179</th>\n",
              "      <th>V180</th>\n",
              "      <th>V181</th>\n",
              "      <th>V182</th>\n",
              "      <th>V183</th>\n",
              "      <th>V184</th>\n",
              "      <th>V185</th>\n",
              "      <th>V186</th>\n",
              "      <th>V187</th>\n",
              "      <th>V188</th>\n",
              "      <th>V189</th>\n",
              "      <th>V190</th>\n",
              "      <th>V191</th>\n",
              "      <th>V192</th>\n",
              "      <th>V193</th>\n",
              "      <th>V194</th>\n",
              "      <th>V195</th>\n",
              "      <th>V196</th>\n",
              "      <th>V197</th>\n",
              "      <th>V198</th>\n",
              "      <th>V199</th>\n",
              "      <th>V200</th>\n",
              "      <th>V201</th>\n",
              "      <th>V202</th>\n",
              "      <th>V203</th>\n",
              "      <th>V204</th>\n",
              "      <th>V205</th>\n",
              "      <th>V206</th>\n",
              "      <th>V207</th>\n",
              "      <th>V208</th>\n",
              "      <th>V209</th>\n",
              "      <th>V210</th>\n",
              "      <th>V211</th>\n",
              "      <th>V212</th>\n",
              "      <th>V213</th>\n",
              "      <th>V214</th>\n",
              "      <th>V215</th>\n",
              "      <th>V216</th>\n",
              "      <th>V217</th>\n",
              "      <th>V218</th>\n",
              "      <th>V219</th>\n",
              "      <th>V220</th>\n",
              "      <th>V221</th>\n",
              "      <th>V222</th>\n",
              "      <th>V223</th>\n",
              "      <th>V224</th>\n",
              "      <th>V225</th>\n",
              "      <th>V226</th>\n",
              "      <th>V227</th>\n",
              "      <th>V228</th>\n",
              "      <th>V229</th>\n",
              "      <th>V230</th>\n",
              "      <th>V231</th>\n",
              "      <th>V232</th>\n",
              "      <th>V233</th>\n",
              "      <th>V234</th>\n",
              "      <th>V235</th>\n",
              "      <th>V236</th>\n",
              "      <th>V237</th>\n",
              "      <th>V238</th>\n",
              "      <th>V239</th>\n",
              "      <th>V240</th>\n",
              "      <th>V241</th>\n",
              "      <th>V242</th>\n",
              "      <th>V243</th>\n",
              "      <th>V244</th>\n",
              "      <th>V245</th>\n",
              "      <th>V246</th>\n",
              "      <th>V247</th>\n",
              "      <th>V248</th>\n",
              "      <th>V249</th>\n",
              "      <th>V250</th>\n",
              "      <th>V251</th>\n",
              "      <th>V252</th>\n",
              "      <th>V253</th>\n",
              "      <th>V254</th>\n",
              "      <th>V255</th>\n",
              "      <th>V256</th>\n",
              "      <th>V257</th>\n",
              "      <th>V258</th>\n",
              "      <th>V259</th>\n",
              "      <th>V260</th>\n",
              "      <th>V261</th>\n",
              "      <th>V262</th>\n",
              "      <th>V263</th>\n",
              "      <th>V264</th>\n",
              "      <th>V265</th>\n",
              "      <th>V266</th>\n",
              "      <th>V267</th>\n",
              "      <th>V268</th>\n",
              "      <th>V269</th>\n",
              "      <th>V270</th>\n",
              "      <th>V271</th>\n",
              "      <th>V272</th>\n",
              "      <th>V273</th>\n",
              "      <th>V274</th>\n",
              "      <th>V275</th>\n",
              "      <th>V276</th>\n",
              "      <th>V277</th>\n",
              "      <th>V278</th>\n",
              "      <th>V279</th>\n",
              "      <th>V280</th>\n",
              "      <th>V281</th>\n",
              "      <th>V282</th>\n",
              "      <th>V283</th>\n",
              "      <th>V284</th>\n",
              "      <th>V285</th>\n",
              "      <th>V286</th>\n",
              "      <th>V287</th>\n",
              "      <th>V288</th>\n",
              "      <th>V289</th>\n",
              "      <th>V290</th>\n",
              "      <th>V291</th>\n",
              "      <th>V292</th>\n",
              "      <th>V293</th>\n",
              "      <th>V294</th>\n",
              "      <th>V295</th>\n",
              "      <th>V296</th>\n",
              "      <th>V297</th>\n",
              "      <th>V298</th>\n",
              "      <th>V299</th>\n",
              "      <th>V300</th>\n",
              "      <th>V301</th>\n",
              "      <th>V302</th>\n",
              "      <th>V303</th>\n",
              "      <th>V304</th>\n",
              "      <th>V305</th>\n",
              "      <th>V306</th>\n",
              "      <th>V307</th>\n",
              "      <th>V308</th>\n",
              "      <th>V309</th>\n",
              "      <th>V310</th>\n",
              "      <th>V311</th>\n",
              "      <th>V312</th>\n",
              "      <th>V313</th>\n",
              "      <th>V314</th>\n",
              "      <th>V315</th>\n",
              "      <th>V316</th>\n",
              "      <th>V317</th>\n",
              "      <th>V318</th>\n",
              "      <th>V319</th>\n",
              "      <th>V320</th>\n",
              "      <th>V321</th>\n",
              "      <th>V322</th>\n",
              "      <th>V323</th>\n",
              "      <th>V324</th>\n",
              "      <th>V325</th>\n",
              "      <th>V326</th>\n",
              "      <th>V327</th>\n",
              "      <th>V328</th>\n",
              "      <th>V329</th>\n",
              "      <th>V330</th>\n",
              "      <th>V331</th>\n",
              "      <th>V332</th>\n",
              "      <th>V333</th>\n",
              "      <th>V334</th>\n",
              "      <th>V335</th>\n",
              "      <th>V336</th>\n",
              "      <th>V337</th>\n",
              "      <th>V338</th>\n",
              "      <th>V339</th>\n",
              "    </tr>\n",
              "  </thead>\n",
              "  <tbody>\n",
              "    <tr>\n",
              "      <th>0</th>\n",
              "      <td>2987000</td>\n",
              "      <td>0</td>\n",
              "      <td>86400</td>\n",
              "      <td>68.5</td>\n",
              "      <td>W</td>\n",
              "      <td>13926</td>\n",
              "      <td>NaN</td>\n",
              "      <td>150.0</td>\n",
              "      <td>discover</td>\n",
              "      <td>142.0</td>\n",
              "      <td>credit</td>\n",
              "      <td>315.0</td>\n",
              "      <td>87.0</td>\n",
              "      <td>19.0</td>\n",
              "      <td>NaN</td>\n",
              "      <td>NaN</td>\n",
              "      <td>NaN</td>\n",
              "      <td>1.0</td>\n",
              "      <td>1.0</td>\n",
              "      <td>0.0</td>\n",
              "      <td>0.0</td>\n",
              "      <td>0.0</td>\n",
              "      <td>1.0</td>\n",
              "      <td>0.0</td>\n",
              "      <td>0.0</td>\n",
              "      <td>1.0</td>\n",
              "      <td>0.0</td>\n",
              "      <td>2.0</td>\n",
              "      <td>0.0</td>\n",
              "      <td>1.0</td>\n",
              "      <td>1.0</td>\n",
              "      <td>14.0</td>\n",
              "      <td>NaN</td>\n",
              "      <td>13.0</td>\n",
              "      <td>NaN</td>\n",
              "      <td>NaN</td>\n",
              "      <td>NaN</td>\n",
              "      <td>NaN</td>\n",
              "      <td>NaN</td>\n",
              "      <td>NaN</td>\n",
              "      <td>13.0</td>\n",
              "      <td>13.0</td>\n",
              "      <td>NaN</td>\n",
              "      <td>NaN</td>\n",
              "      <td>NaN</td>\n",
              "      <td>0.0</td>\n",
              "      <td>T</td>\n",
              "      <td>T</td>\n",
              "      <td>T</td>\n",
              "      <td>M2</td>\n",
              "      <td>F</td>\n",
              "      <td>T</td>\n",
              "      <td>NaN</td>\n",
              "      <td>NaN</td>\n",
              "      <td>NaN</td>\n",
              "      <td>1.0</td>\n",
              "      <td>1.0</td>\n",
              "      <td>1.0</td>\n",
              "      <td>1.0</td>\n",
              "      <td>1.0</td>\n",
              "      <td>1.0</td>\n",
              "      <td>1.0</td>\n",
              "      <td>1.0</td>\n",
              "      <td>1.0</td>\n",
              "      <td>0.0</td>\n",
              "      <td>0.0</td>\n",
              "      <td>1.0</td>\n",
              "      <td>1.0</td>\n",
              "      <td>1.0</td>\n",
              "      <td>0.0</td>\n",
              "      <td>0.0</td>\n",
              "      <td>0.0</td>\n",
              "      <td>0.0</td>\n",
              "      <td>1.0</td>\n",
              "      <td>1.0</td>\n",
              "      <td>0.0</td>\n",
              "      <td>0.0</td>\n",
              "      <td>1.0</td>\n",
              "      <td>1.0</td>\n",
              "      <td>1.0</td>\n",
              "      <td>1.0</td>\n",
              "      <td>0.0</td>\n",
              "      <td>0.0</td>\n",
              "      <td>0.0</td>\n",
              "      <td>0.0</td>\n",
              "      <td>0.0</td>\n",
              "      <td>0.0</td>\n",
              "      <td>0.0</td>\n",
              "      <td>0.0</td>\n",
              "      <td>NaN</td>\n",
              "      <td>NaN</td>\n",
              "      <td>NaN</td>\n",
              "      <td>NaN</td>\n",
              "      <td>NaN</td>\n",
              "      <td>NaN</td>\n",
              "      <td>NaN</td>\n",
              "      <td>NaN</td>\n",
              "      <td>NaN</td>\n",
              "      <td>NaN</td>\n",
              "      <td>NaN</td>\n",
              "      <td>NaN</td>\n",
              "      <td>NaN</td>\n",
              "      <td>NaN</td>\n",
              "      <td>NaN</td>\n",
              "      <td>NaN</td>\n",
              "      <td>NaN</td>\n",
              "      <td>NaN</td>\n",
              "      <td>1.0</td>\n",
              "      <td>1.0</td>\n",
              "      <td>1.0</td>\n",
              "      <td>1.0</td>\n",
              "      <td>0.0</td>\n",
              "      <td>0.0</td>\n",
              "      <td>0.0</td>\n",
              "      <td>0.0</td>\n",
              "      <td>1.0</td>\n",
              "      <td>1.0</td>\n",
              "      <td>0.0</td>\n",
              "      <td>0.0</td>\n",
              "      <td>1.0</td>\n",
              "      <td>1.0</td>\n",
              "      <td>1.0</td>\n",
              "      <td>0.0</td>\n",
              "      <td>0.0</td>\n",
              "      <td>0.0</td>\n",
              "      <td>0.0</td>\n",
              "      <td>0.0</td>\n",
              "      <td>0.0</td>\n",
              "      <td>0.0</td>\n",
              "      <td>1.0</td>\n",
              "      <td>1.0</td>\n",
              "      <td>1.0</td>\n",
              "      <td>1.0</td>\n",
              "      <td>0.0</td>\n",
              "      <td>0.0</td>\n",
              "      <td>0.0</td>\n",
              "      <td>0.0</td>\n",
              "      <td>0.0</td>\n",
              "      <td>0.0</td>\n",
              "      <td>0.0</td>\n",
              "      <td>1.0</td>\n",
              "      <td>1.0</td>\n",
              "      <td>1.0</td>\n",
              "      <td>0.0</td>\n",
              "      <td>0.0</td>\n",
              "      <td>0.0</td>\n",
              "      <td>0.0</td>\n",
              "      <td>0.0</td>\n",
              "      <td>0.0</td>\n",
              "      <td>0.0</td>\n",
              "      <td>1.0</td>\n",
              "      <td>0.0</td>\n",
              "      <td>0.0</td>\n",
              "      <td>0.0</td>\n",
              "      <td>0.0</td>\n",
              "      <td>0.0</td>\n",
              "      <td>1.0</td>\n",
              "      <td>0.0</td>\n",
              "      <td>0.0</td>\n",
              "      <td>0.0</td>\n",
              "      <td>0.0</td>\n",
              "      <td>1.0</td>\n",
              "      <td>1.0</td>\n",
              "      <td>1.0</td>\n",
              "      <td>1.0</td>\n",
              "      <td>1.0</td>\n",
              "      <td>1.0</td>\n",
              "      <td>1.0</td>\n",
              "      <td>1.0</td>\n",
              "      <td>1.0</td>\n",
              "      <td>1.0</td>\n",
              "      <td>1.0</td>\n",
              "      <td>1.0</td>\n",
              "      <td>1.0</td>\n",
              "      <td>1.0</td>\n",
              "      <td>1.0</td>\n",
              "      <td>1.0</td>\n",
              "      <td>1.0</td>\n",
              "      <td>1.0</td>\n",
              "      <td>1.0</td>\n",
              "      <td>0.0</td>\n",
              "      <td>117.0</td>\n",
              "      <td>0.0</td>\n",
              "      <td>0.0</td>\n",
              "      <td>0.0</td>\n",
              "      <td>0.0</td>\n",
              "      <td>0.0</td>\n",
              "      <td>117.0</td>\n",
              "      <td>0.0</td>\n",
              "      <td>0.0</td>\n",
              "      <td>0.0</td>\n",
              "      <td>0.0</td>\n",
              "      <td>NaN</td>\n",
              "      <td>NaN</td>\n",
              "      <td>NaN</td>\n",
              "      <td>NaN</td>\n",
              "      <td>NaN</td>\n",
              "      <td>NaN</td>\n",
              "      <td>NaN</td>\n",
              "      <td>NaN</td>\n",
              "      <td>NaN</td>\n",
              "      <td>NaN</td>\n",
              "      <td>NaN</td>\n",
              "      <td>NaN</td>\n",
              "      <td>NaN</td>\n",
              "      <td>NaN</td>\n",
              "      <td>NaN</td>\n",
              "      <td>NaN</td>\n",
              "      <td>NaN</td>\n",
              "      <td>NaN</td>\n",
              "      <td>NaN</td>\n",
              "      <td>NaN</td>\n",
              "      <td>NaN</td>\n",
              "      <td>NaN</td>\n",
              "      <td>NaN</td>\n",
              "      <td>NaN</td>\n",
              "      <td>NaN</td>\n",
              "      <td>NaN</td>\n",
              "      <td>NaN</td>\n",
              "      <td>NaN</td>\n",
              "      <td>NaN</td>\n",
              "      <td>NaN</td>\n",
              "      <td>NaN</td>\n",
              "      <td>NaN</td>\n",
              "      <td>NaN</td>\n",
              "      <td>NaN</td>\n",
              "      <td>NaN</td>\n",
              "      <td>NaN</td>\n",
              "      <td>NaN</td>\n",
              "      <td>NaN</td>\n",
              "      <td>NaN</td>\n",
              "      <td>NaN</td>\n",
              "      <td>NaN</td>\n",
              "      <td>NaN</td>\n",
              "      <td>NaN</td>\n",
              "      <td>NaN</td>\n",
              "      <td>NaN</td>\n",
              "      <td>NaN</td>\n",
              "      <td>NaN</td>\n",
              "      <td>NaN</td>\n",
              "      <td>NaN</td>\n",
              "      <td>NaN</td>\n",
              "      <td>NaN</td>\n",
              "      <td>NaN</td>\n",
              "      <td>NaN</td>\n",
              "      <td>NaN</td>\n",
              "      <td>NaN</td>\n",
              "      <td>NaN</td>\n",
              "      <td>NaN</td>\n",
              "      <td>NaN</td>\n",
              "      <td>NaN</td>\n",
              "      <td>NaN</td>\n",
              "      <td>NaN</td>\n",
              "      <td>NaN</td>\n",
              "      <td>NaN</td>\n",
              "      <td>NaN</td>\n",
              "      <td>NaN</td>\n",
              "      <td>NaN</td>\n",
              "      <td>NaN</td>\n",
              "      <td>NaN</td>\n",
              "      <td>NaN</td>\n",
              "      <td>NaN</td>\n",
              "      <td>NaN</td>\n",
              "      <td>NaN</td>\n",
              "      <td>NaN</td>\n",
              "      <td>NaN</td>\n",
              "      <td>NaN</td>\n",
              "      <td>NaN</td>\n",
              "      <td>NaN</td>\n",
              "      <td>NaN</td>\n",
              "      <td>NaN</td>\n",
              "      <td>NaN</td>\n",
              "      <td>NaN</td>\n",
              "      <td>NaN</td>\n",
              "      <td>NaN</td>\n",
              "      <td>NaN</td>\n",
              "      <td>NaN</td>\n",
              "      <td>NaN</td>\n",
              "      <td>NaN</td>\n",
              "      <td>NaN</td>\n",
              "      <td>NaN</td>\n",
              "      <td>NaN</td>\n",
              "      <td>NaN</td>\n",
              "      <td>NaN</td>\n",
              "      <td>NaN</td>\n",
              "      <td>NaN</td>\n",
              "      <td>NaN</td>\n",
              "      <td>NaN</td>\n",
              "      <td>NaN</td>\n",
              "      <td>NaN</td>\n",
              "      <td>NaN</td>\n",
              "      <td>NaN</td>\n",
              "      <td>NaN</td>\n",
              "      <td>NaN</td>\n",
              "      <td>NaN</td>\n",
              "      <td>NaN</td>\n",
              "      <td>NaN</td>\n",
              "      <td>NaN</td>\n",
              "      <td>NaN</td>\n",
              "      <td>NaN</td>\n",
              "      <td>NaN</td>\n",
              "      <td>NaN</td>\n",
              "      <td>NaN</td>\n",
              "      <td>NaN</td>\n",
              "      <td>NaN</td>\n",
              "      <td>NaN</td>\n",
              "      <td>NaN</td>\n",
              "      <td>NaN</td>\n",
              "      <td>NaN</td>\n",
              "      <td>NaN</td>\n",
              "      <td>NaN</td>\n",
              "      <td>NaN</td>\n",
              "      <td>NaN</td>\n",
              "      <td>NaN</td>\n",
              "      <td>NaN</td>\n",
              "      <td>NaN</td>\n",
              "      <td>NaN</td>\n",
              "      <td>NaN</td>\n",
              "      <td>NaN</td>\n",
              "      <td>NaN</td>\n",
              "      <td>NaN</td>\n",
              "      <td>NaN</td>\n",
              "      <td>NaN</td>\n",
              "      <td>NaN</td>\n",
              "      <td>NaN</td>\n",
              "      <td>NaN</td>\n",
              "      <td>NaN</td>\n",
              "      <td>NaN</td>\n",
              "      <td>NaN</td>\n",
              "      <td>NaN</td>\n",
              "      <td>NaN</td>\n",
              "      <td>NaN</td>\n",
              "      <td>NaN</td>\n",
              "      <td>0.0</td>\n",
              "      <td>0.0</td>\n",
              "      <td>0.0</td>\n",
              "      <td>1.0</td>\n",
              "      <td>1.0</td>\n",
              "      <td>0.0</td>\n",
              "      <td>0.0</td>\n",
              "      <td>0.0</td>\n",
              "      <td>0.0</td>\n",
              "      <td>0.0</td>\n",
              "      <td>0.0</td>\n",
              "      <td>1.0</td>\n",
              "      <td>1.0</td>\n",
              "      <td>1.0</td>\n",
              "      <td>0.0</td>\n",
              "      <td>1.0</td>\n",
              "      <td>0.0</td>\n",
              "      <td>0.0</td>\n",
              "      <td>0.0</td>\n",
              "      <td>0.0</td>\n",
              "      <td>0.0</td>\n",
              "      <td>0.0</td>\n",
              "      <td>0.0</td>\n",
              "      <td>0.0</td>\n",
              "      <td>0.0</td>\n",
              "      <td>0.0</td>\n",
              "      <td>1.0</td>\n",
              "      <td>0.0</td>\n",
              "      <td>117.0</td>\n",
              "      <td>0.0</td>\n",
              "      <td>0.0</td>\n",
              "      <td>0.0</td>\n",
              "      <td>0.0</td>\n",
              "      <td>0.0</td>\n",
              "      <td>0.0</td>\n",
              "      <td>0.0</td>\n",
              "      <td>0.0</td>\n",
              "      <td>0.0</td>\n",
              "      <td>117.0</td>\n",
              "      <td>0.0</td>\n",
              "      <td>0.0</td>\n",
              "      <td>0.0</td>\n",
              "      <td>0.0</td>\n",
              "      <td>NaN</td>\n",
              "      <td>NaN</td>\n",
              "      <td>NaN</td>\n",
              "      <td>NaN</td>\n",
              "      <td>NaN</td>\n",
              "      <td>NaN</td>\n",
              "      <td>NaN</td>\n",
              "      <td>NaN</td>\n",
              "      <td>NaN</td>\n",
              "      <td>NaN</td>\n",
              "      <td>NaN</td>\n",
              "      <td>NaN</td>\n",
              "      <td>NaN</td>\n",
              "      <td>NaN</td>\n",
              "      <td>NaN</td>\n",
              "      <td>NaN</td>\n",
              "      <td>NaN</td>\n",
              "      <td>NaN</td>\n",
              "    </tr>\n",
              "    <tr>\n",
              "      <th>1</th>\n",
              "      <td>2987001</td>\n",
              "      <td>0</td>\n",
              "      <td>86401</td>\n",
              "      <td>29.0</td>\n",
              "      <td>W</td>\n",
              "      <td>2755</td>\n",
              "      <td>404.0</td>\n",
              "      <td>150.0</td>\n",
              "      <td>mastercard</td>\n",
              "      <td>102.0</td>\n",
              "      <td>credit</td>\n",
              "      <td>325.0</td>\n",
              "      <td>87.0</td>\n",
              "      <td>NaN</td>\n",
              "      <td>NaN</td>\n",
              "      <td>gmail.com</td>\n",
              "      <td>NaN</td>\n",
              "      <td>1.0</td>\n",
              "      <td>1.0</td>\n",
              "      <td>0.0</td>\n",
              "      <td>0.0</td>\n",
              "      <td>0.0</td>\n",
              "      <td>1.0</td>\n",
              "      <td>0.0</td>\n",
              "      <td>0.0</td>\n",
              "      <td>0.0</td>\n",
              "      <td>0.0</td>\n",
              "      <td>1.0</td>\n",
              "      <td>0.0</td>\n",
              "      <td>1.0</td>\n",
              "      <td>1.0</td>\n",
              "      <td>0.0</td>\n",
              "      <td>NaN</td>\n",
              "      <td>NaN</td>\n",
              "      <td>0.0</td>\n",
              "      <td>NaN</td>\n",
              "      <td>NaN</td>\n",
              "      <td>NaN</td>\n",
              "      <td>NaN</td>\n",
              "      <td>NaN</td>\n",
              "      <td>0.0</td>\n",
              "      <td>NaN</td>\n",
              "      <td>NaN</td>\n",
              "      <td>NaN</td>\n",
              "      <td>NaN</td>\n",
              "      <td>0.0</td>\n",
              "      <td>NaN</td>\n",
              "      <td>NaN</td>\n",
              "      <td>NaN</td>\n",
              "      <td>M0</td>\n",
              "      <td>T</td>\n",
              "      <td>T</td>\n",
              "      <td>NaN</td>\n",
              "      <td>NaN</td>\n",
              "      <td>NaN</td>\n",
              "      <td>NaN</td>\n",
              "      <td>NaN</td>\n",
              "      <td>NaN</td>\n",
              "      <td>NaN</td>\n",
              "      <td>NaN</td>\n",
              "      <td>NaN</td>\n",
              "      <td>NaN</td>\n",
              "      <td>NaN</td>\n",
              "      <td>NaN</td>\n",
              "      <td>NaN</td>\n",
              "      <td>NaN</td>\n",
              "      <td>0.0</td>\n",
              "      <td>0.0</td>\n",
              "      <td>1.0</td>\n",
              "      <td>0.0</td>\n",
              "      <td>0.0</td>\n",
              "      <td>0.0</td>\n",
              "      <td>0.0</td>\n",
              "      <td>1.0</td>\n",
              "      <td>1.0</td>\n",
              "      <td>0.0</td>\n",
              "      <td>0.0</td>\n",
              "      <td>1.0</td>\n",
              "      <td>1.0</td>\n",
              "      <td>1.0</td>\n",
              "      <td>1.0</td>\n",
              "      <td>0.0</td>\n",
              "      <td>0.0</td>\n",
              "      <td>0.0</td>\n",
              "      <td>0.0</td>\n",
              "      <td>0.0</td>\n",
              "      <td>0.0</td>\n",
              "      <td>0.0</td>\n",
              "      <td>0.0</td>\n",
              "      <td>0.0</td>\n",
              "      <td>0.0</td>\n",
              "      <td>1.0</td>\n",
              "      <td>1.0</td>\n",
              "      <td>0.0</td>\n",
              "      <td>0.0</td>\n",
              "      <td>1.0</td>\n",
              "      <td>0.0</td>\n",
              "      <td>0.0</td>\n",
              "      <td>1.0</td>\n",
              "      <td>1.0</td>\n",
              "      <td>1.0</td>\n",
              "      <td>1.0</td>\n",
              "      <td>0.0</td>\n",
              "      <td>0.0</td>\n",
              "      <td>0.0</td>\n",
              "      <td>0.0</td>\n",
              "      <td>0.0</td>\n",
              "      <td>0.0</td>\n",
              "      <td>0.0</td>\n",
              "      <td>1.0</td>\n",
              "      <td>1.0</td>\n",
              "      <td>0.0</td>\n",
              "      <td>0.0</td>\n",
              "      <td>0.0</td>\n",
              "      <td>0.0</td>\n",
              "      <td>1.0</td>\n",
              "      <td>1.0</td>\n",
              "      <td>0.0</td>\n",
              "      <td>0.0</td>\n",
              "      <td>1.0</td>\n",
              "      <td>1.0</td>\n",
              "      <td>1.0</td>\n",
              "      <td>0.0</td>\n",
              "      <td>0.0</td>\n",
              "      <td>0.0</td>\n",
              "      <td>0.0</td>\n",
              "      <td>0.0</td>\n",
              "      <td>0.0</td>\n",
              "      <td>0.0</td>\n",
              "      <td>0.0</td>\n",
              "      <td>0.0</td>\n",
              "      <td>1.0</td>\n",
              "      <td>1.0</td>\n",
              "      <td>0.0</td>\n",
              "      <td>0.0</td>\n",
              "      <td>0.0</td>\n",
              "      <td>1.0</td>\n",
              "      <td>1.0</td>\n",
              "      <td>0.0</td>\n",
              "      <td>0.0</td>\n",
              "      <td>1.0</td>\n",
              "      <td>1.0</td>\n",
              "      <td>1.0</td>\n",
              "      <td>0.0</td>\n",
              "      <td>0.0</td>\n",
              "      <td>0.0</td>\n",
              "      <td>0.0</td>\n",
              "      <td>0.0</td>\n",
              "      <td>0.0</td>\n",
              "      <td>0.0</td>\n",
              "      <td>0.0</td>\n",
              "      <td>0.0</td>\n",
              "      <td>0.0</td>\n",
              "      <td>0.0</td>\n",
              "      <td>0.0</td>\n",
              "      <td>0.0</td>\n",
              "      <td>0.0</td>\n",
              "      <td>0.0</td>\n",
              "      <td>0.0</td>\n",
              "      <td>0.0</td>\n",
              "      <td>0.0</td>\n",
              "      <td>1.0</td>\n",
              "      <td>1.0</td>\n",
              "      <td>1.0</td>\n",
              "      <td>1.0</td>\n",
              "      <td>1.0</td>\n",
              "      <td>1.0</td>\n",
              "      <td>1.0</td>\n",
              "      <td>1.0</td>\n",
              "      <td>1.0</td>\n",
              "      <td>1.0</td>\n",
              "      <td>1.0</td>\n",
              "      <td>1.0</td>\n",
              "      <td>1.0</td>\n",
              "      <td>1.0</td>\n",
              "      <td>1.0</td>\n",
              "      <td>1.0</td>\n",
              "      <td>1.0</td>\n",
              "      <td>1.0</td>\n",
              "      <td>1.0</td>\n",
              "      <td>0.0</td>\n",
              "      <td>0.0</td>\n",
              "      <td>0.0</td>\n",
              "      <td>0.0</td>\n",
              "      <td>0.0</td>\n",
              "      <td>0.0</td>\n",
              "      <td>0.0</td>\n",
              "      <td>0.0</td>\n",
              "      <td>0.0</td>\n",
              "      <td>0.0</td>\n",
              "      <td>0.0</td>\n",
              "      <td>0.0</td>\n",
              "      <td>NaN</td>\n",
              "      <td>NaN</td>\n",
              "      <td>NaN</td>\n",
              "      <td>NaN</td>\n",
              "      <td>NaN</td>\n",
              "      <td>NaN</td>\n",
              "      <td>NaN</td>\n",
              "      <td>NaN</td>\n",
              "      <td>NaN</td>\n",
              "      <td>NaN</td>\n",
              "      <td>NaN</td>\n",
              "      <td>NaN</td>\n",
              "      <td>NaN</td>\n",
              "      <td>NaN</td>\n",
              "      <td>NaN</td>\n",
              "      <td>NaN</td>\n",
              "      <td>NaN</td>\n",
              "      <td>NaN</td>\n",
              "      <td>NaN</td>\n",
              "      <td>NaN</td>\n",
              "      <td>NaN</td>\n",
              "      <td>NaN</td>\n",
              "      <td>NaN</td>\n",
              "      <td>NaN</td>\n",
              "      <td>NaN</td>\n",
              "      <td>NaN</td>\n",
              "      <td>NaN</td>\n",
              "      <td>NaN</td>\n",
              "      <td>NaN</td>\n",
              "      <td>NaN</td>\n",
              "      <td>NaN</td>\n",
              "      <td>NaN</td>\n",
              "      <td>NaN</td>\n",
              "      <td>NaN</td>\n",
              "      <td>NaN</td>\n",
              "      <td>NaN</td>\n",
              "      <td>NaN</td>\n",
              "      <td>NaN</td>\n",
              "      <td>NaN</td>\n",
              "      <td>NaN</td>\n",
              "      <td>NaN</td>\n",
              "      <td>NaN</td>\n",
              "      <td>NaN</td>\n",
              "      <td>NaN</td>\n",
              "      <td>NaN</td>\n",
              "      <td>NaN</td>\n",
              "      <td>NaN</td>\n",
              "      <td>NaN</td>\n",
              "      <td>NaN</td>\n",
              "      <td>NaN</td>\n",
              "      <td>NaN</td>\n",
              "      <td>NaN</td>\n",
              "      <td>NaN</td>\n",
              "      <td>NaN</td>\n",
              "      <td>NaN</td>\n",
              "      <td>NaN</td>\n",
              "      <td>NaN</td>\n",
              "      <td>NaN</td>\n",
              "      <td>NaN</td>\n",
              "      <td>NaN</td>\n",
              "      <td>NaN</td>\n",
              "      <td>NaN</td>\n",
              "      <td>NaN</td>\n",
              "      <td>NaN</td>\n",
              "      <td>NaN</td>\n",
              "      <td>NaN</td>\n",
              "      <td>NaN</td>\n",
              "      <td>NaN</td>\n",
              "      <td>NaN</td>\n",
              "      <td>NaN</td>\n",
              "      <td>NaN</td>\n",
              "      <td>NaN</td>\n",
              "      <td>NaN</td>\n",
              "      <td>NaN</td>\n",
              "      <td>NaN</td>\n",
              "      <td>NaN</td>\n",
              "      <td>NaN</td>\n",
              "      <td>NaN</td>\n",
              "      <td>NaN</td>\n",
              "      <td>NaN</td>\n",
              "      <td>NaN</td>\n",
              "      <td>NaN</td>\n",
              "      <td>NaN</td>\n",
              "      <td>NaN</td>\n",
              "      <td>NaN</td>\n",
              "      <td>NaN</td>\n",
              "      <td>NaN</td>\n",
              "      <td>NaN</td>\n",
              "      <td>NaN</td>\n",
              "      <td>NaN</td>\n",
              "      <td>NaN</td>\n",
              "      <td>NaN</td>\n",
              "      <td>NaN</td>\n",
              "      <td>NaN</td>\n",
              "      <td>NaN</td>\n",
              "      <td>NaN</td>\n",
              "      <td>NaN</td>\n",
              "      <td>NaN</td>\n",
              "      <td>NaN</td>\n",
              "      <td>NaN</td>\n",
              "      <td>NaN</td>\n",
              "      <td>NaN</td>\n",
              "      <td>NaN</td>\n",
              "      <td>NaN</td>\n",
              "      <td>NaN</td>\n",
              "      <td>NaN</td>\n",
              "      <td>NaN</td>\n",
              "      <td>NaN</td>\n",
              "      <td>NaN</td>\n",
              "      <td>NaN</td>\n",
              "      <td>NaN</td>\n",
              "      <td>NaN</td>\n",
              "      <td>NaN</td>\n",
              "      <td>NaN</td>\n",
              "      <td>NaN</td>\n",
              "      <td>NaN</td>\n",
              "      <td>NaN</td>\n",
              "      <td>NaN</td>\n",
              "      <td>NaN</td>\n",
              "      <td>NaN</td>\n",
              "      <td>NaN</td>\n",
              "      <td>NaN</td>\n",
              "      <td>NaN</td>\n",
              "      <td>NaN</td>\n",
              "      <td>NaN</td>\n",
              "      <td>NaN</td>\n",
              "      <td>NaN</td>\n",
              "      <td>NaN</td>\n",
              "      <td>NaN</td>\n",
              "      <td>NaN</td>\n",
              "      <td>NaN</td>\n",
              "      <td>NaN</td>\n",
              "      <td>NaN</td>\n",
              "      <td>NaN</td>\n",
              "      <td>NaN</td>\n",
              "      <td>NaN</td>\n",
              "      <td>NaN</td>\n",
              "      <td>NaN</td>\n",
              "      <td>NaN</td>\n",
              "      <td>NaN</td>\n",
              "      <td>NaN</td>\n",
              "      <td>0.0</td>\n",
              "      <td>0.0</td>\n",
              "      <td>0.0</td>\n",
              "      <td>1.0</td>\n",
              "      <td>1.0</td>\n",
              "      <td>0.0</td>\n",
              "      <td>0.0</td>\n",
              "      <td>0.0</td>\n",
              "      <td>0.0</td>\n",
              "      <td>0.0</td>\n",
              "      <td>0.0</td>\n",
              "      <td>1.0</td>\n",
              "      <td>1.0</td>\n",
              "      <td>1.0</td>\n",
              "      <td>0.0</td>\n",
              "      <td>0.0</td>\n",
              "      <td>0.0</td>\n",
              "      <td>0.0</td>\n",
              "      <td>0.0</td>\n",
              "      <td>0.0</td>\n",
              "      <td>0.0</td>\n",
              "      <td>0.0</td>\n",
              "      <td>0.0</td>\n",
              "      <td>0.0</td>\n",
              "      <td>0.0</td>\n",
              "      <td>0.0</td>\n",
              "      <td>1.0</td>\n",
              "      <td>0.0</td>\n",
              "      <td>0.0</td>\n",
              "      <td>0.0</td>\n",
              "      <td>0.0</td>\n",
              "      <td>0.0</td>\n",
              "      <td>0.0</td>\n",
              "      <td>0.0</td>\n",
              "      <td>0.0</td>\n",
              "      <td>0.0</td>\n",
              "      <td>0.0</td>\n",
              "      <td>0.0</td>\n",
              "      <td>0.0</td>\n",
              "      <td>0.0</td>\n",
              "      <td>0.0</td>\n",
              "      <td>0.0</td>\n",
              "      <td>0.0</td>\n",
              "      <td>NaN</td>\n",
              "      <td>NaN</td>\n",
              "      <td>NaN</td>\n",
              "      <td>NaN</td>\n",
              "      <td>NaN</td>\n",
              "      <td>NaN</td>\n",
              "      <td>NaN</td>\n",
              "      <td>NaN</td>\n",
              "      <td>NaN</td>\n",
              "      <td>NaN</td>\n",
              "      <td>NaN</td>\n",
              "      <td>NaN</td>\n",
              "      <td>NaN</td>\n",
              "      <td>NaN</td>\n",
              "      <td>NaN</td>\n",
              "      <td>NaN</td>\n",
              "      <td>NaN</td>\n",
              "      <td>NaN</td>\n",
              "    </tr>\n",
              "    <tr>\n",
              "      <th>2</th>\n",
              "      <td>2987002</td>\n",
              "      <td>0</td>\n",
              "      <td>86469</td>\n",
              "      <td>59.0</td>\n",
              "      <td>W</td>\n",
              "      <td>4663</td>\n",
              "      <td>490.0</td>\n",
              "      <td>150.0</td>\n",
              "      <td>visa</td>\n",
              "      <td>166.0</td>\n",
              "      <td>debit</td>\n",
              "      <td>330.0</td>\n",
              "      <td>87.0</td>\n",
              "      <td>287.0</td>\n",
              "      <td>NaN</td>\n",
              "      <td>outlook.com</td>\n",
              "      <td>NaN</td>\n",
              "      <td>1.0</td>\n",
              "      <td>1.0</td>\n",
              "      <td>0.0</td>\n",
              "      <td>0.0</td>\n",
              "      <td>0.0</td>\n",
              "      <td>1.0</td>\n",
              "      <td>0.0</td>\n",
              "      <td>0.0</td>\n",
              "      <td>1.0</td>\n",
              "      <td>0.0</td>\n",
              "      <td>1.0</td>\n",
              "      <td>0.0</td>\n",
              "      <td>1.0</td>\n",
              "      <td>1.0</td>\n",
              "      <td>0.0</td>\n",
              "      <td>NaN</td>\n",
              "      <td>NaN</td>\n",
              "      <td>0.0</td>\n",
              "      <td>NaN</td>\n",
              "      <td>NaN</td>\n",
              "      <td>NaN</td>\n",
              "      <td>NaN</td>\n",
              "      <td>NaN</td>\n",
              "      <td>0.0</td>\n",
              "      <td>315.0</td>\n",
              "      <td>NaN</td>\n",
              "      <td>NaN</td>\n",
              "      <td>NaN</td>\n",
              "      <td>315.0</td>\n",
              "      <td>T</td>\n",
              "      <td>T</td>\n",
              "      <td>T</td>\n",
              "      <td>M0</td>\n",
              "      <td>F</td>\n",
              "      <td>F</td>\n",
              "      <td>F</td>\n",
              "      <td>F</td>\n",
              "      <td>F</td>\n",
              "      <td>1.0</td>\n",
              "      <td>1.0</td>\n",
              "      <td>1.0</td>\n",
              "      <td>1.0</td>\n",
              "      <td>1.0</td>\n",
              "      <td>1.0</td>\n",
              "      <td>1.0</td>\n",
              "      <td>1.0</td>\n",
              "      <td>1.0</td>\n",
              "      <td>0.0</td>\n",
              "      <td>0.0</td>\n",
              "      <td>1.0</td>\n",
              "      <td>1.0</td>\n",
              "      <td>1.0</td>\n",
              "      <td>0.0</td>\n",
              "      <td>0.0</td>\n",
              "      <td>0.0</td>\n",
              "      <td>0.0</td>\n",
              "      <td>1.0</td>\n",
              "      <td>1.0</td>\n",
              "      <td>0.0</td>\n",
              "      <td>0.0</td>\n",
              "      <td>1.0</td>\n",
              "      <td>1.0</td>\n",
              "      <td>1.0</td>\n",
              "      <td>1.0</td>\n",
              "      <td>0.0</td>\n",
              "      <td>0.0</td>\n",
              "      <td>0.0</td>\n",
              "      <td>0.0</td>\n",
              "      <td>0.0</td>\n",
              "      <td>0.0</td>\n",
              "      <td>0.0</td>\n",
              "      <td>0.0</td>\n",
              "      <td>1.0</td>\n",
              "      <td>1.0</td>\n",
              "      <td>1.0</td>\n",
              "      <td>1.0</td>\n",
              "      <td>0.0</td>\n",
              "      <td>0.0</td>\n",
              "      <td>1.0</td>\n",
              "      <td>0.0</td>\n",
              "      <td>0.0</td>\n",
              "      <td>1.0</td>\n",
              "      <td>1.0</td>\n",
              "      <td>1.0</td>\n",
              "      <td>1.0</td>\n",
              "      <td>0.0</td>\n",
              "      <td>0.0</td>\n",
              "      <td>0.0</td>\n",
              "      <td>0.0</td>\n",
              "      <td>0.0</td>\n",
              "      <td>1.0</td>\n",
              "      <td>1.0</td>\n",
              "      <td>1.0</td>\n",
              "      <td>1.0</td>\n",
              "      <td>0.0</td>\n",
              "      <td>0.0</td>\n",
              "      <td>0.0</td>\n",
              "      <td>0.0</td>\n",
              "      <td>1.0</td>\n",
              "      <td>1.0</td>\n",
              "      <td>0.0</td>\n",
              "      <td>0.0</td>\n",
              "      <td>1.0</td>\n",
              "      <td>1.0</td>\n",
              "      <td>1.0</td>\n",
              "      <td>0.0</td>\n",
              "      <td>0.0</td>\n",
              "      <td>0.0</td>\n",
              "      <td>0.0</td>\n",
              "      <td>0.0</td>\n",
              "      <td>0.0</td>\n",
              "      <td>0.0</td>\n",
              "      <td>1.0</td>\n",
              "      <td>1.0</td>\n",
              "      <td>1.0</td>\n",
              "      <td>1.0</td>\n",
              "      <td>0.0</td>\n",
              "      <td>0.0</td>\n",
              "      <td>0.0</td>\n",
              "      <td>1.0</td>\n",
              "      <td>1.0</td>\n",
              "      <td>0.0</td>\n",
              "      <td>0.0</td>\n",
              "      <td>1.0</td>\n",
              "      <td>1.0</td>\n",
              "      <td>1.0</td>\n",
              "      <td>0.0</td>\n",
              "      <td>0.0</td>\n",
              "      <td>0.0</td>\n",
              "      <td>0.0</td>\n",
              "      <td>0.0</td>\n",
              "      <td>0.0</td>\n",
              "      <td>0.0</td>\n",
              "      <td>0.0</td>\n",
              "      <td>0.0</td>\n",
              "      <td>0.0</td>\n",
              "      <td>0.0</td>\n",
              "      <td>0.0</td>\n",
              "      <td>0.0</td>\n",
              "      <td>0.0</td>\n",
              "      <td>0.0</td>\n",
              "      <td>0.0</td>\n",
              "      <td>0.0</td>\n",
              "      <td>0.0</td>\n",
              "      <td>1.0</td>\n",
              "      <td>1.0</td>\n",
              "      <td>1.0</td>\n",
              "      <td>1.0</td>\n",
              "      <td>1.0</td>\n",
              "      <td>1.0</td>\n",
              "      <td>1.0</td>\n",
              "      <td>1.0</td>\n",
              "      <td>1.0</td>\n",
              "      <td>1.0</td>\n",
              "      <td>1.0</td>\n",
              "      <td>1.0</td>\n",
              "      <td>1.0</td>\n",
              "      <td>1.0</td>\n",
              "      <td>1.0</td>\n",
              "      <td>1.0</td>\n",
              "      <td>1.0</td>\n",
              "      <td>1.0</td>\n",
              "      <td>1.0</td>\n",
              "      <td>0.0</td>\n",
              "      <td>0.0</td>\n",
              "      <td>0.0</td>\n",
              "      <td>0.0</td>\n",
              "      <td>0.0</td>\n",
              "      <td>0.0</td>\n",
              "      <td>0.0</td>\n",
              "      <td>0.0</td>\n",
              "      <td>0.0</td>\n",
              "      <td>0.0</td>\n",
              "      <td>0.0</td>\n",
              "      <td>0.0</td>\n",
              "      <td>NaN</td>\n",
              "      <td>NaN</td>\n",
              "      <td>NaN</td>\n",
              "      <td>NaN</td>\n",
              "      <td>NaN</td>\n",
              "      <td>NaN</td>\n",
              "      <td>NaN</td>\n",
              "      <td>NaN</td>\n",
              "      <td>NaN</td>\n",
              "      <td>NaN</td>\n",
              "      <td>NaN</td>\n",
              "      <td>NaN</td>\n",
              "      <td>NaN</td>\n",
              "      <td>NaN</td>\n",
              "      <td>NaN</td>\n",
              "      <td>NaN</td>\n",
              "      <td>NaN</td>\n",
              "      <td>NaN</td>\n",
              "      <td>NaN</td>\n",
              "      <td>NaN</td>\n",
              "      <td>NaN</td>\n",
              "      <td>NaN</td>\n",
              "      <td>NaN</td>\n",
              "      <td>NaN</td>\n",
              "      <td>NaN</td>\n",
              "      <td>NaN</td>\n",
              "      <td>NaN</td>\n",
              "      <td>NaN</td>\n",
              "      <td>NaN</td>\n",
              "      <td>NaN</td>\n",
              "      <td>NaN</td>\n",
              "      <td>NaN</td>\n",
              "      <td>NaN</td>\n",
              "      <td>NaN</td>\n",
              "      <td>NaN</td>\n",
              "      <td>NaN</td>\n",
              "      <td>NaN</td>\n",
              "      <td>NaN</td>\n",
              "      <td>NaN</td>\n",
              "      <td>NaN</td>\n",
              "      <td>NaN</td>\n",
              "      <td>NaN</td>\n",
              "      <td>NaN</td>\n",
              "      <td>NaN</td>\n",
              "      <td>NaN</td>\n",
              "      <td>NaN</td>\n",
              "      <td>NaN</td>\n",
              "      <td>NaN</td>\n",
              "      <td>NaN</td>\n",
              "      <td>NaN</td>\n",
              "      <td>NaN</td>\n",
              "      <td>NaN</td>\n",
              "      <td>NaN</td>\n",
              "      <td>NaN</td>\n",
              "      <td>NaN</td>\n",
              "      <td>NaN</td>\n",
              "      <td>NaN</td>\n",
              "      <td>NaN</td>\n",
              "      <td>NaN</td>\n",
              "      <td>NaN</td>\n",
              "      <td>NaN</td>\n",
              "      <td>NaN</td>\n",
              "      <td>NaN</td>\n",
              "      <td>NaN</td>\n",
              "      <td>NaN</td>\n",
              "      <td>NaN</td>\n",
              "      <td>NaN</td>\n",
              "      <td>NaN</td>\n",
              "      <td>NaN</td>\n",
              "      <td>NaN</td>\n",
              "      <td>NaN</td>\n",
              "      <td>NaN</td>\n",
              "      <td>NaN</td>\n",
              "      <td>NaN</td>\n",
              "      <td>NaN</td>\n",
              "      <td>NaN</td>\n",
              "      <td>NaN</td>\n",
              "      <td>NaN</td>\n",
              "      <td>NaN</td>\n",
              "      <td>NaN</td>\n",
              "      <td>NaN</td>\n",
              "      <td>NaN</td>\n",
              "      <td>NaN</td>\n",
              "      <td>NaN</td>\n",
              "      <td>NaN</td>\n",
              "      <td>NaN</td>\n",
              "      <td>NaN</td>\n",
              "      <td>NaN</td>\n",
              "      <td>NaN</td>\n",
              "      <td>NaN</td>\n",
              "      <td>NaN</td>\n",
              "      <td>NaN</td>\n",
              "      <td>NaN</td>\n",
              "      <td>NaN</td>\n",
              "      <td>NaN</td>\n",
              "      <td>NaN</td>\n",
              "      <td>NaN</td>\n",
              "      <td>NaN</td>\n",
              "      <td>NaN</td>\n",
              "      <td>NaN</td>\n",
              "      <td>NaN</td>\n",
              "      <td>NaN</td>\n",
              "      <td>NaN</td>\n",
              "      <td>NaN</td>\n",
              "      <td>NaN</td>\n",
              "      <td>NaN</td>\n",
              "      <td>NaN</td>\n",
              "      <td>NaN</td>\n",
              "      <td>NaN</td>\n",
              "      <td>NaN</td>\n",
              "      <td>NaN</td>\n",
              "      <td>NaN</td>\n",
              "      <td>NaN</td>\n",
              "      <td>NaN</td>\n",
              "      <td>NaN</td>\n",
              "      <td>NaN</td>\n",
              "      <td>NaN</td>\n",
              "      <td>NaN</td>\n",
              "      <td>NaN</td>\n",
              "      <td>NaN</td>\n",
              "      <td>NaN</td>\n",
              "      <td>NaN</td>\n",
              "      <td>NaN</td>\n",
              "      <td>NaN</td>\n",
              "      <td>NaN</td>\n",
              "      <td>NaN</td>\n",
              "      <td>NaN</td>\n",
              "      <td>NaN</td>\n",
              "      <td>NaN</td>\n",
              "      <td>NaN</td>\n",
              "      <td>NaN</td>\n",
              "      <td>NaN</td>\n",
              "      <td>NaN</td>\n",
              "      <td>NaN</td>\n",
              "      <td>NaN</td>\n",
              "      <td>NaN</td>\n",
              "      <td>NaN</td>\n",
              "      <td>NaN</td>\n",
              "      <td>NaN</td>\n",
              "      <td>NaN</td>\n",
              "      <td>NaN</td>\n",
              "      <td>0.0</td>\n",
              "      <td>0.0</td>\n",
              "      <td>0.0</td>\n",
              "      <td>1.0</td>\n",
              "      <td>1.0</td>\n",
              "      <td>0.0</td>\n",
              "      <td>0.0</td>\n",
              "      <td>0.0</td>\n",
              "      <td>0.0</td>\n",
              "      <td>0.0</td>\n",
              "      <td>0.0</td>\n",
              "      <td>1.0</td>\n",
              "      <td>1.0</td>\n",
              "      <td>1.0</td>\n",
              "      <td>0.0</td>\n",
              "      <td>0.0</td>\n",
              "      <td>0.0</td>\n",
              "      <td>0.0</td>\n",
              "      <td>0.0</td>\n",
              "      <td>0.0</td>\n",
              "      <td>0.0</td>\n",
              "      <td>0.0</td>\n",
              "      <td>0.0</td>\n",
              "      <td>0.0</td>\n",
              "      <td>0.0</td>\n",
              "      <td>0.0</td>\n",
              "      <td>1.0</td>\n",
              "      <td>0.0</td>\n",
              "      <td>0.0</td>\n",
              "      <td>0.0</td>\n",
              "      <td>0.0</td>\n",
              "      <td>0.0</td>\n",
              "      <td>0.0</td>\n",
              "      <td>0.0</td>\n",
              "      <td>0.0</td>\n",
              "      <td>0.0</td>\n",
              "      <td>0.0</td>\n",
              "      <td>0.0</td>\n",
              "      <td>0.0</td>\n",
              "      <td>0.0</td>\n",
              "      <td>0.0</td>\n",
              "      <td>0.0</td>\n",
              "      <td>0.0</td>\n",
              "      <td>NaN</td>\n",
              "      <td>NaN</td>\n",
              "      <td>NaN</td>\n",
              "      <td>NaN</td>\n",
              "      <td>NaN</td>\n",
              "      <td>NaN</td>\n",
              "      <td>NaN</td>\n",
              "      <td>NaN</td>\n",
              "      <td>NaN</td>\n",
              "      <td>NaN</td>\n",
              "      <td>NaN</td>\n",
              "      <td>NaN</td>\n",
              "      <td>NaN</td>\n",
              "      <td>NaN</td>\n",
              "      <td>NaN</td>\n",
              "      <td>NaN</td>\n",
              "      <td>NaN</td>\n",
              "      <td>NaN</td>\n",
              "    </tr>\n",
              "    <tr>\n",
              "      <th>3</th>\n",
              "      <td>2987003</td>\n",
              "      <td>0</td>\n",
              "      <td>86499</td>\n",
              "      <td>50.0</td>\n",
              "      <td>W</td>\n",
              "      <td>18132</td>\n",
              "      <td>567.0</td>\n",
              "      <td>150.0</td>\n",
              "      <td>mastercard</td>\n",
              "      <td>117.0</td>\n",
              "      <td>debit</td>\n",
              "      <td>476.0</td>\n",
              "      <td>87.0</td>\n",
              "      <td>NaN</td>\n",
              "      <td>NaN</td>\n",
              "      <td>yahoo.com</td>\n",
              "      <td>NaN</td>\n",
              "      <td>2.0</td>\n",
              "      <td>5.0</td>\n",
              "      <td>0.0</td>\n",
              "      <td>0.0</td>\n",
              "      <td>0.0</td>\n",
              "      <td>4.0</td>\n",
              "      <td>0.0</td>\n",
              "      <td>0.0</td>\n",
              "      <td>1.0</td>\n",
              "      <td>0.0</td>\n",
              "      <td>1.0</td>\n",
              "      <td>0.0</td>\n",
              "      <td>25.0</td>\n",
              "      <td>1.0</td>\n",
              "      <td>112.0</td>\n",
              "      <td>112.0</td>\n",
              "      <td>0.0</td>\n",
              "      <td>94.0</td>\n",
              "      <td>0.0</td>\n",
              "      <td>NaN</td>\n",
              "      <td>NaN</td>\n",
              "      <td>NaN</td>\n",
              "      <td>NaN</td>\n",
              "      <td>84.0</td>\n",
              "      <td>NaN</td>\n",
              "      <td>NaN</td>\n",
              "      <td>NaN</td>\n",
              "      <td>NaN</td>\n",
              "      <td>111.0</td>\n",
              "      <td>NaN</td>\n",
              "      <td>NaN</td>\n",
              "      <td>NaN</td>\n",
              "      <td>M0</td>\n",
              "      <td>T</td>\n",
              "      <td>F</td>\n",
              "      <td>NaN</td>\n",
              "      <td>NaN</td>\n",
              "      <td>NaN</td>\n",
              "      <td>NaN</td>\n",
              "      <td>NaN</td>\n",
              "      <td>NaN</td>\n",
              "      <td>NaN</td>\n",
              "      <td>NaN</td>\n",
              "      <td>NaN</td>\n",
              "      <td>NaN</td>\n",
              "      <td>NaN</td>\n",
              "      <td>NaN</td>\n",
              "      <td>NaN</td>\n",
              "      <td>NaN</td>\n",
              "      <td>1.0</td>\n",
              "      <td>1.0</td>\n",
              "      <td>1.0</td>\n",
              "      <td>0.0</td>\n",
              "      <td>0.0</td>\n",
              "      <td>0.0</td>\n",
              "      <td>0.0</td>\n",
              "      <td>1.0</td>\n",
              "      <td>1.0</td>\n",
              "      <td>0.0</td>\n",
              "      <td>0.0</td>\n",
              "      <td>1.0</td>\n",
              "      <td>1.0</td>\n",
              "      <td>1.0</td>\n",
              "      <td>1.0</td>\n",
              "      <td>0.0</td>\n",
              "      <td>0.0</td>\n",
              "      <td>0.0</td>\n",
              "      <td>0.0</td>\n",
              "      <td>0.0</td>\n",
              "      <td>0.0</td>\n",
              "      <td>0.0</td>\n",
              "      <td>0.0</td>\n",
              "      <td>1.0</td>\n",
              "      <td>1.0</td>\n",
              "      <td>1.0</td>\n",
              "      <td>1.0</td>\n",
              "      <td>0.0</td>\n",
              "      <td>0.0</td>\n",
              "      <td>1.0</td>\n",
              "      <td>0.0</td>\n",
              "      <td>0.0</td>\n",
              "      <td>1.0</td>\n",
              "      <td>1.0</td>\n",
              "      <td>1.0</td>\n",
              "      <td>1.0</td>\n",
              "      <td>0.0</td>\n",
              "      <td>0.0</td>\n",
              "      <td>0.0</td>\n",
              "      <td>0.0</td>\n",
              "      <td>0.0</td>\n",
              "      <td>1.0</td>\n",
              "      <td>1.0</td>\n",
              "      <td>1.0</td>\n",
              "      <td>1.0</td>\n",
              "      <td>0.0</td>\n",
              "      <td>0.0</td>\n",
              "      <td>0.0</td>\n",
              "      <td>0.0</td>\n",
              "      <td>1.0</td>\n",
              "      <td>1.0</td>\n",
              "      <td>0.0</td>\n",
              "      <td>0.0</td>\n",
              "      <td>1.0</td>\n",
              "      <td>1.0</td>\n",
              "      <td>1.0</td>\n",
              "      <td>0.0</td>\n",
              "      <td>0.0</td>\n",
              "      <td>0.0</td>\n",
              "      <td>0.0</td>\n",
              "      <td>0.0</td>\n",
              "      <td>0.0</td>\n",
              "      <td>0.0</td>\n",
              "      <td>1.0</td>\n",
              "      <td>1.0</td>\n",
              "      <td>1.0</td>\n",
              "      <td>1.0</td>\n",
              "      <td>0.0</td>\n",
              "      <td>0.0</td>\n",
              "      <td>0.0</td>\n",
              "      <td>1.0</td>\n",
              "      <td>1.0</td>\n",
              "      <td>0.0</td>\n",
              "      <td>0.0</td>\n",
              "      <td>1.0</td>\n",
              "      <td>1.0</td>\n",
              "      <td>1.0</td>\n",
              "      <td>0.0</td>\n",
              "      <td>0.0</td>\n",
              "      <td>0.0</td>\n",
              "      <td>0.0</td>\n",
              "      <td>0.0</td>\n",
              "      <td>0.0</td>\n",
              "      <td>1.0</td>\n",
              "      <td>48.0</td>\n",
              "      <td>28.0</td>\n",
              "      <td>0.0</td>\n",
              "      <td>10.0</td>\n",
              "      <td>4.0</td>\n",
              "      <td>1.0</td>\n",
              "      <td>38.0</td>\n",
              "      <td>24.0</td>\n",
              "      <td>0.0</td>\n",
              "      <td>0.0</td>\n",
              "      <td>0.0</td>\n",
              "      <td>1.0</td>\n",
              "      <td>1.0</td>\n",
              "      <td>1.0</td>\n",
              "      <td>1.0</td>\n",
              "      <td>1.0</td>\n",
              "      <td>1.0</td>\n",
              "      <td>1.0</td>\n",
              "      <td>1.0</td>\n",
              "      <td>1.0</td>\n",
              "      <td>1.0</td>\n",
              "      <td>1.0</td>\n",
              "      <td>1.0</td>\n",
              "      <td>1.0</td>\n",
              "      <td>1.0</td>\n",
              "      <td>1.0</td>\n",
              "      <td>1.0</td>\n",
              "      <td>1.0</td>\n",
              "      <td>1.0</td>\n",
              "      <td>1.0</td>\n",
              "      <td>50.0</td>\n",
              "      <td>1758.0</td>\n",
              "      <td>925.0</td>\n",
              "      <td>0.0</td>\n",
              "      <td>354.0</td>\n",
              "      <td>135.0</td>\n",
              "      <td>50.0</td>\n",
              "      <td>1404.0</td>\n",
              "      <td>790.0</td>\n",
              "      <td>0.0</td>\n",
              "      <td>0.0</td>\n",
              "      <td>0.0</td>\n",
              "      <td>NaN</td>\n",
              "      <td>NaN</td>\n",
              "      <td>NaN</td>\n",
              "      <td>NaN</td>\n",
              "      <td>NaN</td>\n",
              "      <td>NaN</td>\n",
              "      <td>NaN</td>\n",
              "      <td>NaN</td>\n",
              "      <td>NaN</td>\n",
              "      <td>NaN</td>\n",
              "      <td>NaN</td>\n",
              "      <td>NaN</td>\n",
              "      <td>NaN</td>\n",
              "      <td>NaN</td>\n",
              "      <td>NaN</td>\n",
              "      <td>NaN</td>\n",
              "      <td>NaN</td>\n",
              "      <td>NaN</td>\n",
              "      <td>NaN</td>\n",
              "      <td>NaN</td>\n",
              "      <td>NaN</td>\n",
              "      <td>NaN</td>\n",
              "      <td>NaN</td>\n",
              "      <td>NaN</td>\n",
              "      <td>NaN</td>\n",
              "      <td>NaN</td>\n",
              "      <td>NaN</td>\n",
              "      <td>NaN</td>\n",
              "      <td>NaN</td>\n",
              "      <td>NaN</td>\n",
              "      <td>NaN</td>\n",
              "      <td>NaN</td>\n",
              "      <td>NaN</td>\n",
              "      <td>NaN</td>\n",
              "      <td>NaN</td>\n",
              "      <td>NaN</td>\n",
              "      <td>NaN</td>\n",
              "      <td>NaN</td>\n",
              "      <td>NaN</td>\n",
              "      <td>NaN</td>\n",
              "      <td>NaN</td>\n",
              "      <td>NaN</td>\n",
              "      <td>NaN</td>\n",
              "      <td>NaN</td>\n",
              "      <td>NaN</td>\n",
              "      <td>NaN</td>\n",
              "      <td>NaN</td>\n",
              "      <td>NaN</td>\n",
              "      <td>NaN</td>\n",
              "      <td>NaN</td>\n",
              "      <td>NaN</td>\n",
              "      <td>NaN</td>\n",
              "      <td>NaN</td>\n",
              "      <td>NaN</td>\n",
              "      <td>NaN</td>\n",
              "      <td>NaN</td>\n",
              "      <td>NaN</td>\n",
              "      <td>NaN</td>\n",
              "      <td>NaN</td>\n",
              "      <td>NaN</td>\n",
              "      <td>NaN</td>\n",
              "      <td>NaN</td>\n",
              "      <td>NaN</td>\n",
              "      <td>NaN</td>\n",
              "      <td>NaN</td>\n",
              "      <td>NaN</td>\n",
              "      <td>NaN</td>\n",
              "      <td>NaN</td>\n",
              "      <td>NaN</td>\n",
              "      <td>NaN</td>\n",
              "      <td>NaN</td>\n",
              "      <td>NaN</td>\n",
              "      <td>NaN</td>\n",
              "      <td>NaN</td>\n",
              "      <td>NaN</td>\n",
              "      <td>NaN</td>\n",
              "      <td>NaN</td>\n",
              "      <td>NaN</td>\n",
              "      <td>NaN</td>\n",
              "      <td>NaN</td>\n",
              "      <td>NaN</td>\n",
              "      <td>NaN</td>\n",
              "      <td>NaN</td>\n",
              "      <td>NaN</td>\n",
              "      <td>NaN</td>\n",
              "      <td>NaN</td>\n",
              "      <td>NaN</td>\n",
              "      <td>NaN</td>\n",
              "      <td>NaN</td>\n",
              "      <td>NaN</td>\n",
              "      <td>NaN</td>\n",
              "      <td>NaN</td>\n",
              "      <td>NaN</td>\n",
              "      <td>NaN</td>\n",
              "      <td>NaN</td>\n",
              "      <td>NaN</td>\n",
              "      <td>NaN</td>\n",
              "      <td>NaN</td>\n",
              "      <td>NaN</td>\n",
              "      <td>NaN</td>\n",
              "      <td>NaN</td>\n",
              "      <td>NaN</td>\n",
              "      <td>NaN</td>\n",
              "      <td>NaN</td>\n",
              "      <td>NaN</td>\n",
              "      <td>NaN</td>\n",
              "      <td>NaN</td>\n",
              "      <td>NaN</td>\n",
              "      <td>NaN</td>\n",
              "      <td>NaN</td>\n",
              "      <td>NaN</td>\n",
              "      <td>NaN</td>\n",
              "      <td>NaN</td>\n",
              "      <td>NaN</td>\n",
              "      <td>NaN</td>\n",
              "      <td>NaN</td>\n",
              "      <td>NaN</td>\n",
              "      <td>NaN</td>\n",
              "      <td>NaN</td>\n",
              "      <td>NaN</td>\n",
              "      <td>NaN</td>\n",
              "      <td>NaN</td>\n",
              "      <td>NaN</td>\n",
              "      <td>NaN</td>\n",
              "      <td>NaN</td>\n",
              "      <td>NaN</td>\n",
              "      <td>NaN</td>\n",
              "      <td>NaN</td>\n",
              "      <td>NaN</td>\n",
              "      <td>NaN</td>\n",
              "      <td>NaN</td>\n",
              "      <td>NaN</td>\n",
              "      <td>NaN</td>\n",
              "      <td>NaN</td>\n",
              "      <td>NaN</td>\n",
              "      <td>NaN</td>\n",
              "      <td>NaN</td>\n",
              "      <td>NaN</td>\n",
              "      <td>NaN</td>\n",
              "      <td>NaN</td>\n",
              "      <td>NaN</td>\n",
              "      <td>1.0</td>\n",
              "      <td>28.0</td>\n",
              "      <td>0.0</td>\n",
              "      <td>0.0</td>\n",
              "      <td>0.0</td>\n",
              "      <td>0.0</td>\n",
              "      <td>10.0</td>\n",
              "      <td>0.0</td>\n",
              "      <td>4.0</td>\n",
              "      <td>0.0</td>\n",
              "      <td>0.0</td>\n",
              "      <td>1.0</td>\n",
              "      <td>1.0</td>\n",
              "      <td>1.0</td>\n",
              "      <td>1.0</td>\n",
              "      <td>38.0</td>\n",
              "      <td>24.0</td>\n",
              "      <td>0.0</td>\n",
              "      <td>0.0</td>\n",
              "      <td>0.0</td>\n",
              "      <td>0.0</td>\n",
              "      <td>0.0</td>\n",
              "      <td>0.0</td>\n",
              "      <td>0.0</td>\n",
              "      <td>0.0</td>\n",
              "      <td>0.0</td>\n",
              "      <td>1.0</td>\n",
              "      <td>50.0</td>\n",
              "      <td>1758.0</td>\n",
              "      <td>925.0</td>\n",
              "      <td>0.0</td>\n",
              "      <td>354.0</td>\n",
              "      <td>0.0</td>\n",
              "      <td>135.0</td>\n",
              "      <td>0.0</td>\n",
              "      <td>0.0</td>\n",
              "      <td>0.0</td>\n",
              "      <td>50.0</td>\n",
              "      <td>1404.0</td>\n",
              "      <td>790.0</td>\n",
              "      <td>0.0</td>\n",
              "      <td>0.0</td>\n",
              "      <td>0.0</td>\n",
              "      <td>NaN</td>\n",
              "      <td>NaN</td>\n",
              "      <td>NaN</td>\n",
              "      <td>NaN</td>\n",
              "      <td>NaN</td>\n",
              "      <td>NaN</td>\n",
              "      <td>NaN</td>\n",
              "      <td>NaN</td>\n",
              "      <td>NaN</td>\n",
              "      <td>NaN</td>\n",
              "      <td>NaN</td>\n",
              "      <td>NaN</td>\n",
              "      <td>NaN</td>\n",
              "      <td>NaN</td>\n",
              "      <td>NaN</td>\n",
              "      <td>NaN</td>\n",
              "      <td>NaN</td>\n",
              "      <td>NaN</td>\n",
              "    </tr>\n",
              "    <tr>\n",
              "      <th>4</th>\n",
              "      <td>2987004</td>\n",
              "      <td>0</td>\n",
              "      <td>86506</td>\n",
              "      <td>50.0</td>\n",
              "      <td>H</td>\n",
              "      <td>4497</td>\n",
              "      <td>514.0</td>\n",
              "      <td>150.0</td>\n",
              "      <td>mastercard</td>\n",
              "      <td>102.0</td>\n",
              "      <td>credit</td>\n",
              "      <td>420.0</td>\n",
              "      <td>87.0</td>\n",
              "      <td>NaN</td>\n",
              "      <td>NaN</td>\n",
              "      <td>gmail.com</td>\n",
              "      <td>NaN</td>\n",
              "      <td>1.0</td>\n",
              "      <td>1.0</td>\n",
              "      <td>0.0</td>\n",
              "      <td>0.0</td>\n",
              "      <td>0.0</td>\n",
              "      <td>1.0</td>\n",
              "      <td>0.0</td>\n",
              "      <td>1.0</td>\n",
              "      <td>0.0</td>\n",
              "      <td>1.0</td>\n",
              "      <td>1.0</td>\n",
              "      <td>0.0</td>\n",
              "      <td>1.0</td>\n",
              "      <td>1.0</td>\n",
              "      <td>0.0</td>\n",
              "      <td>NaN</td>\n",
              "      <td>NaN</td>\n",
              "      <td>NaN</td>\n",
              "      <td>NaN</td>\n",
              "      <td>NaN</td>\n",
              "      <td>NaN</td>\n",
              "      <td>NaN</td>\n",
              "      <td>NaN</td>\n",
              "      <td>NaN</td>\n",
              "      <td>NaN</td>\n",
              "      <td>NaN</td>\n",
              "      <td>NaN</td>\n",
              "      <td>NaN</td>\n",
              "      <td>NaN</td>\n",
              "      <td>NaN</td>\n",
              "      <td>NaN</td>\n",
              "      <td>NaN</td>\n",
              "      <td>NaN</td>\n",
              "      <td>NaN</td>\n",
              "      <td>NaN</td>\n",
              "      <td>NaN</td>\n",
              "      <td>NaN</td>\n",
              "      <td>NaN</td>\n",
              "      <td>NaN</td>\n",
              "      <td>NaN</td>\n",
              "      <td>NaN</td>\n",
              "      <td>NaN</td>\n",
              "      <td>NaN</td>\n",
              "      <td>NaN</td>\n",
              "      <td>NaN</td>\n",
              "      <td>NaN</td>\n",
              "      <td>NaN</td>\n",
              "      <td>NaN</td>\n",
              "      <td>NaN</td>\n",
              "      <td>NaN</td>\n",
              "      <td>NaN</td>\n",
              "      <td>NaN</td>\n",
              "      <td>NaN</td>\n",
              "      <td>NaN</td>\n",
              "      <td>NaN</td>\n",
              "      <td>NaN</td>\n",
              "      <td>NaN</td>\n",
              "      <td>NaN</td>\n",
              "      <td>NaN</td>\n",
              "      <td>NaN</td>\n",
              "      <td>NaN</td>\n",
              "      <td>NaN</td>\n",
              "      <td>NaN</td>\n",
              "      <td>NaN</td>\n",
              "      <td>NaN</td>\n",
              "      <td>NaN</td>\n",
              "      <td>NaN</td>\n",
              "      <td>NaN</td>\n",
              "      <td>NaN</td>\n",
              "      <td>NaN</td>\n",
              "      <td>NaN</td>\n",
              "      <td>NaN</td>\n",
              "      <td>NaN</td>\n",
              "      <td>NaN</td>\n",
              "      <td>NaN</td>\n",
              "      <td>NaN</td>\n",
              "      <td>NaN</td>\n",
              "      <td>NaN</td>\n",
              "      <td>NaN</td>\n",
              "      <td>NaN</td>\n",
              "      <td>NaN</td>\n",
              "      <td>NaN</td>\n",
              "      <td>NaN</td>\n",
              "      <td>NaN</td>\n",
              "      <td>NaN</td>\n",
              "      <td>NaN</td>\n",
              "      <td>NaN</td>\n",
              "      <td>NaN</td>\n",
              "      <td>NaN</td>\n",
              "      <td>NaN</td>\n",
              "      <td>NaN</td>\n",
              "      <td>NaN</td>\n",
              "      <td>NaN</td>\n",
              "      <td>NaN</td>\n",
              "      <td>NaN</td>\n",
              "      <td>NaN</td>\n",
              "      <td>NaN</td>\n",
              "      <td>NaN</td>\n",
              "      <td>NaN</td>\n",
              "      <td>NaN</td>\n",
              "      <td>NaN</td>\n",
              "      <td>NaN</td>\n",
              "      <td>NaN</td>\n",
              "      <td>NaN</td>\n",
              "      <td>NaN</td>\n",
              "      <td>NaN</td>\n",
              "      <td>NaN</td>\n",
              "      <td>NaN</td>\n",
              "      <td>NaN</td>\n",
              "      <td>NaN</td>\n",
              "      <td>NaN</td>\n",
              "      <td>NaN</td>\n",
              "      <td>NaN</td>\n",
              "      <td>NaN</td>\n",
              "      <td>NaN</td>\n",
              "      <td>NaN</td>\n",
              "      <td>NaN</td>\n",
              "      <td>NaN</td>\n",
              "      <td>NaN</td>\n",
              "      <td>NaN</td>\n",
              "      <td>NaN</td>\n",
              "      <td>NaN</td>\n",
              "      <td>NaN</td>\n",
              "      <td>NaN</td>\n",
              "      <td>NaN</td>\n",
              "      <td>NaN</td>\n",
              "      <td>NaN</td>\n",
              "      <td>NaN</td>\n",
              "      <td>NaN</td>\n",
              "      <td>NaN</td>\n",
              "      <td>NaN</td>\n",
              "      <td>NaN</td>\n",
              "      <td>0.0</td>\n",
              "      <td>0.0</td>\n",
              "      <td>0.0</td>\n",
              "      <td>0.0</td>\n",
              "      <td>0.0</td>\n",
              "      <td>0.0</td>\n",
              "      <td>0.0</td>\n",
              "      <td>0.0</td>\n",
              "      <td>0.0</td>\n",
              "      <td>0.0</td>\n",
              "      <td>0.0</td>\n",
              "      <td>0.0</td>\n",
              "      <td>1.0</td>\n",
              "      <td>1.0</td>\n",
              "      <td>1.0</td>\n",
              "      <td>1.0</td>\n",
              "      <td>1.0</td>\n",
              "      <td>1.0</td>\n",
              "      <td>1.0</td>\n",
              "      <td>1.0</td>\n",
              "      <td>1.0</td>\n",
              "      <td>1.0</td>\n",
              "      <td>1.0</td>\n",
              "      <td>1.0</td>\n",
              "      <td>1.0</td>\n",
              "      <td>1.0</td>\n",
              "      <td>1.0</td>\n",
              "      <td>1.0</td>\n",
              "      <td>1.0</td>\n",
              "      <td>1.0</td>\n",
              "      <td>1.0</td>\n",
              "      <td>0.0</td>\n",
              "      <td>0.0</td>\n",
              "      <td>0.0</td>\n",
              "      <td>0.0</td>\n",
              "      <td>0.0</td>\n",
              "      <td>0.0</td>\n",
              "      <td>0.0</td>\n",
              "      <td>0.0</td>\n",
              "      <td>0.0</td>\n",
              "      <td>0.0</td>\n",
              "      <td>0.0</td>\n",
              "      <td>0.0</td>\n",
              "      <td>0.0</td>\n",
              "      <td>0.0</td>\n",
              "      <td>0.0</td>\n",
              "      <td>0.0</td>\n",
              "      <td>0.0</td>\n",
              "      <td>6.0</td>\n",
              "      <td>18.0</td>\n",
              "      <td>140.0</td>\n",
              "      <td>0.0</td>\n",
              "      <td>0.0</td>\n",
              "      <td>0.0</td>\n",
              "      <td>0.0</td>\n",
              "      <td>1803.0</td>\n",
              "      <td>49.0</td>\n",
              "      <td>64.0</td>\n",
              "      <td>0.0</td>\n",
              "      <td>0.0</td>\n",
              "      <td>0.0</td>\n",
              "      <td>0.0</td>\n",
              "      <td>0.0</td>\n",
              "      <td>0.0</td>\n",
              "      <td>15557.990234</td>\n",
              "      <td>169690.796875</td>\n",
              "      <td>0.0</td>\n",
              "      <td>0.0</td>\n",
              "      <td>0.0</td>\n",
              "      <td>515.0</td>\n",
              "      <td>5155.0</td>\n",
              "      <td>2840.0</td>\n",
              "      <td>0.0</td>\n",
              "      <td>0.0</td>\n",
              "      <td>0.0</td>\n",
              "      <td>1.0</td>\n",
              "      <td>1.0</td>\n",
              "      <td>0.0</td>\n",
              "      <td>0.0</td>\n",
              "      <td>0.0</td>\n",
              "      <td>0.0</td>\n",
              "      <td>1.0</td>\n",
              "      <td>0.0</td>\n",
              "      <td>0.0</td>\n",
              "      <td>0.0</td>\n",
              "      <td>0.0</td>\n",
              "      <td>0.0</td>\n",
              "      <td>0.0</td>\n",
              "      <td>0.0</td>\n",
              "      <td>0.0</td>\n",
              "      <td>0.0</td>\n",
              "      <td>1.0</td>\n",
              "      <td>1.0</td>\n",
              "      <td>1.0</td>\n",
              "      <td>1.0</td>\n",
              "      <td>1.0</td>\n",
              "      <td>1.0</td>\n",
              "      <td>1.0</td>\n",
              "      <td>1.0</td>\n",
              "      <td>1.0</td>\n",
              "      <td>1.0</td>\n",
              "      <td>1.0</td>\n",
              "      <td>1.0</td>\n",
              "      <td>1.0</td>\n",
              "      <td>1.0</td>\n",
              "      <td>1.0</td>\n",
              "      <td>1.0</td>\n",
              "      <td>0.0</td>\n",
              "      <td>0.0</td>\n",
              "      <td>0.0</td>\n",
              "      <td>0.0</td>\n",
              "      <td>0.0</td>\n",
              "      <td>0.0</td>\n",
              "      <td>0.0</td>\n",
              "      <td>0.0</td>\n",
              "      <td>0.0</td>\n",
              "      <td>0.0</td>\n",
              "      <td>0.0</td>\n",
              "      <td>0.0</td>\n",
              "      <td>0.0</td>\n",
              "      <td>0.0</td>\n",
              "      <td>0.0</td>\n",
              "      <td>0.0</td>\n",
              "      <td>0.0</td>\n",
              "      <td>0.0</td>\n",
              "      <td>0.0</td>\n",
              "      <td>1.0</td>\n",
              "      <td>1.0</td>\n",
              "      <td>0.0</td>\n",
              "      <td>0.0</td>\n",
              "      <td>0.0</td>\n",
              "      <td>0.0</td>\n",
              "      <td>0.0</td>\n",
              "      <td>1.0</td>\n",
              "      <td>1.0</td>\n",
              "      <td>1.0</td>\n",
              "      <td>0.0</td>\n",
              "      <td>0.0</td>\n",
              "      <td>0.0</td>\n",
              "      <td>0.0</td>\n",
              "      <td>0.0</td>\n",
              "      <td>0.0</td>\n",
              "      <td>0.0</td>\n",
              "      <td>0.0</td>\n",
              "      <td>0.0</td>\n",
              "      <td>1.0</td>\n",
              "      <td>1.0</td>\n",
              "      <td>1.0</td>\n",
              "      <td>1.0</td>\n",
              "      <td>1.0</td>\n",
              "      <td>1.0</td>\n",
              "      <td>1.0</td>\n",
              "      <td>1.0</td>\n",
              "      <td>1.0</td>\n",
              "      <td>1.0</td>\n",
              "      <td>1.0</td>\n",
              "      <td>1.0</td>\n",
              "      <td>1.0</td>\n",
              "      <td>1.0</td>\n",
              "      <td>1.0</td>\n",
              "      <td>1.0</td>\n",
              "      <td>1.0</td>\n",
              "      <td>1.0</td>\n",
              "      <td>1.0</td>\n",
              "      <td>1.0</td>\n",
              "      <td>1.0</td>\n",
              "      <td>1.0</td>\n",
              "      <td>1.0</td>\n",
              "      <td>0.0</td>\n",
              "      <td>0.0</td>\n",
              "      <td>0.0</td>\n",
              "      <td>0.0</td>\n",
              "      <td>0.0</td>\n",
              "      <td>0.0</td>\n",
              "      <td>0.0</td>\n",
              "      <td>0.0</td>\n",
              "      <td>0.0</td>\n",
              "      <td>0.0</td>\n",
              "      <td>0.0</td>\n",
              "      <td>0.0</td>\n",
              "      <td>0.0</td>\n",
              "      <td>0.0</td>\n",
              "      <td>0.0</td>\n",
              "      <td>0.0</td>\n",
              "      <td>0.0</td>\n",
              "      <td>0.0</td>\n",
              "      <td>0.0</td>\n",
              "      <td>1.0</td>\n",
              "      <td>1.0</td>\n",
              "      <td>0.0</td>\n",
              "      <td>0.0</td>\n",
              "      <td>0.0</td>\n",
              "      <td>0.0</td>\n",
              "      <td>0.0</td>\n",
              "      <td>0.0</td>\n",
              "      <td>1.0</td>\n",
              "      <td>1.0</td>\n",
              "      <td>1.0</td>\n",
              "      <td>0.0</td>\n",
              "      <td>0.0</td>\n",
              "      <td>0.0</td>\n",
              "      <td>0.0</td>\n",
              "      <td>0.0</td>\n",
              "      <td>0.0</td>\n",
              "      <td>0.0</td>\n",
              "      <td>0.0</td>\n",
              "      <td>0.0</td>\n",
              "      <td>1.0</td>\n",
              "      <td>1.0</td>\n",
              "      <td>1.0</td>\n",
              "      <td>1.0</td>\n",
              "      <td>0.0</td>\n",
              "      <td>0.0</td>\n",
              "      <td>0.0</td>\n",
              "      <td>0.0</td>\n",
              "      <td>0.0</td>\n",
              "      <td>0.0</td>\n",
              "      <td>0.0</td>\n",
              "      <td>0.0</td>\n",
              "      <td>0.0</td>\n",
              "      <td>0.0</td>\n",
              "      <td>0.0</td>\n",
              "      <td>0.0</td>\n",
              "      <td>0.0</td>\n",
              "      <td>0.0</td>\n",
              "      <td>0.0</td>\n",
              "      <td>0.0</td>\n",
              "      <td>0.0</td>\n",
              "      <td>0.0</td>\n",
              "      <td>0.0</td>\n",
              "      <td>0.0</td>\n",
              "      <td>0.0</td>\n",
              "      <td>0.0</td>\n",
              "      <td>0.0</td>\n",
              "      <td>0.0</td>\n",
              "      <td>0.0</td>\n",
              "      <td>0.0</td>\n",
              "      <td>0.0</td>\n",
              "      <td>0.0</td>\n",
              "      <td>0.0</td>\n",
              "      <td>0.0</td>\n",
              "      <td>0.0</td>\n",
              "      <td>0.0</td>\n",
              "      <td>0.0</td>\n",
              "      <td>0.0</td>\n",
              "    </tr>\n",
              "  </tbody>\n",
              "</table>\n",
              "</div>\n",
              "    <div class=\"colab-df-buttons\">\n",
              "\n",
              "  <div class=\"colab-df-container\">\n",
              "    <button class=\"colab-df-convert\" onclick=\"convertToInteractive('df-c09bf53d-b078-4ab3-bb31-205c95effa21')\"\n",
              "            title=\"Convert this dataframe to an interactive table.\"\n",
              "            style=\"display:none;\">\n",
              "\n",
              "  <svg xmlns=\"http://www.w3.org/2000/svg\" height=\"24px\" viewBox=\"0 -960 960 960\">\n",
              "    <path d=\"M120-120v-720h720v720H120Zm60-500h600v-160H180v160Zm220 220h160v-160H400v160Zm0 220h160v-160H400v160ZM180-400h160v-160H180v160Zm440 0h160v-160H620v160ZM180-180h160v-160H180v160Zm440 0h160v-160H620v160Z\"/>\n",
              "  </svg>\n",
              "    </button>\n",
              "\n",
              "  <style>\n",
              "    .colab-df-container {\n",
              "      display:flex;\n",
              "      gap: 12px;\n",
              "    }\n",
              "\n",
              "    .colab-df-convert {\n",
              "      background-color: #E8F0FE;\n",
              "      border: none;\n",
              "      border-radius: 50%;\n",
              "      cursor: pointer;\n",
              "      display: none;\n",
              "      fill: #1967D2;\n",
              "      height: 32px;\n",
              "      padding: 0 0 0 0;\n",
              "      width: 32px;\n",
              "    }\n",
              "\n",
              "    .colab-df-convert:hover {\n",
              "      background-color: #E2EBFA;\n",
              "      box-shadow: 0px 1px 2px rgba(60, 64, 67, 0.3), 0px 1px 3px 1px rgba(60, 64, 67, 0.15);\n",
              "      fill: #174EA6;\n",
              "    }\n",
              "\n",
              "    .colab-df-buttons div {\n",
              "      margin-bottom: 4px;\n",
              "    }\n",
              "\n",
              "    [theme=dark] .colab-df-convert {\n",
              "      background-color: #3B4455;\n",
              "      fill: #D2E3FC;\n",
              "    }\n",
              "\n",
              "    [theme=dark] .colab-df-convert:hover {\n",
              "      background-color: #434B5C;\n",
              "      box-shadow: 0px 1px 3px 1px rgba(0, 0, 0, 0.15);\n",
              "      filter: drop-shadow(0px 1px 2px rgba(0, 0, 0, 0.3));\n",
              "      fill: #FFFFFF;\n",
              "    }\n",
              "  </style>\n",
              "\n",
              "    <script>\n",
              "      const buttonEl =\n",
              "        document.querySelector('#df-c09bf53d-b078-4ab3-bb31-205c95effa21 button.colab-df-convert');\n",
              "      buttonEl.style.display =\n",
              "        google.colab.kernel.accessAllowed ? 'block' : 'none';\n",
              "\n",
              "      async function convertToInteractive(key) {\n",
              "        const element = document.querySelector('#df-c09bf53d-b078-4ab3-bb31-205c95effa21');\n",
              "        const dataTable =\n",
              "          await google.colab.kernel.invokeFunction('convertToInteractive',\n",
              "                                                    [key], {});\n",
              "        if (!dataTable) return;\n",
              "\n",
              "        const docLinkHtml = 'Like what you see? Visit the ' +\n",
              "          '<a target=\"_blank\" href=https://colab.research.google.com/notebooks/data_table.ipynb>data table notebook</a>'\n",
              "          + ' to learn more about interactive tables.';\n",
              "        element.innerHTML = '';\n",
              "        dataTable['output_type'] = 'display_data';\n",
              "        await google.colab.output.renderOutput(dataTable, element);\n",
              "        const docLink = document.createElement('div');\n",
              "        docLink.innerHTML = docLinkHtml;\n",
              "        element.appendChild(docLink);\n",
              "      }\n",
              "    </script>\n",
              "  </div>\n",
              "\n",
              "\n",
              "<div id=\"df-ccda7785-e5cc-4a60-89fa-c494c14123f4\">\n",
              "  <button class=\"colab-df-quickchart\" onclick=\"quickchart('df-ccda7785-e5cc-4a60-89fa-c494c14123f4')\"\n",
              "            title=\"Suggest charts\"\n",
              "            style=\"display:none;\">\n",
              "\n",
              "<svg xmlns=\"http://www.w3.org/2000/svg\" height=\"24px\"viewBox=\"0 0 24 24\"\n",
              "     width=\"24px\">\n",
              "    <g>\n",
              "        <path d=\"M19 3H5c-1.1 0-2 .9-2 2v14c0 1.1.9 2 2 2h14c1.1 0 2-.9 2-2V5c0-1.1-.9-2-2-2zM9 17H7v-7h2v7zm4 0h-2V7h2v10zm4 0h-2v-4h2v4z\"/>\n",
              "    </g>\n",
              "</svg>\n",
              "  </button>\n",
              "\n",
              "<style>\n",
              "  .colab-df-quickchart {\n",
              "      --bg-color: #E8F0FE;\n",
              "      --fill-color: #1967D2;\n",
              "      --hover-bg-color: #E2EBFA;\n",
              "      --hover-fill-color: #174EA6;\n",
              "      --disabled-fill-color: #AAA;\n",
              "      --disabled-bg-color: #DDD;\n",
              "  }\n",
              "\n",
              "  [theme=dark] .colab-df-quickchart {\n",
              "      --bg-color: #3B4455;\n",
              "      --fill-color: #D2E3FC;\n",
              "      --hover-bg-color: #434B5C;\n",
              "      --hover-fill-color: #FFFFFF;\n",
              "      --disabled-bg-color: #3B4455;\n",
              "      --disabled-fill-color: #666;\n",
              "  }\n",
              "\n",
              "  .colab-df-quickchart {\n",
              "    background-color: var(--bg-color);\n",
              "    border: none;\n",
              "    border-radius: 50%;\n",
              "    cursor: pointer;\n",
              "    display: none;\n",
              "    fill: var(--fill-color);\n",
              "    height: 32px;\n",
              "    padding: 0;\n",
              "    width: 32px;\n",
              "  }\n",
              "\n",
              "  .colab-df-quickchart:hover {\n",
              "    background-color: var(--hover-bg-color);\n",
              "    box-shadow: 0 1px 2px rgba(60, 64, 67, 0.3), 0 1px 3px 1px rgba(60, 64, 67, 0.15);\n",
              "    fill: var(--button-hover-fill-color);\n",
              "  }\n",
              "\n",
              "  .colab-df-quickchart-complete:disabled,\n",
              "  .colab-df-quickchart-complete:disabled:hover {\n",
              "    background-color: var(--disabled-bg-color);\n",
              "    fill: var(--disabled-fill-color);\n",
              "    box-shadow: none;\n",
              "  }\n",
              "\n",
              "  .colab-df-spinner {\n",
              "    border: 2px solid var(--fill-color);\n",
              "    border-color: transparent;\n",
              "    border-bottom-color: var(--fill-color);\n",
              "    animation:\n",
              "      spin 1s steps(1) infinite;\n",
              "  }\n",
              "\n",
              "  @keyframes spin {\n",
              "    0% {\n",
              "      border-color: transparent;\n",
              "      border-bottom-color: var(--fill-color);\n",
              "      border-left-color: var(--fill-color);\n",
              "    }\n",
              "    20% {\n",
              "      border-color: transparent;\n",
              "      border-left-color: var(--fill-color);\n",
              "      border-top-color: var(--fill-color);\n",
              "    }\n",
              "    30% {\n",
              "      border-color: transparent;\n",
              "      border-left-color: var(--fill-color);\n",
              "      border-top-color: var(--fill-color);\n",
              "      border-right-color: var(--fill-color);\n",
              "    }\n",
              "    40% {\n",
              "      border-color: transparent;\n",
              "      border-right-color: var(--fill-color);\n",
              "      border-top-color: var(--fill-color);\n",
              "    }\n",
              "    60% {\n",
              "      border-color: transparent;\n",
              "      border-right-color: var(--fill-color);\n",
              "    }\n",
              "    80% {\n",
              "      border-color: transparent;\n",
              "      border-right-color: var(--fill-color);\n",
              "      border-bottom-color: var(--fill-color);\n",
              "    }\n",
              "    90% {\n",
              "      border-color: transparent;\n",
              "      border-bottom-color: var(--fill-color);\n",
              "    }\n",
              "  }\n",
              "</style>\n",
              "\n",
              "  <script>\n",
              "    async function quickchart(key) {\n",
              "      const quickchartButtonEl =\n",
              "        document.querySelector('#' + key + ' button');\n",
              "      quickchartButtonEl.disabled = true;  // To prevent multiple clicks.\n",
              "      quickchartButtonEl.classList.add('colab-df-spinner');\n",
              "      try {\n",
              "        const charts = await google.colab.kernel.invokeFunction(\n",
              "            'suggestCharts', [key], {});\n",
              "      } catch (error) {\n",
              "        console.error('Error during call to suggestCharts:', error);\n",
              "      }\n",
              "      quickchartButtonEl.classList.remove('colab-df-spinner');\n",
              "      quickchartButtonEl.classList.add('colab-df-quickchart-complete');\n",
              "    }\n",
              "    (() => {\n",
              "      let quickchartButtonEl =\n",
              "        document.querySelector('#df-ccda7785-e5cc-4a60-89fa-c494c14123f4 button');\n",
              "      quickchartButtonEl.style.display =\n",
              "        google.colab.kernel.accessAllowed ? 'block' : 'none';\n",
              "    })();\n",
              "  </script>\n",
              "</div>\n",
              "\n",
              "    </div>\n",
              "  </div>\n"
            ]
          },
          "metadata": {},
          "execution_count": 5
        }
      ],
      "source": [
        "#Let's explore the fraud data used in this project\n",
        "pd.set_option('display.max_columns', None)\n",
        "fraudPD.head()"
      ]
    },
    {
      "cell_type": "markdown",
      "id": "c76e2aee-f7e8-4684-8a67-a1d558c1d4e9",
      "metadata": {
        "id": "c76e2aee-f7e8-4684-8a67-a1d558c1d4e9"
      },
      "source": [
        "Exploring the data's shape (number of rows and columns). The number of rows and columns seems very good for data exploration and applying ML models for classification."
      ]
    },
    {
      "cell_type": "code",
      "execution_count": null,
      "id": "c8dec061-004d-4993-8413-43ed8dce0f4f",
      "metadata": {
        "colab": {
          "base_uri": "https://localhost:8080/"
        },
        "id": "c8dec061-004d-4993-8413-43ed8dce0f4f",
        "outputId": "f72a3dc9-4738-4228-bd51-f0dbec55c263"
      },
      "outputs": [
        {
          "data": {
            "text/plain": [
              "(590540, 394)"
            ]
          },
          "execution_count": 5,
          "metadata": {},
          "output_type": "execute_result"
        }
      ],
      "source": [
        "#Let's know the shape of the data\n",
        "fraudPD.shape"
      ]
    },
    {
      "cell_type": "markdown",
      "id": "3efe4421-3ea3-4838-a2fb-036531be94be",
      "metadata": {
        "id": "3efe4421-3ea3-4838-a2fb-036531be94be"
      },
      "source": [
        "One central aspect of data exploration is checking the null values presented in the data. The next cell shows a short count of the null values given in the data. Despite a high amount of columns (394), the dataset has several columns full of null values. It is essential to determine how these null values will replace or drop to present this data for ML classification models."
      ]
    },
    {
      "cell_type": "code",
      "execution_count": null,
      "id": "f58801f2-fe63-416d-8fd6-e134712061d8",
      "metadata": {
        "colab": {
          "base_uri": "https://localhost:8080/"
        },
        "id": "f58801f2-fe63-416d-8fd6-e134712061d8",
        "outputId": "f1a7cf99-bf6b-4f3b-d462-ff3b88ffd2cc"
      },
      "outputs": [
        {
          "data": {
            "text/plain": [
              "TransactionID          0\n",
              "isFraud                0\n",
              "TransactionDT          0\n",
              "TransactionAmt         0\n",
              "ProductCD              0\n",
              "                   ...  \n",
              "V335              508189\n",
              "V336              508189\n",
              "V337              508189\n",
              "V338              508189\n",
              "V339              508189\n",
              "Length: 394, dtype: int64"
            ]
          },
          "execution_count": 6,
          "metadata": {},
          "output_type": "execute_result"
        }
      ],
      "source": [
        "#It is very important to check the amount of null values to determine how to take care of them.\n",
        "fraudPD.isna().sum()"
      ]
    },
    {
      "cell_type": "markdown",
      "id": "741e3212-5f5e-4e38-bd58-0c43aa6a7108",
      "metadata": {
        "id": "741e3212-5f5e-4e38-bd58-0c43aa6a7108"
      },
      "source": [
        "### Exploratory data analysis. <a class=\"anchor\" id=\"eda\"></a>\n",
        "[TOC](#top)"
      ]
    },
    {
      "cell_type": "markdown",
      "id": "740da63d-ec15-4af8-9205-c665cf519ee2",
      "metadata": {
        "id": "740da63d-ec15-4af8-9205-c665cf519ee2"
      },
      "source": [
        "Using data visualization methods, the following exploratory data analysis (EDA) will be employed to analyze and investigate the fraud data set and summarize its main characteristics. It will help to determine how best to manipulate data sources to get the necessary answers, making it possible to discover patterns, spot anomalies, test a hypothesis, or check assumptions.\n",
        "The EDA step will be used to see what data can reveal beyond the formal modeling or hypothesis testing task and provide a better understanding of data set variables and their relationships. It will also assist in determining if the statistical techniques you are considering for data analysis are appropriate.  \n",
        "The primary purpose of the following EDA is to help look at data before making any assumptions. It can help identify apparent errors, better understand patterns within the data, detect outliers or abnormal events, and find exciting relations among the variables. Once this EDA is complete and insights are drawn, its features can be used for ML classification modeling."
      ]
    },
    {
      "cell_type": "code",
      "execution_count": 6,
      "id": "4c777d58-09c2-4bb9-8775-29ea1c45ac86",
      "metadata": {
        "id": "4c777d58-09c2-4bb9-8775-29ea1c45ac86"
      },
      "outputs": [],
      "source": [
        "#This cell changes the timestamp datetime to a readable date format.\n",
        "fraudPD['time'] = fraudPD['TransactionDT'].apply(lambda x: datetime.fromtimestamp(x).strftime(\"%A, %B %d, %Y %I:%M:%S\"))"
      ]
    },
    {
      "cell_type": "code",
      "execution_count": 7,
      "id": "1186dbc7-dbb9-4310-9da8-3325b32ee4f1",
      "metadata": {
        "id": "1186dbc7-dbb9-4310-9da8-3325b32ee4f1"
      },
      "outputs": [],
      "source": [
        "#Let's separate the month to calculate the transaction amount by month.\n",
        "fraudPD['month'] = pd.to_datetime(fraudPD['time']).dt.strftime('%B')\n",
        "new_order = ['January', 'February', 'March', 'April', 'May', 'June', 'July'] #, 'August', 'September', 'October', 'November', 'December']\n",
        "dfMonthAmount=fraudPD[['month','TransactionAmt']].groupby('month').agg('sum').reindex(new_order, axis=0).reset_index()"
      ]
    },
    {
      "cell_type": "markdown",
      "id": "6256e38a-540e-4d3e-b7c0-7f8f8dd549af",
      "metadata": {
        "id": "6256e38a-540e-4d3e-b7c0-7f8f8dd549af"
      },
      "source": [
        "### Total amount purchase per month <a class=\"anchor\" id=\"LineGraphic\"></a>\n",
        "[TOC](#top)"
      ]
    },
    {
      "cell_type": "markdown",
      "id": "5b6ad384-6d1f-4175-a4b1-b93b1df71be7",
      "metadata": {
        "id": "5b6ad384-6d1f-4175-a4b1-b93b1df71be7"
      },
      "source": [
        "The following graphic presents the total amount purchased month by month along the six months (from January to June) in the dataset in analysis. One can see the amount purchased in January was higher than seventeen million. The amount purchased in the following months (from February to June) is similar, with around 12 million. The dataset records just a few beginning days of purchases in July."
      ]
    },
    {
      "cell_type": "code",
      "execution_count": null,
      "id": "b1061679-8b2e-44a3-b86e-032fac14ccfc",
      "metadata": {
        "colab": {
          "base_uri": "https://localhost:8080/",
          "height": 386
        },
        "id": "b1061679-8b2e-44a3-b86e-032fac14ccfc",
        "outputId": "2166901b-5428-44cd-eabc-3ceb0d044d00"
      },
      "outputs": [
        {
          "data": {
            "text/html": [
              "\n",
              "<div id=\"altair-viz-dad29ec139704c339aedb6caa2669b65\"></div>\n",
              "<script type=\"text/javascript\">\n",
              "  var VEGA_DEBUG = (typeof VEGA_DEBUG == \"undefined\") ? {} : VEGA_DEBUG;\n",
              "  (function(spec, embedOpt){\n",
              "    let outputDiv = document.currentScript.previousElementSibling;\n",
              "    if (outputDiv.id !== \"altair-viz-dad29ec139704c339aedb6caa2669b65\") {\n",
              "      outputDiv = document.getElementById(\"altair-viz-dad29ec139704c339aedb6caa2669b65\");\n",
              "    }\n",
              "    const paths = {\n",
              "      \"vega\": \"https://cdn.jsdelivr.net/npm//vega@5?noext\",\n",
              "      \"vega-lib\": \"https://cdn.jsdelivr.net/npm//vega-lib?noext\",\n",
              "      \"vega-lite\": \"https://cdn.jsdelivr.net/npm//vega-lite@4.17.0?noext\",\n",
              "      \"vega-embed\": \"https://cdn.jsdelivr.net/npm//vega-embed@6?noext\",\n",
              "    };\n",
              "\n",
              "    function maybeLoadScript(lib, version) {\n",
              "      var key = `${lib.replace(\"-\", \"\")}_version`;\n",
              "      return (VEGA_DEBUG[key] == version) ?\n",
              "        Promise.resolve(paths[lib]) :\n",
              "        new Promise(function(resolve, reject) {\n",
              "          var s = document.createElement('script');\n",
              "          document.getElementsByTagName(\"head\")[0].appendChild(s);\n",
              "          s.async = true;\n",
              "          s.onload = () => {\n",
              "            VEGA_DEBUG[key] = version;\n",
              "            return resolve(paths[lib]);\n",
              "          };\n",
              "          s.onerror = () => reject(`Error loading script: ${paths[lib]}`);\n",
              "          s.src = paths[lib];\n",
              "        });\n",
              "    }\n",
              "\n",
              "    function showError(err) {\n",
              "      outputDiv.innerHTML = `<div class=\"error\" style=\"color:red;\">${err}</div>`;\n",
              "      throw err;\n",
              "    }\n",
              "\n",
              "    function displayChart(vegaEmbed) {\n",
              "      vegaEmbed(outputDiv, spec, embedOpt)\n",
              "        .catch(err => showError(`Javascript Error: ${err.message}<br>This usually means there's a typo in your chart specification. See the javascript console for the full traceback.`));\n",
              "    }\n",
              "\n",
              "    if(typeof define === \"function\" && define.amd) {\n",
              "      requirejs.config({paths});\n",
              "      require([\"vega-embed\"], displayChart, err => showError(`Error loading script: ${err.message}`));\n",
              "    } else {\n",
              "      maybeLoadScript(\"vega\", \"5\")\n",
              "        .then(() => maybeLoadScript(\"vega-lite\", \"4.17.0\"))\n",
              "        .then(() => maybeLoadScript(\"vega-embed\", \"6\"))\n",
              "        .catch(showError)\n",
              "        .then(() => displayChart(vegaEmbed));\n",
              "    }\n",
              "  })({\"config\": {\"view\": {\"continuousWidth\": 400, \"continuousHeight\": 300}}, \"layer\": [{\"mark\": {\"type\": \"line\", \"point\": {\"filled\": false, \"fill\": \"white\"}}, \"encoding\": {\"x\": {\"axis\": {\"labelAngle\": 0}, \"field\": \"month\", \"sort\": [\"January\", \"February\", \"March\", \"April\", \"May\", \"June\", \"July\"], \"title\": \"Month\", \"type\": \"nominal\"}, \"y\": {\"field\": \"TransactionAmt\", \"title\": \"Amount\", \"type\": \"quantitative\"}}}, {\"mark\": {\"type\": \"text\", \"align\": \"center\", \"dx\": 0, \"dy\": -10}, \"encoding\": {\"text\": {\"field\": \"TransactionAmt\", \"format\": \",.0f\", \"type\": \"quantitative\"}, \"x\": {\"axis\": {\"labelAngle\": 0}, \"field\": \"month\", \"sort\": [\"January\", \"February\", \"March\", \"April\", \"May\", \"June\", \"July\"], \"title\": \"Month\", \"type\": \"nominal\"}, \"y\": {\"field\": \"TransactionAmt\", \"title\": \"Amount\", \"type\": \"quantitative\"}}}], \"data\": {\"name\": \"data-06c9f0ff2ceb7e3540f88479b4abd079\"}, \"height\": 300, \"title\": \"Total amount purchased per month\", \"width\": 600, \"$schema\": \"https://vega.github.io/schema/vega-lite/v4.17.0.json\", \"datasets\": {\"data-06c9f0ff2ceb7e3540f88479b4abd079\": [{\"month\": \"January\", \"TransactionAmt\": 17324087.178}, {\"month\": \"February\", \"TransactionAmt\": 11249908.468}, {\"month\": \"March\", \"TransactionAmt\": 13073116.539}, {\"month\": \"April\", \"TransactionAmt\": 13676748.598}, {\"month\": \"May\", \"TransactionAmt\": 11754965.035}, {\"month\": \"June\", \"TransactionAmt\": 11857019.457}, {\"month\": \"July\", \"TransactionAmt\": 803103.46}]}}, {\"mode\": \"vega-lite\"});\n",
              "</script>"
            ],
            "text/plain": [
              "alt.LayerChart(...)"
            ]
          },
          "execution_count": 8,
          "metadata": {},
          "output_type": "execute_result"
        }
      ],
      "source": [
        "#A line chart can show the total amount values by month.\n",
        "line_chart=alt.Chart(dfMonthAmount).mark_line(\n",
        "    point={\"filled\": False, \"fill\": \"white\"}).encode(\n",
        "    x=alt.X('month:N', axis=alt.Axis(labelAngle=0),\n",
        "            sort=['January', 'February', 'March', 'April', 'May', 'June', 'July'],\n",
        "            title='Month'),\n",
        "    y=alt.Y('TransactionAmt:Q', title='Amount'))\n",
        "\n",
        "text_chart=line_chart.mark_text(dx=0, dy=-10, align='center').encode(text=alt.Text('TransactionAmt:Q', format=',.0f'))\n",
        "\n",
        "(line_chart + text_chart).properties(height=300, width=600, title='Total amount purchased per month')"
      ]
    },
    {
      "cell_type": "markdown",
      "id": "ed9d2163-8d0d-4813-9c9d-7e3720b3728f",
      "metadata": {
        "id": "ed9d2163-8d0d-4813-9c9d-7e3720b3728f"
      },
      "source": [
        "The line chart shows the values sold in the dataset transactions for all available data (January to the beginning of July)."
      ]
    },
    {
      "cell_type": "code",
      "execution_count": null,
      "id": "df9d470f-ab48-451f-a1df-21cd3e08c0a3",
      "metadata": {
        "id": "df9d470f-ab48-451f-a1df-21cd3e08c0a3"
      },
      "outputs": [],
      "source": [
        "#Grouping the data in fraud and non-fraud to check the data balance.\n",
        "transGroup = fraudPD[['isFraud','TransactionID']].groupby(['isFraud'], dropna=False).agg('count').reset_index()\n",
        "transGroup.columns = ['isFraud','count']"
      ]
    },
    {
      "cell_type": "markdown",
      "id": "da600f95-81e7-4ae4-b373-48e089f62ad5",
      "metadata": {
        "id": "da600f95-81e7-4ae4-b373-48e089f62ad5"
      },
      "source": [
        "### Total count of transactions <a class=\"anchor\" id=\"CountOfTransactions\"></a>\n",
        "\n",
        "[TOC](#top)"
      ]
    },
    {
      "cell_type": "markdown",
      "id": "6238acf4-658c-4c3a-93a4-950bd5dc2e10",
      "metadata": {
        "id": "6238acf4-658c-4c3a-93a4-950bd5dc2e10"
      },
      "source": [
        "One vital piece of information to visualize is the count of dataset purchases. It's a way to verify the imbalance of the data. It is one crucial aspect related to the problem of fraud detection. The fraud dataset is usually formed by a majority legitimate amount of transactions and a minority fraudulent amount of transactions. In this case, there are almost 570 thousand legitimate transactions with around 20 thousand fraudulent transactions. Transactions means purchases of products or services."
      ]
    },
    {
      "cell_type": "code",
      "execution_count": null,
      "id": "77035159-b98b-4229-b8a1-8a219fb4725d",
      "metadata": {
        "colab": {
          "base_uri": "https://localhost:8080/",
          "height": 386
        },
        "id": "77035159-b98b-4229-b8a1-8a219fb4725d",
        "outputId": "460e2fbb-771b-4799-8f7a-1740d5dc2273"
      },
      "outputs": [
        {
          "data": {
            "text/html": [
              "\n",
              "<div id=\"altair-viz-86f0918583784329b8a3c3059d6e2a1f\"></div>\n",
              "<script type=\"text/javascript\">\n",
              "  var VEGA_DEBUG = (typeof VEGA_DEBUG == \"undefined\") ? {} : VEGA_DEBUG;\n",
              "  (function(spec, embedOpt){\n",
              "    let outputDiv = document.currentScript.previousElementSibling;\n",
              "    if (outputDiv.id !== \"altair-viz-86f0918583784329b8a3c3059d6e2a1f\") {\n",
              "      outputDiv = document.getElementById(\"altair-viz-86f0918583784329b8a3c3059d6e2a1f\");\n",
              "    }\n",
              "    const paths = {\n",
              "      \"vega\": \"https://cdn.jsdelivr.net/npm//vega@5?noext\",\n",
              "      \"vega-lib\": \"https://cdn.jsdelivr.net/npm//vega-lib?noext\",\n",
              "      \"vega-lite\": \"https://cdn.jsdelivr.net/npm//vega-lite@4.17.0?noext\",\n",
              "      \"vega-embed\": \"https://cdn.jsdelivr.net/npm//vega-embed@6?noext\",\n",
              "    };\n",
              "\n",
              "    function maybeLoadScript(lib, version) {\n",
              "      var key = `${lib.replace(\"-\", \"\")}_version`;\n",
              "      return (VEGA_DEBUG[key] == version) ?\n",
              "        Promise.resolve(paths[lib]) :\n",
              "        new Promise(function(resolve, reject) {\n",
              "          var s = document.createElement('script');\n",
              "          document.getElementsByTagName(\"head\")[0].appendChild(s);\n",
              "          s.async = true;\n",
              "          s.onload = () => {\n",
              "            VEGA_DEBUG[key] = version;\n",
              "            return resolve(paths[lib]);\n",
              "          };\n",
              "          s.onerror = () => reject(`Error loading script: ${paths[lib]}`);\n",
              "          s.src = paths[lib];\n",
              "        });\n",
              "    }\n",
              "\n",
              "    function showError(err) {\n",
              "      outputDiv.innerHTML = `<div class=\"error\" style=\"color:red;\">${err}</div>`;\n",
              "      throw err;\n",
              "    }\n",
              "\n",
              "    function displayChart(vegaEmbed) {\n",
              "      vegaEmbed(outputDiv, spec, embedOpt)\n",
              "        .catch(err => showError(`Javascript Error: ${err.message}<br>This usually means there's a typo in your chart specification. See the javascript console for the full traceback.`));\n",
              "    }\n",
              "\n",
              "    if(typeof define === \"function\" && define.amd) {\n",
              "      requirejs.config({paths});\n",
              "      require([\"vega-embed\"], displayChart, err => showError(`Error loading script: ${err.message}`));\n",
              "    } else {\n",
              "      maybeLoadScript(\"vega\", \"5\")\n",
              "        .then(() => maybeLoadScript(\"vega-lite\", \"4.17.0\"))\n",
              "        .then(() => maybeLoadScript(\"vega-embed\", \"6\"))\n",
              "        .catch(showError)\n",
              "        .then(() => displayChart(vegaEmbed));\n",
              "    }\n",
              "  })({\"config\": {\"view\": {\"continuousWidth\": 400, \"continuousHeight\": 300}}, \"layer\": [{\"mark\": \"bar\", \"encoding\": {\"x\": {\"axis\": {\"labelAngle\": 0}, \"field\": \"isFraud\", \"type\": \"nominal\"}, \"y\": {\"field\": \"count\", \"title\": \"Count\", \"type\": \"quantitative\"}}}, {\"mark\": {\"type\": \"text\", \"align\": \"left\", \"baseline\": \"bottom\", \"dx\": -5}, \"encoding\": {\"text\": {\"field\": \"count\", \"type\": \"quantitative\"}, \"x\": {\"axis\": {\"labelAngle\": 0}, \"field\": \"isFraud\", \"type\": \"nominal\"}, \"y\": {\"field\": \"count\", \"title\": \"Count\", \"type\": \"quantitative\"}}}], \"data\": {\"name\": \"data-5dfd1e69997b1aad769d63f3645d6eca\"}, \"height\": 300, \"title\": \"Total count of transactions\", \"width\": 400, \"$schema\": \"https://vega.github.io/schema/vega-lite/v4.17.0.json\", \"datasets\": {\"data-5dfd1e69997b1aad769d63f3645d6eca\": [{\"isFraud\": 0, \"count\": 569877}, {\"isFraud\": 1, \"count\": 20663}]}}, {\"mode\": \"vega-lite\"});\n",
              "</script>"
            ],
            "text/plain": [
              "alt.LayerChart(...)"
            ]
          },
          "execution_count": 10,
          "metadata": {},
          "output_type": "execute_result"
        }
      ],
      "source": [
        "#Implementing a bar chart to check the data balance as fraud and non-fraud visually.\n",
        "bar_chart=alt.Chart(transGroup).mark_bar().encode(\n",
        "    alt.X('isFraud:N', axis=alt.Axis(labelAngle=0)),\n",
        "    alt.Y('count:Q', title='Count'))\n",
        "text_chart = bar_chart.mark_text(align='left', baseline='bottom', dx=-5).encode(text='count:Q')\n",
        "(bar_chart + text_chart).properties(height=300, width=400, title='Total count of transactions')"
      ]
    },
    {
      "cell_type": "markdown",
      "id": "3aa245d2-86eb-4264-963b-8fdd3bc24cda",
      "metadata": {
        "id": "3aa245d2-86eb-4264-963b-8fdd3bc24cda"
      },
      "source": [
        "The data is very unbalanced, and it must be balanced before presenting it to a machine-learning model."
      ]
    },
    {
      "cell_type": "markdown",
      "id": "49636621-02ef-4d40-893c-010ef8812fd9",
      "metadata": {
        "id": "49636621-02ef-4d40-893c-010ef8812fd9"
      },
      "source": [
        "Grouping by product code, the product for each transaction. Product isn't necessary to be a real 'product' (like one item to be added to the shopping cart). It could be any kind of service."
      ]
    },
    {
      "cell_type": "code",
      "execution_count": null,
      "id": "f096a073-9062-4280-9687-c82a81d1dfc9",
      "metadata": {
        "id": "f096a073-9062-4280-9687-c82a81d1dfc9"
      },
      "outputs": [],
      "source": [
        "productCDGroup = fraudPD[['ProductCD','TransactionID']].groupby(['ProductCD'], dropna=False).agg('count').reset_index()\n",
        "productCDGroup.columns = ['ProductCD','count']"
      ]
    },
    {
      "cell_type": "markdown",
      "id": "9fe86776-a7c3-4dcd-b6d1-cdb3eba79672",
      "metadata": {
        "id": "9fe86776-a7c3-4dcd-b6d1-cdb3eba79672"
      },
      "source": [
        "### Product transaction distribution <a class=\"anchor\" id=\"ProductDistribution\"></a>\n",
        "\n",
        "[TOC](#top)"
      ]
    },
    {
      "cell_type": "markdown",
      "id": "09b18cb6-05dc-4a9e-b855-e83356ddc0f6",
      "metadata": {
        "id": "09b18cb6-05dc-4a9e-b855-e83356ddc0f6"
      },
      "source": [
        "Another exciting piece of information is about the count of products purchased. The dataset has just five products purchased. According to the information in the Kaggle, this field stores some product codes (C, H, R, S, and W). Those are the products of each transaction. The product doesn't necessarily have to be genuine (like one item to be added to the shopping cart). It could be any service. One can verify that product code W has the highest number of purchases, with almost 440 thousand. The other four products have lower than 70 thousand counts purchased."
      ]
    },
    {
      "cell_type": "code",
      "execution_count": null,
      "id": "6b66fb73-9c30-41d4-a0ab-c8d00ca3f3c7",
      "metadata": {
        "colab": {
          "base_uri": "https://localhost:8080/",
          "height": 386
        },
        "id": "6b66fb73-9c30-41d4-a0ab-c8d00ca3f3c7",
        "outputId": "4afcca6d-60b1-480e-d778-0ceb6ac8b8f1"
      },
      "outputs": [
        {
          "data": {
            "text/html": [
              "\n",
              "<div id=\"altair-viz-984226bcc8d6405688f6cbfc5f6e9a72\"></div>\n",
              "<script type=\"text/javascript\">\n",
              "  var VEGA_DEBUG = (typeof VEGA_DEBUG == \"undefined\") ? {} : VEGA_DEBUG;\n",
              "  (function(spec, embedOpt){\n",
              "    let outputDiv = document.currentScript.previousElementSibling;\n",
              "    if (outputDiv.id !== \"altair-viz-984226bcc8d6405688f6cbfc5f6e9a72\") {\n",
              "      outputDiv = document.getElementById(\"altair-viz-984226bcc8d6405688f6cbfc5f6e9a72\");\n",
              "    }\n",
              "    const paths = {\n",
              "      \"vega\": \"https://cdn.jsdelivr.net/npm//vega@5?noext\",\n",
              "      \"vega-lib\": \"https://cdn.jsdelivr.net/npm//vega-lib?noext\",\n",
              "      \"vega-lite\": \"https://cdn.jsdelivr.net/npm//vega-lite@4.17.0?noext\",\n",
              "      \"vega-embed\": \"https://cdn.jsdelivr.net/npm//vega-embed@6?noext\",\n",
              "    };\n",
              "\n",
              "    function maybeLoadScript(lib, version) {\n",
              "      var key = `${lib.replace(\"-\", \"\")}_version`;\n",
              "      return (VEGA_DEBUG[key] == version) ?\n",
              "        Promise.resolve(paths[lib]) :\n",
              "        new Promise(function(resolve, reject) {\n",
              "          var s = document.createElement('script');\n",
              "          document.getElementsByTagName(\"head\")[0].appendChild(s);\n",
              "          s.async = true;\n",
              "          s.onload = () => {\n",
              "            VEGA_DEBUG[key] = version;\n",
              "            return resolve(paths[lib]);\n",
              "          };\n",
              "          s.onerror = () => reject(`Error loading script: ${paths[lib]}`);\n",
              "          s.src = paths[lib];\n",
              "        });\n",
              "    }\n",
              "\n",
              "    function showError(err) {\n",
              "      outputDiv.innerHTML = `<div class=\"error\" style=\"color:red;\">${err}</div>`;\n",
              "      throw err;\n",
              "    }\n",
              "\n",
              "    function displayChart(vegaEmbed) {\n",
              "      vegaEmbed(outputDiv, spec, embedOpt)\n",
              "        .catch(err => showError(`Javascript Error: ${err.message}<br>This usually means there's a typo in your chart specification. See the javascript console for the full traceback.`));\n",
              "    }\n",
              "\n",
              "    if(typeof define === \"function\" && define.amd) {\n",
              "      requirejs.config({paths});\n",
              "      require([\"vega-embed\"], displayChart, err => showError(`Error loading script: ${err.message}`));\n",
              "    } else {\n",
              "      maybeLoadScript(\"vega\", \"5\")\n",
              "        .then(() => maybeLoadScript(\"vega-lite\", \"4.17.0\"))\n",
              "        .then(() => maybeLoadScript(\"vega-embed\", \"6\"))\n",
              "        .catch(showError)\n",
              "        .then(() => displayChart(vegaEmbed));\n",
              "    }\n",
              "  })({\"config\": {\"view\": {\"continuousWidth\": 400, \"continuousHeight\": 300}}, \"layer\": [{\"mark\": \"bar\", \"encoding\": {\"x\": {\"axis\": {\"labelAngle\": 0}, \"field\": \"ProductCD\", \"title\": \"Product or service\", \"type\": \"nominal\"}, \"y\": {\"field\": \"count\", \"title\": \"Count\", \"type\": \"quantitative\"}}}, {\"mark\": {\"type\": \"text\", \"align\": \"left\", \"baseline\": \"bottom\", \"dx\": -15}, \"encoding\": {\"text\": {\"field\": \"count\", \"type\": \"quantitative\"}, \"x\": {\"axis\": {\"labelAngle\": 0}, \"field\": \"ProductCD\", \"title\": \"Product or service\", \"type\": \"nominal\"}, \"y\": {\"field\": \"count\", \"title\": \"Count\", \"type\": \"quantitative\"}}}], \"data\": {\"name\": \"data-a4036a22c99244326afa9263dbb65a0d\"}, \"height\": 300, \"title\": \"Product or service transactions distribution\", \"width\": 400, \"$schema\": \"https://vega.github.io/schema/vega-lite/v4.17.0.json\", \"datasets\": {\"data-a4036a22c99244326afa9263dbb65a0d\": [{\"ProductCD\": \"C\", \"count\": 68519}, {\"ProductCD\": \"H\", \"count\": 33024}, {\"ProductCD\": \"R\", \"count\": 37699}, {\"ProductCD\": \"S\", \"count\": 11628}, {\"ProductCD\": \"W\", \"count\": 439670}]}}, {\"mode\": \"vega-lite\"});\n",
              "</script>"
            ],
            "text/plain": [
              "alt.LayerChart(...)"
            ]
          },
          "execution_count": 12,
          "metadata": {},
          "output_type": "execute_result"
        }
      ],
      "source": [
        "bar_chart=alt.Chart(productCDGroup).mark_bar().encode(\n",
        "    alt.X('ProductCD:N', axis=alt.Axis(labelAngle=0), title='Product or service'),\n",
        "    alt.Y('count:Q', title='Count'))\n",
        "text_chart = bar_chart.mark_text(align='left', baseline='bottom', dx=-15).encode(text='count:Q')\n",
        "(bar_chart + text_chart).properties(height=300, width=400, title='Product or service transactions distribution')"
      ]
    },
    {
      "cell_type": "markdown",
      "id": "427ab721-ae74-4fe8-b8f0-aa17d2cf71c3",
      "metadata": {
        "id": "427ab721-ae74-4fe8-b8f0-aa17d2cf71c3"
      },
      "source": [
        "The bar chart illustrates the dataset distribution of product types."
      ]
    },
    {
      "cell_type": "code",
      "execution_count": null,
      "id": "1637bcaf-2d36-4dbe-954a-d6d8871d1e23",
      "metadata": {
        "id": "1637bcaf-2d36-4dbe-954a-d6d8871d1e23"
      },
      "outputs": [],
      "source": [
        "#Grouping the data according to the card types.\n",
        "card4Group = fraudPD[['card4','TransactionID']].groupby(['card4'], dropna=False).agg('count').reset_index()\n",
        "card4Group.columns = ['card4','count']"
      ]
    },
    {
      "cell_type": "markdown",
      "id": "847bfe9d-1a62-40f7-af2b-beda8e0038f4",
      "metadata": {
        "id": "847bfe9d-1a62-40f7-af2b-beda8e0038f4",
        "tags": []
      },
      "source": [
        "### Cards brands distribution <a class=\"anchor\" id=\"BrandsDistribution\"></a>\n",
        "\n",
        "[TOC](#top)"
      ]
    },
    {
      "cell_type": "markdown",
      "id": "ed8d067a-db72-41cc-92af-7db9296bb45d",
      "metadata": {
        "id": "ed8d067a-db72-41cc-92af-7db9296bb45d"
      },
      "source": [
        "One can see how the data is distributed regarding the card brands. The dataset has four brands: American Express, Discover, Mastercard and Visa. It is possible to verify the Visa brand's dominance of purchases, with almost 400 thousand purchases. The Mastercard brand follows it with nearly 190 thousand purchases. American Express has around 8 thousand purchases, and Discover has over 6 thousand."
      ]
    },
    {
      "cell_type": "code",
      "execution_count": null,
      "id": "655f0e2e-cfaf-409e-a2f9-df54cd8958e3",
      "metadata": {
        "colab": {
          "base_uri": "https://localhost:8080/",
          "height": 331
        },
        "id": "655f0e2e-cfaf-409e-a2f9-df54cd8958e3",
        "outputId": "7a174847-a6b7-4a8a-bb62-77dd306b9779"
      },
      "outputs": [
        {
          "data": {
            "text/html": [
              "\n",
              "<div id=\"altair-viz-910f81a1b5544116b2505056e45ab80e\"></div>\n",
              "<script type=\"text/javascript\">\n",
              "  var VEGA_DEBUG = (typeof VEGA_DEBUG == \"undefined\") ? {} : VEGA_DEBUG;\n",
              "  (function(spec, embedOpt){\n",
              "    let outputDiv = document.currentScript.previousElementSibling;\n",
              "    if (outputDiv.id !== \"altair-viz-910f81a1b5544116b2505056e45ab80e\") {\n",
              "      outputDiv = document.getElementById(\"altair-viz-910f81a1b5544116b2505056e45ab80e\");\n",
              "    }\n",
              "    const paths = {\n",
              "      \"vega\": \"https://cdn.jsdelivr.net/npm//vega@5?noext\",\n",
              "      \"vega-lib\": \"https://cdn.jsdelivr.net/npm//vega-lib?noext\",\n",
              "      \"vega-lite\": \"https://cdn.jsdelivr.net/npm//vega-lite@4.17.0?noext\",\n",
              "      \"vega-embed\": \"https://cdn.jsdelivr.net/npm//vega-embed@6?noext\",\n",
              "    };\n",
              "\n",
              "    function maybeLoadScript(lib, version) {\n",
              "      var key = `${lib.replace(\"-\", \"\")}_version`;\n",
              "      return (VEGA_DEBUG[key] == version) ?\n",
              "        Promise.resolve(paths[lib]) :\n",
              "        new Promise(function(resolve, reject) {\n",
              "          var s = document.createElement('script');\n",
              "          document.getElementsByTagName(\"head\")[0].appendChild(s);\n",
              "          s.async = true;\n",
              "          s.onload = () => {\n",
              "            VEGA_DEBUG[key] = version;\n",
              "            return resolve(paths[lib]);\n",
              "          };\n",
              "          s.onerror = () => reject(`Error loading script: ${paths[lib]}`);\n",
              "          s.src = paths[lib];\n",
              "        });\n",
              "    }\n",
              "\n",
              "    function showError(err) {\n",
              "      outputDiv.innerHTML = `<div class=\"error\" style=\"color:red;\">${err}</div>`;\n",
              "      throw err;\n",
              "    }\n",
              "\n",
              "    function displayChart(vegaEmbed) {\n",
              "      vegaEmbed(outputDiv, spec, embedOpt)\n",
              "        .catch(err => showError(`Javascript Error: ${err.message}<br>This usually means there's a typo in your chart specification. See the javascript console for the full traceback.`));\n",
              "    }\n",
              "\n",
              "    if(typeof define === \"function\" && define.amd) {\n",
              "      requirejs.config({paths});\n",
              "      require([\"vega-embed\"], displayChart, err => showError(`Error loading script: ${err.message}`));\n",
              "    } else {\n",
              "      maybeLoadScript(\"vega\", \"5\")\n",
              "        .then(() => maybeLoadScript(\"vega-lite\", \"4.17.0\"))\n",
              "        .then(() => maybeLoadScript(\"vega-embed\", \"6\"))\n",
              "        .catch(showError)\n",
              "        .then(() => displayChart(vegaEmbed));\n",
              "    }\n",
              "  })({\"config\": {\"view\": {\"continuousWidth\": 400, \"continuousHeight\": 300}}, \"layer\": [{\"mark\": {\"type\": \"bar\", \"size\": 40}, \"encoding\": {\"x\": {\"field\": \"count\", \"title\": \"Count\", \"type\": \"quantitative\"}, \"y\": {\"field\": \"card4\", \"title\": \"Card brands\", \"type\": \"nominal\"}}}, {\"mark\": {\"type\": \"text\", \"align\": \"left\", \"baseline\": \"middle\", \"dx\": 5}, \"encoding\": {\"text\": {\"field\": \"count\", \"type\": \"quantitative\"}, \"x\": {\"field\": \"count\", \"title\": \"Count\", \"type\": \"quantitative\"}, \"y\": {\"field\": \"card4\", \"title\": \"Card brands\", \"type\": \"nominal\"}}}], \"data\": {\"name\": \"data-035ce3365887a5573fc10ac4d92bdb85\"}, \"height\": {\"step\": 50}, \"title\": \"Cards brands transactions distribution\", \"width\": 600, \"$schema\": \"https://vega.github.io/schema/vega-lite/v4.17.0.json\", \"datasets\": {\"data-035ce3365887a5573fc10ac4d92bdb85\": [{\"card4\": \"american express\", \"count\": 8328}, {\"card4\": \"discover\", \"count\": 6651}, {\"card4\": \"mastercard\", \"count\": 189217}, {\"card4\": \"visa\", \"count\": 384767}, {\"card4\": null, \"count\": 1577}]}}, {\"mode\": \"vega-lite\"});\n",
              "</script>"
            ],
            "text/plain": [
              "alt.LayerChart(...)"
            ]
          },
          "execution_count": 14,
          "metadata": {},
          "output_type": "execute_result"
        }
      ],
      "source": [
        "#The bar chart presents the amount of each credit card brand used in the transactions.\n",
        "bar_chart=alt.Chart(card4Group).mark_bar(size=40).encode(\n",
        "    x=alt.X('count:Q', title='Count'),\n",
        "    y=alt.Y('card4:N', title='Card brands'))\n",
        "bar_text = bar_chart.mark_text(align='left', baseline='middle', dx=5).encode(text='count:Q')\n",
        "(bar_chart + bar_text).properties(height=alt.Step(50), width=600, title='Cards brands transactions distribution')"
      ]
    },
    {
      "cell_type": "code",
      "execution_count": null,
      "id": "4d4206fa-d692-4050-b98f-8fef504b494b",
      "metadata": {
        "id": "4d4206fa-d692-4050-b98f-8fef504b494b"
      },
      "outputs": [],
      "source": [
        "#Grouping and counting the transactions according to credit card types.\n",
        "card6Group = fraudPD[['card6','TransactionID']].groupby(['card6'], dropna=False).agg('count').reset_index()\n",
        "card6Group.columns = ['card6','count']"
      ]
    },
    {
      "cell_type": "markdown",
      "id": "f784e7b3-4815-4e23-98c4-c95ca9ecc67f",
      "metadata": {
        "id": "f784e7b3-4815-4e23-98c4-c95ca9ecc67f"
      },
      "source": [
        "### Cards Types distribution <a class=\"anchor\" id=\"BrandsTDistribution\"></a>\n",
        "\n",
        "[TOC](#top)"
      ]
    },
    {
      "cell_type": "markdown",
      "id": "e574e4eb-ff86-4af8-9954-36f74e09d144",
      "metadata": {
        "id": "e574e4eb-ff86-4af8-9954-36f74e09d144"
      },
      "source": [
        "There are two main ways to purchase using a card: debit or credit. The dataset has a third way called charge, but it has just 15 purchases in total. Debit cards have the highest number of purchases, with almost 440 thousand. It is followed by credit cards with nearly 150 thousand purchases. This information is fascinating because it shows the domain of debit purchases instead of credit purchases."
      ]
    },
    {
      "cell_type": "code",
      "execution_count": null,
      "id": "577fa799-f547-414a-a1d7-5ed1a03c1802",
      "metadata": {
        "colab": {
          "base_uri": "https://localhost:8080/",
          "height": 331
        },
        "id": "577fa799-f547-414a-a1d7-5ed1a03c1802",
        "outputId": "b548e7c0-5b33-4830-ac02-b3020667418f"
      },
      "outputs": [
        {
          "data": {
            "text/html": [
              "\n",
              "<div id=\"altair-viz-dc387496829f459bb84fc506641b83c9\"></div>\n",
              "<script type=\"text/javascript\">\n",
              "  var VEGA_DEBUG = (typeof VEGA_DEBUG == \"undefined\") ? {} : VEGA_DEBUG;\n",
              "  (function(spec, embedOpt){\n",
              "    let outputDiv = document.currentScript.previousElementSibling;\n",
              "    if (outputDiv.id !== \"altair-viz-dc387496829f459bb84fc506641b83c9\") {\n",
              "      outputDiv = document.getElementById(\"altair-viz-dc387496829f459bb84fc506641b83c9\");\n",
              "    }\n",
              "    const paths = {\n",
              "      \"vega\": \"https://cdn.jsdelivr.net/npm//vega@5?noext\",\n",
              "      \"vega-lib\": \"https://cdn.jsdelivr.net/npm//vega-lib?noext\",\n",
              "      \"vega-lite\": \"https://cdn.jsdelivr.net/npm//vega-lite@4.17.0?noext\",\n",
              "      \"vega-embed\": \"https://cdn.jsdelivr.net/npm//vega-embed@6?noext\",\n",
              "    };\n",
              "\n",
              "    function maybeLoadScript(lib, version) {\n",
              "      var key = `${lib.replace(\"-\", \"\")}_version`;\n",
              "      return (VEGA_DEBUG[key] == version) ?\n",
              "        Promise.resolve(paths[lib]) :\n",
              "        new Promise(function(resolve, reject) {\n",
              "          var s = document.createElement('script');\n",
              "          document.getElementsByTagName(\"head\")[0].appendChild(s);\n",
              "          s.async = true;\n",
              "          s.onload = () => {\n",
              "            VEGA_DEBUG[key] = version;\n",
              "            return resolve(paths[lib]);\n",
              "          };\n",
              "          s.onerror = () => reject(`Error loading script: ${paths[lib]}`);\n",
              "          s.src = paths[lib];\n",
              "        });\n",
              "    }\n",
              "\n",
              "    function showError(err) {\n",
              "      outputDiv.innerHTML = `<div class=\"error\" style=\"color:red;\">${err}</div>`;\n",
              "      throw err;\n",
              "    }\n",
              "\n",
              "    function displayChart(vegaEmbed) {\n",
              "      vegaEmbed(outputDiv, spec, embedOpt)\n",
              "        .catch(err => showError(`Javascript Error: ${err.message}<br>This usually means there's a typo in your chart specification. See the javascript console for the full traceback.`));\n",
              "    }\n",
              "\n",
              "    if(typeof define === \"function\" && define.amd) {\n",
              "      requirejs.config({paths});\n",
              "      require([\"vega-embed\"], displayChart, err => showError(`Error loading script: ${err.message}`));\n",
              "    } else {\n",
              "      maybeLoadScript(\"vega\", \"5\")\n",
              "        .then(() => maybeLoadScript(\"vega-lite\", \"4.17.0\"))\n",
              "        .then(() => maybeLoadScript(\"vega-embed\", \"6\"))\n",
              "        .catch(showError)\n",
              "        .then(() => displayChart(vegaEmbed));\n",
              "    }\n",
              "  })({\"config\": {\"view\": {\"continuousWidth\": 400, \"continuousHeight\": 300}}, \"layer\": [{\"mark\": {\"type\": \"bar\", \"size\": 40}, \"encoding\": {\"x\": {\"field\": \"count\", \"title\": \"Count\", \"type\": \"quantitative\"}, \"y\": {\"field\": \"card6\", \"title\": \"Card type\", \"type\": \"nominal\"}}}, {\"mark\": {\"type\": \"text\", \"align\": \"left\", \"baseline\": \"middle\", \"dx\": 5}, \"encoding\": {\"text\": {\"field\": \"count\", \"type\": \"quantitative\"}, \"x\": {\"field\": \"count\", \"title\": \"Count\", \"type\": \"quantitative\"}, \"y\": {\"field\": \"card6\", \"title\": \"Card type\", \"type\": \"nominal\"}}}], \"data\": {\"name\": \"data-029a369ff928698b5118fd83c606fafe\"}, \"height\": {\"step\": 50}, \"title\": \"Card types distribution\", \"width\": 600, \"$schema\": \"https://vega.github.io/schema/vega-lite/v4.17.0.json\", \"datasets\": {\"data-029a369ff928698b5118fd83c606fafe\": [{\"card6\": \"charge card\", \"count\": 15}, {\"card6\": \"credit\", \"count\": 148986}, {\"card6\": \"debit\", \"count\": 439938}, {\"card6\": \"debit or credit\", \"count\": 30}, {\"card6\": null, \"count\": 1571}]}}, {\"mode\": \"vega-lite\"});\n",
              "</script>"
            ],
            "text/plain": [
              "alt.LayerChart(...)"
            ]
          },
          "execution_count": 16,
          "metadata": {},
          "output_type": "execute_result"
        }
      ],
      "source": [
        "#Visually presenting the amount of transactions according to credit card type.\n",
        "bar_chart=alt.Chart(card6Group).mark_bar(size=40).encode(\n",
        "    x=alt.X('count:Q', title='Count'),\n",
        "    y=alt.Y('card6:N', title='Card type'))\n",
        "bar_text = bar_chart.mark_text(align='left', baseline='middle', dx=5).encode(text='count:Q')\n",
        "(bar_chart + bar_text).properties(height=alt.Step(50), width=600, title='Card types distribution')"
      ]
    },
    {
      "cell_type": "code",
      "execution_count": null,
      "id": "da1188c9-2cbe-45ed-b420-f9b7864e18b1",
      "metadata": {
        "id": "da1188c9-2cbe-45ed-b420-f9b7864e18b1"
      },
      "outputs": [],
      "source": [
        "#Grouping the transactions by credit brand and transaction type (genuine or fraudulent).\n",
        "card4Group = fraudPD[['card4','TransactionID','isFraud']].groupby(['card4','isFraud'], dropna=False).agg('count').reset_index()\n",
        "card4Group.columns = ['card4','isFraud','count']"
      ]
    },
    {
      "cell_type": "markdown",
      "id": "12045eb2-441b-440a-b3b4-f42314bad4be",
      "metadata": {
        "id": "12045eb2-441b-440a-b3b4-f42314bad4be"
      },
      "source": [
        "### Cards brands distribution by transaction type <a class=\"anchor\" id=\"DistributionBTType\"></a>\n",
        "\n",
        "[TOC](#top)"
      ]
    },
    {
      "cell_type": "markdown",
      "id": "543b4482-de58-417b-91a9-8e6e75f6ed58",
      "metadata": {
        "id": "543b4482-de58-417b-91a9-8e6e75f6ed58"
      },
      "source": [
        "One can verify the count of brand purchases by considering the type of transaction (legitimate-0 or fraudulent-1). The Visa card is the most used, with over 370 thousand legitimate 13 thousand fraudulent transactions. Mastercard follows it with around 180 thousand transactions and almost 6500 fraudulent transactions. It is possible to conclude that the number of fraudulent transactions is unrelated to a specific card brand because the amount of fraudulent transactions is around 3.5% for both Visa and Mastercard."
      ]
    },
    {
      "cell_type": "code",
      "execution_count": null,
      "id": "59e3bbd4-04dc-4fd6-82db-565443046e05",
      "metadata": {
        "colab": {
          "base_uri": "https://localhost:8080/",
          "height": 407
        },
        "id": "59e3bbd4-04dc-4fd6-82db-565443046e05",
        "outputId": "fab5760a-931b-4d4c-a690-b64007b53033"
      },
      "outputs": [
        {
          "data": {
            "text/html": [
              "\n",
              "<div id=\"altair-viz-9efa70a9a2834481b548001a7290f6f9\"></div>\n",
              "<script type=\"text/javascript\">\n",
              "  var VEGA_DEBUG = (typeof VEGA_DEBUG == \"undefined\") ? {} : VEGA_DEBUG;\n",
              "  (function(spec, embedOpt){\n",
              "    let outputDiv = document.currentScript.previousElementSibling;\n",
              "    if (outputDiv.id !== \"altair-viz-9efa70a9a2834481b548001a7290f6f9\") {\n",
              "      outputDiv = document.getElementById(\"altair-viz-9efa70a9a2834481b548001a7290f6f9\");\n",
              "    }\n",
              "    const paths = {\n",
              "      \"vega\": \"https://cdn.jsdelivr.net/npm//vega@5?noext\",\n",
              "      \"vega-lib\": \"https://cdn.jsdelivr.net/npm//vega-lib?noext\",\n",
              "      \"vega-lite\": \"https://cdn.jsdelivr.net/npm//vega-lite@4.17.0?noext\",\n",
              "      \"vega-embed\": \"https://cdn.jsdelivr.net/npm//vega-embed@6?noext\",\n",
              "    };\n",
              "\n",
              "    function maybeLoadScript(lib, version) {\n",
              "      var key = `${lib.replace(\"-\", \"\")}_version`;\n",
              "      return (VEGA_DEBUG[key] == version) ?\n",
              "        Promise.resolve(paths[lib]) :\n",
              "        new Promise(function(resolve, reject) {\n",
              "          var s = document.createElement('script');\n",
              "          document.getElementsByTagName(\"head\")[0].appendChild(s);\n",
              "          s.async = true;\n",
              "          s.onload = () => {\n",
              "            VEGA_DEBUG[key] = version;\n",
              "            return resolve(paths[lib]);\n",
              "          };\n",
              "          s.onerror = () => reject(`Error loading script: ${paths[lib]}`);\n",
              "          s.src = paths[lib];\n",
              "        });\n",
              "    }\n",
              "\n",
              "    function showError(err) {\n",
              "      outputDiv.innerHTML = `<div class=\"error\" style=\"color:red;\">${err}</div>`;\n",
              "      throw err;\n",
              "    }\n",
              "\n",
              "    function displayChart(vegaEmbed) {\n",
              "      vegaEmbed(outputDiv, spec, embedOpt)\n",
              "        .catch(err => showError(`Javascript Error: ${err.message}<br>This usually means there's a typo in your chart specification. See the javascript console for the full traceback.`));\n",
              "    }\n",
              "\n",
              "    if(typeof define === \"function\" && define.amd) {\n",
              "      requirejs.config({paths});\n",
              "      require([\"vega-embed\"], displayChart, err => showError(`Error loading script: ${err.message}`));\n",
              "    } else {\n",
              "      maybeLoadScript(\"vega\", \"5\")\n",
              "        .then(() => maybeLoadScript(\"vega-lite\", \"4.17.0\"))\n",
              "        .then(() => maybeLoadScript(\"vega-embed\", \"6\"))\n",
              "        .catch(showError)\n",
              "        .then(() => displayChart(vegaEmbed));\n",
              "    }\n",
              "  })({\"config\": {\"view\": {\"continuousWidth\": 400, \"continuousHeight\": 300}, \"facet\": {\"spacing\": 0}}, \"data\": {\"name\": \"data-eae9559f6b593344b1f89d6cd97f6061\"}, \"facet\": {\"field\": \"card4\", \"title\": \"Cards brands transactions distribution by transaction type\", \"type\": \"nominal\"}, \"spec\": {\"layer\": [{\"mark\": {\"type\": \"bar\", \"size\": 40}, \"encoding\": {\"color\": {\"field\": \"isFraud\", \"type\": \"nominal\"}, \"text\": {\"aggregate\": \"sum\", \"field\": \"count\", \"format\": \".0f\", \"type\": \"quantitative\"}, \"x\": {\"axis\": {\"labelAngle\": 0}, \"field\": \"isFraud\", \"type\": \"ordinal\"}, \"y\": {\"aggregate\": \"sum\", \"field\": \"count\", \"title\": \"Count\", \"type\": \"quantitative\"}}, \"height\": {\"step\": 50}, \"width\": 100}, {\"mark\": {\"type\": \"text\", \"dy\": -10}, \"encoding\": {\"color\": {\"field\": \"isFraud\", \"type\": \"nominal\"}, \"text\": {\"aggregate\": \"sum\", \"field\": \"count\", \"format\": \".0f\", \"type\": \"quantitative\"}, \"x\": {\"axis\": {\"labelAngle\": 0}, \"field\": \"isFraud\", \"type\": \"ordinal\"}, \"y\": {\"aggregate\": \"sum\", \"field\": \"count\", \"title\": \"Count\", \"type\": \"quantitative\"}}, \"height\": {\"step\": 50}, \"width\": 100}]}, \"$schema\": \"https://vega.github.io/schema/vega-lite/v4.17.0.json\", \"datasets\": {\"data-eae9559f6b593344b1f89d6cd97f6061\": [{\"card4\": \"american express\", \"isFraud\": 0, \"count\": 8089}, {\"card4\": \"american express\", \"isFraud\": 1, \"count\": 239}, {\"card4\": \"discover\", \"isFraud\": 0, \"count\": 6137}, {\"card4\": \"discover\", \"isFraud\": 1, \"count\": 514}, {\"card4\": \"mastercard\", \"isFraud\": 0, \"count\": 182721}, {\"card4\": \"mastercard\", \"isFraud\": 1, \"count\": 6496}, {\"card4\": \"visa\", \"isFraud\": 0, \"count\": 371394}, {\"card4\": \"visa\", \"isFraud\": 1, \"count\": 13373}, {\"card4\": null, \"isFraud\": 0, \"count\": 1536}, {\"card4\": null, \"isFraud\": 1, \"count\": 41}]}}, {\"mode\": \"vega-lite\"});\n",
              "</script>"
            ],
            "text/plain": [
              "alt.FacetChart(...)"
            ]
          },
          "execution_count": 18,
          "metadata": {},
          "output_type": "execute_result"
        }
      ],
      "source": [
        "#Let's visually check the number of credit-type transactions that are fraudulent or genuine.\n",
        "bar_chart = alt.Chart(card4Group).encode(\n",
        "    alt.X(\"isFraud:O\", axis=alt.Axis(labelAngle=0)),\n",
        "    alt.Y(\"sum(count):Q\", title='Count'),\n",
        "    alt.Color(\"isFraud:N\"),\n",
        "    alt.Text(\"sum(count):Q\", format=\".0f\"),\n",
        ").properties(height=alt.Step(50), width=100)\n",
        "\n",
        "alt.layer(\n",
        "    bar_chart.mark_bar(size=40),\n",
        "    bar_chart.mark_text(dy=-10)\n",
        ").facet(\n",
        "    alt.Column(\"card4:N\", title='Cards brands transactions distribution by transaction type')\n",
        ").configure_facet(spacing=0)\n"
      ]
    },
    {
      "cell_type": "code",
      "execution_count": null,
      "id": "561fe430-a705-4a11-a117-88bbee5dba22",
      "metadata": {
        "id": "561fe430-a705-4a11-a117-88bbee5dba22"
      },
      "outputs": [],
      "source": [
        "#Let's group the transactions by card type (credit or debit) divided by fraudulent or legitimate transactions.\n",
        "card6Group = fraudPD[['card6','TransactionID','isFraud']].groupby(['card6','isFraud'], dropna=False).agg('count').reset_index()\n",
        "card6Group.columns = ['card6','isFraud','count']"
      ]
    },
    {
      "cell_type": "markdown",
      "id": "2f03435d-0901-4c96-b3ca-033a64a4781b",
      "metadata": {
        "id": "2f03435d-0901-4c96-b3ca-033a64a4781b"
      },
      "source": [
        "### Cards distribution by transaction type <a class=\"anchor\" id=\"DistributionTType\"></a>\n",
        "\n",
        "[TOC](#top)"
      ]
    },
    {
      "cell_type": "markdown",
      "id": "9910782c-a25f-48e9-91fc-b9ac5e743e74",
      "metadata": {
        "id": "9910782c-a25f-48e9-91fc-b9ac5e743e74"
      },
      "source": [
        "The following graphic presents the number of transactions (purchases) by credit card divided into legitimate-0 transactions and fraudulent-1 transactions. One can verify the domain of debit card transactions with almost 430 thousand legitimate transactions and over 10 thousand fraudulent transactions. It is followed by credit card transactions with practically 140 thousand legitimate transactions and nearly 10 thousand transactions. One can have an essential insight with this graphic: It is possible to verify that 7.15% of credit card transactions are fraudulent while only 2.5% of debit transactions are fraudulent. Fraudsters use three times more credit cards than debit cards."
      ]
    },
    {
      "cell_type": "code",
      "execution_count": null,
      "id": "069928c0-f50f-4406-be42-fc706bb84f94",
      "metadata": {
        "colab": {
          "base_uri": "https://localhost:8080/",
          "height": 410
        },
        "id": "069928c0-f50f-4406-be42-fc706bb84f94",
        "outputId": "f919dc72-c932-478e-c312-72e43ab3fb7d"
      },
      "outputs": [
        {
          "data": {
            "text/html": [
              "\n",
              "<div id=\"altair-viz-3002c2c92fe349e8ac164e7394934c4f\"></div>\n",
              "<script type=\"text/javascript\">\n",
              "  var VEGA_DEBUG = (typeof VEGA_DEBUG == \"undefined\") ? {} : VEGA_DEBUG;\n",
              "  (function(spec, embedOpt){\n",
              "    let outputDiv = document.currentScript.previousElementSibling;\n",
              "    if (outputDiv.id !== \"altair-viz-3002c2c92fe349e8ac164e7394934c4f\") {\n",
              "      outputDiv = document.getElementById(\"altair-viz-3002c2c92fe349e8ac164e7394934c4f\");\n",
              "    }\n",
              "    const paths = {\n",
              "      \"vega\": \"https://cdn.jsdelivr.net/npm//vega@5?noext\",\n",
              "      \"vega-lib\": \"https://cdn.jsdelivr.net/npm//vega-lib?noext\",\n",
              "      \"vega-lite\": \"https://cdn.jsdelivr.net/npm//vega-lite@4.17.0?noext\",\n",
              "      \"vega-embed\": \"https://cdn.jsdelivr.net/npm//vega-embed@6?noext\",\n",
              "    };\n",
              "\n",
              "    function maybeLoadScript(lib, version) {\n",
              "      var key = `${lib.replace(\"-\", \"\")}_version`;\n",
              "      return (VEGA_DEBUG[key] == version) ?\n",
              "        Promise.resolve(paths[lib]) :\n",
              "        new Promise(function(resolve, reject) {\n",
              "          var s = document.createElement('script');\n",
              "          document.getElementsByTagName(\"head\")[0].appendChild(s);\n",
              "          s.async = true;\n",
              "          s.onload = () => {\n",
              "            VEGA_DEBUG[key] = version;\n",
              "            return resolve(paths[lib]);\n",
              "          };\n",
              "          s.onerror = () => reject(`Error loading script: ${paths[lib]}`);\n",
              "          s.src = paths[lib];\n",
              "        });\n",
              "    }\n",
              "\n",
              "    function showError(err) {\n",
              "      outputDiv.innerHTML = `<div class=\"error\" style=\"color:red;\">${err}</div>`;\n",
              "      throw err;\n",
              "    }\n",
              "\n",
              "    function displayChart(vegaEmbed) {\n",
              "      vegaEmbed(outputDiv, spec, embedOpt)\n",
              "        .catch(err => showError(`Javascript Error: ${err.message}<br>This usually means there's a typo in your chart specification. See the javascript console for the full traceback.`));\n",
              "    }\n",
              "\n",
              "    if(typeof define === \"function\" && define.amd) {\n",
              "      requirejs.config({paths});\n",
              "      require([\"vega-embed\"], displayChart, err => showError(`Error loading script: ${err.message}`));\n",
              "    } else {\n",
              "      maybeLoadScript(\"vega\", \"5\")\n",
              "        .then(() => maybeLoadScript(\"vega-lite\", \"4.17.0\"))\n",
              "        .then(() => maybeLoadScript(\"vega-embed\", \"6\"))\n",
              "        .catch(showError)\n",
              "        .then(() => displayChart(vegaEmbed));\n",
              "    }\n",
              "  })({\"config\": {\"view\": {\"continuousWidth\": 400, \"continuousHeight\": 300}, \"facet\": {\"spacing\": 0}}, \"data\": {\"name\": \"data-9c3d732ca426aee2a575abd71ff0fc28\"}, \"facet\": {\"field\": \"card6\", \"title\": \"Cards transactions distribution by transaction type\", \"type\": \"nominal\"}, \"spec\": {\"layer\": [{\"mark\": {\"type\": \"bar\", \"size\": 40}, \"encoding\": {\"color\": {\"field\": \"isFraud\", \"type\": \"nominal\"}, \"text\": {\"aggregate\": \"sum\", \"field\": \"count\", \"format\": \".0f\", \"type\": \"quantitative\"}, \"x\": {\"axis\": {\"labelAngle\": 0}, \"field\": \"isFraud\", \"type\": \"ordinal\"}, \"y\": {\"aggregate\": \"sum\", \"field\": \"count\", \"title\": \"Count\", \"type\": \"quantitative\"}}, \"height\": {\"step\": 50}, \"width\": 100}, {\"mark\": {\"type\": \"text\", \"dy\": -10}, \"encoding\": {\"color\": {\"field\": \"isFraud\", \"type\": \"nominal\"}, \"text\": {\"aggregate\": \"sum\", \"field\": \"count\", \"format\": \".0f\", \"type\": \"quantitative\"}, \"x\": {\"axis\": {\"labelAngle\": 0}, \"field\": \"isFraud\", \"type\": \"ordinal\"}, \"y\": {\"aggregate\": \"sum\", \"field\": \"count\", \"title\": \"Count\", \"type\": \"quantitative\"}}, \"height\": {\"step\": 50}, \"width\": 100}]}, \"$schema\": \"https://vega.github.io/schema/vega-lite/v4.17.0.json\", \"datasets\": {\"data-9c3d732ca426aee2a575abd71ff0fc28\": [{\"card6\": \"charge card\", \"isFraud\": 0, \"count\": 15}, {\"card6\": \"credit\", \"isFraud\": 0, \"count\": 139036}, {\"card6\": \"credit\", \"isFraud\": 1, \"count\": 9950}, {\"card6\": \"debit\", \"isFraud\": 0, \"count\": 429264}, {\"card6\": \"debit\", \"isFraud\": 1, \"count\": 10674}, {\"card6\": \"debit or credit\", \"isFraud\": 0, \"count\": 30}, {\"card6\": null, \"isFraud\": 0, \"count\": 1532}, {\"card6\": null, \"isFraud\": 1, \"count\": 39}]}}, {\"mode\": \"vega-lite\"});\n",
              "</script>"
            ],
            "text/plain": [
              "alt.FacetChart(...)"
            ]
          },
          "execution_count": 20,
          "metadata": {},
          "output_type": "execute_result"
        }
      ],
      "source": [
        "#One can see the distribution of transactions by card and type of transactions.\n",
        "bar_chart = alt.Chart(card6Group).encode(\n",
        "    alt.X(\"isFraud:O\", axis=alt.Axis(labelAngle=0)),\n",
        "    alt.Y(\"sum(count):Q\", title='Count'),\n",
        "    alt.Color(\"isFraud:N\"),\n",
        "    alt.Text(\"sum(count):Q\", format=\".0f\"),\n",
        ").properties(height=alt.Step(50), width=100)\n",
        "\n",
        "alt.layer(\n",
        "    bar_chart.mark_bar(size=40),\n",
        "    bar_chart.mark_text(dy=-10)\n",
        ").facet(\n",
        "    alt.Column(\"card6:N\", title='Cards transactions distribution by transaction type')\n",
        ").configure_facet(spacing=0)"
      ]
    },
    {
      "cell_type": "code",
      "execution_count": null,
      "id": "29c808de-d1f3-4f5f-8e68-9160e1a9c89d",
      "metadata": {
        "id": "29c808de-d1f3-4f5f-8e68-9160e1a9c89d"
      },
      "outputs": [],
      "source": [
        "#One exciting piece of information compares the purchase profiles of legitimate and fraudulent transactions.\n",
        "#Let's calculate the average purchase amounts by legitimate and fraudulent transactions.\n",
        "tAmountdf = fraudPD[['isFraud','TransactionAmt']].groupby('isFraud').mean().reset_index()"
      ]
    },
    {
      "cell_type": "markdown",
      "id": "f0ca6f1b-8598-43cc-9d27-0a2d1341883b",
      "metadata": {
        "id": "f0ca6f1b-8598-43cc-9d27-0a2d1341883b"
      },
      "source": [
        "### Average amount purchase <a class=\"anchor\" id=\"AvgAmountPurchase\"></a>\n",
        "\n",
        "[TOC](#top)"
      ]
    },
    {
      "cell_type": "markdown",
      "id": "ec070aef-d03f-4261-affd-541452671055",
      "metadata": {
        "id": "ec070aef-d03f-4261-affd-541452671055"
      },
      "source": [
        "The graphic shows that the average purchase amounts for fraudulent and legitimate transactions are similar. On average, 135 dollars are for legitimate transactions and 149 for fraudulent transactions. One intriguing insight with this graphic is that fraudsters usually try to simulate legitimate transactions to avoid fraudulent transaction prevention systems."
      ]
    },
    {
      "cell_type": "code",
      "execution_count": null,
      "id": "b4552d50-29f9-439b-aa2e-bee3ff86e41f",
      "metadata": {
        "colab": {
          "base_uri": "https://localhost:8080/",
          "height": 349
        },
        "id": "b4552d50-29f9-439b-aa2e-bee3ff86e41f",
        "outputId": "3ff500b3-328d-44f8-e33f-77379b066d75"
      },
      "outputs": [
        {
          "data": {
            "text/html": [
              "\n",
              "<div id=\"altair-viz-ce8fd48f6d62460e8583ded4ee523b0e\"></div>\n",
              "<script type=\"text/javascript\">\n",
              "  var VEGA_DEBUG = (typeof VEGA_DEBUG == \"undefined\") ? {} : VEGA_DEBUG;\n",
              "  (function(spec, embedOpt){\n",
              "    let outputDiv = document.currentScript.previousElementSibling;\n",
              "    if (outputDiv.id !== \"altair-viz-ce8fd48f6d62460e8583ded4ee523b0e\") {\n",
              "      outputDiv = document.getElementById(\"altair-viz-ce8fd48f6d62460e8583ded4ee523b0e\");\n",
              "    }\n",
              "    const paths = {\n",
              "      \"vega\": \"https://cdn.jsdelivr.net/npm//vega@5?noext\",\n",
              "      \"vega-lib\": \"https://cdn.jsdelivr.net/npm//vega-lib?noext\",\n",
              "      \"vega-lite\": \"https://cdn.jsdelivr.net/npm//vega-lite@4.17.0?noext\",\n",
              "      \"vega-embed\": \"https://cdn.jsdelivr.net/npm//vega-embed@6?noext\",\n",
              "    };\n",
              "\n",
              "    function maybeLoadScript(lib, version) {\n",
              "      var key = `${lib.replace(\"-\", \"\")}_version`;\n",
              "      return (VEGA_DEBUG[key] == version) ?\n",
              "        Promise.resolve(paths[lib]) :\n",
              "        new Promise(function(resolve, reject) {\n",
              "          var s = document.createElement('script');\n",
              "          document.getElementsByTagName(\"head\")[0].appendChild(s);\n",
              "          s.async = true;\n",
              "          s.onload = () => {\n",
              "            VEGA_DEBUG[key] = version;\n",
              "            return resolve(paths[lib]);\n",
              "          };\n",
              "          s.onerror = () => reject(`Error loading script: ${paths[lib]}`);\n",
              "          s.src = paths[lib];\n",
              "        });\n",
              "    }\n",
              "\n",
              "    function showError(err) {\n",
              "      outputDiv.innerHTML = `<div class=\"error\" style=\"color:red;\">${err}</div>`;\n",
              "      throw err;\n",
              "    }\n",
              "\n",
              "    function displayChart(vegaEmbed) {\n",
              "      vegaEmbed(outputDiv, spec, embedOpt)\n",
              "        .catch(err => showError(`Javascript Error: ${err.message}<br>This usually means there's a typo in your chart specification. See the javascript console for the full traceback.`));\n",
              "    }\n",
              "\n",
              "    if(typeof define === \"function\" && define.amd) {\n",
              "      requirejs.config({paths});\n",
              "      require([\"vega-embed\"], displayChart, err => showError(`Error loading script: ${err.message}`));\n",
              "    } else {\n",
              "      maybeLoadScript(\"vega\", \"5\")\n",
              "        .then(() => maybeLoadScript(\"vega-lite\", \"4.17.0\"))\n",
              "        .then(() => maybeLoadScript(\"vega-embed\", \"6\"))\n",
              "        .catch(showError)\n",
              "        .then(() => displayChart(vegaEmbed));\n",
              "    }\n",
              "  })({\"config\": {\"view\": {\"continuousWidth\": 400, \"continuousHeight\": 300}}, \"layer\": [{\"mark\": {\"type\": \"arc\", \"outerRadius\": 150}, \"encoding\": {\"color\": {\"field\": \"isFraud\", \"type\": \"nominal\"}, \"theta\": {\"field\": \"TransactionAmt\", \"stack\": true, \"type\": \"quantitative\"}}}, {\"mark\": {\"type\": \"text\", \"fill\": \"black\", \"radius\": 165, \"size\": 15}, \"encoding\": {\"color\": {\"field\": \"isFraud\", \"type\": \"nominal\"}, \"text\": {\"field\": \"TransactionAmt\", \"type\": \"quantitative\", \"format\": \".0f\"}, \"theta\": {\"field\": \"TransactionAmt\", \"stack\": true, \"type\": \"quantitative\"}}}], \"data\": {\"name\": \"data-0488c2cc9680591bf39cb644c5b66262\"}, \"title\": \"Average amount purchased\", \"$schema\": \"https://vega.github.io/schema/vega-lite/v4.17.0.json\", \"datasets\": {\"data-0488c2cc9680591bf39cb644c5b66262\": [{\"isFraud\": 0, \"TransactionAmt\": 134.51166457849678}, {\"isFraud\": 1, \"TransactionAmt\": 149.24477858974979}]}}, {\"mode\": \"vega-lite\"});\n",
              "</script>"
            ],
            "text/plain": [
              "alt.LayerChart(...)"
            ]
          },
          "execution_count": 22,
          "metadata": {},
          "output_type": "execute_result"
        }
      ],
      "source": [
        "#One can check the purchase amount average for each kind of transaction.\n",
        "pie_chart=alt.Chart(tAmountdf).mark_arc(outerRadius=150).encode(\n",
        "    theta=alt.Theta(\"TransactionAmt:Q\", stack=True),\n",
        "    color=alt.Color(\"isFraud:N\"))\n",
        "\n",
        "bar_text = pie_chart.mark_text(radius=165, size=15,fill= \"black\").encode(text=alt.X('TransactionAmt:Q', format=\".0f\"))\n",
        "\n",
        "(pie_chart + bar_text).properties(title='Average amount purchased')"
      ]
    },
    {
      "cell_type": "code",
      "execution_count": null,
      "id": "67be29f1-1754-4fd6-86e1-26a516f99724",
      "metadata": {
        "id": "67be29f1-1754-4fd6-86e1-26a516f99724"
      },
      "outputs": [],
      "source": [
        "#Let's unpivot a wide to long format fraud data frame to have P_emaildomain and R_emaildomain as columns.\n",
        "fraudMelt=pd.melt(fraudPD[['TransactionID','P_emaildomain','R_emaildomain']],\n",
        "                  id_vars=['TransactionID'],\n",
        "               value_vars=['P_emaildomain', 'R_emaildomain'], ignore_index=False)\n",
        "\n",
        "#So, one can count how many domains are present in the transactions.\n",
        "fraudMelt=fraudMelt[['variable','value']].value_counts().reset_index()\n",
        "fraudMelt.columns = ['address','domain','count']\n",
        "\n",
        "#Then, one can count how many transactions for the first five domain addresses.\n",
        "fraudGrp = fraudMelt[['domain','count']].groupby('domain').sum().sort_values('count', ascending=False).head(5)\n",
        "fraudMelt=fraudMelt.merge(fraudGrp, how='inner', on='domain')[['address','domain','count_x']]\n",
        "fraudMelt.columns = ['address','domain','count']"
      ]
    },
    {
      "cell_type": "markdown",
      "id": "ee67d07d-6102-4d34-9bf8-14fbf3fccad2",
      "metadata": {
        "id": "ee67d07d-6102-4d34-9bf8-14fbf3fccad2"
      },
      "source": [
        "### Purchase distribution by email address <a class=\"anchor\" id=\"DistrByEmailAddress\"></a>\n",
        "\n",
        "[TOC](#top)"
      ]
    },
    {
      "cell_type": "markdown",
      "id": "94268353-4412-47c8-b583-5ec5bd7d9819",
      "metadata": {
        "id": "94268353-4412-47c8-b583-5ec5bd7d9819"
      },
      "source": [
        "Most purchases and recipients have an email domain. Therefore, verifying how such domains distribute the number of transactions is insightful. The following graphic presents the distribution of email domains for purchasers and recipients. One can see that the primary email domain used is gmail.com, with almost 230 thousand transactions to purchase a domain and nearly 60 thousand transactions for the recipient domain, followed by yahoo.com and hotmail.com. Certain transactions don't need a recipient, so such domains are null."
      ]
    },
    {
      "cell_type": "code",
      "execution_count": null,
      "id": "32190f9b-2bab-4801-9db3-120dcb1f97db",
      "metadata": {
        "colab": {
          "base_uri": "https://localhost:8080/",
          "height": 456
        },
        "id": "32190f9b-2bab-4801-9db3-120dcb1f97db",
        "outputId": "b3711a4f-6de3-45a4-9790-9ef9ad807e57"
      },
      "outputs": [
        {
          "data": {
            "text/html": [
              "\n",
              "<div id=\"altair-viz-b73d681e00e242f3828e0f5fd643a2c7\"></div>\n",
              "<script type=\"text/javascript\">\n",
              "  var VEGA_DEBUG = (typeof VEGA_DEBUG == \"undefined\") ? {} : VEGA_DEBUG;\n",
              "  (function(spec, embedOpt){\n",
              "    let outputDiv = document.currentScript.previousElementSibling;\n",
              "    if (outputDiv.id !== \"altair-viz-b73d681e00e242f3828e0f5fd643a2c7\") {\n",
              "      outputDiv = document.getElementById(\"altair-viz-b73d681e00e242f3828e0f5fd643a2c7\");\n",
              "    }\n",
              "    const paths = {\n",
              "      \"vega\": \"https://cdn.jsdelivr.net/npm//vega@5?noext\",\n",
              "      \"vega-lib\": \"https://cdn.jsdelivr.net/npm//vega-lib?noext\",\n",
              "      \"vega-lite\": \"https://cdn.jsdelivr.net/npm//vega-lite@4.17.0?noext\",\n",
              "      \"vega-embed\": \"https://cdn.jsdelivr.net/npm//vega-embed@6?noext\",\n",
              "    };\n",
              "\n",
              "    function maybeLoadScript(lib, version) {\n",
              "      var key = `${lib.replace(\"-\", \"\")}_version`;\n",
              "      return (VEGA_DEBUG[key] == version) ?\n",
              "        Promise.resolve(paths[lib]) :\n",
              "        new Promise(function(resolve, reject) {\n",
              "          var s = document.createElement('script');\n",
              "          document.getElementsByTagName(\"head\")[0].appendChild(s);\n",
              "          s.async = true;\n",
              "          s.onload = () => {\n",
              "            VEGA_DEBUG[key] = version;\n",
              "            return resolve(paths[lib]);\n",
              "          };\n",
              "          s.onerror = () => reject(`Error loading script: ${paths[lib]}`);\n",
              "          s.src = paths[lib];\n",
              "        });\n",
              "    }\n",
              "\n",
              "    function showError(err) {\n",
              "      outputDiv.innerHTML = `<div class=\"error\" style=\"color:red;\">${err}</div>`;\n",
              "      throw err;\n",
              "    }\n",
              "\n",
              "    function displayChart(vegaEmbed) {\n",
              "      vegaEmbed(outputDiv, spec, embedOpt)\n",
              "        .catch(err => showError(`Javascript Error: ${err.message}<br>This usually means there's a typo in your chart specification. See the javascript console for the full traceback.`));\n",
              "    }\n",
              "\n",
              "    if(typeof define === \"function\" && define.amd) {\n",
              "      requirejs.config({paths});\n",
              "      require([\"vega-embed\"], displayChart, err => showError(`Error loading script: ${err.message}`));\n",
              "    } else {\n",
              "      maybeLoadScript(\"vega\", \"5\")\n",
              "        .then(() => maybeLoadScript(\"vega-lite\", \"4.17.0\"))\n",
              "        .then(() => maybeLoadScript(\"vega-embed\", \"6\"))\n",
              "        .catch(showError)\n",
              "        .then(() => displayChart(vegaEmbed));\n",
              "    }\n",
              "  })({\"config\": {\"view\": {\"continuousWidth\": 400, \"continuousHeight\": 300}, \"facet\": {\"spacing\": 0}}, \"data\": {\"name\": \"data-82743cd7ae2a3231c1bdc10f2caeda5e\"}, \"facet\": {\"field\": \"domain\", \"title\": \"Purshase distribution by email address\", \"type\": \"nominal\"}, \"spec\": {\"layer\": [{\"mark\": {\"type\": \"bar\", \"size\": 40}, \"encoding\": {\"color\": {\"field\": \"address\", \"type\": \"nominal\"}, \"text\": {\"field\": \"count\", \"format\": \".0f\", \"type\": \"quantitative\"}, \"x\": {\"axis\": {\"labelAngle\": 45}, \"field\": \"address\", \"type\": \"ordinal\"}, \"y\": {\"field\": \"count\", \"title\": \"Count\", \"type\": \"quantitative\"}}, \"height\": {\"step\": 50}, \"width\": 100}, {\"mark\": {\"type\": \"text\", \"dy\": -10}, \"encoding\": {\"color\": {\"field\": \"address\", \"type\": \"nominal\"}, \"text\": {\"field\": \"count\", \"format\": \".0f\", \"type\": \"quantitative\"}, \"x\": {\"axis\": {\"labelAngle\": 45}, \"field\": \"address\", \"type\": \"ordinal\"}, \"y\": {\"field\": \"count\", \"title\": \"Count\", \"type\": \"quantitative\"}}, \"height\": {\"step\": 50}, \"width\": 100}]}, \"$schema\": \"https://vega.github.io/schema/vega-lite/v4.17.0.json\", \"datasets\": {\"data-82743cd7ae2a3231c1bdc10f2caeda5e\": [{\"address\": \"P_emaildomain\", \"domain\": \"gmail.com\", \"count\": 228355}, {\"address\": \"R_emaildomain\", \"domain\": \"gmail.com\", \"count\": 57147}, {\"address\": \"P_emaildomain\", \"domain\": \"yahoo.com\", \"count\": 100934}, {\"address\": \"R_emaildomain\", \"domain\": \"yahoo.com\", \"count\": 11842}, {\"address\": \"P_emaildomain\", \"domain\": \"hotmail.com\", \"count\": 45250}, {\"address\": \"R_emaildomain\", \"domain\": \"hotmail.com\", \"count\": 27509}, {\"address\": \"P_emaildomain\", \"domain\": \"anonymous.com\", \"count\": 36998}, {\"address\": \"R_emaildomain\", \"domain\": \"anonymous.com\", \"count\": 20529}, {\"address\": \"P_emaildomain\", \"domain\": \"aol.com\", \"count\": 28289}, {\"address\": \"R_emaildomain\", \"domain\": \"aol.com\", \"count\": 3701}]}}, {\"mode\": \"vega-lite\"});\n",
              "</script>"
            ],
            "text/plain": [
              "alt.FacetChart(...)"
            ]
          },
          "execution_count": 24,
          "metadata": {},
          "output_type": "execute_result"
        }
      ],
      "source": [
        "#Let's see the graphic of the email domain address distribution for purchasers and recipients\n",
        "bar_chart = alt.Chart(fraudMelt).encode(\n",
        "    alt.X(\"address:O\", axis=alt.Axis(labelAngle=45)),\n",
        "    alt.Y(\"count:Q\", title='Count'),\n",
        "    alt.Color(\"address:N\"),\n",
        "    alt.Text(\"count:Q\", format=\".0f\"),\n",
        ").properties(height=alt.Step(50), width=100)\n",
        "\n",
        "alt.layer(\n",
        "    bar_chart.mark_bar(size=40),\n",
        "    bar_chart.mark_text(dy=-10)\n",
        ").facet(\n",
        "    alt.Column(\"domain:N\", title='Purshase distribution by email address')\n",
        ").configure_facet(spacing=0)"
      ]
    },
    {
      "cell_type": "markdown",
      "id": "2d3f3b22-d5ea-49df-b6a5-a021eb197a47",
      "metadata": {
        "id": "2d3f3b22-d5ea-49df-b6a5-a021eb197a47"
      },
      "source": [
        "### Handling Missing Values  <a class=\"anchor\" id=\"HMissingValues\"></a>\n",
        "\n",
        "[TOC](#top)"
      ]
    },
    {
      "cell_type": "markdown",
      "id": "6a537eb6-e7ff-4e29-b089-1b782183649d",
      "metadata": {
        "id": "6a537eb6-e7ff-4e29-b089-1b782183649d"
      },
      "source": [
        "The dataset in the analysis has 394 fields with relevant information about card transactions (purchases). Unfortunately, several fields are formed by thousands of missing values. So far, The strategy chosen to deal with the missing values is to drop them. Fortunately, the remaining fields are far enough to continue the analysis and to perform data balance and ML classification."
      ]
    },
    {
      "cell_type": "code",
      "execution_count": 8,
      "id": "334d4c21-b742-4c27-b617-69632ddc276b",
      "metadata": {
        "id": "334d4c21-b742-4c27-b617-69632ddc276b"
      },
      "outputs": [],
      "source": [
        "#Let's drop the null values for now. I need to understand the data better to fill the null values with information.\n",
        "notnaFraud=fraudPD[['isFraud',\n",
        "                'TransactionAmt',\n",
        "                'ProductCD',\n",
        "                'card1',\n",
        "                'card4',\n",
        "                'card6',\n",
        "                'addr1',\n",
        "                'addr2',\n",
        "                'P_emaildomain',\n",
        "                'C1','C2','C3','C4','C5','C6','C7','C8','C9','C10','C11','C12','C13','C14',\n",
        "                'V95', 'V96', 'V97','V98', 'V99', 'V100', 'V101', 'V102', 'V103', 'V104', 'V105', 'V106', 'V107', 'V108', 'V109', 'V110', 'V111',\n",
        "                'V112', 'V113', 'V114', 'V115', 'V116', 'V117', 'V118', 'V119', 'V120', 'V121', 'V122', 'V123', 'V124', 'V125', 'V126' , 'V127',\n",
        "                'V128', 'V129', 'V130', 'V131', 'V132', 'V133', 'V134', 'V135', 'V136', 'V137']].dropna()"
      ]
    },
    {
      "cell_type": "code",
      "execution_count": null,
      "id": "8ca20e71-beb5-4755-8600-3b0ddb01f56d",
      "metadata": {
        "colab": {
          "base_uri": "https://localhost:8080/"
        },
        "id": "8ca20e71-beb5-4755-8600-3b0ddb01f56d",
        "outputId": "5056f920-093d-4976-80a9-aa0a1525f927"
      },
      "outputs": [
        {
          "data": {
            "text/plain": [
              "(431291, 66)"
            ]
          },
          "execution_count": 10,
          "metadata": {},
          "output_type": "execute_result"
        }
      ],
      "source": [
        "#How many rows and columns does my not null data have?\n",
        "notnaFraud.shape"
      ]
    },
    {
      "cell_type": "code",
      "execution_count": null,
      "id": "f7b449dc-41c2-4e6f-9260-6997a51981a6",
      "metadata": {
        "colab": {
          "base_uri": "https://localhost:8080/"
        },
        "id": "f7b449dc-41c2-4e6f-9260-6997a51981a6",
        "outputId": "9b1a2c75-81d0-4e79-e581-2472f8254978"
      },
      "outputs": [
        {
          "data": {
            "text/plain": [
              "isFraud           0\n",
              "TransactionAmt    0\n",
              "ProductCD         0\n",
              "card1             0\n",
              "card4             0\n",
              "                 ..\n",
              "V133              0\n",
              "V134              0\n",
              "V135              0\n",
              "V136              0\n",
              "V137              0\n",
              "Length: 66, dtype: int64"
            ]
          },
          "execution_count": 11,
          "metadata": {},
          "output_type": "execute_result"
        }
      ],
      "source": [
        "#Now, we have no null values in the data to present to a machine learning model.\n",
        "notnaFraud.isna().sum()"
      ]
    },
    {
      "cell_type": "code",
      "execution_count": null,
      "id": "562a096c-e856-434d-9bc4-253a0cb667cc",
      "metadata": {
        "colab": {
          "base_uri": "https://localhost:8080/"
        },
        "id": "562a096c-e856-434d-9bc4-253a0cb667cc",
        "outputId": "0bd5e99f-ea76-4e78-a6e1-5542e125790d"
      },
      "outputs": [
        {
          "data": {
            "text/plain": [
              "(431291, 66)"
            ]
          },
          "execution_count": 12,
          "metadata": {},
          "output_type": "execute_result"
        }
      ],
      "source": [
        "notnaFraud.shape"
      ]
    },
    {
      "cell_type": "markdown",
      "id": "73f874fd-27fd-482d-997d-5731d4ed481c",
      "metadata": {
        "id": "73f874fd-27fd-482d-997d-5731d4ed481c"
      },
      "source": [
        "One can count the remaining data after dropping the missing values. The dataset has over 420 thousand legitimate transactions and over 10 thousand fraudulent transactions. The remaining data is enough to apply ML techniques for fraud detection or classification."
      ]
    },
    {
      "cell_type": "code",
      "execution_count": null,
      "id": "a9096458-a52c-448e-ba75-1725d00739c2",
      "metadata": {
        "colab": {
          "base_uri": "https://localhost:8080/",
          "height": 386
        },
        "id": "a9096458-a52c-448e-ba75-1725d00739c2",
        "outputId": "0ea756dc-f32a-4151-c06a-25fa8e963fbe"
      },
      "outputs": [
        {
          "data": {
            "text/html": [
              "\n",
              "<div id=\"altair-viz-5abd5420e3b34dd0a52332d33ed3affc\"></div>\n",
              "<script type=\"text/javascript\">\n",
              "  var VEGA_DEBUG = (typeof VEGA_DEBUG == \"undefined\") ? {} : VEGA_DEBUG;\n",
              "  (function(spec, embedOpt){\n",
              "    let outputDiv = document.currentScript.previousElementSibling;\n",
              "    if (outputDiv.id !== \"altair-viz-5abd5420e3b34dd0a52332d33ed3affc\") {\n",
              "      outputDiv = document.getElementById(\"altair-viz-5abd5420e3b34dd0a52332d33ed3affc\");\n",
              "    }\n",
              "    const paths = {\n",
              "      \"vega\": \"https://cdn.jsdelivr.net/npm//vega@5?noext\",\n",
              "      \"vega-lib\": \"https://cdn.jsdelivr.net/npm//vega-lib?noext\",\n",
              "      \"vega-lite\": \"https://cdn.jsdelivr.net/npm//vega-lite@4.17.0?noext\",\n",
              "      \"vega-embed\": \"https://cdn.jsdelivr.net/npm//vega-embed@6?noext\",\n",
              "    };\n",
              "\n",
              "    function maybeLoadScript(lib, version) {\n",
              "      var key = `${lib.replace(\"-\", \"\")}_version`;\n",
              "      return (VEGA_DEBUG[key] == version) ?\n",
              "        Promise.resolve(paths[lib]) :\n",
              "        new Promise(function(resolve, reject) {\n",
              "          var s = document.createElement('script');\n",
              "          document.getElementsByTagName(\"head\")[0].appendChild(s);\n",
              "          s.async = true;\n",
              "          s.onload = () => {\n",
              "            VEGA_DEBUG[key] = version;\n",
              "            return resolve(paths[lib]);\n",
              "          };\n",
              "          s.onerror = () => reject(`Error loading script: ${paths[lib]}`);\n",
              "          s.src = paths[lib];\n",
              "        });\n",
              "    }\n",
              "\n",
              "    function showError(err) {\n",
              "      outputDiv.innerHTML = `<div class=\"error\" style=\"color:red;\">${err}</div>`;\n",
              "      throw err;\n",
              "    }\n",
              "\n",
              "    function displayChart(vegaEmbed) {\n",
              "      vegaEmbed(outputDiv, spec, embedOpt)\n",
              "        .catch(err => showError(`Javascript Error: ${err.message}<br>This usually means there's a typo in your chart specification. See the javascript console for the full traceback.`));\n",
              "    }\n",
              "\n",
              "    if(typeof define === \"function\" && define.amd) {\n",
              "      requirejs.config({paths});\n",
              "      require([\"vega-embed\"], displayChart, err => showError(`Error loading script: ${err.message}`));\n",
              "    } else {\n",
              "      maybeLoadScript(\"vega\", \"5\")\n",
              "        .then(() => maybeLoadScript(\"vega-lite\", \"4.17.0\"))\n",
              "        .then(() => maybeLoadScript(\"vega-embed\", \"6\"))\n",
              "        .catch(showError)\n",
              "        .then(() => displayChart(vegaEmbed));\n",
              "    }\n",
              "  })({\"config\": {\"view\": {\"continuousWidth\": 400, \"continuousHeight\": 300}}, \"layer\": [{\"mark\": \"bar\", \"encoding\": {\"x\": {\"axis\": {\"labelAngle\": 0}, \"field\": \"isFraud\", \"type\": \"nominal\"}, \"y\": {\"field\": \"counts\", \"title\": \"Count\", \"type\": \"quantitative\"}}}, {\"mark\": {\"type\": \"text\", \"align\": \"left\", \"baseline\": \"bottom\", \"dx\": -5}, \"encoding\": {\"text\": {\"field\": \"counts\", \"type\": \"quantitative\"}, \"x\": {\"axis\": {\"labelAngle\": 0}, \"field\": \"isFraud\", \"type\": \"nominal\"}, \"y\": {\"field\": \"counts\", \"title\": \"Count\", \"type\": \"quantitative\"}}}], \"data\": {\"name\": \"data-016c32803aaea200edfcdc50c566dd96\"}, \"height\": 300, \"title\": \"Remaining data after dropna\", \"width\": 400, \"$schema\": \"https://vega.github.io/schema/vega-lite/v4.17.0.json\", \"datasets\": {\"data-016c32803aaea200edfcdc50c566dd96\": [{\"isFraud\": 0, \"counts\": 420887}, {\"isFraud\": 1, \"counts\": 10404}]}}, {\"mode\": \"vega-lite\"});\n",
              "</script>"
            ],
            "text/plain": [
              "alt.LayerChart(...)"
            ]
          },
          "execution_count": 13,
          "metadata": {},
          "output_type": "execute_result"
        }
      ],
      "source": [
        "#After dropping the null values, this data is available to the machine learning model.\n",
        "#It is still an excellent amount of data.\n",
        "bar_chart = alt.Chart(notnaFraud[['isFraud']].value_counts().reset_index().rename(columns={0:'counts'})).mark_bar().encode(\n",
        "    y=alt.Y('counts:Q', title='Count'),\n",
        "    x=alt.X('isFraud:N', axis=alt.Axis(labelAngle=0)))\n",
        "bar_chart\n",
        "text_chart = bar_chart.mark_text(align='left', baseline='bottom', dx=-5).encode(text='counts:Q')\n",
        "(bar_chart + text_chart).properties(height=300, width=400, title='Remaining data after dropna')"
      ]
    },
    {
      "cell_type": "markdown",
      "id": "f7b0ca99-43c2-4a25-adcc-f6adfcc5ec0d",
      "metadata": {
        "id": "f7b0ca99-43c2-4a25-adcc-f6adfcc5ec0d"
      },
      "source": [
        "### Features correlation  <a class=\"anchor\" id=\"FeaturesCorrelation\"></a>\n",
        "\n",
        "[TOC](#top)"
      ]
    },
    {
      "cell_type": "markdown",
      "id": "fc729fcc-b319-4581-964d-95829ae133dd",
      "metadata": {
        "id": "fc729fcc-b319-4581-964d-95829ae133dd"
      },
      "source": [
        "The following heat map shows the correlation among the most relevant independent variables. The highest correlation is between ProductCD and card6, but even in this case the correlation is low (-0.39). High positive correlation value is near 1.0 and high negative correlation value is near -1.0. The selected fields are not highly correlated."
      ]
    },
    {
      "cell_type": "code",
      "execution_count": 9,
      "id": "bd744faf-9156-44e4-ae9e-7f9e79b041f7",
      "metadata": {
        "id": "bd744faf-9156-44e4-ae9e-7f9e79b041f7"
      },
      "outputs": [],
      "source": [
        "#The machine learning model accepts numerical data. Therefore, it is necessary to factorize the categorical data.\n",
        "factFraud=notnaFraud[['ProductCD','card4','card6','P_emaildomain']].apply(lambda x : pd.factorize(x)[0])"
      ]
    },
    {
      "cell_type": "code",
      "execution_count": 10,
      "id": "2840b6a1-3b94-4d48-9b4d-6b1c82bccd81",
      "metadata": {
        "id": "2840b6a1-3b94-4d48-9b4d-6b1c82bccd81"
      },
      "outputs": [],
      "source": [
        "factFraud=pd.concat([notnaFraud[['TransactionAmt',\n",
        "                             'card1',\n",
        "                             'addr1',\n",
        "                             'addr2']].reset_index(drop=True), factFraud.reset_index(drop=True)], axis=1)"
      ]
    },
    {
      "cell_type": "code",
      "execution_count": null,
      "id": "073f688f-9cfb-4b33-a610-215c8042ae70",
      "metadata": {
        "colab": {
          "base_uri": "https://localhost:8080/",
          "height": 946
        },
        "id": "073f688f-9cfb-4b33-a610-215c8042ae70",
        "outputId": "6acb1fc6-4404-4934-8a47-64f04e360cd3"
      },
      "outputs": [
        {
          "data": {
            "text/plain": [
              "<Axes: >"
            ]
          },
          "execution_count": 32,
          "metadata": {},
          "output_type": "execute_result"
        },
        {
          "data": {
            "image/png": "[encoded data removed]",
            "text/plain": [
              "<Figure size 2000x1500 with 2 Axes>"
            ]
          },
          "metadata": {},
          "output_type": "display_data"
        }
      ],
      "source": [
        "#Let's draw the heatmap to verify the correlation between the independent variables.\n",
        "#It is vital to know the behavior of the data used in the Machine Learning model.\n",
        "fcorr = factFraud[['TransactionAmt',\n",
        "                             'card1',\n",
        "                             'addr1',\n",
        "                             'addr2','ProductCD','card4','card6','P_emaildomain']]\n",
        "plt.subplots(figsize=(20,15))\n",
        "sns.heatmap(fcorr.corr(),\n",
        "            cmap=\"Blues\",\n",
        "            annot=True,\n",
        "            linewidths=.5,\n",
        "            mask=np.triu(fcorr.corr()))"
      ]
    },
    {
      "cell_type": "markdown",
      "id": "df358352-9e2d-47d3-92b8-03e9dc9e7151",
      "metadata": {
        "id": "df358352-9e2d-47d3-92b8-03e9dc9e7151"
      },
      "source": [
        "### Dummy Variables  <a class=\"anchor\" id=\"dummyvar\"></a>\n",
        "\n",
        "[TOC](#top)"
      ]
    },
    {
      "cell_type": "markdown",
      "id": "7efcb884-dbe9-4a14-b518-17642f3aacee",
      "metadata": {
        "id": "7efcb884-dbe9-4a14-b518-17642f3aacee"
      },
      "source": [
        "There are four categorical fields in the analyzed dataset. Therefore, it is necessary to create dummy variables with them. Each field was converted into as many 0 and 1 variables as there are different values. The columns in the output were named according to the values in the original fields and prepended to the field's values. For now, It was considered just three fields. The P_emaildomain field will be included in a further version of the project."
      ]
    },
    {
      "cell_type": "code",
      "execution_count": 11,
      "id": "de355377-b194-4c23-8ea6-07ba0f4dd2d0",
      "metadata": {
        "id": "de355377-b194-4c23-8ea6-07ba0f4dd2d0"
      },
      "outputs": [],
      "source": [
        "dummyFraud=pd.get_dummies(notnaFraud[['ProductCD','card4','card6']], drop_first=True)"
      ]
    },
    {
      "cell_type": "code",
      "execution_count": 12,
      "id": "21c26783-c829-45d0-a216-5917e392d4d8",
      "metadata": {
        "id": "21c26783-c829-45d0-a216-5917e392d4d8"
      },
      "outputs": [],
      "source": [
        "#Let's concatenate the original numerical data with the factorized categorical data.\n",
        "fraud=pd.concat([notnaFraud[['isFraud',\n",
        "                             'TransactionAmt',\n",
        "                             'card1',\n",
        "                             'addr1',\n",
        "                             'addr2','C1','C2','C3','C4','C5','C6','C7','C8','C9','C10','C11','C12','C13','C14',\n",
        "                             'V95', 'V96', 'V97','V98', 'V99', 'V100', 'V101', 'V102', 'V103', 'V104', 'V105',\n",
        "                             'V106', 'V107', 'V108', 'V109', 'V110', 'V111',\n",
        "                             'V112', 'V113', 'V114', 'V115', 'V116', 'V117', 'V118', 'V119', 'V120', 'V121', 'V122',\n",
        "                             'V123', 'V124', 'V125', 'V126' , 'V127',\n",
        "                             'V128', 'V129', 'V130', 'V131', 'V132', 'V133', 'V134', 'V135', 'V136', 'V137']].reset_index(drop=True),\n",
        "                             dummyFraud.reset_index(drop=True)], axis=1)\n"
      ]
    },
    {
      "cell_type": "code",
      "execution_count": 13,
      "id": "36955007-bef1-488a-bebd-0b006ed6de4f",
      "metadata": {
        "id": "36955007-bef1-488a-bebd-0b006ed6de4f"
      },
      "outputs": [],
      "source": [
        "X=fraud[['TransactionAmt','card1','addr1','addr2',\n",
        "        'C1','C2','C3','C4','C5','C6','C7','C8','C9','C10','C11','C12','C13','C14',\n",
        "        'V95', 'V96', 'V97','V98', 'V99', 'V100', 'V101', 'V102', 'V103', 'V104', 'V105', 'V106', 'V107', 'V108', 'V109', 'V110', 'V111',\n",
        "        'V112', 'V113', 'V114', 'V115', 'V116', 'V117', 'V118', 'V119', 'V120', 'V121', 'V122', 'V123', 'V124', 'V125', 'V126' , 'V127',\n",
        "        'V128', 'V129', 'V130', 'V131', 'V132', 'V133', 'V134', 'V135', 'V136', 'V137']]\n",
        "\n",
        "y=fraud['isFraud']"
      ]
    },
    {
      "cell_type": "markdown",
      "id": "8e348f41-76b5-4fb3-a044-697825703303",
      "metadata": {
        "id": "8e348f41-76b5-4fb3-a044-697825703303"
      },
      "source": [
        "### Under-sampling data balancing  <a class=\"anchor\" id=\"UndataBalancing\"></a>\n",
        "\n",
        "[TOC](#top)"
      ]
    },
    {
      "cell_type": "markdown",
      "id": "8b50a79d-1bbb-42c2-b510-3af59d98f893",
      "metadata": {
        "id": "8b50a79d-1bbb-42c2-b510-3af59d98f893"
      },
      "source": [
        "The imbalanced datasets are a characteristic of the problem of credit card fraud detection. One can see that the fraud dataset is imbalanced. The issue presents much more legitimate transactions than fraudulent transactions. It is not different in this case, so we must use a technique to balance the data. As the quantity of data is enough, one can use the under-sampling technique. After this process, the remaining data has over 10 thousand legitimate and fraudulent transactions."
      ]
    },
    {
      "cell_type": "code",
      "execution_count": 14,
      "id": "17a53a68-6148-4ed4-be60-5f3b252fb64a",
      "metadata": {
        "id": "17a53a68-6148-4ed4-be60-5f3b252fb64a"
      },
      "outputs": [],
      "source": [
        "#Let's perform an undersampling to balance the data. In this case, it was used a technique of random sampling with replacement.\n",
        "rus = RandomUnderSampler(random_state=42, replacement=True)# fit predictor and target variable\n",
        "x_rus, y_rus = rus.fit_resample(X, y)"
      ]
    },
    {
      "cell_type": "code",
      "execution_count": null,
      "id": "9ab36a23-213b-41d7-a042-a1982fa7cb98",
      "metadata": {
        "colab": {
          "base_uri": "https://localhost:8080/",
          "height": 386
        },
        "id": "9ab36a23-213b-41d7-a042-a1982fa7cb98",
        "outputId": "6b54db47-e863-493e-85ed-ddff408262e2"
      },
      "outputs": [
        {
          "data": {
            "text/html": [
              "\n",
              "<div id=\"altair-viz-cebf0e40fcc94c5482fcbd61319d8b53\"></div>\n",
              "<script type=\"text/javascript\">\n",
              "  var VEGA_DEBUG = (typeof VEGA_DEBUG == \"undefined\") ? {} : VEGA_DEBUG;\n",
              "  (function(spec, embedOpt){\n",
              "    let outputDiv = document.currentScript.previousElementSibling;\n",
              "    if (outputDiv.id !== \"altair-viz-cebf0e40fcc94c5482fcbd61319d8b53\") {\n",
              "      outputDiv = document.getElementById(\"altair-viz-cebf0e40fcc94c5482fcbd61319d8b53\");\n",
              "    }\n",
              "    const paths = {\n",
              "      \"vega\": \"https://cdn.jsdelivr.net/npm//vega@5?noext\",\n",
              "      \"vega-lib\": \"https://cdn.jsdelivr.net/npm//vega-lib?noext\",\n",
              "      \"vega-lite\": \"https://cdn.jsdelivr.net/npm//vega-lite@4.17.0?noext\",\n",
              "      \"vega-embed\": \"https://cdn.jsdelivr.net/npm//vega-embed@6?noext\",\n",
              "    };\n",
              "\n",
              "    function maybeLoadScript(lib, version) {\n",
              "      var key = `${lib.replace(\"-\", \"\")}_version`;\n",
              "      return (VEGA_DEBUG[key] == version) ?\n",
              "        Promise.resolve(paths[lib]) :\n",
              "        new Promise(function(resolve, reject) {\n",
              "          var s = document.createElement('script');\n",
              "          document.getElementsByTagName(\"head\")[0].appendChild(s);\n",
              "          s.async = true;\n",
              "          s.onload = () => {\n",
              "            VEGA_DEBUG[key] = version;\n",
              "            return resolve(paths[lib]);\n",
              "          };\n",
              "          s.onerror = () => reject(`Error loading script: ${paths[lib]}`);\n",
              "          s.src = paths[lib];\n",
              "        });\n",
              "    }\n",
              "\n",
              "    function showError(err) {\n",
              "      outputDiv.innerHTML = `<div class=\"error\" style=\"color:red;\">${err}</div>`;\n",
              "      throw err;\n",
              "    }\n",
              "\n",
              "    function displayChart(vegaEmbed) {\n",
              "      vegaEmbed(outputDiv, spec, embedOpt)\n",
              "        .catch(err => showError(`Javascript Error: ${err.message}<br>This usually means there's a typo in your chart specification. See the javascript console for the full traceback.`));\n",
              "    }\n",
              "\n",
              "    if(typeof define === \"function\" && define.amd) {\n",
              "      requirejs.config({paths});\n",
              "      require([\"vega-embed\"], displayChart, err => showError(`Error loading script: ${err.message}`));\n",
              "    } else {\n",
              "      maybeLoadScript(\"vega\", \"5\")\n",
              "        .then(() => maybeLoadScript(\"vega-lite\", \"4.17.0\"))\n",
              "        .then(() => maybeLoadScript(\"vega-embed\", \"6\"))\n",
              "        .catch(showError)\n",
              "        .then(() => displayChart(vegaEmbed));\n",
              "    }\n",
              "  })({\"config\": {\"view\": {\"continuousWidth\": 400, \"continuousHeight\": 300}}, \"layer\": [{\"mark\": \"bar\", \"encoding\": {\"x\": {\"axis\": {\"labelAngle\": 0}, \"field\": \"index\", \"title\": \"isFraud\", \"type\": \"nominal\"}, \"y\": {\"field\": \"isFraud\", \"title\": \"Count\", \"type\": \"quantitative\"}}}, {\"mark\": {\"type\": \"text\", \"align\": \"left\", \"baseline\": \"bottom\", \"dx\": -5}, \"encoding\": {\"text\": {\"field\": \"isFraud\", \"type\": \"quantitative\"}, \"x\": {\"axis\": {\"labelAngle\": 0}, \"field\": \"index\", \"title\": \"isFraud\", \"type\": \"nominal\"}, \"y\": {\"field\": \"isFraud\", \"title\": \"Count\", \"type\": \"quantitative\"}}}], \"data\": {\"name\": \"data-feb096359e1fdd77bea3086218fac674\"}, \"height\": 300, \"title\": \"Balanced remaning data\", \"width\": 400, \"$schema\": \"https://vega.github.io/schema/vega-lite/v4.17.0.json\", \"datasets\": {\"data-feb096359e1fdd77bea3086218fac674\": [{\"index\": 0, \"isFraud\": 10404}, {\"index\": 1, \"isFraud\": 10404}]}}, {\"mode\": \"vega-lite\"});\n",
              "</script>"
            ],
            "text/plain": [
              "alt.LayerChart(...)"
            ]
          },
          "execution_count": 20,
          "metadata": {},
          "output_type": "execute_result"
        }
      ],
      "source": [
        "#Let's visually see the balanced data in a simple bar chart.\n",
        "bar_chart = alt.Chart(y_rus.value_counts().reset_index().rename(columns={0:'counts'})).mark_bar().encode(\n",
        "    y=alt.Y('isFraud:Q', title='Count'),\n",
        "    x=alt.X('index:N', axis=alt.Axis(labelAngle=0), title='isFraud'))\n",
        "bar_chart\n",
        "text_chart = bar_chart.mark_text(align='left', baseline='bottom', dx=-5).encode(text='isFraud:Q')\n",
        "(bar_chart + text_chart).properties(height=300, width=400, title='Balanced remaning data')"
      ]
    },
    {
      "cell_type": "markdown",
      "id": "e27d38a7-b70f-4ad1-bcd3-9193629741fa",
      "metadata": {
        "id": "e27d38a7-b70f-4ad1-bcd3-9193629741fa"
      },
      "source": [
        "Now, the two classes (legitimate and fraudulent) are balanced."
      ]
    },
    {
      "cell_type": "code",
      "execution_count": null,
      "id": "130e0471-9979-40db-9385-7b20a8889b1b",
      "metadata": {
        "id": "130e0471-9979-40db-9385-7b20a8889b1b",
        "outputId": "27e9ad43-7e61-42d2-dfda-2617a6293bdb"
      },
      "outputs": [
        {
          "data": {
            "image/png": "[encoded data removed]",
            "text/plain": [
              "<Figure size 600x400 with 1 Axes>"
            ]
          },
          "metadata": {},
          "output_type": "display_data"
        }
      ],
      "source": [
        "spd = x_rus[['TransactionAmt']].sample(n = 500)\n",
        "spd.hist(figsize=[6, 4])\n",
        "plt.title('Purchase amount distribution')\n",
        "plt.show()"
      ]
    },
    {
      "cell_type": "code",
      "execution_count": null,
      "id": "ee4e12fd-bf48-4b0c-ac76-0fff37746290",
      "metadata": {
        "id": "ee4e12fd-bf48-4b0c-ac76-0fff37746290"
      },
      "outputs": [],
      "source": []
    },
    {
      "cell_type": "markdown",
      "id": "1bf949c5-c519-407b-bd20-9ca45489e9be",
      "metadata": {
        "id": "1bf949c5-c519-407b-bd20-9ca45489e9be"
      },
      "source": [
        "$H_0:\\mu _{fraud} \\le \\mu _{legitimate} $ (The average purchase amount of fraudulent transactions is not higher than legitimate transactions).\n",
        "\n",
        "$H_1:\\mu _{fraud} > \\mu _{legitimate} $ (The average purchase amount of fraudulent transactions is higher than legitimate transactions)."
      ]
    },
    {
      "cell_type": "code",
      "execution_count": null,
      "id": "381a3330-3840-463d-8ebd-9eb9686aaeb4",
      "metadata": {
        "id": "381a3330-3840-463d-8ebd-9eb9686aaeb4"
      },
      "outputs": [],
      "source": [
        "legitimateTr=x_rus[y_rus == 0]['TransactionAmt'].sample(n = 500)\n",
        "fraudTr=x_rus[y_rus == 1]['TransactionAmt'].sample(n = 500)"
      ]
    },
    {
      "cell_type": "code",
      "execution_count": null,
      "id": "73149640-7e79-4591-978b-0a7e64263df1",
      "metadata": {
        "id": "73149640-7e79-4591-978b-0a7e64263df1",
        "outputId": "5d4997d5-864f-4d89-a0c2-36254897dad2"
      },
      "outputs": [
        {
          "data": {
            "text/plain": [
              "SignificanceResult(statistic=-6.839737987252125, pvalue=6.385569969964051e-13)"
            ]
          },
          "execution_count": 49,
          "metadata": {},
          "output_type": "execute_result"
        }
      ],
      "source": [
        "import scipy.stats as stats\n",
        "stats.poisson_means_test(len(fraudTr), sum(fraudTr), len(legitimateTr), sum(legitimateTr),\n",
        "                        diff=0.0, alternative='less')"
      ]
    },
    {
      "cell_type": "code",
      "execution_count": null,
      "id": "f7c81929-8545-45c0-8c30-056a311ad6d3",
      "metadata": {
        "id": "f7c81929-8545-45c0-8c30-056a311ad6d3"
      },
      "outputs": [],
      "source": []
    },
    {
      "cell_type": "code",
      "execution_count": null,
      "id": "8277aee3-f46c-47cb-bc13-af7f21de4a2a",
      "metadata": {
        "id": "8277aee3-f46c-47cb-bc13-af7f21de4a2a"
      },
      "outputs": [],
      "source": []
    },
    {
      "cell_type": "markdown",
      "id": "c7aca263-9e7f-4454-8c98-57757fe9d4b6",
      "metadata": {
        "id": "c7aca263-9e7f-4454-8c98-57757fe9d4b6"
      },
      "source": [
        "## Fraud classification <a class=\"anchor\" id=\"Unclassification\"></a>\n",
        "\n",
        "[TOC](#top)"
      ]
    },
    {
      "cell_type": "code",
      "execution_count": null,
      "id": "1b69d6da-64ed-4c35-b64a-5c77986fc9fc",
      "metadata": {
        "id": "1b69d6da-64ed-4c35-b64a-5c77986fc9fc"
      },
      "outputs": [],
      "source": []
    },
    {
      "cell_type": "markdown",
      "id": "470f05e1-da46-432a-9d69-21189113645f",
      "metadata": {
        "id": "470f05e1-da46-432a-9d69-21189113645f"
      },
      "source": [
        "### Feature Selection  <a class=\"anchor\" id=\"UnfeatureSelection\"></a>\n",
        "\n",
        "[TOC](#top)"
      ]
    },
    {
      "cell_type": "markdown",
      "id": "aa6124e1-b5bf-42f4-a873-42baa5165cdf",
      "metadata": {
        "id": "aa6124e1-b5bf-42f4-a873-42baa5165cdf"
      },
      "source": [
        "Once the data is balanced, one can perform feature selection. For this task, one chose the Recursive feature elimination with cross-validation to select features. This technique performs recursive feature elimination in a cross-validation loop to find the optimal number of features. Given an external estimator that assigns weights to features, recursive feature elimination aims to select features by recursively considering smaller and smaller sets of features. First, it trains the estimator on the initial set of features, and each feature's importance is obtained either through any specific attribute or callable. Then, it prunes the most minor essential features from the current features. That procedure is recursively repeated on the pruned set until it reaches the desired number of features."
      ]
    },
    {
      "cell_type": "code",
      "execution_count": 15,
      "id": "bd8d7703-9093-4dc3-95ac-9a6177e17ab5",
      "metadata": {
        "id": "bd8d7703-9093-4dc3-95ac-9a6177e17ab5"
      },
      "outputs": [],
      "source": [
        "X_train, X_test, y_train, y_test = train_test_split(x_rus, y_rus,\n",
        "                                                    test_size=0.2,\n",
        "                                                    random_state=42)"
      ]
    },
    {
      "cell_type": "code",
      "execution_count": 16,
      "id": "856ba76b-bf59-4fcf-882d-8a489bbbebb1",
      "metadata": {
        "colab": {
          "base_uri": "https://localhost:8080/"
        },
        "id": "856ba76b-bf59-4fcf-882d-8a489bbbebb1",
        "outputId": "4bbbb594-3bd2-4ddb-ca9f-7be4b2fdbf82"
      },
      "outputs": [
        {
          "output_type": "stream",
          "name": "stdout",
          "text": [
            "Optimal number of features: 13\n",
            "Selected features: Index(['TransactionAmt', 'card1', 'addr1', 'C1', 'C2', 'C5', 'C9', 'C13',\n",
            "       'C14', 'V126', 'V127', 'V128', 'V133'],\n",
            "      dtype='object')\n"
          ]
        }
      ],
      "source": [
        "\n",
        "min_features_to_select = 1  # Minimum number of features to consider\n",
        "clf = RandomForestClassifier(n_estimators=10,\n",
        "                             random_state=42)\n",
        "\n",
        "cv = StratifiedKFold(5)\n",
        "\n",
        "rfecv = RFECV(\n",
        "    estimator=clf,\n",
        "    step=1,\n",
        "    cv=cv,\n",
        "    scoring=\"accuracy\",\n",
        "    min_features_to_select=min_features_to_select,\n",
        "    n_jobs=2,\n",
        ")\n",
        "rfecv.fit(X_train, y_train)\n",
        "\n",
        "print(f\"Optimal number of features: {rfecv.n_features_}\")\n",
        "print(f\"Selected features: {X_train.columns[rfecv.support_]}\")"
      ]
    },
    {
      "cell_type": "code",
      "execution_count": null,
      "id": "777f2f17-9205-4445-b067-a3d9f8b6c82e",
      "metadata": {
        "colab": {
          "base_uri": "https://localhost:8080/",
          "height": 493
        },
        "id": "777f2f17-9205-4445-b067-a3d9f8b6c82e",
        "outputId": "5eed18e0-c884-44e5-fb11-b7f4c0cb838a"
      },
      "outputs": [
        {
          "output_type": "display_data",
          "data": {
            "text/plain": [
              "<Figure size 640x480 with 1 Axes>"
            ],
            "image/png": "[encoded data removed]"
          },
          "metadata": {}
        }
      ],
      "source": [
        "n_scores = len(rfecv.cv_results_[\"mean_test_score\"])\n",
        "plt.figure()\n",
        "plt.xlabel(\"Number of features selected\")\n",
        "plt.ylabel(\"Mean test accuracy\")\n",
        "plt.errorbar(\n",
        "    range(min_features_to_select, n_scores + min_features_to_select),\n",
        "    rfecv.cv_results_[\"mean_test_score\"],\n",
        "    yerr=rfecv.cv_results_[\"std_test_score\"],\n",
        ")\n",
        "plt.title(\"Recursive Fraud Feature Elimination \\nwith correlated features\")\n",
        "plt.show()"
      ]
    },
    {
      "cell_type": "markdown",
      "id": "d4c25ff7-9008-4a51-922c-60e00da6f5ea",
      "metadata": {
        "id": "d4c25ff7-9008-4a51-922c-60e00da6f5ea"
      },
      "source": []
    },
    {
      "cell_type": "markdown",
      "id": "cfc840dd-e41e-49b8-b7f4-2f00b61e7f8c",
      "metadata": {
        "id": "cfc840dd-e41e-49b8-b7f4-2f00b61e7f8c"
      },
      "source": [
        "This section presents some baseline models to set the stage for advanced modeling in the future project step. One can see the performance of four models: Decision Trees, Random Forests, Adaboost,  and Support Vector Machines. A feature selection is set for all models using a recursive feature elimination with cross-validation based on the Random Forests classifier. Next, a pipeline is designed with these steps: feature selection, feature scaling, model hyperparameters optimization, and training. To articulate a model evaluation, a performance metric report for each model is presented with accuracy, precision, recall, and f1-score."
      ]
    },
    {
      "cell_type": "markdown",
      "id": "9d16798a-b1c8-4cfe-b716-6bfeb6098aca",
      "metadata": {
        "id": "9d16798a-b1c8-4cfe-b716-6bfeb6098aca"
      },
      "source": [
        "### Decision trees models <a class=\"anchor\" id=\"UndecisionTrees\"></a>\n",
        "\n",
        "[TOC](#top)"
      ]
    },
    {
      "cell_type": "code",
      "execution_count": null,
      "id": "c50fd1a5-46f8-408e-9714-c5c2abd3b585",
      "metadata": {
        "colab": {
          "base_uri": "https://localhost:8080/"
        },
        "id": "c50fd1a5-46f8-408e-9714-c5c2abd3b585",
        "outputId": "6ff2e726-d7cb-4ac9-b7e6-c3baddd845bc"
      },
      "outputs": [
        {
          "name": "stdout",
          "output_type": "stream",
          "text": [
            "              precision    recall  f1-score   support\n",
            "\n",
            "           0       0.72      0.78      0.75      2056\n",
            "           1       0.77      0.70      0.73      2106\n",
            "\n",
            "    accuracy                           0.74      4162\n",
            "   macro avg       0.74      0.74      0.74      4162\n",
            "weighted avg       0.74      0.74      0.74      4162\n",
            "\n"
          ]
        }
      ],
      "source": [
        "#this is the classifier used for feature selection\n",
        "clf_featr_sele = RandomForestClassifier(n_estimators=10,\n",
        "                             random_state=42)\n",
        "\n",
        "rfecv = RFECV(estimator=clf_featr_sele,\n",
        "              step=1,\n",
        "              cv=5,\n",
        "              scoring = 'roc_auc')\n",
        "\n",
        "#you can have different classifier for your final classifier\n",
        "clf = DecisionTreeClassifier()\n",
        "\n",
        "\n",
        "CV_dt = GridSearchCV(clf,\n",
        "                      param_grid={\n",
        "                          'criterion': ['gini', 'entropy'],\n",
        "                          'max_depth': [2,4,6],\n",
        "                          'min_samples_leaf': [1, 2]},\n",
        "                      cv= 5,\n",
        "                      scoring = 'roc_auc')\n",
        "\n",
        "\n",
        "pipeline  = Pipeline([('feature_sele',rfecv),\n",
        "                      ('scale', StandardScaler()),\n",
        "                      ('clf_cv',CV_dt)])\n",
        "\n",
        "pipeline.fit(X_train, y_train)\n",
        "y_pred=pipeline.predict(X_test)\n",
        "print(classification_report(y_test, y_pred))"
      ]
    },
    {
      "cell_type": "markdown",
      "id": "5f3c2bf5-9726-42f1-b6d3-b88496a1bc81",
      "metadata": {
        "id": "5f3c2bf5-9726-42f1-b6d3-b88496a1bc81"
      },
      "source": [
        "The Decision Trees performance was:\n",
        "- Accuracy equals to 74%.\n",
        "- Precision equals 72% for legitimate class and 77% for fraudulent class.\n",
        "- Recall equals 78% for genuine class and 70% for fraudulent class.\n",
        "- F1-score equals 75% for the genuine class and 73% for the fraudulent class."
      ]
    },
    {
      "cell_type": "markdown",
      "id": "61394416-c6e5-40a1-a432-2eea4084c8b8",
      "metadata": {
        "id": "61394416-c6e5-40a1-a432-2eea4084c8b8"
      },
      "source": [
        "### Random forests models<a class=\"anchor\" id=\"UnrandomForests\"></a>\n",
        "\n",
        "[TOC](#top)"
      ]
    },
    {
      "cell_type": "code",
      "execution_count": null,
      "id": "747acdce-807e-4ad7-b131-1c53de9ab789",
      "metadata": {
        "colab": {
          "base_uri": "https://localhost:8080/"
        },
        "id": "747acdce-807e-4ad7-b131-1c53de9ab789",
        "outputId": "34b1d614-6575-4b9b-cbc5-b312926eff61"
      },
      "outputs": [
        {
          "name": "stdout",
          "output_type": "stream",
          "text": [
            "              precision    recall  f1-score   support\n",
            "\n",
            "           0       0.69      0.79      0.74      2056\n",
            "           1       0.76      0.65      0.70      2106\n",
            "\n",
            "    accuracy                           0.72      4162\n",
            "   macro avg       0.73      0.72      0.72      4162\n",
            "weighted avg       0.73      0.72      0.72      4162\n",
            "\n"
          ]
        }
      ],
      "source": [
        "#this is the classifier used for feature selection\n",
        "clf_featr_sele = RandomForestClassifier(n_estimators=10,\n",
        "                             random_state=42)\n",
        "\n",
        "rfecv = RFECV(estimator=clf_featr_sele,\n",
        "              step=1,\n",
        "              cv=5,\n",
        "              scoring = 'roc_auc')\n",
        "\n",
        "#you can have different classifier for your final classifier\n",
        "clf = RandomForestClassifier(n_estimators=10,\n",
        "                             random_state=42,\n",
        "                             class_weight=\"balanced\")\n",
        "CV_rfc = GridSearchCV(clf,\n",
        "                      param_grid={'max_depth':[2,3]},\n",
        "                      cv= 5, scoring = 'roc_auc')\n",
        "\n",
        "\n",
        "pipeline  = Pipeline([('feature_sele',rfecv),\n",
        "                      ('scale', StandardScaler()),\n",
        "                      ('clf_cv',CV_rfc)])\n",
        "\n",
        "pipeline.fit(X_train, y_train)\n",
        "y_pred=pipeline.predict(X_test)\n",
        "print(classification_report(y_test, y_pred))"
      ]
    },
    {
      "cell_type": "markdown",
      "id": "2c2c00fe-4f41-4e38-bb14-d0791e7f63f4",
      "metadata": {
        "id": "2c2c00fe-4f41-4e38-bb14-d0791e7f63f4"
      },
      "source": [
        "The Random Forests performance was:\n",
        "- Accuracy equals to 72%.\n",
        "- Precision equals 69% for the legitimate class and 76% for the fraudulent class.\n",
        "- Recall equals 79% for genuine class and 65% for fraudulent class.\n",
        "- F1-score equals 74% for the genuine class and 70% for the fraudulent class."
      ]
    },
    {
      "cell_type": "markdown",
      "id": "02fab88c-48c6-4254-95ed-23edb6e1d7bd",
      "metadata": {
        "id": "02fab88c-48c6-4254-95ed-23edb6e1d7bd"
      },
      "source": [
        "### AdaBoost model <a class=\"anchor\" id=\"UnAdaBoost\"></a>\n",
        "\n",
        "[TOC](#top)"
      ]
    },
    {
      "cell_type": "code",
      "execution_count": null,
      "id": "a144c010-8e95-46b0-81b8-733bf3a09a38",
      "metadata": {
        "colab": {
          "base_uri": "https://localhost:8080/"
        },
        "id": "a144c010-8e95-46b0-81b8-733bf3a09a38",
        "outputId": "c186638c-129a-462a-bf38-43f1fed1e9d6"
      },
      "outputs": [
        {
          "name": "stdout",
          "output_type": "stream",
          "text": [
            "              precision    recall  f1-score   support\n",
            "\n",
            "           0       0.77      0.78      0.78      2056\n",
            "           1       0.79      0.78      0.78      2106\n",
            "\n",
            "    accuracy                           0.78      4162\n",
            "   macro avg       0.78      0.78      0.78      4162\n",
            "weighted avg       0.78      0.78      0.78      4162\n",
            "\n"
          ]
        }
      ],
      "source": [
        "#this is the classifier used for feature selection\n",
        "clf_featr_sele = RandomForestClassifier(n_estimators=10,\n",
        "                             random_state=42)\n",
        "\n",
        "rfecv = RFECV(estimator=clf_featr_sele,\n",
        "              step=1,\n",
        "              cv=5,\n",
        "              scoring = 'roc_auc')\n",
        "\n",
        "#you can have different classifier for your final classifier\n",
        "DTC = DecisionTreeClassifier(class_weight = \"balanced\")\n",
        "clf = AdaBoostClassifier()\n",
        "\n",
        "CV_ada = GridSearchCV(clf,\n",
        "                      param_grid = {\n",
        "                          'estimator':[DTC],\n",
        "                          'learning_rate': [0.1, 0.5],\n",
        "                          'n_estimators': [10, 20]},\n",
        "                      cv= 5,\n",
        "                      scoring = 'roc_auc')\n",
        "\n",
        "\n",
        "pipeline  = Pipeline([('feature_sele',rfecv),\n",
        "                      ('scale', StandardScaler()),\n",
        "                      ('clf_cv',CV_ada)])\n",
        "\n",
        "pipeline.fit(X_train, y_train)\n",
        "y_pred=pipeline.predict(X_test)\n",
        "print(classification_report(y_test, y_pred))"
      ]
    },
    {
      "cell_type": "markdown",
      "id": "871d71fa-83d3-4875-bffe-11e0b6b15271",
      "metadata": {
        "id": "871d71fa-83d3-4875-bffe-11e0b6b15271"
      },
      "source": [
        "The Adaboost performance was:\n",
        "- Accuracy equals to 78%.\n",
        "- Precision equals 78% for the legitimate class and 78% for the fraudulent class.\n",
        "- Recall equals 78% for genuine class and 79% for fraudulent class.\n",
        "- F1-score equals 78% for the genuine class and 78% for the fraudulent class.\n"
      ]
    },
    {
      "cell_type": "markdown",
      "id": "bb4586d4-08bf-428f-9a2e-f7ae2afd7f0f",
      "metadata": {
        "id": "bb4586d4-08bf-428f-9a2e-f7ae2afd7f0f"
      },
      "source": [
        "### Suport Vector Machines model <a class=\"anchor\" id=\"UnSVM\"></a>\n",
        "\n",
        "[TOC](#top)"
      ]
    },
    {
      "cell_type": "code",
      "execution_count": null,
      "id": "c044a7ec-415d-43d5-8ac8-db9b7caee92d",
      "metadata": {
        "colab": {
          "base_uri": "https://localhost:8080/"
        },
        "id": "c044a7ec-415d-43d5-8ac8-db9b7caee92d",
        "outputId": "b40c3f11-857e-4acd-f484-bff7a4dea2ef"
      },
      "outputs": [
        {
          "name": "stdout",
          "output_type": "stream",
          "text": [
            "              precision    recall  f1-score   support\n",
            "\n",
            "           0       0.69      0.81      0.74      2056\n",
            "           1       0.77      0.64      0.70      2106\n",
            "\n",
            "    accuracy                           0.72      4162\n",
            "   macro avg       0.73      0.73      0.72      4162\n",
            "weighted avg       0.73      0.72      0.72      4162\n",
            "\n"
          ]
        }
      ],
      "source": [
        "#this is the classifier used for feature selection\n",
        "clf_featr_sele = RandomForestClassifier(n_estimators=10,\n",
        "                             random_state=42)\n",
        "\n",
        "rfecv = RFECV(estimator=clf_featr_sele,\n",
        "              step=1,\n",
        "              cv=5,\n",
        "              scoring = 'roc_auc')\n",
        "\n",
        "#you can have different classifier for your final classifier\n",
        "clf = svm.SVC()\n",
        "\n",
        "CV_svm = GridSearchCV(clf,\n",
        "                      param_grid={'C':[0.1, 1.0, 10],\n",
        "                                  'kernel':['linear','rbf']},\n",
        "                      cv= 5,\n",
        "                      scoring = 'roc_auc')\n",
        "\n",
        "\n",
        "pipeline  = Pipeline([('feature_sele',rfecv),\n",
        "                      ('scale', StandardScaler()),\n",
        "                      ('clf_cv',CV_svm)])\n",
        "\n",
        "pipeline.fit(X_train, y_train)\n",
        "y_pred=pipeline.predict(X_test)\n",
        "print(classification_report(y_test, y_pred))"
      ]
    },
    {
      "cell_type": "markdown",
      "id": "bed3fb5f-659d-4ecc-b87e-d8515309f11e",
      "metadata": {
        "id": "bed3fb5f-659d-4ecc-b87e-d8515309f11e"
      },
      "source": [
        "### Artificial Neural Networks <a class=\"anchor\" id=\"UnANN\"></a>\n",
        "\n",
        "[TOC](#top)"
      ]
    },
    {
      "cell_type": "code",
      "execution_count": null,
      "id": "de08cc06-2381-4e1a-b2f4-bffc21530b99",
      "metadata": {
        "id": "de08cc06-2381-4e1a-b2f4-bffc21530b99"
      },
      "outputs": [],
      "source": []
    },
    {
      "cell_type": "code",
      "execution_count": null,
      "id": "82b9fc61-06a2-424d-99ef-07e6b00699db",
      "metadata": {
        "colab": {
          "base_uri": "https://localhost:8080/"
        },
        "id": "82b9fc61-06a2-424d-99ef-07e6b00699db",
        "outputId": "8edf0046-1895-4c66-cfc3-9b3cd887af9c"
      },
      "outputs": [
        {
          "name": "stdout",
          "output_type": "stream",
          "text": [
            "cuda:0\n"
          ]
        }
      ],
      "source": []
    },
    {
      "cell_type": "code",
      "execution_count": null,
      "id": "132e8eb2-7262-4d4c-8170-60802a4c85d5",
      "metadata": {
        "id": "132e8eb2-7262-4d4c-8170-60802a4c85d5"
      },
      "outputs": [],
      "source": []
    },
    {
      "cell_type": "code",
      "execution_count": 17,
      "id": "bb272853-4de1-4499-a74c-c6d7addd7e39",
      "metadata": {
        "colab": {
          "base_uri": "https://localhost:8080/"
        },
        "id": "bb272853-4de1-4499-a74c-c6d7addd7e39",
        "outputId": "a7879136-b836-4902-812e-7dcf152bf541"
      },
      "outputs": [
        {
          "output_type": "stream",
          "name": "stdout",
          "text": [
            "Net(\n",
            "  (hidden1): Linear(in_features=13, out_features=12, bias=True)\n",
            "  (act1): ReLU()\n",
            "  (hidden2): Linear(in_features=12, out_features=8, bias=True)\n",
            "  (act2): ReLU()\n",
            "  (output): Linear(in_features=8, out_features=1, bias=True)\n",
            "  (act_output): Sigmoid()\n",
            ")\n"
          ]
        }
      ],
      "source": [
        "class Net(nn.Module):\n",
        "    def __init__(self):\n",
        "        super().__init__()\n",
        "        self.hidden1 = nn.Linear(rfecv.n_features_, 12)\n",
        "        self.act1 = nn.ReLU()\n",
        "        self.hidden2 = nn.Linear(12, 8)\n",
        "        self.act2 = nn.ReLU()\n",
        "        self.output = nn.Linear(8, 1)\n",
        "        self.act_output = nn.Sigmoid()\n",
        "\n",
        "    def forward(self, x):\n",
        "        x = self.act1(self.hidden1(x))\n",
        "        x = self.act2(self.hidden2(x))\n",
        "        x = self.act_output(self.output(x))\n",
        "        return x\n",
        "\n",
        "model = Net()\n",
        "print(model)"
      ]
    },
    {
      "cell_type": "code",
      "execution_count": 18,
      "id": "918814ad-76df-4b94-a047-7880c3be6124",
      "metadata": {
        "colab": {
          "base_uri": "https://localhost:8080/"
        },
        "id": "918814ad-76df-4b94-a047-7880c3be6124",
        "outputId": "8d17223a-4463-4b32-e46c-d0e2c74f03c7"
      },
      "outputs": [
        {
          "output_type": "stream",
          "name": "stdout",
          "text": [
            "cuda:0\n"
          ]
        }
      ],
      "source": [
        "device = torch.device('cuda:0' if torch.cuda.is_available() else 'cpu')\n",
        "model.to(device)\n",
        "print(device)"
      ]
    },
    {
      "cell_type": "code",
      "execution_count": null,
      "id": "f4661497-98dd-4364-9e2f-575848d4d892",
      "metadata": {
        "id": "f4661497-98dd-4364-9e2f-575848d4d892"
      },
      "outputs": [],
      "source": []
    },
    {
      "cell_type": "code",
      "execution_count": 19,
      "id": "4f8dd155-18ff-403c-966e-e56382f7f5f9",
      "metadata": {
        "id": "4f8dd155-18ff-403c-966e-e56382f7f5f9"
      },
      "outputs": [],
      "source": [
        "loss_fn = nn.BCELoss()  # binary cross entropy\n",
        "optimizer = optim.Adam(model.parameters(), lr=0.001)"
      ]
    },
    {
      "cell_type": "code",
      "execution_count": null,
      "id": "a9547a6c-9928-4e26-a17a-a20056dfe942",
      "metadata": {
        "id": "a9547a6c-9928-4e26-a17a-a20056dfe942"
      },
      "outputs": [],
      "source": []
    },
    {
      "cell_type": "code",
      "execution_count": 20,
      "id": "bb690c91-31c5-4413-b0e7-8d16f39aded7",
      "metadata": {
        "id": "bb690c91-31c5-4413-b0e7-8d16f39aded7"
      },
      "outputs": [],
      "source": [
        "scaler = StandardScaler().fit(X_train[X_train.columns[rfecv.support_]])\n",
        "X_tr_scaled = scaler.transform(X_train[X_train.columns[rfecv.support_]])\n",
        "X_te_scaled = scaler.transform(X_test[X_test.columns[rfecv.support_]])"
      ]
    },
    {
      "cell_type": "code",
      "execution_count": null,
      "id": "da36d1b1-ff76-4877-b2e7-c0d7377d6271",
      "metadata": {
        "id": "da36d1b1-ff76-4877-b2e7-c0d7377d6271"
      },
      "outputs": [],
      "source": []
    },
    {
      "cell_type": "code",
      "execution_count": null,
      "id": "9f7ce3f8-e9ff-4acc-979c-2802cd76648c",
      "metadata": {
        "id": "9f7ce3f8-e9ff-4acc-979c-2802cd76648c"
      },
      "outputs": [],
      "source": []
    },
    {
      "cell_type": "code",
      "execution_count": 21,
      "id": "d51fef2c-ef9c-499a-b85e-845344bcaa15",
      "metadata": {
        "id": "d51fef2c-ef9c-499a-b85e-845344bcaa15"
      },
      "outputs": [],
      "source": [
        "X_train_nn = torch.tensor(X_tr_scaled, dtype=torch.float32).to(device)\n",
        "y_train_nn = torch.tensor(y_train.to_numpy(), dtype=torch.float32).reshape(-1, 1).to(device)"
      ]
    },
    {
      "cell_type": "code",
      "execution_count": 22,
      "id": "82f891ba-9e36-4036-ad49-f3c05721eb02",
      "metadata": {
        "colab": {
          "base_uri": "https://localhost:8080/"
        },
        "id": "82f891ba-9e36-4036-ad49-f3c05721eb02",
        "outputId": "09828f29-9be9-4b0e-b70c-0d0e0a788e51"
      },
      "outputs": [
        {
          "output_type": "stream",
          "name": "stdout",
          "text": [
            "Finished epoch 0, latest loss 0.6079594492912292\n",
            "Finished epoch 1, latest loss 0.5439404249191284\n",
            "Finished epoch 2, latest loss 0.4998403787612915\n",
            "Finished epoch 3, latest loss 0.472756952047348\n",
            "Finished epoch 4, latest loss 0.4626452624797821\n",
            "Finished epoch 5, latest loss 0.4501606822013855\n",
            "Finished epoch 6, latest loss 0.4387757182121277\n",
            "Finished epoch 7, latest loss 0.4231882095336914\n",
            "Finished epoch 8, latest loss 0.4110768437385559\n",
            "Finished epoch 9, latest loss 0.40524932742118835\n",
            "Finished epoch 10, latest loss 0.3970720171928406\n",
            "Finished epoch 11, latest loss 0.40266454219818115\n",
            "Finished epoch 12, latest loss 0.39484190940856934\n",
            "Finished epoch 13, latest loss 0.3930680751800537\n",
            "Finished epoch 14, latest loss 0.3907049894332886\n",
            "Finished epoch 15, latest loss 0.39693892002105713\n",
            "Finished epoch 16, latest loss 0.39117932319641113\n",
            "Finished epoch 17, latest loss 0.38432082533836365\n",
            "Finished epoch 18, latest loss 0.38222354650497437\n",
            "Finished epoch 19, latest loss 0.38606005907058716\n",
            "Finished epoch 20, latest loss 0.37892138957977295\n",
            "Finished epoch 21, latest loss 0.37954673171043396\n",
            "Finished epoch 22, latest loss 0.3824618458747864\n",
            "Finished epoch 23, latest loss 0.3795876204967499\n",
            "Finished epoch 24, latest loss 0.3882250487804413\n"
          ]
        }
      ],
      "source": [
        "n_epochs = 25 #50\n",
        "batch_size = 10\n",
        "\n",
        "for epoch in range(n_epochs):\n",
        "    for i in range(0, len(X_train_nn), batch_size):\n",
        "        Xbatch = X_train_nn[i:i+batch_size]\n",
        "        y_pred = model(Xbatch)\n",
        "        ybatch = y_train_nn[i:i+batch_size]\n",
        "        loss = loss_fn(y_pred, ybatch)\n",
        "        optimizer.zero_grad()\n",
        "        loss.backward()\n",
        "        optimizer.step()\n",
        "    print(f'Finished epoch {epoch}, latest loss {loss}')"
      ]
    },
    {
      "cell_type": "code",
      "execution_count": null,
      "id": "1b0ef90c-c755-4961-9754-b5403f13dfd5",
      "metadata": {
        "id": "1b0ef90c-c755-4961-9754-b5403f13dfd5"
      },
      "outputs": [],
      "source": []
    },
    {
      "cell_type": "code",
      "execution_count": 30,
      "id": "13a0199f-fec3-49b0-af6d-760f87dc9224",
      "metadata": {
        "id": "13a0199f-fec3-49b0-af6d-760f87dc9224"
      },
      "outputs": [],
      "source": [
        "X_test_nn = torch.tensor(X_te_scaled, dtype=torch.float32).to(device)\n",
        "y_test_nn = torch.tensor(y_test.to_numpy(), dtype=torch.float32).reshape(-1, 1).to(device)"
      ]
    },
    {
      "cell_type": "code",
      "execution_count": null,
      "id": "ae24b7c6-7a1a-47ca-8120-98af9ef617cb",
      "metadata": {
        "id": "ae24b7c6-7a1a-47ca-8120-98af9ef617cb"
      },
      "outputs": [],
      "source": []
    },
    {
      "cell_type": "code",
      "execution_count": null,
      "id": "08419651-56d1-49e1-828f-ebb0ba376e5c",
      "metadata": {
        "id": "08419651-56d1-49e1-828f-ebb0ba376e5c"
      },
      "outputs": [],
      "source": []
    },
    {
      "cell_type": "code",
      "execution_count": 44,
      "id": "cb1f43f4-d929-47c6-8573-c2a8a09f0840",
      "metadata": {
        "colab": {
          "base_uri": "https://localhost:8080/"
        },
        "id": "cb1f43f4-d929-47c6-8573-c2a8a09f0840",
        "outputId": "f78b00b7-d3a8-42e9-fa8d-e4586840f3db"
      },
      "outputs": [
        {
          "output_type": "stream",
          "name": "stdout",
          "text": [
            "Accuracy 0.7457953095436096\n"
          ]
        }
      ],
      "source": [
        "with torch.no_grad(): y_pred = model(X_test_nn)\n",
        "accuracy = (y_pred.round() == y_test_nn).float().mean()\n",
        "print(f\"Accuracy {accuracy}\")"
      ]
    },
    {
      "cell_type": "code",
      "execution_count": 45,
      "id": "c385b052-b37b-4eca-9e48-f41238c86d75",
      "metadata": {
        "id": "c385b052-b37b-4eca-9e48-f41238c86d75",
        "colab": {
          "base_uri": "https://localhost:8080/"
        },
        "outputId": "c6f0f1cb-b600-45ee-8193-4e42e20e41b0"
      },
      "outputs": [
        {
          "output_type": "stream",
          "name": "stdout",
          "text": [
            "Accuracy 0.7457952907256127\n",
            "Precision 0.7217777777777777\n",
            "Recall 0.7898832684824902\n",
            "F1-score 0.7542963307013469\n"
          ]
        }
      ],
      "source": [
        "y_pred=pd.DataFrame(y_pred.round().cpu().detach().numpy())\n",
        "print(f\"Accuracy {accuracy_score(y_test, y_pred)}\")\n",
        "print(f\"Precision {precision_score(y_test, y_pred, pos_label=1)}\")\n",
        "print(f\"Recall {recall_score(y_test, y_pred, pos_label=1)}\")\n",
        "print(f\"F1-score {f1_score(y_test, y_pred, pos_label=1)}\")"
      ]
    },
    {
      "cell_type": "code",
      "source": [
        "print(f\"Precision {precision_score(y_test, y_pred, pos_label=0)}\")\n",
        "print(f\"Recall {recall_score(y_test, y_pred, pos_label=0)}\")\n",
        "print(f\"F1-score {f1_score(y_test, y_pred, pos_label=0)}\")"
      ],
      "metadata": {
        "id": "yVe8S-6D6O61"
      },
      "id": "yVe8S-6D6O61",
      "execution_count": null,
      "outputs": []
    },
    {
      "cell_type": "code",
      "execution_count": null,
      "id": "dd4c8732-e400-47b9-ac57-5175934b18e9",
      "metadata": {
        "id": "dd4c8732-e400-47b9-ac57-5175934b18e9"
      },
      "outputs": [],
      "source": []
    },
    {
      "cell_type": "code",
      "execution_count": null,
      "id": "af58bf6c-c7bb-4c34-90f1-3552dfebac66",
      "metadata": {
        "id": "af58bf6c-c7bb-4c34-90f1-3552dfebac66"
      },
      "outputs": [],
      "source": []
    },
    {
      "cell_type": "code",
      "execution_count": null,
      "id": "d2d6ee61-9bbe-4806-a1c0-ae95de6523b6",
      "metadata": {
        "id": "d2d6ee61-9bbe-4806-a1c0-ae95de6523b6"
      },
      "outputs": [],
      "source": []
    },
    {
      "cell_type": "code",
      "execution_count": null,
      "id": "16591d06-3c87-43ce-8af2-73c5c75ab570",
      "metadata": {
        "id": "16591d06-3c87-43ce-8af2-73c5c75ab570"
      },
      "outputs": [],
      "source": []
    },
    {
      "cell_type": "code",
      "execution_count": null,
      "id": "6a779256-3de9-43f1-a84c-30f56af5028e",
      "metadata": {
        "id": "6a779256-3de9-43f1-a84c-30f56af5028e"
      },
      "outputs": [],
      "source": []
    },
    {
      "cell_type": "code",
      "execution_count": null,
      "id": "83369d75-127c-419b-bdba-74694de8e161",
      "metadata": {
        "id": "83369d75-127c-419b-bdba-74694de8e161"
      },
      "outputs": [],
      "source": []
    },
    {
      "cell_type": "code",
      "execution_count": null,
      "id": "870ed401-eb59-46e1-a54c-5f4009a68222",
      "metadata": {
        "id": "870ed401-eb59-46e1-a54c-5f4009a68222"
      },
      "outputs": [],
      "source": []
    },
    {
      "cell_type": "markdown",
      "id": "6c140144-eefb-4ee9-a071-0ed8e60cf1e1",
      "metadata": {
        "id": "6c140144-eefb-4ee9-a071-0ed8e60cf1e1"
      },
      "source": [
        "The Support Vector Machines performance was:\n",
        "- Accuracy equals to 72%.\n",
        "- Precision equals 69% for the legitimate class and 77% for the fraudulent class.\n",
        "- Recall equals 81% for genuine class and 64% for fraudulent class.\n",
        "- F1-score equals 74% for the genuine class and 70% for the fraudulent class."
      ]
    },
    {
      "cell_type": "markdown",
      "id": "0731a16a-d290-4604-ad59-15e8a5358e82",
      "metadata": {
        "id": "0731a16a-d290-4604-ad59-15e8a5358e82"
      },
      "source": []
    },
    {
      "cell_type": "markdown",
      "id": "f47b49e8-e1af-4726-b2ab-2b77d231d7dd",
      "metadata": {
        "id": "f47b49e8-e1af-4726-b2ab-2b77d231d7dd"
      },
      "source": []
    },
    {
      "cell_type": "code",
      "execution_count": null,
      "id": "e19b9cec-4eb5-47db-96e7-f5fddce71a81",
      "metadata": {
        "colab": {
          "base_uri": "https://localhost:8080/"
        },
        "id": "e19b9cec-4eb5-47db-96e7-f5fddce71a81",
        "outputId": "b4f2373f-04a3-492c-cf8b-4e362a023cc8"
      },
      "outputs": [
        {
          "data": {
            "text/plain": [
              "(431291, 61)"
            ]
          },
          "execution_count": 37,
          "metadata": {},
          "output_type": "execute_result"
        }
      ],
      "source": [
        "X.shape"
      ]
    },
    {
      "cell_type": "code",
      "execution_count": null,
      "id": "53af99e2-072a-4e52-a4cd-c999d24d11dc",
      "metadata": {
        "colab": {
          "base_uri": "https://localhost:8080/"
        },
        "id": "53af99e2-072a-4e52-a4cd-c999d24d11dc",
        "outputId": "ce89b77b-4479-48eb-ae59-d555c206e7ff"
      },
      "outputs": [
        {
          "data": {
            "text/plain": [
              "(431291,)"
            ]
          },
          "execution_count": 38,
          "metadata": {},
          "output_type": "execute_result"
        }
      ],
      "source": [
        "y.shape"
      ]
    },
    {
      "cell_type": "code",
      "execution_count": null,
      "id": "nK2RKQYZCpBu",
      "metadata": {
        "id": "nK2RKQYZCpBu"
      },
      "outputs": [],
      "source": []
    },
    {
      "cell_type": "markdown",
      "id": "sRREF780CqAM",
      "metadata": {
        "id": "sRREF780CqAM"
      },
      "source": [
        "<table>\n",
        "    <thead>\n",
        "        <tr>\n",
        "            <th>Models</th>\n",
        "            <th>Accuracy</th>\n",
        "            <th colspan=2 align=center>Precision</th>\n",
        "            <th colspan=2 align=center>Recall</th>\n",
        "            <th colspan=2 align=center>F1-score</th>\n",
        "        </tr>\n",
        "    </thead>\n",
        "    <tbody>\n",
        "        <tr>\n",
        "            <td></td>       \n",
        "            <td></td>\n",
        "            <td>Legitimate</td>\n",
        "            <td>Fraud</td>\n",
        "            <td>Legitimate</td>\n",
        "            <td>Fraud</td>\n",
        "            <td>Legitimate</td>\n",
        "            <td>Fraud</td>\n",
        "        </tr>\n",
        "        <tr>\n",
        "            <td align=right>Decision trees</td>\n",
        "            <td  align=center>3</td>            \n",
        "            <td align=center>sss</td>\n",
        "            <td align=center>zz</td>\n",
        "            <td align=center>aa</td>\n",
        "            <td align=center>ss</td>\n",
        "            <td align=center>ss</td>\n",
        "            <td align=center>ss</td>\n",
        "        </tr>\n",
        "        <tr>\n",
        "            <td align=right>Random forests</td>\n",
        "            <td align=center>qq</td>\n",
        "            <td align=center>ww</td>\n",
        "            <td align=center>zz</td>\n",
        "            <td align=center></td>\n",
        "            <td align=center>ss</td>\n",
        "            <td align=center>dd</td>\n",
        "            <td align=center>ss</td>\n",
        "        </tr>\n",
        "        <tr>\n",
        "            <td align=right>Adaboost</td>\n",
        "            <td align=center>ll</td>\n",
        "            <td align=center>xx</td>\n",
        "            <td align=center>zz</td>\n",
        "            <td align=center></td>\n",
        "            <td align=center>ss</td>\n",
        "            <td align=center></td>\n",
        "            <td align=center>ss</td>\n",
        "        </tr>\n",
        "        <tr>\n",
        "            <td align=right>Suport vector machines</td>\n",
        "            <td align=center>ll</td>\n",
        "            <td align=center>oo</td>\n",
        "            <td align=center>zz</td>\n",
        "            <td align=center>dd</td>\n",
        "            <td align=center>ss</td>\n",
        "            <td align=center></td>\n",
        "            <td align=center>ss</td>\n",
        "        </tr>\n",
        "        <tr>\n",
        "            <td align=right>Artificial neural networks</td>\n",
        "            <td align=center>L2</td>\n",
        "            <td align=center>L3</td>\n",
        "            <td align=center>zz</td>\n",
        "            <td align=center></td>\n",
        "            <td align=center>ss</td>\n",
        "            <td align=center></td>\n",
        "            <td align=center>ss</td>\n",
        "        </tr>\n",
        "    </tbody>\n",
        "</table>"
      ]
    },
    {
      "cell_type": "markdown",
      "id": "_YqFXpoHBWvt",
      "metadata": {
        "id": "_YqFXpoHBWvt"
      },
      "source": [
        "### Upper-sampling data balancing  <a class=\"anchor\" id=\"UpdataBalancing\"></a>\n",
        "\n",
        "[TOC](#top)"
      ]
    },
    {
      "cell_type": "code",
      "execution_count": null,
      "id": "c63d6532-8fb8-44cb-9e17-1c3e39f7d2aa",
      "metadata": {
        "id": "c63d6532-8fb8-44cb-9e17-1c3e39f7d2aa"
      },
      "outputs": [],
      "source": []
    },
    {
      "cell_type": "markdown",
      "id": "585a0f7c-6d8c-4c5c-9744-fa300400aa87",
      "metadata": {
        "id": "585a0f7c-6d8c-4c5c-9744-fa300400aa87"
      },
      "source": []
    },
    {
      "cell_type": "code",
      "execution_count": 46,
      "id": "4ad339a9-0707-4220-9afb-4bb5b845ab7b",
      "metadata": {
        "id": "4ad339a9-0707-4220-9afb-4bb5b845ab7b"
      },
      "outputs": [],
      "source": [
        "from imblearn.over_sampling import SMOTE\n",
        "X_resampled, y_resampled = SMOTE().fit_resample(X, y)"
      ]
    },
    {
      "cell_type": "code",
      "source": [
        "X_resampled.shape"
      ],
      "metadata": {
        "colab": {
          "base_uri": "https://localhost:8080/"
        },
        "id": "ZfCElt3P1XCn",
        "outputId": "f46cb0ed-d779-4104-ac2e-ced10f89330c"
      },
      "id": "ZfCElt3P1XCn",
      "execution_count": null,
      "outputs": [
        {
          "output_type": "execute_result",
          "data": {
            "text/plain": [
              "(841774, 61)"
            ]
          },
          "metadata": {},
          "execution_count": 15
        }
      ]
    },
    {
      "cell_type": "code",
      "source": [
        "y_resampled.shape"
      ],
      "metadata": {
        "colab": {
          "base_uri": "https://localhost:8080/"
        },
        "id": "oKa00wHq3xiI",
        "outputId": "593a6222-300e-42db-fde1-22aac6462c0a"
      },
      "id": "oKa00wHq3xiI",
      "execution_count": null,
      "outputs": [
        {
          "output_type": "execute_result",
          "data": {
            "text/plain": [
              "(841774,)"
            ]
          },
          "metadata": {},
          "execution_count": 16
        }
      ]
    },
    {
      "cell_type": "code",
      "execution_count": null,
      "id": "db503f53-28ea-424a-be1c-bc767373db7c",
      "metadata": {
        "id": "db503f53-28ea-424a-be1c-bc767373db7c",
        "outputId": "6f30385f-025e-4be0-8410-99b0f61ac2b8",
        "colab": {
          "base_uri": "https://localhost:8080/",
          "height": 391
        }
      },
      "outputs": [
        {
          "output_type": "display_data",
          "data": {
            "text/plain": [
              "<Figure size 600x400 with 1 Axes>"
            ],
            "image/png": "[encoded data removed]"
          },
          "metadata": {}
        }
      ],
      "source": [
        "spd = X_resampled[['TransactionAmt']].sample(n = 500)\n",
        "spd.hist(figsize=[6, 4])\n",
        "plt.title('Purchase amount distribution')\n",
        "plt.show()"
      ]
    },
    {
      "cell_type": "code",
      "execution_count": null,
      "id": "2ca080c6-a61b-4f37-8fe7-f1e0eede6935",
      "metadata": {
        "id": "2ca080c6-a61b-4f37-8fe7-f1e0eede6935"
      },
      "outputs": [],
      "source": []
    },
    {
      "cell_type": "markdown",
      "id": "67559c36-b0bd-41ee-9238-4d684b9e2371",
      "metadata": {
        "id": "67559c36-b0bd-41ee-9238-4d684b9e2371"
      },
      "source": [
        "$H_0:\\mu _{fraud} \\le \\mu _{legitimate} $ (The average purchase amount of fraudulent transactions is not higher than legitimate transactions).\n",
        "\n",
        "$H_1:\\mu _{fraud} > \\mu _{legitimate} $ (The average purchase amount of fraudulent transactions is higher than legitimate transactions)."
      ]
    },
    {
      "cell_type": "code",
      "execution_count": null,
      "id": "9b3d8dae-962e-4ee4-a635-2144849e2a61",
      "metadata": {
        "id": "9b3d8dae-962e-4ee4-a635-2144849e2a61"
      },
      "outputs": [],
      "source": [
        "legitimateTr=X_resampled[y_resampled == 0]['TransactionAmt'].sample(n = 500)\n",
        "fraudTr=X_resampled[y_resampled == 1]['TransactionAmt'].sample(n = 500)"
      ]
    },
    {
      "cell_type": "code",
      "execution_count": null,
      "id": "a0b45d13-3dbf-4644-a04e-58b0457e39d8",
      "metadata": {
        "id": "a0b45d13-3dbf-4644-a04e-58b0457e39d8",
        "outputId": "f9c42ab3-4f4c-4c08-bc98-893d1332fdbe"
      },
      "outputs": [
        {
          "data": {
            "text/plain": [
              "SignificanceResult(statistic=-6.621041691322041, pvalue=3.646401413993543e-12)"
            ]
          },
          "execution_count": 52,
          "metadata": {},
          "output_type": "execute_result"
        }
      ],
      "source": [
        "import scipy.stats as stats\n",
        "stats.poisson_means_test(len(fraudTr), sum(fraudTr), len(legitimateTr), sum(legitimateTr),\n",
        "                        diff=0.0, alternative='less')"
      ]
    },
    {
      "cell_type": "code",
      "execution_count": null,
      "id": "1f46d629-aea3-46d1-8956-b1ddfcef82dd",
      "metadata": {
        "id": "1f46d629-aea3-46d1-8956-b1ddfcef82dd"
      },
      "outputs": [],
      "source": []
    },
    {
      "cell_type": "code",
      "execution_count": 57,
      "id": "65b61b2b-7d88-4fd3-ad41-dcc16d0c037f",
      "metadata": {
        "id": "65b61b2b-7d88-4fd3-ad41-dcc16d0c037f"
      },
      "outputs": [],
      "source": [
        "X_train, X_test, y_train, y_test = train_test_split(X_resampled, y_resampled,\n",
        "                                                    test_size=0.2,\n",
        "                                                    random_state=42)"
      ]
    },
    {
      "cell_type": "code",
      "execution_count": null,
      "id": "4568cac9-761a-4efe-a14a-3c8f760880bf",
      "metadata": {
        "id": "4568cac9-761a-4efe-a14a-3c8f760880bf"
      },
      "outputs": [],
      "source": []
    },
    {
      "cell_type": "markdown",
      "id": "e69c030b-13f9-4541-a344-818cf5bd289e",
      "metadata": {
        "id": "e69c030b-13f9-4541-a344-818cf5bd289e"
      },
      "source": [
        "### Fraud Classification with Upper Sampling  <a class=\"anchor\" id=\"Upclassification\"></a>\n",
        "\n",
        "[TOC](#top)"
      ]
    },
    {
      "cell_type": "code",
      "execution_count": null,
      "id": "42019163-770a-402b-8627-993e8ba63140",
      "metadata": {
        "id": "42019163-770a-402b-8627-993e8ba63140"
      },
      "outputs": [],
      "source": []
    },
    {
      "cell_type": "code",
      "execution_count": null,
      "id": "41b84443-cff0-4472-8e9c-dd6ab816416c",
      "metadata": {
        "id": "41b84443-cff0-4472-8e9c-dd6ab816416c"
      },
      "outputs": [],
      "source": []
    },
    {
      "cell_type": "markdown",
      "id": "b890fe87-8e58-4bf6-918c-3de7577573ea",
      "metadata": {
        "id": "b890fe87-8e58-4bf6-918c-3de7577573ea"
      },
      "source": [
        "### Feature Selection  <a class=\"anchor\" id=\"UpfeatureSelection\"></a>\n",
        "\n",
        "[TOC](#top)"
      ]
    },
    {
      "cell_type": "code",
      "execution_count": null,
      "id": "27a5bd1e-6bee-4bba-bbd8-4098b73b02f4",
      "metadata": {
        "id": "27a5bd1e-6bee-4bba-bbd8-4098b73b02f4"
      },
      "outputs": [],
      "source": []
    },
    {
      "cell_type": "code",
      "execution_count": 58,
      "id": "b478bcd1-953a-4b30-a566-ae2fc1cf716c",
      "metadata": {
        "colab": {
          "base_uri": "https://localhost:8080/"
        },
        "id": "b478bcd1-953a-4b30-a566-ae2fc1cf716c",
        "outputId": "5b0a96bc-8406-4795-ad9a-54348a3ee6a9"
      },
      "outputs": [
        {
          "output_type": "stream",
          "name": "stdout",
          "text": [
            "Optimal number of features: 14\n",
            "Selected features: Index(['TransactionAmt', 'card1', 'addr1', 'C1', 'C2', 'C4', 'C5', 'C6', 'C9',\n",
            "       'C11', 'C13', 'C14', 'V97', 'V133'],\n",
            "      dtype='object')\n"
          ]
        }
      ],
      "source": [
        "min_features_to_select = 1  # Minimum number of features to consider\n",
        "clf = RandomForestClassifier(n_estimators=10,\n",
        "                             random_state=42)\n",
        "\n",
        "cv = StratifiedKFold(5)\n",
        "\n",
        "rfecv = RFECV(\n",
        "    estimator=clf,\n",
        "    step=1,\n",
        "    cv=cv,\n",
        "    scoring=\"accuracy\",\n",
        "    min_features_to_select=min_features_to_select,\n",
        "    n_jobs=2,\n",
        ")\n",
        "rfecv.fit(X_train, y_train)\n",
        "\n",
        "print(f\"Optimal number of features: {rfecv.n_features_}\")\n",
        "print(f\"Selected features: {X_train.columns[rfecv.support_]}\")"
      ]
    },
    {
      "cell_type": "code",
      "execution_count": 59,
      "id": "7d6dd4d0-1c24-4f29-b6cd-6c472408a47a",
      "metadata": {
        "colab": {
          "base_uri": "https://localhost:8080/",
          "height": 493
        },
        "id": "7d6dd4d0-1c24-4f29-b6cd-6c472408a47a",
        "outputId": "51312543-c2a3-40ff-91d5-7d29f3a71081"
      },
      "outputs": [
        {
          "output_type": "display_data",
          "data": {
            "text/plain": [
              "<Figure size 640x480 with 1 Axes>"
            ],
            "image/png": "[encoded data removed]"
          },
          "metadata": {}
        }
      ],
      "source": [
        "n_scores = len(rfecv.cv_results_[\"mean_test_score\"])\n",
        "plt.figure()\n",
        "plt.xlabel(\"Number of features selected\")\n",
        "plt.ylabel(\"Mean test accuracy\")\n",
        "plt.errorbar(\n",
        "    range(min_features_to_select, n_scores + min_features_to_select),\n",
        "    rfecv.cv_results_[\"mean_test_score\"],\n",
        "    yerr=rfecv.cv_results_[\"std_test_score\"],\n",
        ")\n",
        "plt.title(\"Recursive Fraud Feature Elimination \\nwith correlated features\")\n",
        "plt.show()"
      ]
    },
    {
      "cell_type": "markdown",
      "id": "455ac7e7-5ac9-4f41-8ebe-556a8f05ea8e",
      "metadata": {
        "id": "455ac7e7-5ac9-4f41-8ebe-556a8f05ea8e"
      },
      "source": [
        "### Decision trees models <a class=\"anchor\" id=\"UpdecisionTrees\"></a>\n",
        "\n",
        "[TOC](#top)"
      ]
    },
    {
      "cell_type": "code",
      "execution_count": null,
      "id": "5NnIGUaquloo",
      "metadata": {
        "colab": {
          "base_uri": "https://localhost:8080/"
        },
        "id": "5NnIGUaquloo",
        "outputId": "81f75172-f759-4aa4-98c4-3299088f70ba"
      },
      "outputs": [
        {
          "name": "stdout",
          "output_type": "stream",
          "text": [
            "              precision    recall  f1-score   support\n",
            "\n",
            "           0       0.85      0.87      0.86     84160\n",
            "           1       0.87      0.84      0.85     84195\n",
            "\n",
            "    accuracy                           0.86    168355\n",
            "   macro avg       0.86      0.86      0.86    168355\n",
            "weighted avg       0.86      0.86      0.86    168355\n",
            "\n"
          ]
        }
      ],
      "source": [
        "#this is the classifier used for feature selection\n",
        "clf_featr_sele = RandomForestClassifier(n_estimators=10,\n",
        "                             random_state=42)\n",
        "\n",
        "rfecv = RFECV(estimator=clf_featr_sele,\n",
        "              step=1,\n",
        "              cv=5,\n",
        "              scoring = 'roc_auc')\n",
        "\n",
        "#you can have different classifier for your final classifier\n",
        "clf = DecisionTreeClassifier()\n",
        "\n",
        "\n",
        "CV_dt = GridSearchCV(clf,\n",
        "                      param_grid={\n",
        "                          'criterion': ['gini', 'entropy'],\n",
        "                          'max_depth': [2,4,6],\n",
        "                          'min_samples_leaf': [1, 2]},\n",
        "                      cv= 5,\n",
        "                      scoring = 'roc_auc')\n",
        "\n",
        "\n",
        "pipeline  = Pipeline([('feature_sele',rfecv),\n",
        "                      ('scale', StandardScaler()),\n",
        "                      ('clf_cv',CV_dt)])\n",
        "\n",
        "pipeline.fit(X_train, y_train)\n",
        "y_pred=pipeline.predict(X_test)\n",
        "print(classification_report(y_test, y_pred))"
      ]
    },
    {
      "cell_type": "markdown",
      "id": "cbebae17-7372-4b48-8706-14256c5cb2ff",
      "metadata": {
        "id": "cbebae17-7372-4b48-8706-14256c5cb2ff"
      },
      "source": [
        "### Random forests models<a class=\"anchor\" id=\"UprandomForests\"></a>\n",
        "\n",
        "[TOC](#top)"
      ]
    },
    {
      "cell_type": "code",
      "execution_count": null,
      "id": "N00P78zDux5_",
      "metadata": {
        "colab": {
          "base_uri": "https://localhost:8080/"
        },
        "id": "N00P78zDux5_",
        "outputId": "5e0c9d52-4f84-4e86-961a-a6769fbbec2c"
      },
      "outputs": [
        {
          "name": "stdout",
          "output_type": "stream",
          "text": [
            "              precision    recall  f1-score   support\n",
            "\n",
            "           0       0.77      0.87      0.82     84160\n",
            "           1       0.85      0.74      0.80     84195\n",
            "\n",
            "    accuracy                           0.81    168355\n",
            "   macro avg       0.81      0.81      0.81    168355\n",
            "weighted avg       0.81      0.81      0.81    168355\n",
            "\n"
          ]
        }
      ],
      "source": [
        "#this is the classifier used for feature selection\n",
        "clf_featr_sele = RandomForestClassifier(n_estimators=10,\n",
        "                             random_state=42)\n",
        "\n",
        "rfecv = RFECV(estimator=clf_featr_sele,\n",
        "              step=1,\n",
        "              cv=5,\n",
        "              scoring = 'roc_auc')\n",
        "\n",
        "#you can have different classifier for your final classifier\n",
        "clf = RandomForestClassifier(n_estimators=10,\n",
        "                             random_state=42,\n",
        "                             class_weight=\"balanced\")\n",
        "CV_rfc = GridSearchCV(clf,\n",
        "                      param_grid={'max_depth':[2,3]},\n",
        "                      cv= 5, scoring = 'roc_auc')\n",
        "\n",
        "\n",
        "pipeline  = Pipeline([('feature_sele',rfecv),\n",
        "                      ('scale', StandardScaler()),\n",
        "                      ('clf_cv',CV_rfc)])\n",
        "\n",
        "pipeline.fit(X_train, y_train)\n",
        "y_pred=pipeline.predict(X_test)\n",
        "print(classification_report(y_test, y_pred))"
      ]
    },
    {
      "cell_type": "code",
      "execution_count": null,
      "id": "skhJeRoEux8k",
      "metadata": {
        "id": "skhJeRoEux8k"
      },
      "outputs": [],
      "source": []
    },
    {
      "cell_type": "markdown",
      "id": "d388a081-ce44-4f44-a7d3-77e2d5701efc",
      "metadata": {
        "id": "d388a081-ce44-4f44-a7d3-77e2d5701efc"
      },
      "source": [
        "### AdaBoost model <a class=\"anchor\" id=\"UpAdaBoost\"></a>\n",
        "\n",
        "[TOC](#top)"
      ]
    },
    {
      "cell_type": "code",
      "execution_count": null,
      "id": "FsMCKvYdulu4",
      "metadata": {
        "id": "FsMCKvYdulu4"
      },
      "outputs": [],
      "source": []
    },
    {
      "cell_type": "code",
      "execution_count": null,
      "id": "b5f6640b-de59-4ceb-a753-c35dd5b40ce9",
      "metadata": {
        "colab": {
          "base_uri": "https://localhost:8080/"
        },
        "id": "b5f6640b-de59-4ceb-a753-c35dd5b40ce9",
        "outputId": "7ca98b1e-0480-4eee-8801-caf9d0ef56c0"
      },
      "outputs": [
        {
          "name": "stdout",
          "output_type": "stream",
          "text": [
            "              precision    recall  f1-score   support\n",
            "\n",
            "           0       0.98      0.99      0.99     84160\n",
            "           1       0.99      0.98      0.99     84195\n",
            "\n",
            "    accuracy                           0.99    168355\n",
            "   macro avg       0.99      0.99      0.99    168355\n",
            "weighted avg       0.99      0.99      0.99    168355\n",
            "\n"
          ]
        }
      ],
      "source": [
        "#this is the classifier used for feature selection\n",
        "clf_featr_sele = RandomForestClassifier(n_estimators=10,\n",
        "                             random_state=42)\n",
        "\n",
        "rfecv = RFECV(estimator=clf_featr_sele,\n",
        "              step=1,\n",
        "              cv=5,\n",
        "              scoring = 'roc_auc')\n",
        "\n",
        "#you can have different classifier for your final classifier\n",
        "DTC = DecisionTreeClassifier(class_weight = \"balanced\")\n",
        "clf = AdaBoostClassifier()\n",
        "\n",
        "CV_ada = GridSearchCV(clf,\n",
        "                      param_grid = {\n",
        "                          'estimator':[DTC],\n",
        "                          'learning_rate': [0.1, 0.5],\n",
        "                          'n_estimators': [10, 20]},\n",
        "                      cv= 5,\n",
        "                      scoring = 'roc_auc')\n",
        "\n",
        "\n",
        "pipeline  = Pipeline([('feature_sele',rfecv),\n",
        "                      ('scale', StandardScaler()),\n",
        "                      ('clf_cv',CV_ada)])\n",
        "\n",
        "pipeline.fit(X_train, y_train)\n",
        "y_pred=pipeline.predict(X_test)\n",
        "print(classification_report(y_test, y_pred))"
      ]
    },
    {
      "cell_type": "code",
      "execution_count": null,
      "id": "c84983ea-a07b-448e-b0e1-3e40661428a4",
      "metadata": {
        "colab": {
          "base_uri": "https://localhost:8080/",
          "height": 449
        },
        "id": "c84983ea-a07b-448e-b0e1-3e40661428a4",
        "outputId": "6316903b-8ff8-4ce0-c5f3-92e225687978"
      },
      "outputs": [
        {
          "data": {
            "image/png": "[encoded data removed]",
            "text/plain": [
              "<Figure size 640x480 with 2 Axes>"
            ]
          },
          "metadata": {},
          "output_type": "display_data"
        }
      ],
      "source": [
        "from sklearn.metrics import confusion_matrix, ConfusionMatrixDisplay\n",
        "import matplotlib.pyplot as plt\n",
        "\n",
        "cm = confusion_matrix(y_test, y_pred)\n",
        "disp = ConfusionMatrixDisplay(confusion_matrix=cm)\n",
        "disp.plot()\n",
        "plt.show()"
      ]
    },
    {
      "cell_type": "code",
      "execution_count": null,
      "id": "f323ece3-4841-4e8c-bf80-f6586ff464cf",
      "metadata": {
        "id": "f323ece3-4841-4e8c-bf80-f6586ff464cf"
      },
      "outputs": [],
      "source": []
    },
    {
      "cell_type": "markdown",
      "id": "9b3304d8-32db-48d0-a9ec-3bc8fe605eee",
      "metadata": {
        "id": "9b3304d8-32db-48d0-a9ec-3bc8fe605eee"
      },
      "source": [
        "### Suport Vector Machines model <a class=\"anchor\" id=\"UpSVM\"></a>\n",
        "\n",
        "[TOC](#top)"
      ]
    },
    {
      "cell_type": "code",
      "execution_count": null,
      "id": "beHcc_kINqUz",
      "metadata": {
        "id": "beHcc_kINqUz"
      },
      "outputs": [],
      "source": [
        "#this is the classifier used for feature selection\n",
        "#clf_featr_sele = RandomForestClassifier(n_estimators=10,\n",
        "                             random_state=42)\n",
        "\n",
        "#rfecv = RFECV(estimator=clf_featr_sele,\n",
        "#              step=1,\n",
        "#              cv=5,\n",
        "#              scoring = 'roc_auc')\n",
        "\n",
        "#you can have different classifier for your final classifier\n",
        "#clf = svm.SVC()\n",
        "\n",
        "#CV_svm = GridSearchCV(clf,\n",
        "#                      param_grid={'C':[0.1, 1.0, 10],\n",
        "#                                  'kernel':['linear','rbf']},\n",
        "#                      cv= 5,\n",
        "#                      scoring = 'roc_auc')\n",
        "\n",
        "\n",
        "#pipeline  = Pipeline([('feature_sele',rfecv),\n",
        "#                      ('scale', StandardScaler()),\n",
        "#                      ('clf_cv',CV_svm)])\n",
        "\n",
        "#pipeline.fit(X_train, y_train)\n",
        "#y_pred=pipeline.predict(X_test)\n",
        "#print(classification_report(y_test, y_pred))"
      ]
    },
    {
      "cell_type": "code",
      "execution_count": null,
      "id": "3mKBP43qNqYh",
      "metadata": {
        "id": "3mKBP43qNqYh"
      },
      "outputs": [],
      "source": []
    },
    {
      "cell_type": "markdown",
      "id": "bf12b8e5-51d6-4c34-ae25-ca30b211f0e5",
      "metadata": {
        "id": "bf12b8e5-51d6-4c34-ae25-ca30b211f0e5"
      },
      "source": [
        "### Artificial Neural Networks <a class=\"anchor\" id=\"UpANN\"></a>\n",
        "\n",
        "[TOC](#top)"
      ]
    },
    {
      "cell_type": "code",
      "execution_count": null,
      "id": "a66ce969-2fbb-4e17-abd8-82e904695332",
      "metadata": {
        "id": "a66ce969-2fbb-4e17-abd8-82e904695332"
      },
      "outputs": [],
      "source": []
    },
    {
      "cell_type": "code",
      "execution_count": 60,
      "id": "00eda37b-ffea-4912-876f-7733b723a886",
      "metadata": {
        "colab": {
          "base_uri": "https://localhost:8080/"
        },
        "id": "00eda37b-ffea-4912-876f-7733b723a886",
        "outputId": "38484301-111e-4580-fad2-3a8293e0437b"
      },
      "outputs": [
        {
          "output_type": "stream",
          "name": "stdout",
          "text": [
            "Net(\n",
            "  (hidden1): Linear(in_features=14, out_features=20, bias=True)\n",
            "  (act1): ReLU()\n",
            "  (hidden2): Linear(in_features=20, out_features=12, bias=True)\n",
            "  (act2): ReLU()\n",
            "  (output): Linear(in_features=12, out_features=1, bias=True)\n",
            "  (act_output): Sigmoid()\n",
            ")\n"
          ]
        }
      ],
      "source": [
        "class Net(nn.Module):\n",
        "    def __init__(self):\n",
        "        super().__init__()\n",
        "        self.hidden1 = nn.Linear(rfecv.n_features_, 20)\n",
        "        self.act1 = nn.ReLU()\n",
        "        self.hidden2 = nn.Linear(20, 12)\n",
        "        self.act2 = nn.ReLU()\n",
        "        self.output = nn.Linear(12, 1)\n",
        "        self.act_output = nn.Sigmoid()\n",
        "\n",
        "    def forward(self, x):\n",
        "        x = self.act1(self.hidden1(x))\n",
        "        x = self.act2(self.hidden2(x))\n",
        "        x = self.act_output(self.output(x))\n",
        "        return x\n",
        "\n",
        "model = Net()\n",
        "print(model)"
      ]
    },
    {
      "cell_type": "code",
      "execution_count": null,
      "id": "c579ec63-e435-41e6-a42b-02dadab51c76",
      "metadata": {
        "id": "c579ec63-e435-41e6-a42b-02dadab51c76"
      },
      "outputs": [],
      "source": []
    },
    {
      "cell_type": "code",
      "execution_count": 61,
      "id": "4d7bd0ec-c96f-4015-8e4e-766ad7fb2651",
      "metadata": {
        "colab": {
          "base_uri": "https://localhost:8080/"
        },
        "id": "4d7bd0ec-c96f-4015-8e4e-766ad7fb2651",
        "outputId": "5878d2c0-81a7-471d-9f36-c70d4939b034"
      },
      "outputs": [
        {
          "output_type": "execute_result",
          "data": {
            "text/plain": [
              "Net(\n",
              "  (hidden1): Linear(in_features=14, out_features=20, bias=True)\n",
              "  (act1): ReLU()\n",
              "  (hidden2): Linear(in_features=20, out_features=12, bias=True)\n",
              "  (act2): ReLU()\n",
              "  (output): Linear(in_features=12, out_features=1, bias=True)\n",
              "  (act_output): Sigmoid()\n",
              ")"
            ]
          },
          "metadata": {},
          "execution_count": 61
        }
      ],
      "source": [
        "device = torch.device('cuda:0' if torch.cuda.is_available() else 'cpu')\n",
        "model.to(device)"
      ]
    },
    {
      "cell_type": "code",
      "execution_count": 62,
      "id": "d5b0af4a-6db9-48ba-95d5-f7d1ba76a5f4",
      "metadata": {
        "id": "d5b0af4a-6db9-48ba-95d5-f7d1ba76a5f4"
      },
      "outputs": [],
      "source": [
        "loss_fn = nn.BCELoss()  # binary cross entropy\n",
        "optimizer = optim.Adam(model.parameters(), lr=0.001)"
      ]
    },
    {
      "cell_type": "code",
      "execution_count": 63,
      "id": "439fb266-4ee1-47ca-a2ea-b76d8fffa47f",
      "metadata": {
        "id": "439fb266-4ee1-47ca-a2ea-b76d8fffa47f"
      },
      "outputs": [],
      "source": [
        "scaler = StandardScaler().fit(X_train[X_train.columns[rfecv.support_]])\n",
        "X_tr_scaled = scaler.transform(X_train[X_train.columns[rfecv.support_]])\n",
        "X_te_scaled = scaler.transform(X_test[X_test.columns[rfecv.support_]])"
      ]
    },
    {
      "cell_type": "code",
      "execution_count": 64,
      "id": "5869b58c-06f5-4fe7-9050-77d2bca01324",
      "metadata": {
        "id": "5869b58c-06f5-4fe7-9050-77d2bca01324"
      },
      "outputs": [],
      "source": [
        "X_train_nn = torch.tensor(X_tr_scaled, dtype=torch.float32).to(device)\n",
        "y_train_nn = torch.tensor(y_train.to_numpy(), dtype=torch.float32).reshape(-1, 1).to(device)"
      ]
    },
    {
      "cell_type": "code",
      "execution_count": 65,
      "id": "df6d6fb6-265c-4ecb-970f-66e32c9a3d9d",
      "metadata": {
        "colab": {
          "base_uri": "https://localhost:8080/"
        },
        "id": "df6d6fb6-265c-4ecb-970f-66e32c9a3d9d",
        "outputId": "e4998f8b-3dfb-4a94-b146-18712245fde2"
      },
      "outputs": [
        {
          "output_type": "stream",
          "name": "stdout",
          "text": [
            "Finished epoch 0, latest loss 0.7456162571907043\n",
            "Finished epoch 1, latest loss 0.7302144169807434\n",
            "Finished epoch 2, latest loss 0.7855074405670166\n",
            "Finished epoch 3, latest loss 0.7601995468139648\n",
            "Finished epoch 4, latest loss 0.7323582172393799\n",
            "Finished epoch 5, latest loss 0.6899523138999939\n",
            "Finished epoch 6, latest loss 0.6636697053909302\n",
            "Finished epoch 7, latest loss 0.6732514500617981\n",
            "Finished epoch 8, latest loss 0.6035556197166443\n",
            "Finished epoch 9, latest loss 0.5619723796844482\n",
            "Finished epoch 10, latest loss 0.5407409071922302\n",
            "Finished epoch 11, latest loss 0.5296480655670166\n",
            "Finished epoch 12, latest loss 0.5335829257965088\n",
            "Finished epoch 13, latest loss 0.531317949295044\n",
            "Finished epoch 14, latest loss 0.5463756918907166\n",
            "Finished epoch 15, latest loss 0.5486534237861633\n",
            "Finished epoch 16, latest loss 0.5424391627311707\n",
            "Finished epoch 17, latest loss 0.5707688927650452\n",
            "Finished epoch 18, latest loss 0.5816079378128052\n",
            "Finished epoch 19, latest loss 0.6106657385826111\n",
            "Finished epoch 20, latest loss 0.59811931848526\n",
            "Finished epoch 21, latest loss 0.5958095192909241\n",
            "Finished epoch 22, latest loss 0.580287754535675\n",
            "Finished epoch 23, latest loss 0.5628085732460022\n",
            "Finished epoch 24, latest loss 0.5355821251869202\n"
          ]
        }
      ],
      "source": [
        "n_epochs = 25 #50\n",
        "batch_size = 10\n",
        "\n",
        "for epoch in range(n_epochs):\n",
        "    for i in range(0, len(X_train_nn), batch_size):\n",
        "        Xbatch = X_train_nn[i:i+batch_size]\n",
        "        y_pred = model(Xbatch)\n",
        "        ybatch = y_train_nn[i:i+batch_size]\n",
        "        loss = loss_fn(y_pred, ybatch)\n",
        "        optimizer.zero_grad()\n",
        "        loss.backward()\n",
        "        optimizer.step()\n",
        "    print(f'Finished epoch {epoch}, latest loss {loss}')"
      ]
    },
    {
      "cell_type": "code",
      "execution_count": 71,
      "id": "39c83c1a-58bd-4ab7-bde1-b186842c2815",
      "metadata": {
        "id": "39c83c1a-58bd-4ab7-bde1-b186842c2815"
      },
      "outputs": [],
      "source": [
        "X_test_nn = torch.tensor(X_te_scaled, dtype=torch.float32).to(device)\n",
        "y_test_nn = torch.tensor(y_test.to_numpy(), dtype=torch.float32).reshape(-1, 1).to(device)"
      ]
    },
    {
      "cell_type": "code",
      "execution_count": 72,
      "id": "c7b9f2b5-7cdf-49c8-b26f-3da20b645114",
      "metadata": {
        "colab": {
          "base_uri": "https://localhost:8080/"
        },
        "id": "c7b9f2b5-7cdf-49c8-b26f-3da20b645114",
        "outputId": "1e90ed94-ae3e-4178-9d24-07220eb320fc"
      },
      "outputs": [
        {
          "output_type": "stream",
          "name": "stdout",
          "text": [
            "Accuracy 0.820076584815979\n"
          ]
        }
      ],
      "source": [
        "with torch.no_grad(): y_pred = model(X_test_nn)\n",
        "accuracy = (y_pred.round() == y_test_nn).float().mean()\n",
        "print(f\"Accuracy {accuracy}\")"
      ]
    },
    {
      "cell_type": "code",
      "execution_count": 73,
      "id": "0861396d-461f-4e5f-981b-72a47424c829",
      "metadata": {
        "id": "0861396d-461f-4e5f-981b-72a47424c829",
        "colab": {
          "base_uri": "https://localhost:8080/"
        },
        "outputId": "3e81c937-cb04-4204-e5df-a29c4858089e"
      },
      "outputs": [
        {
          "output_type": "stream",
          "name": "stdout",
          "text": [
            "Accuracy 0.820076623800897\n",
            "Precision 0.8236078092356458\n",
            "Recall 0.8147158382326741\n",
            "F1-score 0.8191376932308739\n"
          ]
        }
      ],
      "source": [
        "y_pred=pd.DataFrame(y_pred.round().cpu().detach().numpy())\n",
        "print(f\"Accuracy {accuracy_score(y_test, y_pred)}\")\n",
        "print(f\"Precision {precision_score(y_test, y_pred, pos_label=1)}\")\n",
        "print(f\"Recall {recall_score(y_test, y_pred, pos_label=1)}\")\n",
        "print(f\"F1-score {f1_score(y_test, y_pred, pos_label=1)}\")"
      ]
    },
    {
      "cell_type": "code",
      "execution_count": 74,
      "id": "0a8426bb-33ce-43ce-8e1d-6db3daa8cfb0",
      "metadata": {
        "id": "0a8426bb-33ce-43ce-8e1d-6db3daa8cfb0",
        "colab": {
          "base_uri": "https://localhost:8080/"
        },
        "outputId": "7c876526-1322-4179-d862-b8af3311235c"
      },
      "outputs": [
        {
          "output_type": "stream",
          "name": "stdout",
          "text": [
            "Precision 0.8166194500934536\n",
            "Recall 0.82543963878327\n",
            "F1-score 0.8210058559703124\n"
          ]
        }
      ],
      "source": [
        "print(f\"Precision {precision_score(y_test, y_pred, pos_label=0)}\")\n",
        "print(f\"Recall {recall_score(y_test, y_pred, pos_label=0)}\")\n",
        "print(f\"F1-score {f1_score(y_test, y_pred, pos_label=0)}\")"
      ]
    },
    {
      "cell_type": "code",
      "execution_count": null,
      "id": "cab0ac02-dad2-48db-9ca3-4e5d5f475b58",
      "metadata": {
        "id": "cab0ac02-dad2-48db-9ca3-4e5d5f475b58"
      },
      "outputs": [],
      "source": []
    },
    {
      "cell_type": "markdown",
      "id": "JWh1MNWiQkaK",
      "metadata": {
        "id": "JWh1MNWiQkaK"
      },
      "source": [
        "<table>\n",
        "    <thead>\n",
        "        <tr>\n",
        "            <th>Models</th>\n",
        "            <th>Accuracy</th>\n",
        "            <th colspan=2 align=center>Precision</th>\n",
        "            <th colspan=2 align=center>Recall</th>\n",
        "            <th colspan=2 align=center>F1-score</th>\n",
        "        </tr>\n",
        "    </thead>\n",
        "    <tbody>\n",
        "        <tr>\n",
        "            <td></td>       \n",
        "            <td></td>\n",
        "            <td>Legitimate</td>\n",
        "            <td>Fraud</td>\n",
        "            <td>Legitimate</td>\n",
        "            <td>Fraud</td>\n",
        "            <td>Legitimate</td>\n",
        "            <td>Fraud</td>\n",
        "        </tr>\n",
        "        <tr>\n",
        "            <td align=right>Decision trees</td>\n",
        "            <td  align=center>3</td>            \n",
        "            <td align=center>sss</td>\n",
        "            <td align=center>zz</td>\n",
        "            <td align=center>aa</td>\n",
        "            <td align=center>ss</td>\n",
        "            <td align=center>ss</td>\n",
        "            <td align=center>ss</td>\n",
        "        </tr>\n",
        "        <tr>\n",
        "            <td align=right>Random forests</td>\n",
        "            <td align=center>qq</td>\n",
        "            <td align=center>ww</td>\n",
        "            <td align=center>zz</td>\n",
        "            <td align=center></td>\n",
        "            <td align=center>ss</td>\n",
        "            <td align=center>dd</td>\n",
        "            <td align=center>ss</td>\n",
        "        </tr>\n",
        "        <tr>\n",
        "            <td align=right>Adaboost</td>\n",
        "            <td align=center>ll</td>\n",
        "            <td align=center>xx</td>\n",
        "            <td align=center>zz</td>\n",
        "            <td align=center></td>\n",
        "            <td align=center>ss</td>\n",
        "            <td align=center></td>\n",
        "            <td align=center>ss</td>\n",
        "        </tr>\n",
        "        <tr>\n",
        "            <td align=right>Suport vector machines</td>\n",
        "            <td align=center>ll</td>\n",
        "            <td align=center>oo</td>\n",
        "            <td align=center>zz</td>\n",
        "            <td align=center>dd</td>\n",
        "            <td align=center>ss</td>\n",
        "            <td align=center></td>\n",
        "            <td align=center>ss</td>\n",
        "        </tr>\n",
        "        <tr>\n",
        "            <td align=right>Artificial neural networks</td>\n",
        "            <td align=center>L2</td>\n",
        "            <td align=center>L3</td>\n",
        "            <td align=center>zz</td>\n",
        "            <td align=center></td>\n",
        "            <td align=center>ss</td>\n",
        "            <td align=center></td>\n",
        "            <td align=center>ss</td>\n",
        "        </tr>\n",
        "    </tbody>\n",
        "</table>"
      ]
    },
    {
      "cell_type": "markdown",
      "id": "dd5c46fb-0710-4177-99b5-8614c69b1a13",
      "metadata": {
        "id": "dd5c46fb-0710-4177-99b5-8614c69b1a13"
      },
      "source": [
        "## Conclusions <a class=\"anchor\" id=\"conclusions\"></a>\n",
        "\n",
        "[TOC](#top)"
      ]
    },
    {
      "cell_type": "markdown",
      "id": "a241fe95-cd3e-4fcf-a076-07deef2f475b",
      "metadata": {
        "id": "a241fe95-cd3e-4fcf-a076-07deef2f475b"
      },
      "source": [
        "The data was investigated by checking for data unbalancing, visualizing the features, checking the null values, and understanding the relationship between different features. The data were split into train and test sets and scaled, and a feature selection technique based on feature importance was employed and evaluated for use in further pipelines. The hyperparameters were prepared for optimization, and a pipeline was created for each model with feature selection, scaling, hyperparameters tunning, and classification steps. The performance of Decision Trees, Random Forests, and Support Vector Machines are very similar. However, Adaboost ensemble machine learning models present the general best performance compared to all analyzed models. Another work that will be completed in the future is using neural nets to see if we could further improve the model results."
      ]
    },
    {
      "cell_type": "code",
      "execution_count": null,
      "id": "60b9f7a2-6398-44f4-bb0d-0b08f5263a03",
      "metadata": {
        "id": "60b9f7a2-6398-44f4-bb0d-0b08f5263a03"
      },
      "outputs": [],
      "source": []
    }
  ],
  "metadata": {
    "accelerator": "GPU",
    "colab": {
      "gpuType": "T4",
      "provenance": []
    },
    "kernelspec": {
      "display_name": "Python 3 (ipykernel)",
      "language": "python",
      "name": "python3"
    },
    "language_info": {
      "codemirror_mode": {
        "name": "ipython",
        "version": 3
      },
      "file_extension": ".py",
      "mimetype": "text/x-python",
      "name": "python",
      "nbconvert_exporter": "python",
      "pygments_lexer": "ipython3",
      "version": "3.10.11"
    }
  },
  "nbformat": 4,
  "nbformat_minor": 5
}