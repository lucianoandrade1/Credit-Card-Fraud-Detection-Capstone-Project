{
 "cells": [
  {
   "cell_type": "markdown",
   "id": "36e3ac2a-6bf8-4479-bf13-ebf680747fec",
   "metadata": {
    "id": "36e3ac2a-6bf8-4479-bf13-ebf680747fec"
   },
   "source": [
    "# Credit and Debit Card Fraud Detection"
   ]
  },
  {
   "cell_type": "markdown",
   "id": "ee1d0927-c3e8-4a1d-82c4-e55600a02a7b",
   "metadata": {
    "id": "12de18cb-cfd4-45c7-a9c5-7646acf009fc"
   },
   "source": [
    "##  Modeling"
   ]
  },
  {
   "cell_type": "markdown",
   "id": "4df63f78-869c-4937-9bc5-a31fa56ff381",
   "metadata": {
    "id": "4df63f78-869c-4937-9bc5-a31fa56ff381"
   },
   "source": [
    "## Table Of Contents: <a class=\"anchor\" id=\"mtop\"></a>\n",
    "\n",
    "- [Introduction](#intro)\n",
    "- [Fraud Classification with Under Sampling](#Unclassification)\n",
    "    * [Under Sampling Data balancing](#UndataBalancing)\n",
    "    * [Feature Selection](#UnfeatureSelection)\n",
    "    * [Decision Trees models](#UndecisionTrees)\n",
    "    * [Random Forests models](#UnrandomForests)\n",
    "    * [AdaBoost model](#UnAdaBoost)\n",
    "    * [Suport Vector Machines models](#UnSVM)\n",
    "    * [Artificial Neural Networks](#UnANN)\n",
    "    * [Results](#UnResults)\n",
    "- [Fraud Classification with Upper Sampling](#Upclassification)\n",
    "    * [Upper-sampling data balancing](#UpdataBalancing)\n",
    "    * [Feature Selection](#UpfeatureSelection)\n",
    "    * [Decision Trees models](#UpdecisionTrees)\n",
    "    * [Random Forests models](#UprandomForests)\n",
    "    * [AdaBoost model](#UpAdaBoost)\n",
    "    * [Suport Vector Machines models](#UpSVM)\n",
    "    * [Artificial Neural Networks](#UpANN)\n",
    "    * [Results](#UpResults)\n",
    "- [Conclusions](#mconclusions)"
   ]
  },
  {
   "cell_type": "markdown",
   "id": "0be92e72-fc9c-435b-a451-83a8476f8094",
   "metadata": {
    "id": "2115bd6f-e546-45b5-939c-ce022f2f7a50"
   },
   "source": [
    "## Introduction: <a class=\"anchor\" id=\"intro\"></a>\n",
    "\n",
    "[TOC](#mtop)"
   ]
  },
  {
   "cell_type": "markdown",
   "id": "2c0717dd-a4d7-4de9-ac76-42053c6347b5",
   "metadata": {},
   "source": [
    "This notebook comprises the third and last part of the project. One can see the machine learning models in action. The dataset was prepared and saved in the prior notebooks (exploratory data analysis and feature engineering). The current notebook applies five models (Decision Trees, Random Forest, AdaBoost, Support Vector Machines, and Artificial Neural Networks) to the problem of credit and debit card fraud detection. The performance metrics (accuracy, precision, recall, and f1-score) were collected for all models and tabulated for comparison."
   ]
  },
  {
   "cell_type": "code",
   "execution_count": 3,
   "id": "ab4e364c-8cef-4440-9271-c571398f00f5",
   "metadata": {
    "id": "ab4e364c-8cef-4440-9271-c571398f00f5"
   },
   "outputs": [],
   "source": [
    "import pandas as pd\n",
    "from imblearn.under_sampling import RandomUnderSampler\n",
    "from sklearn.model_selection import train_test_split\n",
    "from sklearn.feature_selection import RFECV\n",
    "from sklearn.model_selection import GridSearchCV\n",
    "from sklearn.ensemble import RandomForestClassifier\n",
    "from sklearn.tree import DecisionTreeClassifier\n",
    "from sklearn import svm\n",
    "from sklearn.ensemble import AdaBoostClassifier\n",
    "from sklearn.pipeline import Pipeline\n",
    "from sklearn.preprocessing import StandardScaler\n",
    "from sklearn.model_selection import StratifiedKFold\n",
    "from sklearn.metrics import classification_report\n",
    "from sklearn.ensemble import AdaBoostClassifier\n",
    "from sklearn import svm\n",
    "from sklearn.metrics import confusion_matrix, ConfusionMatrixDisplay\n",
    "import torch\n",
    "import torch.nn as nn\n",
    "import torch.optim as optim\n",
    "from sklearn.metrics import accuracy_score\n",
    "from sklearn.metrics import precision_score\n",
    "from sklearn.metrics import recall_score\n",
    "from sklearn.metrics import f1_score"
   ]
  },
  {
   "cell_type": "markdown",
   "id": "e05c1e21-8d96-4582-acdf-86e593cd3f9a",
   "metadata": {
    "id": "d8e1dc54-38ac-4478-87d9-abcaf9ced22f"
   },
   "source": [
    "The following cell loads the prepared data. The data were submitted to an exploratory data analysis and feature engineering. These two prior stages transform, clean, factorize, scale, and select the data to add this point to be used by the machine learning models. "
   ]
  },
  {
   "cell_type": "code",
   "execution_count": null,
   "id": "21a5b3dd-f28a-42e7-b569-ab10e8460311",
   "metadata": {
    "id": "21a5b3dd-f28a-42e7-b569-ab10e8460311"
   },
   "outputs": [],
   "source": [
    "#from google.colab import drive\n",
    "#drive.mount('/content/drive')"
   ]
  },
  {
   "cell_type": "code",
   "execution_count": 6,
   "id": "06a20a70-d4cd-4402-a2fe-ee0217c16fdb",
   "metadata": {
    "id": "06a20a70-d4cd-4402-a2fe-ee0217c16fdb"
   },
   "outputs": [],
   "source": [
    "#Importing the dataset used to train and test the machine learning models\n",
    "#fraud = pd.read_csv('/content/drive/MyDrive/Colab Notebooks/preparedFraud2.csv')\n",
    "fraud = pd.read_csv('..\\CreditCardFraudDetectionData\\preparedFraud2.csv')"
   ]
  },
  {
   "cell_type": "code",
   "execution_count": 7,
   "id": "6d774e48-9edf-4442-80a4-bdff2eda9d30",
   "metadata": {
    "id": "6d774e48-9edf-4442-80a4-bdff2eda9d30"
   },
   "outputs": [],
   "source": [
    "X=fraud[['TransactionAmt','card1','addr1','addr2',\n",
    "        'C1','C2','C3','C4','C5','C6','C7','C8','C9','C10','C11','C12','C13','C14',\n",
    "        'V95', 'V96', 'V97','V98', 'V99', 'V100', 'V101', 'V102', 'V103', 'V104', 'V105', 'V106', 'V107', 'V108', 'V109', 'V110', 'V111',\n",
    "        'V112', 'V113', 'V114', 'V115', 'V116', 'V117', 'V118', 'V119', 'V120', 'V121', 'V122', 'V123', 'V124', 'V125', 'V126' , 'V127',\n",
    "        'V128', 'V129', 'V130', 'V131', 'V132', 'V133', 'V134', 'V135', 'V136', 'V137']]\n",
    "\n",
    "y=fraud['isFraud']"
   ]
  },
  {
   "cell_type": "markdown",
   "id": "3a910bd9-a899-4372-a58f-7358253bf831",
   "metadata": {
    "id": "e964f011-9061-417d-8999-2748b5691fc6"
   },
   "source": [
    "## Fraud Classification with Under Sampling <a class=\"anchor\" id=\"Unclassification\"></a>\n",
    "\n",
    "[TOC](#mtop)"
   ]
  },
  {
   "cell_type": "markdown",
   "id": "e3c51cee-aece-417f-96f6-d5fc4e10847f",
   "metadata": {
    "id": "e3c51cee-aece-417f-96f6-d5fc4e10847f"
   },
   "source": [
    "### Under-sampling data balancing  <a class=\"anchor\" id=\"UndataBalancing\"></a>\n",
    "\n",
    "[TOC](#mtop)"
   ]
  },
  {
   "cell_type": "markdown",
   "id": "ef6f0f3e-82f5-4280-b289-86231c7a8a02",
   "metadata": {
    "id": "ef6f0f3e-82f5-4280-b289-86231c7a8a02"
   },
   "source": [
    "The imbalanced datasets are characteristic of the problem of credit card fraud detection. The issue presents much more legitimate transactions than fraudulent transactions. It is not different in this case, so we must use a technique to balance the data. First, I will use the under-sampling technique. After this process, the remaining data has over 10 thousand legitimate and fraudulent transactions. The graphic about the balance data was presented in the attached feature engineering notebook."
   ]
  },
  {
   "cell_type": "code",
   "execution_count": null,
   "id": "f1cb46f9-02f1-4667-9a24-6d7725813da7",
   "metadata": {
    "id": "f1cb46f9-02f1-4667-9a24-6d7725813da7"
   },
   "outputs": [],
   "source": [
    "#Let's perform an undersampling to balance the data. In this case, it was used a technique of random sampling with replacement.\n",
    "rus = RandomUnderSampler(random_state=42, replacement=True)# fit predictor and target variable\n",
    "x_rus, y_rus = rus.fit_resample(X, y)"
   ]
  },
  {
   "cell_type": "code",
   "execution_count": null,
   "id": "8b6a1247-0af4-401f-bd35-0ad16e8e11f8",
   "metadata": {
    "id": "8b6a1247-0af4-401f-bd35-0ad16e8e11f8"
   },
   "outputs": [],
   "source": [
    "X_train, X_test, y_train, y_test = train_test_split(x_rus, y_rus, test_size=0.2, random_state=42)"
   ]
  },
  {
   "cell_type": "markdown",
   "id": "94975e05-e323-4c53-8976-6d9c6dd5521c",
   "metadata": {
    "id": "94975e05-e323-4c53-8976-6d9c6dd5521c"
   },
   "source": [
    "This section presents models for advanced modeling. One can see the performance of five models: Decision Trees, Random Forests, Adaboost, Support Vector Machines and Artificial Neural Networks. A feature selection is set for all models using a recursive feature elimination with cross-validation based on the Random Forests classifier. Next, a pipeline is designed with these steps: feature selection, feature scaling, model hyperparameters optimization, and training. To articulate a model evaluation, a performance metric report for each model is presented with accuracy, precision, recall, and f1-score."
   ]
  },
  {
   "cell_type": "markdown",
   "id": "a6e605e0-19d0-4afe-a1eb-b2f057b4087e",
   "metadata": {
    "id": "a6e605e0-19d0-4afe-a1eb-b2f057b4087e"
   },
   "source": [
    "### Feature Selection  <a class=\"anchor\" id=\"UnfeatureSelection\"></a>\n",
    "\n",
    "[TOC](#mtop)"
   ]
  },
  {
   "cell_type": "markdown",
   "id": "bb3d8538-52ff-4228-978d-03db9f210a7f",
   "metadata": {},
   "source": [
    "The feature selection is included in the Pipeline's first step for all models. This way, it is necessary to perform the feature selection here in the Modeling as presented in the feature engineering notebook."
   ]
  },
  {
   "cell_type": "code",
   "execution_count": null,
   "id": "2cd24622-5418-43c5-abca-19ba185487aa",
   "metadata": {
    "id": "2cd24622-5418-43c5-abca-19ba185487aa",
    "outputId": "dd509332-cf8d-43e8-db03-0713c5c3cd85"
   },
   "outputs": [
    {
     "name": "stdout",
     "output_type": "stream",
     "text": [
      "Optimal number of features: 13\n",
      "Selected features: Index(['TransactionAmt', 'card1', 'addr1', 'C1', 'C2', 'C5', 'C9', 'C13',\n",
      "       'C14', 'V126', 'V127', 'V128', 'V133'],\n",
      "      dtype='object')\n"
     ]
    }
   ],
   "source": [
    "min_features_to_select = 1  # Minimum number of features to consider\n",
    "clf = RandomForestClassifier(n_estimators=10,\n",
    "                             random_state=42)\n",
    "\n",
    "cv = StratifiedKFold(5)\n",
    "\n",
    "rfecv = RFECV(\n",
    "    estimator=clf,\n",
    "    step=1,\n",
    "    cv=cv,\n",
    "    scoring=\"accuracy\",\n",
    "    min_features_to_select=min_features_to_select,\n",
    "    n_jobs=2,\n",
    ")\n",
    "rfecv.fit(X_train, y_train)\n",
    "\n",
    "print(f\"Optimal number of features: {rfecv.n_features_}\")\n",
    "print(f\"Selected features: {X_train.columns[rfecv.support_]}\")"
   ]
  },
  {
   "cell_type": "markdown",
   "id": "1ce1f277-dc7c-4b86-868a-3a03efea0e60",
   "metadata": {
    "id": "1ce1f277-dc7c-4b86-868a-3a03efea0e60"
   },
   "source": [
    "### Decision trees models <a class=\"anchor\" id=\"UndecisionTrees\"></a>\n",
    "\n",
    "[TOC](#mtop)"
   ]
  },
  {
   "cell_type": "markdown",
   "id": "89ee0330-3af2-47f0-983d-48aedcaa1f85",
   "metadata": {
    "id": "742efa52-bb86-48cb-972a-c187a714a513"
   },
   "source": [
    "The first model used was the decision trees (DTs)—a non-parametric supervised learning method for classification and regression. The goal is to create a model that predicts the value of a transaction by learning simple decision rules inferred from the data features."
   ]
  },
  {
   "cell_type": "code",
   "execution_count": null,
   "id": "d02311bb-7102-4954-bad5-44fff6603c68",
   "metadata": {
    "id": "d02311bb-7102-4954-bad5-44fff6603c68",
    "outputId": "1fd6c942-287f-4e7a-bdaa-1826eed83609"
   },
   "outputs": [
    {
     "name": "stdout",
     "output_type": "stream",
     "text": [
      "              precision    recall  f1-score   support\n",
      "\n",
      "           0       0.72      0.78      0.75      2056\n",
      "           1       0.77      0.70      0.73      2106\n",
      "\n",
      "    accuracy                           0.74      4162\n",
      "   macro avg       0.74      0.74      0.74      4162\n",
      "weighted avg       0.74      0.74      0.74      4162\n",
      "\n"
     ]
    }
   ],
   "source": [
    "#this is the classifier used for feature selection\n",
    "clf_featr_sele = RandomForestClassifier(n_estimators=10,\n",
    "                             random_state=42)\n",
    "\n",
    "rfecv = RFECV(estimator=clf_featr_sele,\n",
    "              step=1,\n",
    "              cv=5,\n",
    "              scoring = 'roc_auc')\n",
    "\n",
    "#you can have different classifier for your final classifier\n",
    "clf = DecisionTreeClassifier()\n",
    "\n",
    "\n",
    "CV_dt = GridSearchCV(clf,\n",
    "                      param_grid={\n",
    "                          'criterion': ['gini', 'entropy'],\n",
    "                          'max_depth': [2,4,6],\n",
    "                          'min_samples_leaf': [1, 2]},\n",
    "                      cv= 5,\n",
    "                      scoring = 'roc_auc')\n",
    "\n",
    "\n",
    "pipeline  = Pipeline([('feature_sele',rfecv),\n",
    "                      ('scale', StandardScaler()),\n",
    "                      ('clf_cv',CV_dt)])\n",
    "\n",
    "pipeline.fit(X_train, y_train)\n",
    "y_pred=pipeline.predict(X_test)\n",
    "print(classification_report(y_test, y_pred))"
   ]
  },
  {
   "cell_type": "markdown",
   "id": "74f15ecf-62bc-4c60-ae41-f3a6bc84521a",
   "metadata": {
    "id": "74f15ecf-62bc-4c60-ae41-f3a6bc84521a"
   },
   "source": [
    "The Decision Trees performance was:\n",
    "- Accuracy equals to 74%.\n",
    "- Precision equals 72% for legitimate class and 77% for fraudulent class.\n",
    "- Recall equals 78% for genuine class and 70% for fraudulent class.\n",
    "- F1-score equals 75% for the genuine class and 73% for the fraudulent class."
   ]
  },
  {
   "cell_type": "markdown",
   "id": "8b0dd90e-48fa-40a1-9042-033713175fc5",
   "metadata": {
    "id": "8b0dd90e-48fa-40a1-9042-033713175fc5"
   },
   "source": [
    "### Random forests models<a class=\"anchor\" id=\"UnrandomForests\"></a>\n",
    "\n",
    "[TOC](#mtop)"
   ]
  },
  {
   "cell_type": "markdown",
   "id": "ace2ce37-bfb5-4ac8-8773-bbe5ad372cd6",
   "metadata": {
    "id": "32529b70-0e4d-44a5-b522-0251809754e9"
   },
   "source": [
    "A random forest is a meta-estimator that fits several decision tree classifiers on various sub-samples of the dataset and uses averaging to improve the predictive accuracy and control over-fitting. Trees in the forest use the best-split strategy. The sub-sample size is controlled with the max_samples parameter if bootstrap=True (default); otherwise, the whole dataset is used to build each tree."
   ]
  },
  {
   "cell_type": "code",
   "execution_count": null,
   "id": "4a975f09-6e8e-4c9b-9103-49ca3ab48c99",
   "metadata": {
    "id": "4a975f09-6e8e-4c9b-9103-49ca3ab48c99",
    "outputId": "14fcdd4e-b0a8-4df1-820c-e448f8a62c55"
   },
   "outputs": [
    {
     "name": "stdout",
     "output_type": "stream",
     "text": [
      "              precision    recall  f1-score   support\n",
      "\n",
      "           0       0.69      0.79      0.74      2056\n",
      "           1       0.76      0.65      0.70      2106\n",
      "\n",
      "    accuracy                           0.72      4162\n",
      "   macro avg       0.73      0.72      0.72      4162\n",
      "weighted avg       0.73      0.72      0.72      4162\n",
      "\n"
     ]
    }
   ],
   "source": [
    "#this is the classifier used for feature selection\n",
    "clf_featr_sele = RandomForestClassifier(n_estimators=10,\n",
    "                             random_state=42)\n",
    "\n",
    "rfecv = RFECV(estimator=clf_featr_sele,\n",
    "              step=1,\n",
    "              cv=5,\n",
    "              scoring = 'roc_auc')\n",
    "\n",
    "#you can have different classifier for your final classifier\n",
    "clf = RandomForestClassifier(n_estimators=10,\n",
    "                             random_state=42,\n",
    "                             class_weight=\"balanced\")\n",
    "CV_rfc = GridSearchCV(clf,\n",
    "                      param_grid={'max_depth':[2,3]},\n",
    "                      cv= 5, scoring = 'roc_auc')\n",
    "\n",
    "\n",
    "pipeline  = Pipeline([('feature_sele',rfecv),\n",
    "                      ('scale', StandardScaler()),\n",
    "                      ('clf_cv',CV_rfc)])\n",
    "\n",
    "pipeline.fit(X_train, y_train)\n",
    "y_pred=pipeline.predict(X_test)\n",
    "print(classification_report(y_test, y_pred))"
   ]
  },
  {
   "cell_type": "markdown",
   "id": "39088103-96a4-406b-b976-2a845c57ff8e",
   "metadata": {
    "id": "2ec38fda-f6fc-41af-83b8-e6e1e670c193"
   },
   "source": [
    "The Random Forests Trees performance was:\n",
    "- Accuracy equals to 72%.\n",
    "- Precision equals 69% for legitimate class and 76% for fraudulent class.\n",
    "- Recall equals 79% for genuine class and 65% for fraudulent class.\n",
    "- F1-score equals 74% for the genuine class and 70% for the fraudulent class."
   ]
  },
  {
   "cell_type": "markdown",
   "id": "9735e9b2-7396-46a8-8219-2bc3acecfbd3",
   "metadata": {
    "id": "9735e9b2-7396-46a8-8219-2bc3acecfbd3"
   },
   "source": [
    "### AdaBoost model <a class=\"anchor\" id=\"UnAdaBoost\"></a>\n",
    "\n",
    "[TOC](#mtop)"
   ]
  },
  {
   "cell_type": "markdown",
   "id": "b1eef596-1512-40ee-9b43-32f37d980e01",
   "metadata": {
    "id": "a59cae9f-f6b3-4425-9f83-67855a1a82d4"
   },
   "source": [
    "An AdaBoost classifier is a meta-estimator that begins by fitting a classifier on the original dataset and then fits additional copies of the classifier on the same dataset but where the weights of incorrectly classified instances are adjusted such that subsequent classifiers focus more on complex cases."
   ]
  },
  {
   "cell_type": "code",
   "execution_count": null,
   "id": "1e652f7d-0666-484a-bcab-5324d2d0fba3",
   "metadata": {
    "id": "1e652f7d-0666-484a-bcab-5324d2d0fba3",
    "outputId": "254f870a-d648-4228-a3ae-9ec1b65a4424"
   },
   "outputs": [
    {
     "name": "stdout",
     "output_type": "stream",
     "text": [
      "              precision    recall  f1-score   support\n",
      "\n",
      "           0       0.77      0.79      0.78      2056\n",
      "           1       0.79      0.77      0.78      2106\n",
      "\n",
      "    accuracy                           0.78      4162\n",
      "   macro avg       0.78      0.78      0.78      4162\n",
      "weighted avg       0.78      0.78      0.78      4162\n",
      "\n"
     ]
    }
   ],
   "source": [
    "#this is the classifier used for feature selection\n",
    "clf_featr_sele = RandomForestClassifier(n_estimators=10,\n",
    "                             random_state=42)\n",
    "\n",
    "rfecv = RFECV(estimator=clf_featr_sele,\n",
    "              step=1,\n",
    "              cv=5,\n",
    "              scoring = 'roc_auc')\n",
    "\n",
    "#you can have different classifier for your final classifier\n",
    "DTC = DecisionTreeClassifier(class_weight = \"balanced\")\n",
    "clf = AdaBoostClassifier()\n",
    "\n",
    "CV_ada = GridSearchCV(clf,\n",
    "                      param_grid = {\n",
    "                          'estimator':[DTC],\n",
    "                          'learning_rate': [0.1, 0.5],\n",
    "                          'n_estimators': [10, 20]},\n",
    "                      cv= 5,\n",
    "                      scoring = 'roc_auc')\n",
    "\n",
    "\n",
    "pipeline  = Pipeline([('feature_sele',rfecv),\n",
    "                      ('scale', StandardScaler()),\n",
    "                      ('clf_cv',CV_ada)])\n",
    "\n",
    "pipeline.fit(X_train, y_train)\n",
    "y_pred=pipeline.predict(X_test)\n",
    "print(classification_report(y_test, y_pred))"
   ]
  },
  {
   "cell_type": "markdown",
   "id": "78715405-8692-4f88-9891-72cbb381fefc",
   "metadata": {
    "id": "78715405-8692-4f88-9891-72cbb381fefc"
   },
   "source": [
    "The Adaboost performance was:\n",
    "- Accuracy equals to 78%.\n",
    "- Precision equals 77% for the legitimate class and 79% for the fraudulent class.\n",
    "- Recall equals 79% for genuine class and 77% for fraudulent class.\n",
    "- F1-score equals 78% for the genuine class and 78% for the fraudulent class."
   ]
  },
  {
   "cell_type": "markdown",
   "id": "092f9529-c63f-42cf-933c-30eae5d7d82b",
   "metadata": {
    "id": "092f9529-c63f-42cf-933c-30eae5d7d82b"
   },
   "source": [
    "### Suport Vector Machines model <a class=\"anchor\" id=\"UnSVM\"></a>\n",
    "\n",
    "[TOC](#mtop)"
   ]
  },
  {
   "cell_type": "markdown",
   "id": "e7720e7c-bb5d-412c-a56a-88d85473e548",
   "metadata": {
    "id": "f7002281-b90d-4e52-95e8-75d5509ae1ff"
   },
   "source": [
    "Support vector machines (SVMs) are supervised learning methods used for classification, regression and outliers detection.\n",
    "\n",
    "The advantages of support vector machines are:\n",
    "\n",
    "- Effective in high-dimensional spaces.\n",
    "- It is still effective in cases where the number of dimensions is greater than the number of samples.\n",
    "- It uses a subset of training points in the decision function (called support vectors), making it memory efficient.\n",
    "- Versatile: Different kernel functions can be specified for the decision function. Standard kernels are provided, but it is also possible to define custom kernels.\n",
    "\n",
    "The disadvantages of support vector machines include:\n",
    "\n",
    "- If the number of features is much greater than the number of samples, avoiding over-fitting in choosing Kernel functions and regularization terms is crucial.\n",
    "- SVMs do not directly provide probability estimates; these are calculated using an expensive five-fold cross-validation."
   ]
  },
  {
   "cell_type": "code",
   "execution_count": null,
   "id": "4419d23a-88b1-47cb-a2f5-58ee2a3bc4a1",
   "metadata": {
    "id": "4419d23a-88b1-47cb-a2f5-58ee2a3bc4a1",
    "outputId": "3792965a-92fb-44f8-e260-98452edd7db0"
   },
   "outputs": [
    {
     "name": "stdout",
     "output_type": "stream",
     "text": [
      "              precision    recall  f1-score   support\n",
      "\n",
      "           0       0.69      0.81      0.74      2056\n",
      "           1       0.77      0.64      0.70      2106\n",
      "\n",
      "    accuracy                           0.72      4162\n",
      "   macro avg       0.73      0.73      0.72      4162\n",
      "weighted avg       0.73      0.72      0.72      4162\n",
      "\n"
     ]
    }
   ],
   "source": [
    "#this is the classifier used for feature selection\n",
    "clf_featr_sele = RandomForestClassifier(n_estimators=10,\n",
    "                             random_state=42)\n",
    "\n",
    "rfecv = RFECV(estimator=clf_featr_sele,\n",
    "              step=1,\n",
    "              cv=5,\n",
    "              scoring = 'roc_auc')\n",
    "\n",
    "#you can have different classifier for your final classifier\n",
    "clf = svm.SVC()\n",
    "\n",
    "CV_svm = GridSearchCV(clf,\n",
    "                      param_grid={'C':[0.1, 1.0, 10],\n",
    "                                  'kernel':['linear','rbf']},\n",
    "                      cv= 5,\n",
    "                      scoring = 'roc_auc')\n",
    "\n",
    "\n",
    "pipeline  = Pipeline([('feature_sele',rfecv),\n",
    "                      ('scale', StandardScaler()),\n",
    "                      ('clf_cv',CV_svm)])\n",
    "\n",
    "pipeline.fit(X_train, y_train)\n",
    "y_pred=pipeline.predict(X_test)\n",
    "print(classification_report(y_test, y_pred))"
   ]
  },
  {
   "cell_type": "markdown",
   "id": "039b464e-9fa2-42e2-a920-c624c7915df7",
   "metadata": {
    "id": "039b464e-9fa2-42e2-a920-c624c7915df7"
   },
   "source": [
    "The Support Vector Machines performance was:\n",
    "- Accuracy equals to 72%.\n",
    "- Precision equals 69% for the legitimate class and 77% for the fraudulent class.\n",
    "- Recall equals 81% for genuine class and 64% for fraudulent class.\n",
    "- F1-score equals 74% for the genuine class and 70% for the fraudulent class."
   ]
  },
  {
   "cell_type": "markdown",
   "id": "b3cce647-f2d9-4a52-89e1-07ab79c0cf19",
   "metadata": {
    "id": "b3cce647-f2d9-4a52-89e1-07ab79c0cf19"
   },
   "source": [
    "### Artificial Neural Networks <a class=\"anchor\" id=\"UnANN\"></a>\n",
    "\n",
    "[TOC](#mtop)"
   ]
  },
  {
   "cell_type": "markdown",
   "id": "2e108f66-941d-430e-ad22-d82f38983e78",
   "metadata": {
    "id": "880d792e-9e07-4be5-b8f3-65f782728139"
   },
   "source": [
    "For the problem of fraud detection, a feedforward neural net was designed using the Pytorch Python library. Artificial neural networks are a branch of machine learning models that are built using principles of neuronal organization discovered by connectionism in the biological neural networks constituting animal brains.\n",
    "An ANN comprises connected units or nodes called artificial neurons, which loosely model the neurons in a biological brain. These are connected by edges, which model the synapses in a biological brain. An artificial neuron receives signals from connected neurons, processes them, and sends them to other connected neurons. The \"signal\" is a real number, and the output of each neuron is computed by some non-linear function of the sum of its inputs, called the activation function. Neurons and edges typically have a weight that adjusts as learning proceeds. The weight increases or decreases the strength of the signal at a connection."
   ]
  },
  {
   "cell_type": "code",
   "execution_count": null,
   "id": "9e7cd5ab-d22e-4816-864b-965ae5840c4f",
   "metadata": {
    "id": "9e7cd5ab-d22e-4816-864b-965ae5840c4f",
    "outputId": "59d40420-07a6-49c3-f9d2-e60e3f615c14"
   },
   "outputs": [
    {
     "name": "stdout",
     "output_type": "stream",
     "text": [
      "Net(\n",
      "  (hidden1): Linear(in_features=13, out_features=12, bias=True)\n",
      "  (act1): ReLU()\n",
      "  (hidden2): Linear(in_features=12, out_features=8, bias=True)\n",
      "  (act2): ReLU()\n",
      "  (output): Linear(in_features=8, out_features=1, bias=True)\n",
      "  (act_output): Sigmoid()\n",
      ")\n"
     ]
    }
   ],
   "source": [
    "class Net(nn.Module):\n",
    "    def __init__(self):\n",
    "        super().__init__()\n",
    "        self.hidden1 = nn.Linear(rfecv.n_features_, 12)\n",
    "        self.act1 = nn.ReLU()\n",
    "        self.hidden2 = nn.Linear(12, 8)\n",
    "        self.act2 = nn.ReLU()\n",
    "        self.output = nn.Linear(8, 1)\n",
    "        self.act_output = nn.Sigmoid()\n",
    "\n",
    "    def forward(self, x):\n",
    "        x = self.act1(self.hidden1(x))\n",
    "        x = self.act2(self.hidden2(x))\n",
    "        x = self.act_output(self.output(x))\n",
    "        return x\n",
    "\n",
    "model = Net()\n",
    "print(model)"
   ]
  },
  {
   "cell_type": "code",
   "execution_count": null,
   "id": "6171f6e4-957b-4b72-a8a9-a397df3297b4",
   "metadata": {
    "id": "6171f6e4-957b-4b72-a8a9-a397df3297b4",
    "outputId": "ba818c77-afd6-45d1-ec46-0bb8b0683935"
   },
   "outputs": [
    {
     "name": "stdout",
     "output_type": "stream",
     "text": [
      "cpu\n"
     ]
    }
   ],
   "source": [
    "device = torch.device('cuda:0' if torch.cuda.is_available() else 'cpu')\n",
    "model.to(device)\n",
    "print(device)"
   ]
  },
  {
   "cell_type": "code",
   "execution_count": null,
   "id": "e958b2ef-3a38-46a6-a91e-7b0b3038068a",
   "metadata": {
    "id": "e958b2ef-3a38-46a6-a91e-7b0b3038068a"
   },
   "outputs": [],
   "source": [
    "loss_fn = nn.BCELoss()  # binary cross entropy\n",
    "optimizer = optim.Adam(model.parameters(), lr=0.001)"
   ]
  },
  {
   "cell_type": "code",
   "execution_count": null,
   "id": "d0ec6f0c-a012-40d5-b227-b48f005f4ad1",
   "metadata": {
    "id": "d0ec6f0c-a012-40d5-b227-b48f005f4ad1"
   },
   "outputs": [],
   "source": [
    "scaler = StandardScaler().fit(X_train[X_train.columns[rfecv.support_]])\n",
    "X_tr_scaled = scaler.transform(X_train[X_train.columns[rfecv.support_]])\n",
    "X_te_scaled = scaler.transform(X_test[X_test.columns[rfecv.support_]])"
   ]
  },
  {
   "cell_type": "code",
   "execution_count": null,
   "id": "c276c983-bb38-4e69-b18a-49e483f4b0bf",
   "metadata": {
    "id": "c276c983-bb38-4e69-b18a-49e483f4b0bf"
   },
   "outputs": [],
   "source": [
    "X_train_nn = torch.tensor(X_tr_scaled, dtype=torch.float32).to(device)\n",
    "y_train_nn = torch.tensor(y_train.to_numpy(), dtype=torch.float32).reshape(-1, 1).to(device)"
   ]
  },
  {
   "cell_type": "code",
   "execution_count": null,
   "id": "a72f1c14-6c79-46a8-80d3-1eb412c5199d",
   "metadata": {
    "id": "a72f1c14-6c79-46a8-80d3-1eb412c5199d",
    "outputId": "47794806-6e86-460a-cd27-25b16bb317eb"
   },
   "outputs": [
    {
     "name": "stdout",
     "output_type": "stream",
     "text": [
      "Finished epoch 0, latest loss 0.5931800603866577\n",
      "Finished epoch 1, latest loss 0.5147647857666016\n",
      "Finished epoch 2, latest loss 0.4805735647678375\n",
      "Finished epoch 3, latest loss 0.4662722647190094\n",
      "Finished epoch 4, latest loss 0.45030370354652405\n",
      "Finished epoch 5, latest loss 0.4413246214389801\n",
      "Finished epoch 6, latest loss 0.436825156211853\n",
      "Finished epoch 7, latest loss 0.4327261447906494\n",
      "Finished epoch 8, latest loss 0.42343202233314514\n",
      "Finished epoch 9, latest loss 0.4231400191783905\n",
      "Finished epoch 10, latest loss 0.4182569682598114\n",
      "Finished epoch 11, latest loss 0.40914949774742126\n",
      "Finished epoch 12, latest loss 0.4110928475856781\n",
      "Finished epoch 13, latest loss 0.41539740562438965\n",
      "Finished epoch 14, latest loss 0.4185698926448822\n",
      "Finished epoch 15, latest loss 0.42534133791923523\n",
      "Finished epoch 16, latest loss 0.41759946942329407\n",
      "Finished epoch 17, latest loss 0.4302314519882202\n",
      "Finished epoch 18, latest loss 0.4158015549182892\n",
      "Finished epoch 19, latest loss 0.42040184140205383\n",
      "Finished epoch 20, latest loss 0.4188551604747772\n",
      "Finished epoch 21, latest loss 0.42074885964393616\n",
      "Finished epoch 22, latest loss 0.4256099760532379\n",
      "Finished epoch 23, latest loss 0.41591909527778625\n",
      "Finished epoch 24, latest loss 0.41942909359931946\n"
     ]
    }
   ],
   "source": [
    "n_epochs = 25 #50\n",
    "batch_size = 10\n",
    "\n",
    "for epoch in range(n_epochs):\n",
    "    for i in range(0, len(X_train_nn), batch_size):\n",
    "        Xbatch = X_train_nn[i:i+batch_size]\n",
    "        y_pred = model(Xbatch)\n",
    "        ybatch = y_train_nn[i:i+batch_size]\n",
    "        loss = loss_fn(y_pred, ybatch)\n",
    "        optimizer.zero_grad()\n",
    "        loss.backward()\n",
    "        optimizer.step()\n",
    "    print(f'Finished epoch {epoch}, latest loss {loss}')"
   ]
  },
  {
   "cell_type": "code",
   "execution_count": null,
   "id": "ae1f0f0f-f066-4c1b-bb82-d9d2841215c4",
   "metadata": {
    "id": "ae1f0f0f-f066-4c1b-bb82-d9d2841215c4"
   },
   "outputs": [],
   "source": [
    "X_test_nn = torch.tensor(X_te_scaled, dtype=torch.float32).to(device)\n",
    "y_test_nn = torch.tensor(y_test.to_numpy(), dtype=torch.float32).reshape(-1, 1).to(device)"
   ]
  },
  {
   "cell_type": "code",
   "execution_count": null,
   "id": "85353a2b-22b3-46ff-982c-de70e0ea7519",
   "metadata": {
    "id": "85353a2b-22b3-46ff-982c-de70e0ea7519",
    "outputId": "cbbd1eba-27ac-4785-9a4e-07d78ed188ce"
   },
   "outputs": [
    {
     "name": "stdout",
     "output_type": "stream",
     "text": [
      "Accuracy 0.7426717877388\n"
     ]
    }
   ],
   "source": [
    "with torch.no_grad(): y_pred = model(X_test_nn)\n",
    "accuracy = (y_pred.round() == y_test_nn).float().mean()\n",
    "print(f\"Accuracy {accuracy}\")"
   ]
  },
  {
   "cell_type": "code",
   "execution_count": null,
   "id": "f1d0050d-a021-4770-8f25-f8ed9a323945",
   "metadata": {
    "id": "f1d0050d-a021-4770-8f25-f8ed9a323945",
    "outputId": "94607fdb-08a0-401d-d3bf-ae238576bdf5"
   },
   "outputs": [
    {
     "name": "stdout",
     "output_type": "stream",
     "text": [
      "Precision 0.7841845140032949\n",
      "Recall 0.6780626780626781\n",
      "F1-score 0.7272727272727273\n"
     ]
    }
   ],
   "source": [
    "y_pred=pd.DataFrame(y_pred.round().cpu().detach().numpy())\n",
    "print(f\"Precision {precision_score(y_test, y_pred, pos_label=1)}\")\n",
    "print(f\"Recall {recall_score(y_test, y_pred, pos_label=1)}\")\n",
    "print(f\"F1-score {f1_score(y_test, y_pred, pos_label=1)}\")"
   ]
  },
  {
   "cell_type": "code",
   "execution_count": null,
   "id": "17f37d12-cd09-4b79-a737-e5425ab47cea",
   "metadata": {
    "id": "17f37d12-cd09-4b79-a737-e5425ab47cea",
    "outputId": "88746b1b-61cb-48a3-e8c5-554962727b37"
   },
   "outputs": [
    {
     "name": "stdout",
     "output_type": "stream",
     "text": [
      "Precision 0.7103801794105084\n",
      "Recall 0.808852140077821\n",
      "F1-score 0.7564248351148511\n"
     ]
    }
   ],
   "source": [
    "print(f\"Precision {precision_score(y_test, y_pred, pos_label=0)}\")\n",
    "print(f\"Recall {recall_score(y_test, y_pred, pos_label=0)}\")\n",
    "print(f\"F1-score {f1_score(y_test, y_pred, pos_label=0)}\")"
   ]
  },
  {
   "cell_type": "markdown",
   "id": "7074a5dc-392c-4d03-b2f2-f91b7a1b576a",
   "metadata": {
    "id": "8c2c5033-866c-4074-ab2c-e8f346196727"
   },
   "source": [
    "### Results <a class=\"anchor\" id=\"UnResults\"></a>\n",
    "\n",
    "[TOC](#mtop)"
   ]
  },
  {
   "cell_type": "markdown",
   "id": "80ec7a80-13f5-4b5a-9554-b51fb2af6f40",
   "metadata": {},
   "source": [
    "A comparison based on the performance metrics is tabulated and presented as follows. The results for under-sampling are similar for all models. Accuracy is around 75%, with a slight advantage for Adaboost at 78%. For all other metrics, verifying an equilibrium in the resulting values is possible. Decision trees and ANN show very similar metric values for the second-best model."
   ]
  },
  {
   "cell_type": "markdown",
   "id": "db7fad86-51cc-44b7-a1ce-0e7ee0cab57f",
   "metadata": {
    "id": "db7fad86-51cc-44b7-a1ce-0e7ee0cab57f"
   },
   "source": [
    "<table>\n",
    "    <thead>\n",
    "        <tr>\n",
    "            <th>Models</th>\n",
    "            <th>Accuracy</th>\n",
    "            <th colspan=2 align=center>Precision</th>\n",
    "            <th colspan=2 align=center>Recall</th>\n",
    "            <th colspan=2 align=center>F1-score</th>\n",
    "        </tr>\n",
    "    </thead>\n",
    "    <tbody>\n",
    "        <tr>\n",
    "            <td></td>       \n",
    "            <td></td>\n",
    "            <td>Legitimate</td>\n",
    "            <td>Fraud</td>\n",
    "            <td>Legitimate</td>\n",
    "            <td>Fraud</td>\n",
    "            <td>Legitimate</td>\n",
    "            <td>Fraud</td>\n",
    "        </tr>\n",
    "        <tr>\n",
    "            <td align=right>Decision trees</td>\n",
    "            <td align=center>74%</td>            \n",
    "            <td align=center>72%</td>\n",
    "            <td align=center>77%</td>\n",
    "            <td align=center>78%</td>\n",
    "            <td align=center>70%s</td>\n",
    "            <td align=center>75%</td>\n",
    "            <td align=center>73%</td>\n",
    "        </tr>\n",
    "        <tr>\n",
    "            <td align=right>Random forests</td>\n",
    "            <td align=center>72%</td>\n",
    "            <td align=center>69%</td>\n",
    "            <td align=center>76%</td>\n",
    "            <td align=center>79%</td>\n",
    "            <td align=center>65%</td>\n",
    "            <td align=center>74%</td>\n",
    "            <td align=center>70%</td>\n",
    "        </tr>\n",
    "        <tr>\n",
    "            <td align=right><b>Adaboost</b></td>\n",
    "            <td align=center><b>78%</b></td>\n",
    "            <td align=center><b>77%</b></td>\n",
    "            <td align=center><b>79%</b></td>\n",
    "            <td align=center><b>79%</b></td>\n",
    "            <td align=center><b>77%</b></td>\n",
    "            <td align=center><b>78%</b></td>\n",
    "            <td align=center><b>78%</b></td>\n",
    "        </tr>\n",
    "        <tr>\n",
    "            <td align=right>Suport vector machines</td>\n",
    "            <td align=center>72%</td>\n",
    "            <td align=center>69%</td>\n",
    "            <td align=center>77%</td>\n",
    "            <td align=center>81%</td>\n",
    "            <td align=center>64%</td>\n",
    "            <td align=center>74%</td>\n",
    "            <td align=center>70%</td>\n",
    "        </tr>\n",
    "        <tr>\n",
    "            <td align=right>Artificial neural networks</td>\n",
    "            <td align=center>74%</td>\n",
    "            <td align=center>71%</td>\n",
    "            <td align=center>78%</td>\n",
    "            <td align=center>80%</td>\n",
    "            <td align=center>67%</td>\n",
    "            <td align=center>75%</td>\n",
    "            <td align=center>72%</td>\n",
    "        </tr>\n",
    "    </tbody>\n",
    "</table>"
   ]
  },
  {
   "cell_type": "markdown",
   "id": "c9789882-0696-45ec-b665-e261fa0d455e",
   "metadata": {
    "id": "90a35a3e-8cac-41ef-a300-7ad681af8dcc"
   },
   "source": [
    "## Fraud Classification with Upper Sampling  <a class=\"anchor\" id=\"Upclassification\"></a>\n",
    "\n",
    "[TOC](#mtop)"
   ]
  },
  {
   "cell_type": "markdown",
   "id": "22232c50-c54e-43d2-985b-2a8347ecaf75",
   "metadata": {
    "id": "22232c50-c54e-43d2-985b-2a8347ecaf75"
   },
   "source": [
    "### Upper-sampling data balancing  <a class=\"anchor\" id=\"UpdataBalancing\"></a>\n",
    "\n",
    "[TOC](#mtop)"
   ]
  },
  {
   "cell_type": "code",
   "execution_count": null,
   "id": "55284a4d-32ed-4780-9a73-dc1905967a72",
   "metadata": {
    "id": "55284a4d-32ed-4780-9a73-dc1905967a72"
   },
   "outputs": [],
   "source": []
  },
  {
   "cell_type": "code",
   "execution_count": 8,
   "id": "f75e4318-08d5-4f9c-a35e-7e2946767a58",
   "metadata": {
    "id": "f75e4318-08d5-4f9c-a35e-7e2946767a58"
   },
   "outputs": [],
   "source": [
    "from imblearn.over_sampling import SMOTE\n",
    "X_resampled, y_resampled = SMOTE().fit_resample(X, y)"
   ]
  },
  {
   "cell_type": "code",
   "execution_count": null,
   "id": "7d3d985b-3bc1-45c2-a080-cb9ee55da28e",
   "metadata": {
    "id": "7d3d985b-3bc1-45c2-a080-cb9ee55da28e"
   },
   "outputs": [],
   "source": []
  },
  {
   "cell_type": "markdown",
   "id": "0e77d000-b1d5-43c8-9c75-474cf0434e66",
   "metadata": {
    "id": "0e77d000-b1d5-43c8-9c75-474cf0434e66"
   },
   "source": []
  },
  {
   "cell_type": "code",
   "execution_count": null,
   "id": "ab039d49-dc55-4df7-9e5b-4a5de84d50ab",
   "metadata": {
    "id": "ab039d49-dc55-4df7-9e5b-4a5de84d50ab"
   },
   "outputs": [],
   "source": []
  },
  {
   "cell_type": "code",
   "execution_count": 9,
   "id": "3df093c9-e8ec-491a-ad16-2603f53b0406",
   "metadata": {
    "id": "3df093c9-e8ec-491a-ad16-2603f53b0406"
   },
   "outputs": [],
   "source": [
    "X_train, X_test, y_train, y_test = train_test_split(X_resampled, y_resampled, test_size=0.2,  random_state=42)"
   ]
  },
  {
   "cell_type": "markdown",
   "id": "e1c71a76-5971-4ff3-8af8-79e3df097074",
   "metadata": {
    "id": "2d13c72a-1722-40c5-81e7-f0dfcdd20587"
   },
   "source": [
    "The feature selection is included in the Pipeline's first step for all models. This way, it is necessary to perform the feature selection here in the Modeling as presented in the feature engineering notebook."
   ]
  },
  {
   "cell_type": "code",
   "execution_count": 10,
   "id": "45688c8b-27ee-4295-aee1-ac09d1f8bbb4",
   "metadata": {
    "colab": {
     "base_uri": "https://localhost:8080/"
    },
    "id": "45688c8b-27ee-4295-aee1-ac09d1f8bbb4",
    "outputId": "2c397e12-8c7a-4ca8-fbbe-fd6ec842bf8c"
   },
   "outputs": [
    {
     "name": "stdout",
     "output_type": "stream",
     "text": [
      "Optimal number of features: 16\n",
      "Selected features: Index(['TransactionAmt', 'card1', 'addr1', 'C1', 'C2', 'C5', 'C6', 'C9', 'C10',\n",
      "       'C11', 'C13', 'C14', 'V95', 'V97', 'V102', 'V133'],\n",
      "      dtype='object')\n"
     ]
    }
   ],
   "source": [
    "min_features_to_select = 1  # Minimum number of features to consider\n",
    "clf = RandomForestClassifier(n_estimators=10,\n",
    "                             random_state=42)\n",
    "\n",
    "cv = StratifiedKFold(5)\n",
    "\n",
    "rfecv = RFECV(\n",
    "    estimator=clf,\n",
    "    step=1,\n",
    "    cv=cv,\n",
    "    scoring=\"accuracy\",\n",
    "    min_features_to_select=min_features_to_select,\n",
    "    n_jobs=2,\n",
    ")\n",
    "rfecv.fit(X_train, y_train)\n",
    "\n",
    "print(f\"Optimal number of features: {rfecv.n_features_}\")\n",
    "print(f\"Selected features: {X_train.columns[rfecv.support_]}\")"
   ]
  },
  {
   "cell_type": "code",
   "execution_count": null,
   "id": "06e43eda-16fe-4e2f-96a2-9089f5039956",
   "metadata": {
    "id": "06e43eda-16fe-4e2f-96a2-9089f5039956"
   },
   "outputs": [],
   "source": []
  },
  {
   "cell_type": "code",
   "execution_count": null,
   "id": "9e7988cf-3914-4837-bd62-21b62646aab3",
   "metadata": {
    "id": "9e7988cf-3914-4837-bd62-21b62646aab3"
   },
   "outputs": [],
   "source": []
  },
  {
   "cell_type": "markdown",
   "id": "e730f94c-36ee-4bfd-95b6-b6d500081ac6",
   "metadata": {
    "id": "e730f94c-36ee-4bfd-95b6-b6d500081ac6"
   },
   "source": [
    "### Feature Selection  <a class=\"anchor\" id=\"UpfeatureSelection\"></a>\n",
    "\n",
    "[TOC](#mtop)"
   ]
  },
  {
   "cell_type": "code",
   "execution_count": null,
   "id": "9af9492b-ccbf-4a1a-983e-084f17f76195",
   "metadata": {
    "id": "9af9492b-ccbf-4a1a-983e-084f17f76195"
   },
   "outputs": [],
   "source": []
  },
  {
   "cell_type": "markdown",
   "id": "67b883f8-e918-4220-8bea-a25b9a4e60b8",
   "metadata": {
    "id": "67b883f8-e918-4220-8bea-a25b9a4e60b8"
   },
   "source": [
    "### Decision trees models <a class=\"anchor\" id=\"UpdecisionTrees\"></a>\n",
    "\n",
    "[TOC](#mtop)"
   ]
  },
  {
   "cell_type": "markdown",
   "id": "90716548-6905-4171-acf3-49b545226fab",
   "metadata": {},
   "source": [
    "The first model used in the upper-sampling case was also the decision trees (DTs)—a non-parametric supervised learning method for classification and regression. The goal is to create a model that predicts the value of a transaction by learning simple decision rules inferred from the data features."
   ]
  },
  {
   "cell_type": "code",
   "execution_count": 11,
   "id": "c3633078-22e7-4214-bee4-50feff963f51",
   "metadata": {
    "colab": {
     "base_uri": "https://localhost:8080/"
    },
    "id": "c3633078-22e7-4214-bee4-50feff963f51",
    "outputId": "9d537b04-b57a-45fa-ce07-12345176a5fc"
   },
   "outputs": [
    {
     "name": "stdout",
     "output_type": "stream",
     "text": [
      "              precision    recall  f1-score   support\n",
      "\n",
      "           0       0.84      0.89      0.86     84160\n",
      "           1       0.88      0.83      0.85     84195\n",
      "\n",
      "    accuracy                           0.86    168355\n",
      "   macro avg       0.86      0.86      0.86    168355\n",
      "weighted avg       0.86      0.86      0.86    168355\n",
      "\n"
     ]
    }
   ],
   "source": [
    "#this is the classifier used for feature selection\n",
    "clf_featr_sele = RandomForestClassifier(n_estimators=10,\n",
    "                             random_state=42)\n",
    "\n",
    "rfecv = RFECV(estimator=clf_featr_sele,\n",
    "              step=1,\n",
    "              cv=5,\n",
    "              scoring = 'roc_auc')\n",
    "\n",
    "#you can have different classifier for your final classifier\n",
    "clf = DecisionTreeClassifier()\n",
    "\n",
    "\n",
    "CV_dt = GridSearchCV(clf,\n",
    "                      param_grid={\n",
    "                          'criterion': ['gini', 'entropy'],\n",
    "                          'max_depth': [2,4,6],\n",
    "                          'min_samples_leaf': [1, 2]},\n",
    "                      cv= 5,\n",
    "                      scoring = 'roc_auc')\n",
    "\n",
    "\n",
    "pipeline  = Pipeline([('feature_sele',rfecv),\n",
    "                      ('scale', StandardScaler()),\n",
    "                      ('clf_cv',CV_dt)])\n",
    "\n",
    "pipeline.fit(X_train, y_train)\n",
    "y_pred=pipeline.predict(X_test)\n",
    "print(classification_report(y_test, y_pred))"
   ]
  },
  {
   "cell_type": "markdown",
   "id": "3767dbd1-ea3a-4ae2-9588-264ec9bf53b6",
   "metadata": {
    "id": "992a8595-d9b0-4aa0-ad59-c2ba440440de"
   },
   "source": [
    "The Decisioon Trees performance was:\n",
    "- Accuracy equals to 86%.\n",
    "- Precision equals 84% for the legitimate class and 88% for the fraudulent class.\n",
    "- Recall equals 89% for genuine class and 83% for fraudulent class.\n",
    "- F1-score equals 86% for the genuine class and 85% for the fraudulent class."
   ]
  },
  {
   "cell_type": "markdown",
   "id": "d2f8290a-e285-426e-81ac-cfc2bc9e1ef7",
   "metadata": {
    "id": "d2f8290a-e285-426e-81ac-cfc2bc9e1ef7"
   },
   "source": [
    "### Random forests models<a class=\"anchor\" id=\"UprandomForests\"></a>\n",
    "\n",
    "[TOC](#mtop)"
   ]
  },
  {
   "cell_type": "markdown",
   "id": "35669d9b-f776-43f6-abc3-728bcab501bd",
   "metadata": {
    "id": "9e80bf86-6e4f-4d1e-86c9-8b3c177de2b1"
   },
   "source": [
    "A random forest was also used for the data upper-sampling balancing. It is a meta-estimator that fits several decision tree classifiers on various sub-samples of the dataset and uses averaging to improve the predictive accuracy and control over-fitting. Trees in the forest use the best-split strategy. The sub-sample size is controlled with the max_samples parameter if bootstrap=True (default); otherwise, the whole dataset is used to build each tree."
   ]
  },
  {
   "cell_type": "code",
   "execution_count": 12,
   "id": "ae18fff0-3ec8-42f3-86dd-db95767a62e9",
   "metadata": {
    "colab": {
     "base_uri": "https://localhost:8080/"
    },
    "id": "ae18fff0-3ec8-42f3-86dd-db95767a62e9",
    "outputId": "b66934bc-83d9-4b6a-e80c-58ffa5a03698"
   },
   "outputs": [
    {
     "name": "stdout",
     "output_type": "stream",
     "text": [
      "              precision    recall  f1-score   support\n",
      "\n",
      "           0       0.77      0.84      0.81     84160\n",
      "           1       0.83      0.75      0.79     84195\n",
      "\n",
      "    accuracy                           0.80    168355\n",
      "   macro avg       0.80      0.80      0.80    168355\n",
      "weighted avg       0.80      0.80      0.80    168355\n",
      "\n"
     ]
    }
   ],
   "source": [
    "#this is the classifier used for feature selection\n",
    "clf_featr_sele = RandomForestClassifier(n_estimators=10,\n",
    "                             random_state=42)\n",
    "\n",
    "rfecv = RFECV(estimator=clf_featr_sele,\n",
    "              step=1,\n",
    "              cv=5,\n",
    "              scoring = 'roc_auc')\n",
    "\n",
    "#you can have different classifier for your final classifier\n",
    "clf = RandomForestClassifier(n_estimators=10,\n",
    "                             random_state=42,\n",
    "                             class_weight=\"balanced\")\n",
    "CV_rfc = GridSearchCV(clf,\n",
    "                      param_grid={'max_depth':[2,3]},\n",
    "                      cv= 5, scoring = 'roc_auc')\n",
    "\n",
    "\n",
    "pipeline  = Pipeline([('feature_sele',rfecv),\n",
    "                      ('scale', StandardScaler()),\n",
    "                      ('clf_cv',CV_rfc)])\n",
    "\n",
    "pipeline.fit(X_train, y_train)\n",
    "y_pred=pipeline.predict(X_test)\n",
    "print(classification_report(y_test, y_pred))"
   ]
  },
  {
   "cell_type": "markdown",
   "id": "7a8953ab-9991-475e-b8e2-aaf8181b4317",
   "metadata": {
    "id": "801a9fc6-6324-4ac5-8de9-66ade67ce0c7"
   },
   "source": [
    "The Random Forest performance was:\n",
    "- Accuracy equals to 80%.\n",
    "- Precision equals 77% for the legitimate class and 83% for the fraudulent class.\n",
    "- Recall equals 84% for genuine class and 75% for fraudulent class.\n",
    "- F1-score equals 81% for the genuine class and 79% for the fraudulent class."
   ]
  },
  {
   "cell_type": "markdown",
   "id": "9a4c963b-11bf-42c0-97c0-bc7af3a8554d",
   "metadata": {
    "id": "9a4c963b-11bf-42c0-97c0-bc7af3a8554d"
   },
   "source": [
    "### AdaBoost model <a class=\"anchor\" id=\"UpAdaBoost\"></a>\n",
    "\n",
    "[TOC](#mtop)"
   ]
  },
  {
   "cell_type": "markdown",
   "id": "2c80f317-7b7c-4e7d-9b5b-73abd023cd35",
   "metadata": {
    "id": "f3f565eb-3b42-4252-8e36-64653452580b"
   },
   "source": [
    "An AdaBoost classifier was also used for upper-sampling balancing technique. It is a meta-estimator that begins by fitting a classifier on the original dataset and then fits additional copies of the classifier on the same dataset but where the weights of incorrectly classified instances are adjusted such that subsequent classifiers focus more on complex cases."
   ]
  },
  {
   "cell_type": "code",
   "execution_count": 13,
   "id": "5a1512ae-fdd8-4296-b2f4-20a643bc3687",
   "metadata": {
    "colab": {
     "base_uri": "https://localhost:8080/"
    },
    "id": "5a1512ae-fdd8-4296-b2f4-20a643bc3687",
    "outputId": "a6cb4fbd-2da6-4900-e750-23c56c57118e"
   },
   "outputs": [
    {
     "name": "stdout",
     "output_type": "stream",
     "text": [
      "              precision    recall  f1-score   support\n",
      "\n",
      "           0       0.98      0.99      0.99     84160\n",
      "           1       0.99      0.98      0.98     84195\n",
      "\n",
      "    accuracy                           0.99    168355\n",
      "   macro avg       0.99      0.99      0.99    168355\n",
      "weighted avg       0.99      0.99      0.99    168355\n",
      "\n"
     ]
    }
   ],
   "source": [
    "#this is the classifier used for feature selection\n",
    "clf_featr_sele = RandomForestClassifier(n_estimators=10,\n",
    "                             random_state=42)\n",
    "\n",
    "rfecv = RFECV(estimator=clf_featr_sele,\n",
    "              step=1,\n",
    "              cv=5,\n",
    "              scoring = 'roc_auc')\n",
    "\n",
    "#you can have different classifier for your final classifier\n",
    "DTC = DecisionTreeClassifier(class_weight = \"balanced\")\n",
    "clf = AdaBoostClassifier()\n",
    "\n",
    "CV_ada = GridSearchCV(clf,\n",
    "                      param_grid = {\n",
    "                          'estimator':[DTC],\n",
    "                          'learning_rate': [0.1, 0.5],\n",
    "                          'n_estimators': [10, 20]},\n",
    "                      cv= 5,\n",
    "                      scoring = 'roc_auc')\n",
    "\n",
    "\n",
    "pipeline  = Pipeline([('feature_sele',rfecv),\n",
    "                      ('scale', StandardScaler()),\n",
    "                      ('clf_cv',CV_ada)])\n",
    "\n",
    "pipeline.fit(X_train, y_train)\n",
    "y_pred=pipeline.predict(X_test)\n",
    "print(classification_report(y_test, y_pred))"
   ]
  },
  {
   "cell_type": "markdown",
   "id": "ea867976-3b6f-49f5-b63b-3cae8bb293cb",
   "metadata": {
    "id": "25cd9a61-d428-4da6-b016-63057ccb2b1b"
   },
   "source": [
    "The Adaboost performance was:\n",
    "- Accuracy equals to 99%.\n",
    "- Precision equals 98% for the legitimate class and 99% for the fraudulent class.\n",
    "- Recall equals 99% for genuine class and 98% for fraudulent class.\n",
    "- F1-score equals 99% for the genuine class and 98% for the fraudulent class."
   ]
  },
  {
   "cell_type": "code",
   "execution_count": null,
   "id": "baba576b-f3c6-4ed8-8b40-e3e5e3b39980",
   "metadata": {
    "id": "baba576b-f3c6-4ed8-8b40-e3e5e3b39980"
   },
   "outputs": [],
   "source": [
    "cm = confusion_matrix(y_test, y_pred)\n",
    "disp = ConfusionMatrixDisplay(confusion_matrix=cm)\n",
    "disp.plot()\n",
    "plt.show()"
   ]
  },
  {
   "cell_type": "code",
   "execution_count": null,
   "id": "2ef5e7d5-8d12-481c-8da5-4577f2c40524",
   "metadata": {
    "id": "2ef5e7d5-8d12-481c-8da5-4577f2c40524"
   },
   "outputs": [],
   "source": []
  },
  {
   "cell_type": "markdown",
   "id": "f0b7e5ec-e42a-4248-9613-948a6e0f05bb",
   "metadata": {
    "id": "f0b7e5ec-e42a-4248-9613-948a6e0f05bb"
   },
   "source": [
    "### Suport Vector Machines model <a class=\"anchor\" id=\"UpSVM\"></a>\n",
    "\n",
    "[TOC](#mtop)"
   ]
  },
  {
   "cell_type": "markdown",
   "id": "dfea93bc-4ba2-4baa-a15a-c584175a92c8",
   "metadata": {
    "id": "27be550e-e333-4f1b-95c7-fcc2ac4b63bc"
   },
   "source": [
    "Support vector machines (SVMs) are supervised learning methods used for classification, regression and outliers detection. In case of the fraud detection problem it was analyzed with upper-sampling balancing technique.\n",
    "\n",
    "The advantages of support vector machines are:\n",
    "\n",
    "- Effective in high-dimensional spaces.\n",
    "- It is still effective in cases where the number of dimensions is greater than the number of samples.\n",
    "- It uses a subset of training points in the decision function (called support vectors), making it memory efficient.\n",
    "- Versatile: Different kernel functions can be specified for the decision function. Standard kernels are provided, but it is also possible to define custom kernels.\n",
    "\n",
    "The disadvantages of support vector machines include:\n",
    "\n",
    "- If the number of features is much greater than the number of samples, avoiding over-fitting in choosing Kernel functions and regularization terms is crucial.\n",
    "- SVMs do not directly provide probability estimates; these are calculated using an expensive five-fold cross-validation."
   ]
  },
  {
   "cell_type": "code",
   "execution_count": null,
   "id": "fb62203c-278e-42c4-bdde-a2642052247a",
   "metadata": {
    "id": "fb62203c-278e-42c4-bdde-a2642052247a"
   },
   "outputs": [],
   "source": [
    "this is the classifier used for feature selection\n",
    "clf_featr_sele = RandomForestClassifier(n_estimators=10,\n",
    "                             random_state=42)\n",
    "\n",
    "rfecv = RFECV(estimator=clf_featr_sele,\n",
    "              step=1,\n",
    "              cv=5,\n",
    "              scoring = 'roc_auc')\n",
    "\n",
    "#you can have different classifier for your final classifier\n",
    "clf = svm.SVC()\n",
    "\n",
    "CV_svm = GridSearchCV(clf,\n",
    "                      param_grid={'C':[0.1, 1.0, 10],\n",
    "                                  'kernel':['linear','rbf']},\n",
    "                      cv= 5,\n",
    "                      scoring = 'roc_auc')\n",
    "\n",
    "\n",
    "pipeline  = Pipeline([('feature_sele',rfecv),\n",
    "                      ('scale', StandardScaler()),\n",
    "                      ('clf_cv',CV_svm)])\n",
    "\n",
    "pipeline.fit(X_train, y_train)\n",
    "y_pred=pipeline.predict(X_test)\n",
    "print(classification_report(y_test, y_pred))"
   ]
  },
  {
   "cell_type": "markdown",
   "id": "4bc925cd-a1ac-4f3e-ba81-d5c08fd14aaf",
   "metadata": {
    "id": "848264cc-c886-4469-894e-68ac2ec05b3d"
   },
   "source": [
    "The Support Vector Machines performance was:\n",
    "- Accuracy equals to xx%.\n",
    "- Precision equals xx% for the legitimate class and xx% for the fraudulent class.\n",
    "- Recall equals xx% for genuine class and xx% for fraudulent class.\n",
    "- F1-score equals xx% for the genuine class and xx% for the fraudulent class."
   ]
  },
  {
   "cell_type": "markdown",
   "id": "e8096d70-81e1-4e8a-9d31-eb98cc870034",
   "metadata": {
    "id": "e8096d70-81e1-4e8a-9d31-eb98cc870034"
   },
   "source": [
    "### Artificial Neural Networks <a class=\"anchor\" id=\"UpANN\"></a>\n",
    "\n",
    "[TOC](#mtop)"
   ]
  },
  {
   "cell_type": "markdown",
   "id": "72de1027-d25d-42d9-a879-7bb00766b4b2",
   "metadata": {
    "id": "752ec25c-94fa-448b-9e50-44d1c97c38ef"
   },
   "source": [
    "For the problem of fraud detection with upper-sampling balancing technique, a feedforward neural net was designed using the Pytorch Python library. Artificial neural networks are a branch of machine learning models that are built using principles of neuronal organization discovered by connectionism in the biological neural networks constituting animal brains.\n",
    "An ANN comprises connected units or nodes called artificial neurons, which loosely model the neurons in a biological brain. These are connected by edges, which model the synapses in a biological brain. An artificial neuron receives signals from connected neurons, processes them, and sends them to other connected neurons. The \"signal\" is a real number, and the output of each neuron is computed by some non-linear function of the sum of its inputs, called the activation function. Neurons and edges typically have a weight that adjusts as learning proceeds. The weight increases or decreases the strength of the signal at a connection."
   ]
  },
  {
   "cell_type": "code",
   "execution_count": 14,
   "id": "025aaf27-5983-4ee4-9d4d-bdd621bb1a76",
   "metadata": {
    "colab": {
     "base_uri": "https://localhost:8080/"
    },
    "id": "025aaf27-5983-4ee4-9d4d-bdd621bb1a76",
    "outputId": "b0368c72-4eb8-49ca-e456-7195ce4d84f7"
   },
   "outputs": [
    {
     "name": "stdout",
     "output_type": "stream",
     "text": [
      "Net(\n",
      "  (hidden1): Linear(in_features=14, out_features=20, bias=True)\n",
      "  (act1): ReLU()\n",
      "  (hidden2): Linear(in_features=20, out_features=12, bias=True)\n",
      "  (act2): ReLU()\n",
      "  (output): Linear(in_features=12, out_features=1, bias=True)\n",
      "  (act_output): Sigmoid()\n",
      ")\n"
     ]
    }
   ],
   "source": [
    "class Net(nn.Module):\n",
    "    def __init__(self):\n",
    "        super().__init__()\n",
    "        self.hidden1 = nn.Linear(rfecv.n_features_, 20)\n",
    "        self.act1 = nn.ReLU()\n",
    "        self.hidden2 = nn.Linear(20, 12)\n",
    "        self.act2 = nn.ReLU()\n",
    "        self.output = nn.Linear(12, 1)\n",
    "        self.act_output = nn.Sigmoid()\n",
    "\n",
    "    def forward(self, x):\n",
    "        x = self.act1(self.hidden1(x))\n",
    "        x = self.act2(self.hidden2(x))\n",
    "        x = self.act_output(self.output(x))\n",
    "        return x\n",
    "\n",
    "model = Net()\n",
    "print(model)"
   ]
  },
  {
   "cell_type": "code",
   "execution_count": 15,
   "id": "b5cea6d8-98a5-479a-9ccd-de4d965fa370",
   "metadata": {
    "colab": {
     "base_uri": "https://localhost:8080/"
    },
    "id": "b5cea6d8-98a5-479a-9ccd-de4d965fa370",
    "outputId": "042dc520-30f4-4a36-98c9-0b022ac2a089"
   },
   "outputs": [
    {
     "data": {
      "text/plain": [
       "Net(\n",
       "  (hidden1): Linear(in_features=14, out_features=20, bias=True)\n",
       "  (act1): ReLU()\n",
       "  (hidden2): Linear(in_features=20, out_features=12, bias=True)\n",
       "  (act2): ReLU()\n",
       "  (output): Linear(in_features=12, out_features=1, bias=True)\n",
       "  (act_output): Sigmoid()\n",
       ")"
      ]
     },
     "execution_count": 15,
     "metadata": {},
     "output_type": "execute_result"
    }
   ],
   "source": [
    "device = torch.device('cuda:0' if torch.cuda.is_available() else 'cpu')\n",
    "model.to(device)"
   ]
  },
  {
   "cell_type": "code",
   "execution_count": 16,
   "id": "7aca3343-1f09-4f52-a950-76f6b4d0c2a3",
   "metadata": {
    "id": "7aca3343-1f09-4f52-a950-76f6b4d0c2a3"
   },
   "outputs": [],
   "source": [
    "loss_fn = nn.BCELoss()  # binary cross entropy\n",
    "optimizer = optim.Adam(model.parameters(), lr=0.001)"
   ]
  },
  {
   "cell_type": "code",
   "execution_count": 17,
   "id": "192f7bbc-2170-4489-beee-68cf37e5c865",
   "metadata": {
    "id": "192f7bbc-2170-4489-beee-68cf37e5c865"
   },
   "outputs": [],
   "source": [
    "scaler = StandardScaler().fit(X_train[X_train.columns[rfecv.support_]])\n",
    "X_tr_scaled = scaler.transform(X_train[X_train.columns[rfecv.support_]])\n",
    "X_te_scaled = scaler.transform(X_test[X_test.columns[rfecv.support_]])"
   ]
  },
  {
   "cell_type": "code",
   "execution_count": 18,
   "id": "bc86eda9-f62e-447e-909a-091d47865c6c",
   "metadata": {
    "id": "bc86eda9-f62e-447e-909a-091d47865c6c"
   },
   "outputs": [],
   "source": [
    "X_train_nn = torch.tensor(X_tr_scaled, dtype=torch.float32).to(device)\n",
    "y_train_nn = torch.tensor(y_train.to_numpy(), dtype=torch.float32).reshape(-1, 1).to(device)"
   ]
  },
  {
   "cell_type": "code",
   "execution_count": 19,
   "id": "6f5547a7-0024-484a-81cf-1de36c924595",
   "metadata": {
    "colab": {
     "base_uri": "https://localhost:8080/"
    },
    "id": "6f5547a7-0024-484a-81cf-1de36c924595",
    "outputId": "832518b9-1d9c-4286-c9ba-e17d1ecea682"
   },
   "outputs": [
    {
     "name": "stdout",
     "output_type": "stream",
     "text": [
      "Finished epoch 0, latest loss 0.8473950028419495\n",
      "Finished epoch 1, latest loss 0.767339289188385\n",
      "Finished epoch 2, latest loss 0.8081995844841003\n",
      "Finished epoch 3, latest loss 0.7584068179130554\n",
      "Finished epoch 4, latest loss 0.7549437284469604\n",
      "Finished epoch 5, latest loss 0.6677432656288147\n",
      "Finished epoch 6, latest loss 0.5764896869659424\n",
      "Finished epoch 7, latest loss 0.5270395874977112\n",
      "Finished epoch 8, latest loss 0.5065106749534607\n",
      "Finished epoch 9, latest loss 0.512797474861145\n",
      "Finished epoch 10, latest loss 0.4941381812095642\n",
      "Finished epoch 11, latest loss 0.4938358664512634\n",
      "Finished epoch 12, latest loss 0.5181329846382141\n",
      "Finished epoch 13, latest loss 0.5119580030441284\n",
      "Finished epoch 14, latest loss 0.4945756196975708\n",
      "Finished epoch 15, latest loss 0.5018322467803955\n",
      "Finished epoch 16, latest loss 0.4999777376651764\n",
      "Finished epoch 17, latest loss 0.5062088370323181\n",
      "Finished epoch 18, latest loss 0.5073754191398621\n",
      "Finished epoch 19, latest loss 0.49982303380966187\n",
      "Finished epoch 20, latest loss 0.5078417062759399\n",
      "Finished epoch 21, latest loss 0.4896865487098694\n",
      "Finished epoch 22, latest loss 0.5085112452507019\n",
      "Finished epoch 23, latest loss 0.4997842609882355\n",
      "Finished epoch 24, latest loss 0.5028073191642761\n"
     ]
    }
   ],
   "source": [
    "n_epochs = 25 #50\n",
    "batch_size = 10\n",
    "\n",
    "for epoch in range(n_epochs):\n",
    "    for i in range(0, len(X_train_nn), batch_size):\n",
    "        Xbatch = X_train_nn[i:i+batch_size]\n",
    "        y_pred = model(Xbatch)\n",
    "        ybatch = y_train_nn[i:i+batch_size]\n",
    "        loss = loss_fn(y_pred, ybatch)\n",
    "        optimizer.zero_grad()\n",
    "        loss.backward()\n",
    "        optimizer.step()\n",
    "    print(f'Finished epoch {epoch}, latest loss {loss}')"
   ]
  },
  {
   "cell_type": "code",
   "execution_count": 20,
   "id": "8f41214f-3946-46b6-a577-5e1e65056b18",
   "metadata": {
    "id": "8f41214f-3946-46b6-a577-5e1e65056b18"
   },
   "outputs": [],
   "source": [
    "X_test_nn = torch.tensor(X_te_scaled, dtype=torch.float32).to(device)\n",
    "y_test_nn = torch.tensor(y_test.to_numpy(), dtype=torch.float32).reshape(-1, 1).to(device)"
   ]
  },
  {
   "cell_type": "code",
   "execution_count": 21,
   "id": "90d9b813-b0b7-4977-aa4d-e3e7bf555734",
   "metadata": {
    "colab": {
     "base_uri": "https://localhost:8080/"
    },
    "id": "90d9b813-b0b7-4977-aa4d-e3e7bf555734",
    "outputId": "98aa8e8e-ac0d-4c0f-fa07-f12eeed3e540"
   },
   "outputs": [
    {
     "name": "stdout",
     "output_type": "stream",
     "text": [
      "Accuracy 0.8144159913063049\n"
     ]
    }
   ],
   "source": [
    "with torch.no_grad(): y_pred = model(X_test_nn)\n",
    "accuracy = (y_pred.round() == y_test_nn).float().mean()\n",
    "print(f\"Accuracy {accuracy}\")"
   ]
  },
  {
   "cell_type": "code",
   "execution_count": 22,
   "id": "fbfe3411-f7ff-454f-96d1-4b37ad89e949",
   "metadata": {
    "colab": {
     "base_uri": "https://localhost:8080/"
    },
    "id": "fbfe3411-f7ff-454f-96d1-4b37ad89e949",
    "outputId": "b6cfe60b-87a6-4d44-9cd3-c1530a64281f"
   },
   "outputs": [
    {
     "name": "stdout",
     "output_type": "stream",
     "text": [
      "Precision 0.845502355505096\n",
      "Recall 0.7695231308272463\n",
      "F1-score 0.8057255136049346\n"
     ]
    }
   ],
   "source": [
    "y_pred=pd.DataFrame(y_pred.round().cpu().detach().numpy())\n",
    "print(f\"Precision {precision_score(y_test, y_pred, pos_label=1)}\")\n",
    "print(f\"Recall {recall_score(y_test, y_pred, pos_label=1)}\")\n",
    "print(f\"F1-score {f1_score(y_test, y_pred, pos_label=1)}\")"
   ]
  },
  {
   "cell_type": "code",
   "execution_count": 23,
   "id": "c60c0cec-5e26-4e15-924f-c209b44dbe89",
   "metadata": {
    "colab": {
     "base_uri": "https://localhost:8080/"
    },
    "id": "c60c0cec-5e26-4e15-924f-c209b44dbe89",
    "outputId": "503c39e1-4d0f-4a39-eeec-7d78a11c5d94"
   },
   "outputs": [
    {
     "name": "stdout",
     "output_type": "stream",
     "text": [
      "Precision 0.7884460240280836\n",
      "Recall 0.8593274714828897\n",
      "F1-score 0.8223622118872451\n"
     ]
    }
   ],
   "source": [
    "print(f\"Precision {precision_score(y_test, y_pred, pos_label=0)}\")\n",
    "print(f\"Recall {recall_score(y_test, y_pred, pos_label=0)}\")\n",
    "print(f\"F1-score {f1_score(y_test, y_pred, pos_label=0)}\")"
   ]
  },
  {
   "cell_type": "markdown",
   "id": "ef159f3f-4260-4edf-a053-41e1c7061ce7",
   "metadata": {
    "id": "4c2c6a8a-92b9-4a0b-b9b1-2716334f696d"
   },
   "source": [
    "### Results <a class=\"anchor\" id=\"UpResults\"></a>\n",
    "\n",
    "[TOC](#mtop)"
   ]
  },
  {
   "cell_type": "markdown",
   "id": "e09a539a-b6a8-4d75-ae64-70231637237f",
   "metadata": {},
   "source": [
    "In the case of upper sampling, one can verify a much better performance for all models. More data benefits the model's performance. Adaboost presents the best performance with a high accuracy of 99%. Adaboost adapted adequately for the analyzed dataset. For precision, the values are 98% for legitimate and 99% for fraudulent transactions. The recall is 99% for legitimate transactions and 98% for fraudulent transactions, and the f1-score presented a performance of 99% for legitimate transactions and 98% for fraudulent transactions. The Adaboost performance is high for the prepared dataset obtained from the Kaggle competition."
   ]
  },
  {
   "cell_type": "markdown",
   "id": "0c86e12a-5325-4f43-b0f4-ffef4643b99f",
   "metadata": {
    "id": "0c86e12a-5325-4f43-b0f4-ffef4643b99f"
   },
   "source": [
    "<table>\n",
    "    <thead>\n",
    "        <tr>\n",
    "            <th>Models</th>\n",
    "            <th>Accuracy</th>\n",
    "            <th colspan=2 align=center>Precision</th>\n",
    "            <th colspan=2 align=center>Recall</th>\n",
    "            <th colspan=2 align=center>F1-score</th>\n",
    "        </tr>\n",
    "    </thead>\n",
    "    <tbody>\n",
    "        <tr>\n",
    "            <td></td>       \n",
    "            <td></td>\n",
    "            <td>Legitimate</td>\n",
    "            <td>Fraud</td>\n",
    "            <td>Legitimate</td>\n",
    "            <td>Fraud</td>\n",
    "            <td>Legitimate</td>\n",
    "            <td>Fraud</td>\n",
    "        </tr>\n",
    "        <tr>\n",
    "            <td align=right>Decision trees</td>\n",
    "            <td  align=center>86%</td>            \n",
    "            <td align=center>84%</td>\n",
    "            <td align=center>88%</td>\n",
    "            <td align=center>89%</td>\n",
    "            <td align=center>83%</td>\n",
    "            <td align=center>86%</td>\n",
    "            <td align=center>85%</td>\n",
    "        </tr>\n",
    "        <tr>\n",
    "            <td align=right>Random forests</td>\n",
    "            <td align=center>80%</td>\n",
    "            <td align=center>77%</td>\n",
    "            <td align=center>83%</td>\n",
    "            <td align=center>84%</td>\n",
    "            <td align=center>75%</td>\n",
    "            <td align=cer>81%</td>\n",
    "            <td align=cer>79%</td>\n",
    "        </tr>\n",
    "        <tr>\n",
    "            <td align=right><b>Adaboost</b></td>\n",
    "            <td align=center><b>99%</b></td>\n",
    "            <td align=center><b>98%</b></td>\n",
    "            <td align=center><b>99%</b></td>\n",
    "            <td align=center><b>99%</b></td>\n",
    "            <td align=center><b>98%</b></td>\n",
    "            <td align=center><b>99%</b></td>\n",
    "            <td align=center><b>98%</b></td>\n",
    "        </tr>\n",
    "        <tr>\n",
    "            <td align=right>Suport vector machines</td>\n",
    "            <td align=center>xx%</td>\n",
    "            <td align=center>xx%</td>\n",
    "            <td align=center>xx%</td>\n",
    "            <td align=center>xx%</td>\n",
    "            <td align=center>xx%</td>\n",
    "            <td align=center>xx%</td>\n",
    "            <td align=center>xx%</td>\n",
    "        </tr>\n",
    "        <tr>\n",
    "            <td align=right>Artificial neural networks</td>\n",
    "            <td align=center>81%</td>\n",
    "            <td align=center>78%</td>\n",
    "            <td align=center>84%</td>\n",
    "            <td align=center>85%</td>\n",
    "            <td align=center>76%</td>\n",
    "            <td align=center>82%</td>\n",
    "            <td align=center>80%</td>\n",
    "        </tr>\n",
    "    </tbody>\n",
    "</table>"
   ]
  },
  {
   "cell_type": "markdown",
   "id": "492b1091-a606-439b-a151-841287a25ca9",
   "metadata": {
    "id": "492b1091-a606-439b-a151-841287a25ca9"
   },
   "source": [
    "## Conclusions <a class=\"anchor\" id=\"mconclusions\"></a>\n",
    "\n",
    "[TOC](#mtop)"
   ]
  },
  {
   "cell_type": "markdown",
   "id": "cdfaa0dd-f86a-43cb-953d-12b20d6778f5",
   "metadata": {
    "id": "cdfaa0dd-f86a-43cb-953d-12b20d6778f5"
   },
   "source": [
    "The data was investigated by checking for data unbalancing, visualizing the features, checking the null values, and understanding the relationship between different features. The data were split into train and test sets and scaled, and a feature selection technique based on feature importance was employed and evaluated for use in further pipelines. The hyperparameters were prepared for optimization, and a pipeline was created for each model with feature selection, scaling, hyperparameters tunning, and classification steps. The performance of Decision Trees, Random Forests, Support Vector Machines and artificial neural networks are very similar. However, Adaboost ensemble machine learning models present the general best performance compared to all analyzed models."
   ]
  },
  {
   "cell_type": "code",
   "execution_count": null,
   "id": "c9874cc1-0858-4ee4-a876-20eff0b83a58",
   "metadata": {
    "id": "c9874cc1-0858-4ee4-a876-20eff0b83a58"
   },
   "outputs": [],
   "source": []
  }
 ],
 "metadata": {
  "colab": {
   "provenance": []
  },
  "kernelspec": {
   "display_name": "Python 3 (ipykernel)",
   "language": "python",
   "name": "python3"
  },
  "language_info": {
   "codemirror_mode": {
    "name": "ipython",
    "version": 3
   },
   "file_extension": ".py",
   "mimetype": "text/x-python",
   "name": "python",
   "nbconvert_exporter": "python",
   "pygments_lexer": "ipython3",
   "version": "3.10.11"
  }
 },
 "nbformat": 4,
 "nbformat_minor": 5
}
