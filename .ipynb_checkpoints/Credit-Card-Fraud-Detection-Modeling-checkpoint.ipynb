{
 "cells": [
  {
   "cell_type": "markdown",
   "id": "36e3ac2a-6bf8-4479-bf13-ebf680747fec",
   "metadata": {},
   "source": [
    "# Credit and Debit Card Fraud Detection"
   ]
  },
  {
   "cell_type": "markdown",
   "id": "5b151eea-9322-4ccb-b8ec-3c9e45de0956",
   "metadata": {},
   "source": [
    "## Modeling"
   ]
  },
  {
   "cell_type": "markdown",
   "id": "4df63f78-869c-4937-9bc5-a31fa56ff381",
   "metadata": {},
   "source": [
    "## Table Of Contents: <a class=\"anchor\" id=\"mtop\"></a>\n",
    "\n",
    "- [Fraud classification](#mUnclassification)\n",
    "- [Under Sampling Data balancing](#mUndataBalancing)\n",
    "- [Fraud Classification with Under Sampling](#mUnclassification)\n",
    "    * [Feature Selection](#mUnfeatureSelection)\n",
    "    * [Decision Trees models](#mUndecisionTrees)\n",
    "    * [Random Forests models](#mUnrandomForests)\n",
    "    * [AdaBoost model](#mUnAdaBoost)\n",
    "    * [Suport Vector Machines models](#mUnSVM)\n",
    "    * [Artificial Neural Networks](#mUnANN)\n",
    "- [Upper-sampling data balancing](#mUpdataBalancing)\n",
    "- [Fraud Classification with Upper Sampling](#mUpclassification)\n",
    "    * [Feature Selection](#mUpfeatureSelection)\n",
    "    * [Decision Trees models](#mUpdecisionTrees)\n",
    "    * [Random Forests models](#mUprandomForests)\n",
    "    * [AdaBoost model](#mUpAdaBoost)\n",
    "    * [Suport Vector Machines models](#mUpSVM)\n",
    "    * [Artificial Neural Networks](#mUpANN)    \n",
    "- [Conclusions](#mconclusions)"
   ]
  },
  {
   "cell_type": "code",
   "execution_count": null,
   "id": "2115bd6f-e546-45b5-939c-ce022f2f7a50",
   "metadata": {},
   "outputs": [],
   "source": []
  },
  {
   "cell_type": "code",
   "execution_count": 22,
   "id": "ab4e364c-8cef-4440-9271-c571398f00f5",
   "metadata": {},
   "outputs": [],
   "source": [
    "import pandas as pd\n",
    "from imblearn.under_sampling import RandomUnderSampler\n",
    "from sklearn.model_selection import train_test_split\n",
    "from sklearn.feature_selection import RFECV\n",
    "from sklearn.model_selection import GridSearchCV\n",
    "from sklearn.ensemble import RandomForestClassifier\n",
    "from sklearn.tree import DecisionTreeClassifier\n",
    "from sklearn import svm\n",
    "from sklearn.ensemble import AdaBoostClassifier\n",
    "from sklearn.pipeline import Pipeline\n",
    "from sklearn.preprocessing import StandardScaler\n",
    "from sklearn.model_selection import StratifiedKFold\n",
    "from sklearn.metrics import classification_report\n",
    "from sklearn.ensemble import AdaBoostClassifier\n",
    "from sklearn import svm\n",
    "from sklearn.metrics import confusion_matrix, ConfusionMatrixDisplay\n",
    "import torch\n",
    "import torch.nn as nn\n",
    "import torch.optim as optim\n",
    "from sklearn.metrics import accuracy_score\n",
    "from sklearn.metrics import precision_score\n",
    "from sklearn.metrics import recall_score\n",
    "from sklearn.metrics import f1_score"
   ]
  },
  {
   "cell_type": "markdown",
   "id": "68eeae87-db85-4514-b579-48b0c509807c",
   "metadata": {},
   "source": [
    "# Fraud classification <a class=\"anchor\" id=\"mUnclassification\"></a>\n",
    "\n",
    "[TOC](#mtop)"
   ]
  },
  {
   "cell_type": "code",
   "execution_count": null,
   "id": "a7fb56ec-e2d5-4e3b-8a9f-ba986764d04a",
   "metadata": {},
   "outputs": [],
   "source": [
    "from google.colab import drive\n",
    "drive.mount('/content/drive')"
   ]
  },
  {
   "cell_type": "code",
   "execution_count": null,
   "id": "d8e1dc54-38ac-4478-87d9-abcaf9ced22f",
   "metadata": {},
   "outputs": [],
   "source": []
  },
  {
   "cell_type": "code",
   "execution_count": null,
   "id": "21a5b3dd-f28a-42e7-b569-ab10e8460311",
   "metadata": {},
   "outputs": [],
   "source": []
  },
  {
   "cell_type": "code",
   "execution_count": null,
   "id": "06a20a70-d4cd-4402-a2fe-ee0217c16fdb",
   "metadata": {},
   "outputs": [],
   "source": [
    "#Importing the dataset used to train and test the machine learning models\n",
    "#fraud = pd.read_csv('/content/drive/MyDrive/Colab Notebooks/preparedFraud.csv')\n",
    "fraud = pd.read_csv('..\\CreditCardFraudDetectionData\\preparedFraud2.csv')"
   ]
  },
  {
   "cell_type": "code",
   "execution_count": null,
   "id": "c7a44c6d-6720-44a3-be2d-aecd37f477cf",
   "metadata": {},
   "outputs": [],
   "source": []
  },
  {
   "cell_type": "code",
   "execution_count": 3,
   "id": "6d774e48-9edf-4442-80a4-bdff2eda9d30",
   "metadata": {},
   "outputs": [],
   "source": [
    "X=fraud[['TransactionAmt','card1','addr1','addr2',\n",
    "        'C1','C2','C3','C4','C5','C6','C7','C8','C9','C10','C11','C12','C13','C14',\n",
    "        'V95', 'V96', 'V97','V98', 'V99', 'V100', 'V101', 'V102', 'V103', 'V104', 'V105', 'V106', 'V107', 'V108', 'V109', 'V110', 'V111',\n",
    "        'V112', 'V113', 'V114', 'V115', 'V116', 'V117', 'V118', 'V119', 'V120', 'V121', 'V122', 'V123', 'V124', 'V125', 'V126' , 'V127',\n",
    "        'V128', 'V129', 'V130', 'V131', 'V132', 'V133', 'V134', 'V135', 'V136', 'V137']]\n",
    "\n",
    "y=fraud['isFraud']"
   ]
  },
  {
   "cell_type": "code",
   "execution_count": null,
   "id": "e964f011-9061-417d-8999-2748b5691fc6",
   "metadata": {},
   "outputs": [],
   "source": []
  },
  {
   "cell_type": "markdown",
   "id": "e3c51cee-aece-417f-96f6-d5fc4e10847f",
   "metadata": {},
   "source": [
    "## Under-sampling data balancing  <a class=\"anchor\" id=\"mUndataBalancing\"></a>\n",
    "\n",
    "[TOC](#mtop)"
   ]
  },
  {
   "cell_type": "markdown",
   "id": "ef6f0f3e-82f5-4280-b289-86231c7a8a02",
   "metadata": {},
   "source": [
    "The imbalanced datasets are a characteristic of the problem of credit card fraud detection. One can see that the fraud dataset is imbalanced. The issue presents much more legitimate transactions than fraudulent transactions. It is not different in this case, so we must use a technique to balance the data. As the quantity of data is enough, one can use the under-sampling technique. After this process, the remaining data has over 10 thousand legitimate and fraudulent transactions."
   ]
  },
  {
   "cell_type": "code",
   "execution_count": 4,
   "id": "f1cb46f9-02f1-4667-9a24-6d7725813da7",
   "metadata": {},
   "outputs": [],
   "source": [
    "#Let's perform an undersampling to balance the data. In this case, it was used a technique of random sampling with replacement.\n",
    "rus = RandomUnderSampler(random_state=42, replacement=True)# fit predictor and target variable\n",
    "x_rus, y_rus = rus.fit_resample(X, y)"
   ]
  },
  {
   "cell_type": "code",
   "execution_count": null,
   "id": "b55b9d3e-fe6a-4abd-a392-ee1ae440b5a1",
   "metadata": {},
   "outputs": [],
   "source": []
  },
  {
   "cell_type": "code",
   "execution_count": null,
   "id": "fcd5d259-7146-43c7-a6b0-58cccf9a2bd1",
   "metadata": {},
   "outputs": [],
   "source": []
  },
  {
   "cell_type": "code",
   "execution_count": 5,
   "id": "8b6a1247-0af4-401f-bd35-0ad16e8e11f8",
   "metadata": {},
   "outputs": [],
   "source": [
    "X_train, X_test, y_train, y_test = train_test_split(x_rus, y_rus,\n",
    "                                                    test_size=0.2,\n",
    "                                                    random_state=42)"
   ]
  },
  {
   "cell_type": "markdown",
   "id": "94975e05-e323-4c53-8976-6d9c6dd5521c",
   "metadata": {},
   "source": [
    "This section presents some baseline models to set the stage for advanced modeling in the future project step. One can see the performance of four models: Decision Trees, Random Forests, Adaboost,  and Support Vector Machines. A feature selection is set for all models using a recursive feature elimination with cross-validation based on the Random Forests classifier. Next, a pipeline is designed with these steps: feature selection, feature scaling, model hyperparameters optimization, and training. To articulate a model evaluation, a performance metric report for each model is presented with accuracy, precision, recall, and f1-score."
   ]
  },
  {
   "cell_type": "markdown",
   "id": "a6e605e0-19d0-4afe-a1eb-b2f057b4087e",
   "metadata": {},
   "source": [
    "### Feature Selection  <a class=\"anchor\" id=\"mUnfeatureSelection\"></a>\n",
    "\n",
    "[TOC](#mtop)"
   ]
  },
  {
   "cell_type": "code",
   "execution_count": 12,
   "id": "2cd24622-5418-43c5-abca-19ba185487aa",
   "metadata": {},
   "outputs": [
    {
     "name": "stdout",
     "output_type": "stream",
     "text": [
      "Optimal number of features: 13\n",
      "Selected features: Index(['TransactionAmt', 'card1', 'addr1', 'C1', 'C2', 'C5', 'C9', 'C13',\n",
      "       'C14', 'V126', 'V127', 'V128', 'V133'],\n",
      "      dtype='object')\n"
     ]
    }
   ],
   "source": [
    "min_features_to_select = 1  # Minimum number of features to consider\n",
    "clf = RandomForestClassifier(n_estimators=10,\n",
    "                             random_state=42)\n",
    "\n",
    "cv = StratifiedKFold(5)\n",
    "\n",
    "rfecv = RFECV(\n",
    "    estimator=clf,\n",
    "    step=1,\n",
    "    cv=cv,\n",
    "    scoring=\"accuracy\",\n",
    "    min_features_to_select=min_features_to_select,\n",
    "    n_jobs=2,\n",
    ")\n",
    "rfecv.fit(X_train, y_train)\n",
    "\n",
    "print(f\"Optimal number of features: {rfecv.n_features_}\")\n",
    "print(f\"Selected features: {X_train.columns[rfecv.support_]}\")"
   ]
  },
  {
   "cell_type": "code",
   "execution_count": null,
   "id": "3896231b-d3a1-4680-9e69-3c3c7f4b31a2",
   "metadata": {},
   "outputs": [],
   "source": []
  },
  {
   "cell_type": "markdown",
   "id": "1ce1f277-dc7c-4b86-868a-3a03efea0e60",
   "metadata": {},
   "source": [
    "### Decision trees models <a class=\"anchor\" id=\"mUndecisionTrees\"></a>\n",
    "\n",
    "[TOC](#mtop)"
   ]
  },
  {
   "cell_type": "code",
   "execution_count": null,
   "id": "742efa52-bb86-48cb-972a-c187a714a513",
   "metadata": {},
   "outputs": [],
   "source": []
  },
  {
   "cell_type": "code",
   "execution_count": 24,
   "id": "d02311bb-7102-4954-bad5-44fff6603c68",
   "metadata": {},
   "outputs": [
    {
     "name": "stdout",
     "output_type": "stream",
     "text": [
      "              precision    recall  f1-score   support\n",
      "\n",
      "           0       0.72      0.78      0.75      2056\n",
      "           1       0.77      0.70      0.73      2106\n",
      "\n",
      "    accuracy                           0.74      4162\n",
      "   macro avg       0.74      0.74      0.74      4162\n",
      "weighted avg       0.74      0.74      0.74      4162\n",
      "\n"
     ]
    }
   ],
   "source": [
    "#this is the classifier used for feature selection\n",
    "clf_featr_sele = RandomForestClassifier(n_estimators=10,\n",
    "                             random_state=42)\n",
    "\n",
    "rfecv = RFECV(estimator=clf_featr_sele,\n",
    "              step=1,\n",
    "              cv=5,\n",
    "              scoring = 'roc_auc')\n",
    "\n",
    "#you can have different classifier for your final classifier\n",
    "clf = DecisionTreeClassifier()\n",
    "\n",
    "\n",
    "CV_dt = GridSearchCV(clf,\n",
    "                      param_grid={\n",
    "                          'criterion': ['gini', 'entropy'],\n",
    "                          'max_depth': [2,4,6],\n",
    "                          'min_samples_leaf': [1, 2]},\n",
    "                      cv= 5,\n",
    "                      scoring = 'roc_auc')\n",
    "\n",
    "\n",
    "pipeline  = Pipeline([('feature_sele',rfecv),\n",
    "                      ('scale', StandardScaler()),\n",
    "                      ('clf_cv',CV_dt)])\n",
    "\n",
    "pipeline.fit(X_train, y_train)\n",
    "y_pred=pipeline.predict(X_test)\n",
    "print(classification_report(y_test, y_pred))"
   ]
  },
  {
   "cell_type": "markdown",
   "id": "74f15ecf-62bc-4c60-ae41-f3a6bc84521a",
   "metadata": {},
   "source": [
    "The Decision Trees performance was:\n",
    "- Accuracy equals to 74%.\n",
    "- Precision equals 72% for legitimate class and 77% for fraudulent class.\n",
    "- Recall equals 78% for genuine class and 70% for fraudulent class.\n",
    "- F1-score equals 75% for the genuine class and 73% for the fraudulent class."
   ]
  },
  {
   "cell_type": "markdown",
   "id": "8b0dd90e-48fa-40a1-9042-033713175fc5",
   "metadata": {},
   "source": [
    "### Random forests models<a class=\"anchor\" id=\"mUnrandomForests\"></a>\n",
    "\n",
    "[TOC](#mtop)"
   ]
  },
  {
   "cell_type": "code",
   "execution_count": null,
   "id": "32529b70-0e4d-44a5-b522-0251809754e9",
   "metadata": {},
   "outputs": [],
   "source": []
  },
  {
   "cell_type": "code",
   "execution_count": 25,
   "id": "4a975f09-6e8e-4c9b-9103-49ca3ab48c99",
   "metadata": {},
   "outputs": [
    {
     "name": "stdout",
     "output_type": "stream",
     "text": [
      "              precision    recall  f1-score   support\n",
      "\n",
      "           0       0.69      0.79      0.74      2056\n",
      "           1       0.76      0.65      0.70      2106\n",
      "\n",
      "    accuracy                           0.72      4162\n",
      "   macro avg       0.73      0.72      0.72      4162\n",
      "weighted avg       0.73      0.72      0.72      4162\n",
      "\n"
     ]
    }
   ],
   "source": [
    "#this is the classifier used for feature selection\n",
    "clf_featr_sele = RandomForestClassifier(n_estimators=10,\n",
    "                             random_state=42)\n",
    "\n",
    "rfecv = RFECV(estimator=clf_featr_sele,\n",
    "              step=1,\n",
    "              cv=5,\n",
    "              scoring = 'roc_auc')\n",
    "\n",
    "#you can have different classifier for your final classifier\n",
    "clf = RandomForestClassifier(n_estimators=10,\n",
    "                             random_state=42,\n",
    "                             class_weight=\"balanced\")\n",
    "CV_rfc = GridSearchCV(clf,\n",
    "                      param_grid={'max_depth':[2,3]},\n",
    "                      cv= 5, scoring = 'roc_auc')\n",
    "\n",
    "\n",
    "pipeline  = Pipeline([('feature_sele',rfecv),\n",
    "                      ('scale', StandardScaler()),\n",
    "                      ('clf_cv',CV_rfc)])\n",
    "\n",
    "pipeline.fit(X_train, y_train)\n",
    "y_pred=pipeline.predict(X_test)\n",
    "print(classification_report(y_test, y_pred))"
   ]
  },
  {
   "cell_type": "code",
   "execution_count": null,
   "id": "2ec38fda-f6fc-41af-83b8-e6e1e670c193",
   "metadata": {},
   "outputs": [],
   "source": []
  },
  {
   "cell_type": "markdown",
   "id": "9735e9b2-7396-46a8-8219-2bc3acecfbd3",
   "metadata": {},
   "source": [
    "### AdaBoost model <a class=\"anchor\" id=\"mUnAdaBoost\"></a>\n",
    "\n",
    "[TOC](#mtop)"
   ]
  },
  {
   "cell_type": "code",
   "execution_count": null,
   "id": "a59cae9f-f6b3-4425-9f83-67855a1a82d4",
   "metadata": {},
   "outputs": [],
   "source": []
  },
  {
   "cell_type": "code",
   "execution_count": 27,
   "id": "1e652f7d-0666-484a-bcab-5324d2d0fba3",
   "metadata": {},
   "outputs": [
    {
     "name": "stdout",
     "output_type": "stream",
     "text": [
      "              precision    recall  f1-score   support\n",
      "\n",
      "           0       0.77      0.79      0.78      2056\n",
      "           1       0.79      0.77      0.78      2106\n",
      "\n",
      "    accuracy                           0.78      4162\n",
      "   macro avg       0.78      0.78      0.78      4162\n",
      "weighted avg       0.78      0.78      0.78      4162\n",
      "\n"
     ]
    }
   ],
   "source": [
    "#this is the classifier used for feature selection\n",
    "clf_featr_sele = RandomForestClassifier(n_estimators=10,\n",
    "                             random_state=42)\n",
    "\n",
    "rfecv = RFECV(estimator=clf_featr_sele,\n",
    "              step=1,\n",
    "              cv=5,\n",
    "              scoring = 'roc_auc')\n",
    "\n",
    "#you can have different classifier for your final classifier\n",
    "DTC = DecisionTreeClassifier(class_weight = \"balanced\")\n",
    "clf = AdaBoostClassifier()\n",
    "\n",
    "CV_ada = GridSearchCV(clf,\n",
    "                      param_grid = {\n",
    "                          'estimator':[DTC],\n",
    "                          'learning_rate': [0.1, 0.5],\n",
    "                          'n_estimators': [10, 20]},\n",
    "                      cv= 5,\n",
    "                      scoring = 'roc_auc')\n",
    "\n",
    "\n",
    "pipeline  = Pipeline([('feature_sele',rfecv),\n",
    "                      ('scale', StandardScaler()),\n",
    "                      ('clf_cv',CV_ada)])\n",
    "\n",
    "pipeline.fit(X_train, y_train)\n",
    "y_pred=pipeline.predict(X_test)\n",
    "print(classification_report(y_test, y_pred))"
   ]
  },
  {
   "cell_type": "markdown",
   "id": "78715405-8692-4f88-9891-72cbb381fefc",
   "metadata": {},
   "source": [
    "The Adaboost performance was:\n",
    "- Accuracy equals to 78%.\n",
    "- Precision equals 78% for the legitimate class and 78% for the fraudulent class.\n",
    "- Recall equals 78% for genuine class and 79% for fraudulent class.\n",
    "- F1-score equals 78% for the genuine class and 78% for the fraudulent class."
   ]
  },
  {
   "cell_type": "markdown",
   "id": "092f9529-c63f-42cf-933c-30eae5d7d82b",
   "metadata": {},
   "source": [
    "### Suport Vector Machines model <a class=\"anchor\" id=\"mUnSVM\"></a>\n",
    "\n",
    "[TOC](#mtop)"
   ]
  },
  {
   "cell_type": "code",
   "execution_count": null,
   "id": "f7002281-b90d-4e52-95e8-75d5509ae1ff",
   "metadata": {},
   "outputs": [],
   "source": []
  },
  {
   "cell_type": "code",
   "execution_count": 29,
   "id": "4419d23a-88b1-47cb-a2f5-58ee2a3bc4a1",
   "metadata": {},
   "outputs": [
    {
     "name": "stdout",
     "output_type": "stream",
     "text": [
      "              precision    recall  f1-score   support\n",
      "\n",
      "           0       0.69      0.81      0.74      2056\n",
      "           1       0.77      0.64      0.70      2106\n",
      "\n",
      "    accuracy                           0.72      4162\n",
      "   macro avg       0.73      0.73      0.72      4162\n",
      "weighted avg       0.73      0.72      0.72      4162\n",
      "\n"
     ]
    }
   ],
   "source": [
    "#this is the classifier used for feature selection\n",
    "clf_featr_sele = RandomForestClassifier(n_estimators=10,\n",
    "                             random_state=42)\n",
    "\n",
    "rfecv = RFECV(estimator=clf_featr_sele,\n",
    "              step=1,\n",
    "              cv=5,\n",
    "              scoring = 'roc_auc')\n",
    "\n",
    "#you can have different classifier for your final classifier\n",
    "clf = svm.SVC()\n",
    "\n",
    "CV_svm = GridSearchCV(clf,\n",
    "                      param_grid={'C':[0.1, 1.0, 10],\n",
    "                                  'kernel':['linear','rbf']},\n",
    "                      cv= 5,\n",
    "                      scoring = 'roc_auc')\n",
    "\n",
    "\n",
    "pipeline  = Pipeline([('feature_sele',rfecv),\n",
    "                      ('scale', StandardScaler()),\n",
    "                      ('clf_cv',CV_svm)])\n",
    "\n",
    "pipeline.fit(X_train, y_train)\n",
    "y_pred=pipeline.predict(X_test)\n",
    "print(classification_report(y_test, y_pred))"
   ]
  },
  {
   "cell_type": "markdown",
   "id": "039b464e-9fa2-42e2-a920-c624c7915df7",
   "metadata": {},
   "source": [
    "The Support Vector Machines performance was:\n",
    "- Accuracy equals to 72%.\n",
    "- Precision equals 69% for the legitimate class and 77% for the fraudulent class.\n",
    "- Recall equals 81% for genuine class and 64% for fraudulent class.\n",
    "- F1-score equals 74% for the genuine class and 70% for the fraudulent class."
   ]
  },
  {
   "cell_type": "markdown",
   "id": "b3cce647-f2d9-4a52-89e1-07ab79c0cf19",
   "metadata": {},
   "source": [
    "### Artificial Neural Networks <a class=\"anchor\" id=\"mUnANN\"></a>\n",
    "\n",
    "[TOC](#mtop)"
   ]
  },
  {
   "cell_type": "code",
   "execution_count": null,
   "id": "880d792e-9e07-4be5-b8f3-65f782728139",
   "metadata": {},
   "outputs": [],
   "source": []
  },
  {
   "cell_type": "code",
   "execution_count": 13,
   "id": "9e7cd5ab-d22e-4816-864b-965ae5840c4f",
   "metadata": {},
   "outputs": [
    {
     "name": "stdout",
     "output_type": "stream",
     "text": [
      "Net(\n",
      "  (hidden1): Linear(in_features=13, out_features=12, bias=True)\n",
      "  (act1): ReLU()\n",
      "  (hidden2): Linear(in_features=12, out_features=8, bias=True)\n",
      "  (act2): ReLU()\n",
      "  (output): Linear(in_features=8, out_features=1, bias=True)\n",
      "  (act_output): Sigmoid()\n",
      ")\n"
     ]
    }
   ],
   "source": [
    "class Net(nn.Module):\n",
    "    def __init__(self):\n",
    "        super().__init__()\n",
    "        self.hidden1 = nn.Linear(rfecv.n_features_, 12)\n",
    "        self.act1 = nn.ReLU()\n",
    "        self.hidden2 = nn.Linear(12, 8)\n",
    "        self.act2 = nn.ReLU()\n",
    "        self.output = nn.Linear(8, 1)\n",
    "        self.act_output = nn.Sigmoid()\n",
    "\n",
    "    def forward(self, x):\n",
    "        x = self.act1(self.hidden1(x))\n",
    "        x = self.act2(self.hidden2(x))\n",
    "        x = self.act_output(self.output(x))\n",
    "        return x\n",
    "\n",
    "model = Net()\n",
    "print(model)"
   ]
  },
  {
   "cell_type": "code",
   "execution_count": 14,
   "id": "6171f6e4-957b-4b72-a8a9-a397df3297b4",
   "metadata": {},
   "outputs": [
    {
     "name": "stdout",
     "output_type": "stream",
     "text": [
      "cpu\n"
     ]
    }
   ],
   "source": [
    "device = torch.device('cuda:0' if torch.cuda.is_available() else 'cpu')\n",
    "model.to(device)\n",
    "print(device)"
   ]
  },
  {
   "cell_type": "code",
   "execution_count": 15,
   "id": "e958b2ef-3a38-46a6-a91e-7b0b3038068a",
   "metadata": {},
   "outputs": [],
   "source": [
    "loss_fn = nn.BCELoss()  # binary cross entropy\n",
    "optimizer = optim.Adam(model.parameters(), lr=0.001)"
   ]
  },
  {
   "cell_type": "code",
   "execution_count": 16,
   "id": "d0ec6f0c-a012-40d5-b227-b48f005f4ad1",
   "metadata": {},
   "outputs": [],
   "source": [
    "scaler = StandardScaler().fit(X_train[X_train.columns[rfecv.support_]])\n",
    "X_tr_scaled = scaler.transform(X_train[X_train.columns[rfecv.support_]])\n",
    "X_te_scaled = scaler.transform(X_test[X_test.columns[rfecv.support_]])"
   ]
  },
  {
   "cell_type": "code",
   "execution_count": 17,
   "id": "c276c983-bb38-4e69-b18a-49e483f4b0bf",
   "metadata": {},
   "outputs": [],
   "source": [
    "X_train_nn = torch.tensor(X_tr_scaled, dtype=torch.float32).to(device)\n",
    "y_train_nn = torch.tensor(y_train.to_numpy(), dtype=torch.float32).reshape(-1, 1).to(device)"
   ]
  },
  {
   "cell_type": "code",
   "execution_count": 18,
   "id": "a72f1c14-6c79-46a8-80d3-1eb412c5199d",
   "metadata": {},
   "outputs": [
    {
     "name": "stdout",
     "output_type": "stream",
     "text": [
      "Finished epoch 0, latest loss 0.5931800603866577\n",
      "Finished epoch 1, latest loss 0.5147647857666016\n",
      "Finished epoch 2, latest loss 0.4805735647678375\n",
      "Finished epoch 3, latest loss 0.4662722647190094\n",
      "Finished epoch 4, latest loss 0.45030370354652405\n",
      "Finished epoch 5, latest loss 0.4413246214389801\n",
      "Finished epoch 6, latest loss 0.436825156211853\n",
      "Finished epoch 7, latest loss 0.4327261447906494\n",
      "Finished epoch 8, latest loss 0.42343202233314514\n",
      "Finished epoch 9, latest loss 0.4231400191783905\n",
      "Finished epoch 10, latest loss 0.4182569682598114\n",
      "Finished epoch 11, latest loss 0.40914949774742126\n",
      "Finished epoch 12, latest loss 0.4110928475856781\n",
      "Finished epoch 13, latest loss 0.41539740562438965\n",
      "Finished epoch 14, latest loss 0.4185698926448822\n",
      "Finished epoch 15, latest loss 0.42534133791923523\n",
      "Finished epoch 16, latest loss 0.41759946942329407\n",
      "Finished epoch 17, latest loss 0.4302314519882202\n",
      "Finished epoch 18, latest loss 0.4158015549182892\n",
      "Finished epoch 19, latest loss 0.42040184140205383\n",
      "Finished epoch 20, latest loss 0.4188551604747772\n",
      "Finished epoch 21, latest loss 0.42074885964393616\n",
      "Finished epoch 22, latest loss 0.4256099760532379\n",
      "Finished epoch 23, latest loss 0.41591909527778625\n",
      "Finished epoch 24, latest loss 0.41942909359931946\n"
     ]
    }
   ],
   "source": [
    "n_epochs = 25 #50\n",
    "batch_size = 10\n",
    "\n",
    "for epoch in range(n_epochs):\n",
    "    for i in range(0, len(X_train_nn), batch_size):\n",
    "        Xbatch = X_train_nn[i:i+batch_size]\n",
    "        y_pred = model(Xbatch)\n",
    "        ybatch = y_train_nn[i:i+batch_size]\n",
    "        loss = loss_fn(y_pred, ybatch)\n",
    "        optimizer.zero_grad()\n",
    "        loss.backward()\n",
    "        optimizer.step()\n",
    "    print(f'Finished epoch {epoch}, latest loss {loss}')"
   ]
  },
  {
   "cell_type": "code",
   "execution_count": 24,
   "id": "ae1f0f0f-f066-4c1b-bb82-d9d2841215c4",
   "metadata": {},
   "outputs": [],
   "source": [
    "X_test_nn = torch.tensor(X_te_scaled, dtype=torch.float32).to(device)\n",
    "y_test_nn = torch.tensor(y_test.to_numpy(), dtype=torch.float32).reshape(-1, 1).to(device)"
   ]
  },
  {
   "cell_type": "code",
   "execution_count": 25,
   "id": "85353a2b-22b3-46ff-982c-de70e0ea7519",
   "metadata": {},
   "outputs": [
    {
     "name": "stdout",
     "output_type": "stream",
     "text": [
      "Accuracy 0.7426717877388\n"
     ]
    }
   ],
   "source": [
    "with torch.no_grad(): y_pred = model(X_test_nn)\n",
    "accuracy = (y_pred.round() == y_test_nn).float().mean()\n",
    "print(f\"Accuracy {accuracy}\")"
   ]
  },
  {
   "cell_type": "code",
   "execution_count": 26,
   "id": "f1d0050d-a021-4770-8f25-f8ed9a323945",
   "metadata": {},
   "outputs": [
    {
     "name": "stdout",
     "output_type": "stream",
     "text": [
      "Precision 0.7841845140032949\n",
      "Recall 0.6780626780626781\n",
      "F1-score 0.7272727272727273\n"
     ]
    }
   ],
   "source": [
    "y_pred=pd.DataFrame(y_pred.round().cpu().detach().numpy())\n",
    "print(f\"Precision {precision_score(y_test, y_pred, pos_label=1)}\")\n",
    "print(f\"Recall {recall_score(y_test, y_pred, pos_label=1)}\")\n",
    "print(f\"F1-score {f1_score(y_test, y_pred, pos_label=1)}\")"
   ]
  },
  {
   "cell_type": "code",
   "execution_count": 27,
   "id": "17f37d12-cd09-4b79-a737-e5425ab47cea",
   "metadata": {},
   "outputs": [
    {
     "name": "stdout",
     "output_type": "stream",
     "text": [
      "Precision 0.7103801794105084\n",
      "Recall 0.808852140077821\n",
      "F1-score 0.7564248351148511\n"
     ]
    }
   ],
   "source": [
    "print(f\"Precision {precision_score(y_test, y_pred, pos_label=0)}\")\n",
    "print(f\"Recall {recall_score(y_test, y_pred, pos_label=0)}\")\n",
    "print(f\"F1-score {f1_score(y_test, y_pred, pos_label=0)}\")"
   ]
  },
  {
   "cell_type": "code",
   "execution_count": null,
   "id": "8c2c5033-866c-4074-ab2c-e8f346196727",
   "metadata": {},
   "outputs": [],
   "source": []
  },
  {
   "cell_type": "markdown",
   "id": "db7fad86-51cc-44b7-a1ce-0e7ee0cab57f",
   "metadata": {},
   "source": [
    "<table>\n",
    "    <thead>\n",
    "        <tr>\n",
    "            <th>Models</th>\n",
    "            <th>Accuracy</th>\n",
    "            <th colspan=2 align=center>Precision</th>\n",
    "            <th colspan=2 align=center>Recall</th>\n",
    "            <th colspan=2 align=center>F1-score</th>\n",
    "        </tr>\n",
    "    </thead>\n",
    "    <tbody>\n",
    "        <tr>\n",
    "            <td></td>       \n",
    "            <td></td>\n",
    "            <td>Legitimate</td>\n",
    "            <td>Fraud</td>\n",
    "            <td>Legitimate</td>\n",
    "            <td>Fraud</td>\n",
    "            <td>Legitimate</td>\n",
    "            <td>Fraud</td>\n",
    "        </tr>\n",
    "        <tr>\n",
    "            <td align=right>Decision trees</td>\n",
    "            <td  align=center>3</td>            \n",
    "            <td align=center>sss</td>\n",
    "            <td align=center>zz</td>\n",
    "            <td align=center>aa</td>\n",
    "            <td align=center>ss</td>\n",
    "            <td align=center>ss</td>\n",
    "            <td align=center>ss</td>\n",
    "        </tr>\n",
    "        <tr>\n",
    "            <td align=right>Random forests</td>\n",
    "            <td align=center>qq</td>\n",
    "            <td align=center>ww</td>\n",
    "            <td align=center>zz</td>\n",
    "            <td align=center></td>\n",
    "            <td align=center>ss</td>\n",
    "            <td align=center>dd</td>\n",
    "            <td align=center>ss</td>\n",
    "        </tr>\n",
    "        <tr>\n",
    "            <td align=right>Adaboost</td>\n",
    "            <td align=center>ll</td>\n",
    "            <td align=center>xx</td>\n",
    "            <td align=center>zz</td>\n",
    "            <td align=center></td>\n",
    "            <td align=center>ss</td>\n",
    "            <td align=center></td>\n",
    "            <td align=center>ss</td>\n",
    "        </tr>\n",
    "        <tr>\n",
    "            <td align=right>Suport vector machines</td>\n",
    "            <td align=center>ll</td>\n",
    "            <td align=center>oo</td>\n",
    "            <td align=center>zz</td>\n",
    "            <td align=center>dd</td>\n",
    "            <td align=center>ss</td>\n",
    "            <td align=center></td>\n",
    "            <td align=center>ss</td>\n",
    "        </tr>\n",
    "        <tr>\n",
    "            <td align=right>Artificial neural networks</td>\n",
    "            <td align=center>L2</td>\n",
    "            <td align=center>L3</td>\n",
    "            <td align=center>zz</td>\n",
    "            <td align=center></td>\n",
    "            <td align=center>ss</td>\n",
    "            <td align=center></td>\n",
    "            <td align=center>ss</td>\n",
    "        </tr>\n",
    "    </tbody>\n",
    "</table>"
   ]
  },
  {
   "cell_type": "code",
   "execution_count": null,
   "id": "90a35a3e-8cac-41ef-a300-7ad681af8dcc",
   "metadata": {},
   "outputs": [],
   "source": []
  },
  {
   "cell_type": "markdown",
   "id": "22232c50-c54e-43d2-985b-2a8347ecaf75",
   "metadata": {},
   "source": [
    "### Upper-sampling data balancing  <a class=\"anchor\" id=\"mUpdataBalancing\"></a>\n",
    "\n",
    "[TOC](#mtop)"
   ]
  },
  {
   "cell_type": "code",
   "execution_count": null,
   "id": "55284a4d-32ed-4780-9a73-dc1905967a72",
   "metadata": {},
   "outputs": [],
   "source": []
  },
  {
   "cell_type": "code",
   "execution_count": 28,
   "id": "f75e4318-08d5-4f9c-a35e-7e2946767a58",
   "metadata": {},
   "outputs": [],
   "source": [
    "from imblearn.over_sampling import SMOTE\n",
    "X_resampled, y_resampled = SMOTE().fit_resample(X, y)"
   ]
  },
  {
   "cell_type": "code",
   "execution_count": null,
   "id": "7d3d985b-3bc1-45c2-a080-cb9ee55da28e",
   "metadata": {},
   "outputs": [],
   "source": []
  },
  {
   "cell_type": "markdown",
   "id": "0e77d000-b1d5-43c8-9c75-474cf0434e66",
   "metadata": {},
   "source": [
    "### Fraud Classification with Upper Sampling  <a class=\"anchor\" id=\"mUpclassification\"></a>\n",
    "\n",
    "[TOC](#mtop)"
   ]
  },
  {
   "cell_type": "code",
   "execution_count": null,
   "id": "ab039d49-dc55-4df7-9e5b-4a5de84d50ab",
   "metadata": {},
   "outputs": [],
   "source": []
  },
  {
   "cell_type": "code",
   "execution_count": 29,
   "id": "3df093c9-e8ec-491a-ad16-2603f53b0406",
   "metadata": {},
   "outputs": [],
   "source": [
    "X_train, X_test, y_train, y_test = train_test_split(X_resampled, y_resampled,\n",
    "                                                    test_size=0.2,\n",
    "                                                    random_state=42)"
   ]
  },
  {
   "cell_type": "code",
   "execution_count": null,
   "id": "2d13c72a-1722-40c5-81e7-f0dfcdd20587",
   "metadata": {},
   "outputs": [],
   "source": []
  },
  {
   "cell_type": "code",
   "execution_count": 30,
   "id": "45688c8b-27ee-4295-aee1-ac09d1f8bbb4",
   "metadata": {},
   "outputs": [
    {
     "ename": "KeyboardInterrupt",
     "evalue": "",
     "output_type": "error",
     "traceback": [
      "\u001b[1;31m---------------------------------------------------------------------------\u001b[0m",
      "\u001b[1;31mKeyboardInterrupt\u001b[0m                         Traceback (most recent call last)",
      "Cell \u001b[1;32mIn[30], line 15\u001b[0m\n\u001b[0;32m      5\u001b[0m cv \u001b[38;5;241m=\u001b[39m StratifiedKFold(\u001b[38;5;241m5\u001b[39m)\n\u001b[0;32m      7\u001b[0m rfecv \u001b[38;5;241m=\u001b[39m RFECV(\n\u001b[0;32m      8\u001b[0m     estimator\u001b[38;5;241m=\u001b[39mclf,\n\u001b[0;32m      9\u001b[0m     step\u001b[38;5;241m=\u001b[39m\u001b[38;5;241m1\u001b[39m,\n\u001b[1;32m   (...)\u001b[0m\n\u001b[0;32m     13\u001b[0m     n_jobs\u001b[38;5;241m=\u001b[39m\u001b[38;5;241m2\u001b[39m,\n\u001b[0;32m     14\u001b[0m )\n\u001b[1;32m---> 15\u001b[0m \u001b[43mrfecv\u001b[49m\u001b[38;5;241;43m.\u001b[39;49m\u001b[43mfit\u001b[49m\u001b[43m(\u001b[49m\u001b[43mX_train\u001b[49m\u001b[43m,\u001b[49m\u001b[43m \u001b[49m\u001b[43my_train\u001b[49m\u001b[43m)\u001b[49m\n\u001b[0;32m     17\u001b[0m \u001b[38;5;28mprint\u001b[39m(\u001b[38;5;124mf\u001b[39m\u001b[38;5;124m\"\u001b[39m\u001b[38;5;124mOptimal number of features: \u001b[39m\u001b[38;5;132;01m{\u001b[39;00mrfecv\u001b[38;5;241m.\u001b[39mn_features_\u001b[38;5;132;01m}\u001b[39;00m\u001b[38;5;124m\"\u001b[39m)\n\u001b[0;32m     18\u001b[0m \u001b[38;5;28mprint\u001b[39m(\u001b[38;5;124mf\u001b[39m\u001b[38;5;124m\"\u001b[39m\u001b[38;5;124mSelected features: \u001b[39m\u001b[38;5;132;01m{\u001b[39;00mX_train\u001b[38;5;241m.\u001b[39mcolumns[rfecv\u001b[38;5;241m.\u001b[39msupport_]\u001b[38;5;132;01m}\u001b[39;00m\u001b[38;5;124m\"\u001b[39m)\n",
      "File \u001b[1;32m~\\miniconda3\\lib\\site-packages\\sklearn\\base.py:1152\u001b[0m, in \u001b[0;36m_fit_context.<locals>.decorator.<locals>.wrapper\u001b[1;34m(estimator, *args, **kwargs)\u001b[0m\n\u001b[0;32m   1145\u001b[0m     estimator\u001b[38;5;241m.\u001b[39m_validate_params()\n\u001b[0;32m   1147\u001b[0m \u001b[38;5;28;01mwith\u001b[39;00m config_context(\n\u001b[0;32m   1148\u001b[0m     skip_parameter_validation\u001b[38;5;241m=\u001b[39m(\n\u001b[0;32m   1149\u001b[0m         prefer_skip_nested_validation \u001b[38;5;129;01mor\u001b[39;00m global_skip_validation\n\u001b[0;32m   1150\u001b[0m     )\n\u001b[0;32m   1151\u001b[0m ):\n\u001b[1;32m-> 1152\u001b[0m     \u001b[38;5;28;01mreturn\u001b[39;00m fit_method(estimator, \u001b[38;5;241m*\u001b[39margs, \u001b[38;5;241m*\u001b[39m\u001b[38;5;241m*\u001b[39mkwargs)\n",
      "File \u001b[1;32m~\\miniconda3\\lib\\site-packages\\sklearn\\feature_selection\\_rfe.py:726\u001b[0m, in \u001b[0;36mRFECV.fit\u001b[1;34m(self, X, y, groups)\u001b[0m\n\u001b[0;32m    723\u001b[0m     parallel \u001b[38;5;241m=\u001b[39m Parallel(n_jobs\u001b[38;5;241m=\u001b[39m\u001b[38;5;28mself\u001b[39m\u001b[38;5;241m.\u001b[39mn_jobs)\n\u001b[0;32m    724\u001b[0m     func \u001b[38;5;241m=\u001b[39m delayed(_rfe_single_fit)\n\u001b[1;32m--> 726\u001b[0m scores \u001b[38;5;241m=\u001b[39m \u001b[43mparallel\u001b[49m\u001b[43m(\u001b[49m\n\u001b[0;32m    727\u001b[0m \u001b[43m    \u001b[49m\u001b[43mfunc\u001b[49m\u001b[43m(\u001b[49m\u001b[43mrfe\u001b[49m\u001b[43m,\u001b[49m\u001b[43m \u001b[49m\u001b[38;5;28;43mself\u001b[39;49m\u001b[38;5;241;43m.\u001b[39;49m\u001b[43mestimator\u001b[49m\u001b[43m,\u001b[49m\u001b[43m \u001b[49m\u001b[43mX\u001b[49m\u001b[43m,\u001b[49m\u001b[43m \u001b[49m\u001b[43my\u001b[49m\u001b[43m,\u001b[49m\u001b[43m \u001b[49m\u001b[43mtrain\u001b[49m\u001b[43m,\u001b[49m\u001b[43m \u001b[49m\u001b[43mtest\u001b[49m\u001b[43m,\u001b[49m\u001b[43m \u001b[49m\u001b[43mscorer\u001b[49m\u001b[43m)\u001b[49m\n\u001b[0;32m    728\u001b[0m \u001b[43m    \u001b[49m\u001b[38;5;28;43;01mfor\u001b[39;49;00m\u001b[43m \u001b[49m\u001b[43mtrain\u001b[49m\u001b[43m,\u001b[49m\u001b[43m \u001b[49m\u001b[43mtest\u001b[49m\u001b[43m \u001b[49m\u001b[38;5;129;43;01min\u001b[39;49;00m\u001b[43m \u001b[49m\u001b[43mcv\u001b[49m\u001b[38;5;241;43m.\u001b[39;49m\u001b[43msplit\u001b[49m\u001b[43m(\u001b[49m\u001b[43mX\u001b[49m\u001b[43m,\u001b[49m\u001b[43m \u001b[49m\u001b[43my\u001b[49m\u001b[43m,\u001b[49m\u001b[43m \u001b[49m\u001b[43mgroups\u001b[49m\u001b[43m)\u001b[49m\n\u001b[0;32m    729\u001b[0m \u001b[43m\u001b[49m\u001b[43m)\u001b[49m\n\u001b[0;32m    731\u001b[0m scores \u001b[38;5;241m=\u001b[39m np\u001b[38;5;241m.\u001b[39marray(scores)\n\u001b[0;32m    732\u001b[0m scores_sum \u001b[38;5;241m=\u001b[39m np\u001b[38;5;241m.\u001b[39msum(scores, axis\u001b[38;5;241m=\u001b[39m\u001b[38;5;241m0\u001b[39m)\n",
      "File \u001b[1;32m~\\miniconda3\\lib\\site-packages\\sklearn\\utils\\parallel.py:65\u001b[0m, in \u001b[0;36mParallel.__call__\u001b[1;34m(self, iterable)\u001b[0m\n\u001b[0;32m     60\u001b[0m config \u001b[38;5;241m=\u001b[39m get_config()\n\u001b[0;32m     61\u001b[0m iterable_with_config \u001b[38;5;241m=\u001b[39m (\n\u001b[0;32m     62\u001b[0m     (_with_config(delayed_func, config), args, kwargs)\n\u001b[0;32m     63\u001b[0m     \u001b[38;5;28;01mfor\u001b[39;00m delayed_func, args, kwargs \u001b[38;5;129;01min\u001b[39;00m iterable\n\u001b[0;32m     64\u001b[0m )\n\u001b[1;32m---> 65\u001b[0m \u001b[38;5;28;01mreturn\u001b[39;00m \u001b[38;5;28;43msuper\u001b[39;49m\u001b[43m(\u001b[49m\u001b[43m)\u001b[49m\u001b[38;5;241;43m.\u001b[39;49m\u001b[38;5;21;43m__call__\u001b[39;49m\u001b[43m(\u001b[49m\u001b[43miterable_with_config\u001b[49m\u001b[43m)\u001b[49m\n",
      "File \u001b[1;32m~\\miniconda3\\lib\\site-packages\\joblib\\parallel.py:1952\u001b[0m, in \u001b[0;36mParallel.__call__\u001b[1;34m(self, iterable)\u001b[0m\n\u001b[0;32m   1946\u001b[0m \u001b[38;5;66;03m# The first item from the output is blank, but it makes the interpreter\u001b[39;00m\n\u001b[0;32m   1947\u001b[0m \u001b[38;5;66;03m# progress until it enters the Try/Except block of the generator and\u001b[39;00m\n\u001b[0;32m   1948\u001b[0m \u001b[38;5;66;03m# reach the first `yield` statement. This starts the aynchronous\u001b[39;00m\n\u001b[0;32m   1949\u001b[0m \u001b[38;5;66;03m# dispatch of the tasks to the workers.\u001b[39;00m\n\u001b[0;32m   1950\u001b[0m \u001b[38;5;28mnext\u001b[39m(output)\n\u001b[1;32m-> 1952\u001b[0m \u001b[38;5;28;01mreturn\u001b[39;00m output \u001b[38;5;28;01mif\u001b[39;00m \u001b[38;5;28mself\u001b[39m\u001b[38;5;241m.\u001b[39mreturn_generator \u001b[38;5;28;01melse\u001b[39;00m \u001b[38;5;28;43mlist\u001b[39;49m\u001b[43m(\u001b[49m\u001b[43moutput\u001b[49m\u001b[43m)\u001b[49m\n",
      "File \u001b[1;32m~\\miniconda3\\lib\\site-packages\\joblib\\parallel.py:1595\u001b[0m, in \u001b[0;36mParallel._get_outputs\u001b[1;34m(self, iterator, pre_dispatch)\u001b[0m\n\u001b[0;32m   1592\u001b[0m     \u001b[38;5;28;01myield\u001b[39;00m\n\u001b[0;32m   1594\u001b[0m     \u001b[38;5;28;01mwith\u001b[39;00m \u001b[38;5;28mself\u001b[39m\u001b[38;5;241m.\u001b[39m_backend\u001b[38;5;241m.\u001b[39mretrieval_context():\n\u001b[1;32m-> 1595\u001b[0m         \u001b[38;5;28;01myield from\u001b[39;00m \u001b[38;5;28mself\u001b[39m\u001b[38;5;241m.\u001b[39m_retrieve()\n\u001b[0;32m   1597\u001b[0m \u001b[38;5;28;01mexcept\u001b[39;00m \u001b[38;5;167;01mGeneratorExit\u001b[39;00m:\n\u001b[0;32m   1598\u001b[0m     \u001b[38;5;66;03m# The generator has been garbage collected before being fully\u001b[39;00m\n\u001b[0;32m   1599\u001b[0m     \u001b[38;5;66;03m# consumed. This aborts the remaining tasks if possible and warn\u001b[39;00m\n\u001b[0;32m   1600\u001b[0m     \u001b[38;5;66;03m# the user if necessary.\u001b[39;00m\n\u001b[0;32m   1601\u001b[0m     \u001b[38;5;28mself\u001b[39m\u001b[38;5;241m.\u001b[39m_exception \u001b[38;5;241m=\u001b[39m \u001b[38;5;28;01mTrue\u001b[39;00m\n",
      "File \u001b[1;32m~\\miniconda3\\lib\\site-packages\\joblib\\parallel.py:1707\u001b[0m, in \u001b[0;36mParallel._retrieve\u001b[1;34m(self)\u001b[0m\n\u001b[0;32m   1702\u001b[0m \u001b[38;5;66;03m# If the next job is not ready for retrieval yet, we just wait for\u001b[39;00m\n\u001b[0;32m   1703\u001b[0m \u001b[38;5;66;03m# async callbacks to progress.\u001b[39;00m\n\u001b[0;32m   1704\u001b[0m \u001b[38;5;28;01mif\u001b[39;00m ((\u001b[38;5;28mlen\u001b[39m(\u001b[38;5;28mself\u001b[39m\u001b[38;5;241m.\u001b[39m_jobs) \u001b[38;5;241m==\u001b[39m \u001b[38;5;241m0\u001b[39m) \u001b[38;5;129;01mor\u001b[39;00m\n\u001b[0;32m   1705\u001b[0m     (\u001b[38;5;28mself\u001b[39m\u001b[38;5;241m.\u001b[39m_jobs[\u001b[38;5;241m0\u001b[39m]\u001b[38;5;241m.\u001b[39mget_status(\n\u001b[0;32m   1706\u001b[0m         timeout\u001b[38;5;241m=\u001b[39m\u001b[38;5;28mself\u001b[39m\u001b[38;5;241m.\u001b[39mtimeout) \u001b[38;5;241m==\u001b[39m TASK_PENDING)):\n\u001b[1;32m-> 1707\u001b[0m     \u001b[43mtime\u001b[49m\u001b[38;5;241;43m.\u001b[39;49m\u001b[43msleep\u001b[49m\u001b[43m(\u001b[49m\u001b[38;5;241;43m0.01\u001b[39;49m\u001b[43m)\u001b[49m\n\u001b[0;32m   1708\u001b[0m     \u001b[38;5;28;01mcontinue\u001b[39;00m\n\u001b[0;32m   1710\u001b[0m \u001b[38;5;66;03m# We need to be careful: the job list can be filling up as\u001b[39;00m\n\u001b[0;32m   1711\u001b[0m \u001b[38;5;66;03m# we empty it and Python list are not thread-safe by\u001b[39;00m\n\u001b[0;32m   1712\u001b[0m \u001b[38;5;66;03m# default hence the use of the lock\u001b[39;00m\n",
      "\u001b[1;31mKeyboardInterrupt\u001b[0m: "
     ]
    }
   ],
   "source": [
    "min_features_to_select = 1  # Minimum number of features to consider\n",
    "clf = RandomForestClassifier(n_estimators=10,\n",
    "                             random_state=42)\n",
    "\n",
    "cv = StratifiedKFold(5)\n",
    "\n",
    "rfecv = RFECV(\n",
    "    estimator=clf,\n",
    "    step=1,\n",
    "    cv=cv,\n",
    "    scoring=\"accuracy\",\n",
    "    min_features_to_select=min_features_to_select,\n",
    "    n_jobs=2,\n",
    ")\n",
    "rfecv.fit(X_train, y_train)\n",
    "\n",
    "print(f\"Optimal number of features: {rfecv.n_features_}\")\n",
    "print(f\"Selected features: {X_train.columns[rfecv.support_]}\")"
   ]
  },
  {
   "cell_type": "code",
   "execution_count": null,
   "id": "06e43eda-16fe-4e2f-96a2-9089f5039956",
   "metadata": {},
   "outputs": [],
   "source": []
  },
  {
   "cell_type": "code",
   "execution_count": null,
   "id": "9e7988cf-3914-4837-bd62-21b62646aab3",
   "metadata": {},
   "outputs": [],
   "source": []
  },
  {
   "cell_type": "markdown",
   "id": "e730f94c-36ee-4bfd-95b6-b6d500081ac6",
   "metadata": {},
   "source": [
    "### Feature Selection  <a class=\"anchor\" id=\"mUpfeatureSelection\"></a>\n",
    "\n",
    "[TOC](#mtop)"
   ]
  },
  {
   "cell_type": "code",
   "execution_count": null,
   "id": "9af9492b-ccbf-4a1a-983e-084f17f76195",
   "metadata": {},
   "outputs": [],
   "source": []
  },
  {
   "cell_type": "markdown",
   "id": "67b883f8-e918-4220-8bea-a25b9a4e60b8",
   "metadata": {},
   "source": [
    "### Decision trees models <a class=\"anchor\" id=\"mUpdecisionTrees\"></a>\n",
    "\n",
    "[TOC](#mtop)"
   ]
  },
  {
   "cell_type": "code",
   "execution_count": null,
   "id": "c3633078-22e7-4214-bee4-50feff963f51",
   "metadata": {},
   "outputs": [],
   "source": [
    "#this is the classifier used for feature selection\n",
    "clf_featr_sele = RandomForestClassifier(n_estimators=10,\n",
    "                             random_state=42)\n",
    "\n",
    "rfecv = RFECV(estimator=clf_featr_sele,\n",
    "              step=1,\n",
    "              cv=5,\n",
    "              scoring = 'roc_auc')\n",
    "\n",
    "#you can have different classifier for your final classifier\n",
    "clf = DecisionTreeClassifier()\n",
    "\n",
    "\n",
    "CV_dt = GridSearchCV(clf,\n",
    "                      param_grid={\n",
    "                          'criterion': ['gini', 'entropy'],\n",
    "                          'max_depth': [2,4,6],\n",
    "                          'min_samples_leaf': [1, 2]},\n",
    "                      cv= 5,\n",
    "                      scoring = 'roc_auc')\n",
    "\n",
    "\n",
    "pipeline  = Pipeline([('feature_sele',rfecv),\n",
    "                      ('scale', StandardScaler()),\n",
    "                      ('clf_cv',CV_dt)])\n",
    "\n",
    "pipeline.fit(X_train, y_train)\n",
    "y_pred=pipeline.predict(X_test)\n",
    "print(classification_report(y_test, y_pred))"
   ]
  },
  {
   "cell_type": "code",
   "execution_count": null,
   "id": "992a8595-d9b0-4aa0-ad59-c2ba440440de",
   "metadata": {},
   "outputs": [],
   "source": []
  },
  {
   "cell_type": "markdown",
   "id": "d2f8290a-e285-426e-81ac-cfc2bc9e1ef7",
   "metadata": {},
   "source": [
    "### Random forests models<a class=\"anchor\" id=\"mUprandomForests\"></a>\n",
    "\n",
    "[TOC](#mtop)"
   ]
  },
  {
   "cell_type": "code",
   "execution_count": null,
   "id": "9e80bf86-6e4f-4d1e-86c9-8b3c177de2b1",
   "metadata": {},
   "outputs": [],
   "source": []
  },
  {
   "cell_type": "code",
   "execution_count": null,
   "id": "ae18fff0-3ec8-42f3-86dd-db95767a62e9",
   "metadata": {},
   "outputs": [],
   "source": [
    "#this is the classifier used for feature selection\n",
    "clf_featr_sele = RandomForestClassifier(n_estimators=10,\n",
    "                             random_state=42)\n",
    "\n",
    "rfecv = RFECV(estimator=clf_featr_sele,\n",
    "              step=1,\n",
    "              cv=5,\n",
    "              scoring = 'roc_auc')\n",
    "\n",
    "#you can have different classifier for your final classifier\n",
    "clf = RandomForestClassifier(n_estimators=10,\n",
    "                             random_state=42,\n",
    "                             class_weight=\"balanced\")\n",
    "CV_rfc = GridSearchCV(clf,\n",
    "                      param_grid={'max_depth':[2,3]},\n",
    "                      cv= 5, scoring = 'roc_auc')\n",
    "\n",
    "\n",
    "pipeline  = Pipeline([('feature_sele',rfecv),\n",
    "                      ('scale', StandardScaler()),\n",
    "                      ('clf_cv',CV_rfc)])\n",
    "\n",
    "pipeline.fit(X_train, y_train)\n",
    "y_pred=pipeline.predict(X_test)\n",
    "print(classification_report(y_test, y_pred))"
   ]
  },
  {
   "cell_type": "code",
   "execution_count": null,
   "id": "801a9fc6-6324-4ac5-8de9-66ade67ce0c7",
   "metadata": {},
   "outputs": [],
   "source": []
  },
  {
   "cell_type": "markdown",
   "id": "9a4c963b-11bf-42c0-97c0-bc7af3a8554d",
   "metadata": {},
   "source": [
    "### AdaBoost model <a class=\"anchor\" id=\"mUpAdaBoost\"></a>\n",
    "\n",
    "[TOC](#mtop)"
   ]
  },
  {
   "cell_type": "code",
   "execution_count": null,
   "id": "f3f565eb-3b42-4252-8e36-64653452580b",
   "metadata": {},
   "outputs": [],
   "source": []
  },
  {
   "cell_type": "code",
   "execution_count": null,
   "id": "5a1512ae-fdd8-4296-b2f4-20a643bc3687",
   "metadata": {},
   "outputs": [],
   "source": [
    "#this is the classifier used for feature selection\n",
    "clf_featr_sele = RandomForestClassifier(n_estimators=10,\n",
    "                             random_state=42)\n",
    "\n",
    "rfecv = RFECV(estimator=clf_featr_sele,\n",
    "              step=1,\n",
    "              cv=5,\n",
    "              scoring = 'roc_auc')\n",
    "\n",
    "#you can have different classifier for your final classifier\n",
    "DTC = DecisionTreeClassifier(class_weight = \"balanced\")\n",
    "clf = AdaBoostClassifier()\n",
    "\n",
    "CV_ada = GridSearchCV(clf,\n",
    "                      param_grid = {\n",
    "                          'estimator':[DTC],\n",
    "                          'learning_rate': [0.1, 0.5],\n",
    "                          'n_estimators': [10, 20]},\n",
    "                      cv= 5,\n",
    "                      scoring = 'roc_auc')\n",
    "\n",
    "\n",
    "pipeline  = Pipeline([('feature_sele',rfecv),\n",
    "                      ('scale', StandardScaler()),\n",
    "                      ('clf_cv',CV_ada)])\n",
    "\n",
    "pipeline.fit(X_train, y_train)\n",
    "y_pred=pipeline.predict(X_test)\n",
    "print(classification_report(y_test, y_pred))"
   ]
  },
  {
   "cell_type": "code",
   "execution_count": null,
   "id": "25cd9a61-d428-4da6-b016-63057ccb2b1b",
   "metadata": {},
   "outputs": [],
   "source": []
  },
  {
   "cell_type": "code",
   "execution_count": null,
   "id": "baba576b-f3c6-4ed8-8b40-e3e5e3b39980",
   "metadata": {},
   "outputs": [],
   "source": [
    "cm = confusion_matrix(y_test, y_pred)\n",
    "disp = ConfusionMatrixDisplay(confusion_matrix=cm)\n",
    "disp.plot()\n",
    "plt.show()"
   ]
  },
  {
   "cell_type": "code",
   "execution_count": null,
   "id": "2ef5e7d5-8d12-481c-8da5-4577f2c40524",
   "metadata": {},
   "outputs": [],
   "source": []
  },
  {
   "cell_type": "markdown",
   "id": "f0b7e5ec-e42a-4248-9613-948a6e0f05bb",
   "metadata": {},
   "source": [
    "### Suport Vector Machines model <a class=\"anchor\" id=\"mUpSVM\"></a>\n",
    "\n",
    "[TOC](#mtop)"
   ]
  },
  {
   "cell_type": "code",
   "execution_count": null,
   "id": "27be550e-e333-4f1b-95c7-fcc2ac4b63bc",
   "metadata": {},
   "outputs": [],
   "source": []
  },
  {
   "cell_type": "code",
   "execution_count": null,
   "id": "fb62203c-278e-42c4-bdde-a2642052247a",
   "metadata": {},
   "outputs": [],
   "source": [
    "#this is the classifier used for feature selection\n",
    "#clf_featr_sele = RandomForestClassifier(n_estimators=10,\n",
    "#                             random_state=42)\n",
    "\n",
    "#rfecv = RFECV(estimator=clf_featr_sele,\n",
    "#              step=1,\n",
    "#              cv=5,\n",
    "#              scoring = 'roc_auc')\n",
    "\n",
    "#you can have different classifier for your final classifier\n",
    "#clf = svm.SVC()\n",
    "\n",
    "#CV_svm = GridSearchCV(clf,\n",
    "#                      param_grid={'C':[0.1, 1.0, 10],\n",
    "#                                  'kernel':['linear','rbf']},\n",
    "#                      cv= 5,\n",
    "#                      scoring = 'roc_auc')\n",
    "\n",
    "\n",
    "#pipeline  = Pipeline([('feature_sele',rfecv),\n",
    "#                      ('scale', StandardScaler()),\n",
    "#                      ('clf_cv',CV_svm)])\n",
    "\n",
    "#pipeline.fit(X_train, y_train)\n",
    "#y_pred=pipeline.predict(X_test)\n",
    "#print(classification_report(y_test, y_pred))"
   ]
  },
  {
   "cell_type": "code",
   "execution_count": null,
   "id": "848264cc-c886-4469-894e-68ac2ec05b3d",
   "metadata": {},
   "outputs": [],
   "source": []
  },
  {
   "cell_type": "markdown",
   "id": "e8096d70-81e1-4e8a-9d31-eb98cc870034",
   "metadata": {},
   "source": [
    "### Artificial Neural Networks <a class=\"anchor\" id=\"mUpANN\"></a>\n",
    "\n",
    "[TOC](#mtop)"
   ]
  },
  {
   "cell_type": "code",
   "execution_count": null,
   "id": "752ec25c-94fa-448b-9e50-44d1c97c38ef",
   "metadata": {},
   "outputs": [],
   "source": []
  },
  {
   "cell_type": "code",
   "execution_count": null,
   "id": "025aaf27-5983-4ee4-9d4d-bdd621bb1a76",
   "metadata": {},
   "outputs": [],
   "source": [
    "class Net(nn.Module):\n",
    "    def __init__(self):\n",
    "        super().__init__()\n",
    "        self.hidden1 = nn.Linear(rfecv.n_features_, 20)\n",
    "        self.act1 = nn.ReLU()\n",
    "        self.hidden2 = nn.Linear(20, 12)\n",
    "        self.act2 = nn.ReLU()\n",
    "        self.output = nn.Linear(12, 1)\n",
    "        self.act_output = nn.Sigmoid()\n",
    "\n",
    "    def forward(self, x):\n",
    "        x = self.act1(self.hidden1(x))\n",
    "        x = self.act2(self.hidden2(x))\n",
    "        x = self.act_output(self.output(x))\n",
    "        return x\n",
    "\n",
    "model = Net()\n",
    "print(model)"
   ]
  },
  {
   "cell_type": "code",
   "execution_count": null,
   "id": "b5cea6d8-98a5-479a-9ccd-de4d965fa370",
   "metadata": {},
   "outputs": [],
   "source": [
    "device = torch.device('cuda:0' if torch.cuda.is_available() else 'cpu')\n",
    "model.to(device)"
   ]
  },
  {
   "cell_type": "code",
   "execution_count": null,
   "id": "7aca3343-1f09-4f52-a950-76f6b4d0c2a3",
   "metadata": {},
   "outputs": [],
   "source": [
    "loss_fn = nn.BCELoss()  # binary cross entropy\n",
    "optimizer = optim.Adam(model.parameters(), lr=0.001)"
   ]
  },
  {
   "cell_type": "code",
   "execution_count": null,
   "id": "192f7bbc-2170-4489-beee-68cf37e5c865",
   "metadata": {},
   "outputs": [],
   "source": [
    "scaler = StandardScaler().fit(X_train[X_train.columns[rfecv.support_]])\n",
    "X_tr_scaled = scaler.transform(X_train[X_train.columns[rfecv.support_]])\n",
    "X_te_scaled = scaler.transform(X_test[X_test.columns[rfecv.support_]])"
   ]
  },
  {
   "cell_type": "code",
   "execution_count": null,
   "id": "bc86eda9-f62e-447e-909a-091d47865c6c",
   "metadata": {},
   "outputs": [],
   "source": [
    "X_train_nn = torch.tensor(X_tr_scaled, dtype=torch.float32).to(device)\n",
    "y_train_nn = torch.tensor(y_train.to_numpy(), dtype=torch.float32).reshape(-1, 1).to(device)"
   ]
  },
  {
   "cell_type": "code",
   "execution_count": null,
   "id": "6f5547a7-0024-484a-81cf-1de36c924595",
   "metadata": {},
   "outputs": [],
   "source": [
    "n_epochs = 25 #50\n",
    "batch_size = 10\n",
    "\n",
    "for epoch in range(n_epochs):\n",
    "    for i in range(0, len(X_train_nn), batch_size):\n",
    "        Xbatch = X_train_nn[i:i+batch_size]\n",
    "        y_pred = model(Xbatch)\n",
    "        ybatch = y_train_nn[i:i+batch_size]\n",
    "        loss = loss_fn(y_pred, ybatch)\n",
    "        optimizer.zero_grad()\n",
    "        loss.backward()\n",
    "        optimizer.step()\n",
    "    print(f'Finished epoch {epoch}, latest loss {loss}')"
   ]
  },
  {
   "cell_type": "code",
   "execution_count": null,
   "id": "8f41214f-3946-46b6-a577-5e1e65056b18",
   "metadata": {},
   "outputs": [],
   "source": [
    "X_test_nn = torch.tensor(X_te_scaled, dtype=torch.float32).to(device)\n",
    "y_test_nn = torch.tensor(y_test.to_numpy(), dtype=torch.float32).reshape(-1, 1).to(device)"
   ]
  },
  {
   "cell_type": "code",
   "execution_count": null,
   "id": "90d9b813-b0b7-4977-aa4d-e3e7bf555734",
   "metadata": {},
   "outputs": [],
   "source": [
    "with torch.no_grad(): y_pred = model(X_test_nn)\n",
    "accuracy = (y_pred.round() == y_test_nn).float().mean()\n",
    "print(f\"Accuracy {accuracy}\")"
   ]
  },
  {
   "cell_type": "code",
   "execution_count": null,
   "id": "fbfe3411-f7ff-454f-96d1-4b37ad89e949",
   "metadata": {},
   "outputs": [],
   "source": [
    "y_pred=pd.DataFrame(y_pred.round().cpu().detach().numpy())\n",
    "print(f\"Precision {precision_score(y_test, y_pred, pos_label=1)}\")\n",
    "print(f\"Recall {recall_score(y_test, y_pred, pos_label=1)}\")\n",
    "print(f\"F1-score {f1_score(y_test, y_pred, pos_label=1)}\")"
   ]
  },
  {
   "cell_type": "code",
   "execution_count": null,
   "id": "c60c0cec-5e26-4e15-924f-c209b44dbe89",
   "metadata": {},
   "outputs": [],
   "source": [
    "print(f\"Precision {precision_score(y_test, y_pred, pos_label=0)}\")\n",
    "print(f\"Recall {recall_score(y_test, y_pred, pos_label=0)}\")\n",
    "print(f\"F1-score {f1_score(y_test, y_pred, pos_label=0)}\")"
   ]
  },
  {
   "cell_type": "code",
   "execution_count": null,
   "id": "4c2c6a8a-92b9-4a0b-b9b1-2716334f696d",
   "metadata": {},
   "outputs": [],
   "source": []
  },
  {
   "cell_type": "markdown",
   "id": "0c86e12a-5325-4f43-b0f4-ffef4643b99f",
   "metadata": {},
   "source": [
    "<table>\n",
    "    <thead>\n",
    "        <tr>\n",
    "            <th>Models</th>\n",
    "            <th>Accuracy</th>\n",
    "            <th colspan=2 align=center>Precision</th>\n",
    "            <th colspan=2 align=center>Recall</th>\n",
    "            <th colspan=2 align=center>F1-score</th>\n",
    "        </tr>\n",
    "    </thead>\n",
    "    <tbody>\n",
    "        <tr>\n",
    "            <td></td>       \n",
    "            <td></td>\n",
    "            <td>Legitimate</td>\n",
    "            <td>Fraud</td>\n",
    "            <td>Legitimate</td>\n",
    "            <td>Fraud</td>\n",
    "            <td>Legitimate</td>\n",
    "            <td>Fraud</td>\n",
    "        </tr>\n",
    "        <tr>\n",
    "            <td align=right>Decision trees</td>\n",
    "            <td  align=center>3</td>            \n",
    "            <td align=center>sss</td>\n",
    "            <td align=center>zz</td>\n",
    "            <td align=center>aa</td>\n",
    "            <td align=center>ss</td>\n",
    "            <td align=center>ss</td>\n",
    "            <td align=center>ss</td>\n",
    "        </tr>\n",
    "        <tr>\n",
    "            <td align=right>Random forests</td>\n",
    "            <td align=center>qq</td>\n",
    "            <td align=center>ww</td>\n",
    "            <td align=center>zz</td>\n",
    "            <td align=center></td>\n",
    "            <td align=center>ss</td>\n",
    "            <td align=center>dd</td>\n",
    "            <td align=center>ss</td>\n",
    "        </tr>\n",
    "        <tr>\n",
    "            <td align=right>Adaboost</td>\n",
    "            <td align=center>ll</td>\n",
    "            <td align=center>xx</td>\n",
    "            <td align=center>zz</td>\n",
    "            <td align=center></td>\n",
    "            <td align=center>ss</td>\n",
    "            <td align=center></td>\n",
    "            <td align=center>ss</td>\n",
    "        </tr>\n",
    "        <tr>\n",
    "            <td align=right>Suport vector machines</td>\n",
    "            <td align=center>ll</td>\n",
    "            <td align=center>oo</td>\n",
    "            <td align=center>zz</td>\n",
    "            <td align=center>dd</td>\n",
    "            <td align=center>ss</td>\n",
    "            <td align=center></td>\n",
    "            <td align=center>ss</td>\n",
    "        </tr>\n",
    "        <tr>\n",
    "            <td align=right>Artificial neural networks</td>\n",
    "            <td align=center>L2</td>\n",
    "            <td align=center>L3</td>\n",
    "            <td align=center>zz</td>\n",
    "            <td align=center></td>\n",
    "            <td align=center>ss</td>\n",
    "            <td align=center></td>\n",
    "            <td align=center>ss</td>\n",
    "        </tr>\n",
    "    </tbody>\n",
    "</table>"
   ]
  },
  {
   "cell_type": "code",
   "execution_count": null,
   "id": "0cdd4092-79cc-46d5-97d1-060881a05cf2",
   "metadata": {},
   "outputs": [],
   "source": []
  },
  {
   "cell_type": "markdown",
   "id": "492b1091-a606-439b-a151-841287a25ca9",
   "metadata": {},
   "source": [
    "## Conclusions <a class=\"anchor\" id=\"mconclusions\"></a>\n",
    "\n",
    "[TOC](#mtop)"
   ]
  },
  {
   "cell_type": "markdown",
   "id": "cdfaa0dd-f86a-43cb-953d-12b20d6778f5",
   "metadata": {},
   "source": [
    "The data was investigated by checking for data unbalancing, visualizing the features, checking the null values, and understanding the relationship between different features. The data were split into train and test sets and scaled, and a feature selection technique based on feature importance was employed and evaluated for use in further pipelines. The hyperparameters were prepared for optimization, and a pipeline was created for each model with feature selection, scaling, hyperparameters tunning, and classification steps. The performance of Decision Trees, Random Forests, and Support Vector Machines are very similar. However, Adaboost ensemble machine learning models present the general best performance compared to all analyzed models. Another work that will be completed in the future is using neural nets to see if we could further improve the model results."
   ]
  },
  {
   "cell_type": "code",
   "execution_count": null,
   "id": "c9874cc1-0858-4ee4-a876-20eff0b83a58",
   "metadata": {},
   "outputs": [],
   "source": []
  },
  {
   "cell_type": "code",
   "execution_count": null,
   "id": "41f89528-a590-4af3-9c5f-a7e0ac9c9188",
   "metadata": {},
   "outputs": [],
   "source": []
  }
 ],
 "metadata": {
  "kernelspec": {
   "display_name": "Python 3 (ipykernel)",
   "language": "python",
   "name": "python3"
  },
  "language_info": {
   "codemirror_mode": {
    "name": "ipython",
    "version": 3
   },
   "file_extension": ".py",
   "mimetype": "text/x-python",
   "name": "python",
   "nbconvert_exporter": "python",
   "pygments_lexer": "ipython3",
   "version": "3.10.11"
  }
 },
 "nbformat": 4,
 "nbformat_minor": 5
}
